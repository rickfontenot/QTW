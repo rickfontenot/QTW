{
 "cells": [
  {
   "cell_type": "markdown",
   "id": "673b07be",
   "metadata": {},
   "source": [
    "___\n",
    "\n",
    "#### Rick Fontenot\n",
    "___\n"
   ]
  },
  {
   "cell_type": "code",
   "execution_count": 1825,
   "id": "bdf8a099",
   "metadata": {},
   "outputs": [],
   "source": [
    "# Imports\n",
    "import matplotlib.pyplot as plt\n",
    "import seaborn as sns\n",
    "import numpy as np\n",
    "import pandas as pd\n",
    "from datetime import date\n",
    "import sklearn\n",
    "pd.set_option(\"display.max_columns\", None, \"display.max_rows\", None)\n",
    "\n",
    "import os\n",
    "import sys\n",
    "import tempfile\n",
    "import mimetypes\n",
    "import webbrowser\n",
    "\n",
    "# Import the email modules we'll need\n",
    "from email import policy\n",
    "from email.parser import BytesParser\n",
    "\n",
    "import re\n",
    "import email\n",
    "\n",
    "import missingno as msno\n",
    "\n"
   ]
  },
  {
   "cell_type": "markdown",
   "id": "1cc268bc",
   "metadata": {},
   "source": [
    "## Test reading in a single file as an example:\n"
   ]
  },
  {
   "cell_type": "code",
   "execution_count": 1227,
   "id": "fa44cca8",
   "metadata": {},
   "outputs": [],
   "source": [
    "sample_file = '/Users/rickfontenot/Dropbox/SMU/DS7333 Quantifying World/QTW_Github/QTW/Case Study 3/data/easy_ham/00001.7c53336b37003a9286aba55d2945844c'"
   ]
  }
 ],
 "metadata": {
  "interpreter": {
   "hash": "163c475792d3cda12f8f4bc682140b2faffa038247c7a6f843a4fd616cacb042"
  },
  "kernelspec": {
   "display_name": "Python 3.9.1 64-bit (system)",
   "name": "python3"
  },
  "language_info": {
   "codemirror_mode": {
    "name": "ipython",
    "version": 3
   },
   "file_extension": ".py",
   "mimetype": "text/x-python",
   "name": "python",
   "nbconvert_exporter": "python",
   "pygments_lexer": "ipython3",
   "version": "3.8.8"
  }
 },
 "nbformat": 4,
 "nbformat_minor": 5
}
