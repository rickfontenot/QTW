{
 "cells": [
  {
   "cell_type": "markdown",
   "id": "673b07be",
   "metadata": {},
   "source": [
    "___\n",
    "\n",
    "QTW Case 6\n",
    "\n",
    "#### Rick Fontenot\n",
    "___\n"
   ]
  },
  {
   "cell_type": "code",
   "execution_count": 1,
   "id": "ab8fdd64",
   "metadata": {},
   "outputs": [],
   "source": [
    "# Imports\n",
    "import matplotlib.pyplot as plt\n",
    "import seaborn as sns\n",
    "import numpy as np\n",
    "import pandas as pd\n",
    "from datetime import date\n",
    "import sklearn\n",
    "pd.set_option(\"display.max_columns\", None, \"display.max_rows\", None)\n",
    "import missingno as msno\n"
   ]
  },
  {
   "cell_type": "markdown",
   "id": "1cc268bc",
   "metadata": {},
   "source": [
    "### Load the raw data\n"
   ]
  },
  {
   "cell_type": "code",
   "execution_count": 2,
   "id": "fa44cca8",
   "metadata": {},
   "outputs": [
    {
     "data": {
      "text/html": [
       "<div>\n",
       "<style scoped>\n",
       "    .dataframe tbody tr th:only-of-type {\n",
       "        vertical-align: middle;\n",
       "    }\n",
       "\n",
       "    .dataframe tbody tr th {\n",
       "        vertical-align: top;\n",
       "    }\n",
       "\n",
       "    .dataframe thead th {\n",
       "        text-align: right;\n",
       "    }\n",
       "</style>\n",
       "<table border=\"1\" class=\"dataframe\">\n",
       "  <thead>\n",
       "    <tr style=\"text-align: right;\">\n",
       "      <th></th>\n",
       "      <th># label</th>\n",
       "      <th>f0</th>\n",
       "      <th>f1</th>\n",
       "      <th>f2</th>\n",
       "      <th>f3</th>\n",
       "      <th>f4</th>\n",
       "      <th>f5</th>\n",
       "      <th>f6</th>\n",
       "      <th>f7</th>\n",
       "      <th>f8</th>\n",
       "      <th>f9</th>\n",
       "      <th>f10</th>\n",
       "      <th>f11</th>\n",
       "      <th>f12</th>\n",
       "      <th>f13</th>\n",
       "      <th>f14</th>\n",
       "      <th>f15</th>\n",
       "      <th>f16</th>\n",
       "      <th>f17</th>\n",
       "      <th>f18</th>\n",
       "      <th>f19</th>\n",
       "      <th>f20</th>\n",
       "      <th>f21</th>\n",
       "      <th>f22</th>\n",
       "      <th>f23</th>\n",
       "      <th>f24</th>\n",
       "      <th>f25</th>\n",
       "      <th>f26</th>\n",
       "      <th>mass</th>\n",
       "    </tr>\n",
       "  </thead>\n",
       "  <tbody>\n",
       "    <tr>\n",
       "      <th>0</th>\n",
       "      <td>1.0</td>\n",
       "      <td>-0.346368</td>\n",
       "      <td>0.416306</td>\n",
       "      <td>0.999236</td>\n",
       "      <td>0.475342</td>\n",
       "      <td>0.427493</td>\n",
       "      <td>-0.005984</td>\n",
       "      <td>1.989833</td>\n",
       "      <td>0.344530</td>\n",
       "      <td>1.566297</td>\n",
       "      <td>0.754261</td>\n",
       "      <td>2.269852</td>\n",
       "      <td>-1.300984</td>\n",
       "      <td>-1.199420</td>\n",
       "      <td>-1.161915</td>\n",
       "      <td>3.357043</td>\n",
       "      <td>0.460796</td>\n",
       "      <td>-0.404118</td>\n",
       "      <td>-0.815440</td>\n",
       "      <td>4.105282</td>\n",
       "      <td>0.267826</td>\n",
       "      <td>0.378718</td>\n",
       "      <td>1.743123</td>\n",
       "      <td>3.406367</td>\n",
       "      <td>4.350537</td>\n",
       "      <td>-0.352571</td>\n",
       "      <td>1.130032</td>\n",
       "      <td>2.227706</td>\n",
       "      <td>1000.0</td>\n",
       "    </tr>\n",
       "    <tr>\n",
       "      <th>1</th>\n",
       "      <td>1.0</td>\n",
       "      <td>1.708236</td>\n",
       "      <td>-0.319394</td>\n",
       "      <td>-1.241873</td>\n",
       "      <td>-0.887231</td>\n",
       "      <td>-0.871906</td>\n",
       "      <td>-0.005984</td>\n",
       "      <td>-0.001047</td>\n",
       "      <td>-1.038225</td>\n",
       "      <td>0.655748</td>\n",
       "      <td>0.754261</td>\n",
       "      <td>0.459217</td>\n",
       "      <td>-0.695640</td>\n",
       "      <td>0.359856</td>\n",
       "      <td>-1.161915</td>\n",
       "      <td>-0.502048</td>\n",
       "      <td>0.505149</td>\n",
       "      <td>-1.500441</td>\n",
       "      <td>1.226331</td>\n",
       "      <td>-1.178141</td>\n",
       "      <td>-0.877361</td>\n",
       "      <td>-1.483769</td>\n",
       "      <td>-0.573682</td>\n",
       "      <td>-1.693781</td>\n",
       "      <td>-0.545062</td>\n",
       "      <td>-0.299118</td>\n",
       "      <td>-0.662942</td>\n",
       "      <td>-0.193019</td>\n",
       "      <td>750.0</td>\n",
       "    </tr>\n",
       "    <tr>\n",
       "      <th>2</th>\n",
       "      <td>0.0</td>\n",
       "      <td>-0.360693</td>\n",
       "      <td>1.794174</td>\n",
       "      <td>0.264738</td>\n",
       "      <td>-0.472273</td>\n",
       "      <td>-0.292344</td>\n",
       "      <td>-1.054221</td>\n",
       "      <td>-1.150495</td>\n",
       "      <td>1.423404</td>\n",
       "      <td>1.270098</td>\n",
       "      <td>0.754261</td>\n",
       "      <td>-1.031239</td>\n",
       "      <td>1.912465</td>\n",
       "      <td>-1.321417</td>\n",
       "      <td>-1.161915</td>\n",
       "      <td>-0.406757</td>\n",
       "      <td>1.346497</td>\n",
       "      <td>-0.298099</td>\n",
       "      <td>1.226331</td>\n",
       "      <td>-1.199511</td>\n",
       "      <td>0.539020</td>\n",
       "      <td>-1.590629</td>\n",
       "      <td>-0.573682</td>\n",
       "      <td>-0.543636</td>\n",
       "      <td>-0.937456</td>\n",
       "      <td>-0.300344</td>\n",
       "      <td>-0.523262</td>\n",
       "      <td>-1.506304</td>\n",
       "      <td>750.0</td>\n",
       "    </tr>\n",
       "    <tr>\n",
       "      <th>3</th>\n",
       "      <td>1.0</td>\n",
       "      <td>-0.377914</td>\n",
       "      <td>-0.103932</td>\n",
       "      <td>-0.649434</td>\n",
       "      <td>-2.125015</td>\n",
       "      <td>-1.643797</td>\n",
       "      <td>-0.005984</td>\n",
       "      <td>1.011112</td>\n",
       "      <td>-1.040340</td>\n",
       "      <td>-0.541991</td>\n",
       "      <td>0.754261</td>\n",
       "      <td>1.142262</td>\n",
       "      <td>0.551081</td>\n",
       "      <td>1.016731</td>\n",
       "      <td>0.860649</td>\n",
       "      <td>0.454005</td>\n",
       "      <td>0.624624</td>\n",
       "      <td>1.439072</td>\n",
       "      <td>-0.815440</td>\n",
       "      <td>0.463763</td>\n",
       "      <td>-0.006583</td>\n",
       "      <td>1.089122</td>\n",
       "      <td>-0.573682</td>\n",
       "      <td>-0.276348</td>\n",
       "      <td>-0.409272</td>\n",
       "      <td>-0.349926</td>\n",
       "      <td>-0.307123</td>\n",
       "      <td>0.529698</td>\n",
       "      <td>1250.0</td>\n",
       "    </tr>\n",
       "    <tr>\n",
       "      <th>4</th>\n",
       "      <td>0.0</td>\n",
       "      <td>-0.067436</td>\n",
       "      <td>-0.636762</td>\n",
       "      <td>-0.620166</td>\n",
       "      <td>-0.062551</td>\n",
       "      <td>1.588715</td>\n",
       "      <td>-0.005984</td>\n",
       "      <td>-0.595304</td>\n",
       "      <td>-1.238987</td>\n",
       "      <td>0.336844</td>\n",
       "      <td>-1.325801</td>\n",
       "      <td>-0.181512</td>\n",
       "      <td>-1.329374</td>\n",
       "      <td>0.879087</td>\n",
       "      <td>0.860649</td>\n",
       "      <td>-0.143564</td>\n",
       "      <td>-1.293935</td>\n",
       "      <td>-1.222800</td>\n",
       "      <td>-0.815440</td>\n",
       "      <td>-0.552837</td>\n",
       "      <td>-1.418494</td>\n",
       "      <td>-0.562982</td>\n",
       "      <td>1.743123</td>\n",
       "      <td>0.881802</td>\n",
       "      <td>0.002516</td>\n",
       "      <td>1.560950</td>\n",
       "      <td>-0.150760</td>\n",
       "      <td>-1.023889</td>\n",
       "      <td>750.0</td>\n",
       "    </tr>\n",
       "  </tbody>\n",
       "</table>\n",
       "</div>"
      ],
      "text/plain": [
       "   # label        f0        f1        f2        f3        f4        f5  \\\n",
       "0      1.0 -0.346368  0.416306  0.999236  0.475342  0.427493 -0.005984   \n",
       "1      1.0  1.708236 -0.319394 -1.241873 -0.887231 -0.871906 -0.005984   \n",
       "2      0.0 -0.360693  1.794174  0.264738 -0.472273 -0.292344 -1.054221   \n",
       "3      1.0 -0.377914 -0.103932 -0.649434 -2.125015 -1.643797 -0.005984   \n",
       "4      0.0 -0.067436 -0.636762 -0.620166 -0.062551  1.588715 -0.005984   \n",
       "\n",
       "         f6        f7        f8        f9       f10       f11       f12  \\\n",
       "0  1.989833  0.344530  1.566297  0.754261  2.269852 -1.300984 -1.199420   \n",
       "1 -0.001047 -1.038225  0.655748  0.754261  0.459217 -0.695640  0.359856   \n",
       "2 -1.150495  1.423404  1.270098  0.754261 -1.031239  1.912465 -1.321417   \n",
       "3  1.011112 -1.040340 -0.541991  0.754261  1.142262  0.551081  1.016731   \n",
       "4 -0.595304 -1.238987  0.336844 -1.325801 -0.181512 -1.329374  0.879087   \n",
       "\n",
       "        f13       f14       f15       f16       f17       f18       f19  \\\n",
       "0 -1.161915  3.357043  0.460796 -0.404118 -0.815440  4.105282  0.267826   \n",
       "1 -1.161915 -0.502048  0.505149 -1.500441  1.226331 -1.178141 -0.877361   \n",
       "2 -1.161915 -0.406757  1.346497 -0.298099  1.226331 -1.199511  0.539020   \n",
       "3  0.860649  0.454005  0.624624  1.439072 -0.815440  0.463763 -0.006583   \n",
       "4  0.860649 -0.143564 -1.293935 -1.222800 -0.815440 -0.552837 -1.418494   \n",
       "\n",
       "        f20       f21       f22       f23       f24       f25       f26  \\\n",
       "0  0.378718  1.743123  3.406367  4.350537 -0.352571  1.130032  2.227706   \n",
       "1 -1.483769 -0.573682 -1.693781 -0.545062 -0.299118 -0.662942 -0.193019   \n",
       "2 -1.590629 -0.573682 -0.543636 -0.937456 -0.300344 -0.523262 -1.506304   \n",
       "3  1.089122 -0.573682 -0.276348 -0.409272 -0.349926 -0.307123  0.529698   \n",
       "4 -0.562982  1.743123  0.881802  0.002516  1.560950 -0.150760 -1.023889   \n",
       "\n",
       "     mass  \n",
       "0  1000.0  \n",
       "1   750.0  \n",
       "2   750.0  \n",
       "3  1250.0  \n",
       "4   750.0  "
      ]
     },
     "execution_count": 2,
     "metadata": {},
     "output_type": "execute_result"
    }
   ],
   "source": [
    "higgs=pd.read_csv(\"/Users/rickfontenot/Dropbox/SMU/DS7333 Quantifying World/QTW_Github/QTW/Case Study 6/data/all_train.csv\")\n",
    "\n",
    "higgs.head()"
   ]
  },
  {
   "cell_type": "code",
   "execution_count": 3,
   "id": "f770d7ae",
   "metadata": {},
   "outputs": [
    {
     "data": {
      "text/plain": [
       "(7000000, 29)"
      ]
     },
     "execution_count": 3,
     "metadata": {},
     "output_type": "execute_result"
    }
   ],
   "source": [
    "higgs.shape"
   ]
  },
  {
   "cell_type": "code",
   "execution_count": 4,
   "id": "ff540293",
   "metadata": {},
   "outputs": [
    {
     "data": {
      "text/plain": [
       "Index(['# label', 'f0', 'f1', 'f2', 'f3', 'f4', 'f5', 'f6', 'f7', 'f8', 'f9',\n",
       "       'f10', 'f11', 'f12', 'f13', 'f14', 'f15', 'f16', 'f17', 'f18', 'f19',\n",
       "       'f20', 'f21', 'f22', 'f23', 'f24', 'f25', 'f26', 'mass'],\n",
       "      dtype='object')"
      ]
     },
     "execution_count": 4,
     "metadata": {},
     "output_type": "execute_result"
    }
   ],
   "source": [
    "higgs.columns"
   ]
  },
  {
   "cell_type": "code",
   "execution_count": 5,
   "id": "52e2fab4",
   "metadata": {},
   "outputs": [
    {
     "data": {
      "text/html": [
       "<div>\n",
       "<style scoped>\n",
       "    .dataframe tbody tr th:only-of-type {\n",
       "        vertical-align: middle;\n",
       "    }\n",
       "\n",
       "    .dataframe tbody tr th {\n",
       "        vertical-align: top;\n",
       "    }\n",
       "\n",
       "    .dataframe thead th {\n",
       "        text-align: right;\n",
       "    }\n",
       "</style>\n",
       "<table border=\"1\" class=\"dataframe\">\n",
       "  <thead>\n",
       "    <tr style=\"text-align: right;\">\n",
       "      <th></th>\n",
       "      <th>label</th>\n",
       "      <th>f0</th>\n",
       "      <th>f1</th>\n",
       "      <th>f2</th>\n",
       "      <th>f3</th>\n",
       "      <th>f4</th>\n",
       "      <th>f5</th>\n",
       "      <th>f6</th>\n",
       "      <th>f7</th>\n",
       "      <th>f8</th>\n",
       "      <th>f9</th>\n",
       "      <th>f10</th>\n",
       "      <th>f11</th>\n",
       "      <th>f12</th>\n",
       "      <th>f13</th>\n",
       "      <th>f14</th>\n",
       "      <th>f15</th>\n",
       "      <th>f16</th>\n",
       "      <th>f17</th>\n",
       "      <th>f18</th>\n",
       "      <th>f19</th>\n",
       "      <th>f20</th>\n",
       "      <th>f21</th>\n",
       "      <th>f22</th>\n",
       "      <th>f23</th>\n",
       "      <th>f24</th>\n",
       "      <th>f25</th>\n",
       "      <th>f26</th>\n",
       "      <th>mass</th>\n",
       "    </tr>\n",
       "  </thead>\n",
       "  <tbody>\n",
       "    <tr>\n",
       "      <th>0</th>\n",
       "      <td>1</td>\n",
       "      <td>-0.346368</td>\n",
       "      <td>0.416306</td>\n",
       "      <td>0.999236</td>\n",
       "      <td>0.475342</td>\n",
       "      <td>0.427493</td>\n",
       "      <td>-0.005984</td>\n",
       "      <td>1.989833</td>\n",
       "      <td>0.344530</td>\n",
       "      <td>1.566297</td>\n",
       "      <td>0.754261</td>\n",
       "      <td>2.269852</td>\n",
       "      <td>-1.300984</td>\n",
       "      <td>-1.199420</td>\n",
       "      <td>-1.161915</td>\n",
       "      <td>3.357043</td>\n",
       "      <td>0.460796</td>\n",
       "      <td>-0.404118</td>\n",
       "      <td>-0.815440</td>\n",
       "      <td>4.105282</td>\n",
       "      <td>0.267826</td>\n",
       "      <td>0.378718</td>\n",
       "      <td>1.743123</td>\n",
       "      <td>3.406367</td>\n",
       "      <td>4.350537</td>\n",
       "      <td>-0.352571</td>\n",
       "      <td>1.130032</td>\n",
       "      <td>2.227706</td>\n",
       "      <td>1000.0</td>\n",
       "    </tr>\n",
       "    <tr>\n",
       "      <th>1</th>\n",
       "      <td>1</td>\n",
       "      <td>1.708236</td>\n",
       "      <td>-0.319394</td>\n",
       "      <td>-1.241873</td>\n",
       "      <td>-0.887231</td>\n",
       "      <td>-0.871906</td>\n",
       "      <td>-0.005984</td>\n",
       "      <td>-0.001047</td>\n",
       "      <td>-1.038225</td>\n",
       "      <td>0.655748</td>\n",
       "      <td>0.754261</td>\n",
       "      <td>0.459217</td>\n",
       "      <td>-0.695640</td>\n",
       "      <td>0.359856</td>\n",
       "      <td>-1.161915</td>\n",
       "      <td>-0.502048</td>\n",
       "      <td>0.505149</td>\n",
       "      <td>-1.500441</td>\n",
       "      <td>1.226331</td>\n",
       "      <td>-1.178141</td>\n",
       "      <td>-0.877361</td>\n",
       "      <td>-1.483769</td>\n",
       "      <td>-0.573682</td>\n",
       "      <td>-1.693781</td>\n",
       "      <td>-0.545062</td>\n",
       "      <td>-0.299118</td>\n",
       "      <td>-0.662942</td>\n",
       "      <td>-0.193019</td>\n",
       "      <td>750.0</td>\n",
       "    </tr>\n",
       "    <tr>\n",
       "      <th>2</th>\n",
       "      <td>0</td>\n",
       "      <td>-0.360693</td>\n",
       "      <td>1.794174</td>\n",
       "      <td>0.264738</td>\n",
       "      <td>-0.472273</td>\n",
       "      <td>-0.292344</td>\n",
       "      <td>-1.054221</td>\n",
       "      <td>-1.150495</td>\n",
       "      <td>1.423404</td>\n",
       "      <td>1.270098</td>\n",
       "      <td>0.754261</td>\n",
       "      <td>-1.031239</td>\n",
       "      <td>1.912465</td>\n",
       "      <td>-1.321417</td>\n",
       "      <td>-1.161915</td>\n",
       "      <td>-0.406757</td>\n",
       "      <td>1.346497</td>\n",
       "      <td>-0.298099</td>\n",
       "      <td>1.226331</td>\n",
       "      <td>-1.199511</td>\n",
       "      <td>0.539020</td>\n",
       "      <td>-1.590629</td>\n",
       "      <td>-0.573682</td>\n",
       "      <td>-0.543636</td>\n",
       "      <td>-0.937456</td>\n",
       "      <td>-0.300344</td>\n",
       "      <td>-0.523262</td>\n",
       "      <td>-1.506304</td>\n",
       "      <td>750.0</td>\n",
       "    </tr>\n",
       "    <tr>\n",
       "      <th>3</th>\n",
       "      <td>1</td>\n",
       "      <td>-0.377914</td>\n",
       "      <td>-0.103932</td>\n",
       "      <td>-0.649434</td>\n",
       "      <td>-2.125015</td>\n",
       "      <td>-1.643797</td>\n",
       "      <td>-0.005984</td>\n",
       "      <td>1.011112</td>\n",
       "      <td>-1.040340</td>\n",
       "      <td>-0.541991</td>\n",
       "      <td>0.754261</td>\n",
       "      <td>1.142262</td>\n",
       "      <td>0.551081</td>\n",
       "      <td>1.016731</td>\n",
       "      <td>0.860649</td>\n",
       "      <td>0.454005</td>\n",
       "      <td>0.624624</td>\n",
       "      <td>1.439072</td>\n",
       "      <td>-0.815440</td>\n",
       "      <td>0.463763</td>\n",
       "      <td>-0.006583</td>\n",
       "      <td>1.089122</td>\n",
       "      <td>-0.573682</td>\n",
       "      <td>-0.276348</td>\n",
       "      <td>-0.409272</td>\n",
       "      <td>-0.349926</td>\n",
       "      <td>-0.307123</td>\n",
       "      <td>0.529698</td>\n",
       "      <td>1250.0</td>\n",
       "    </tr>\n",
       "    <tr>\n",
       "      <th>4</th>\n",
       "      <td>0</td>\n",
       "      <td>-0.067436</td>\n",
       "      <td>-0.636762</td>\n",
       "      <td>-0.620166</td>\n",
       "      <td>-0.062551</td>\n",
       "      <td>1.588715</td>\n",
       "      <td>-0.005984</td>\n",
       "      <td>-0.595304</td>\n",
       "      <td>-1.238987</td>\n",
       "      <td>0.336844</td>\n",
       "      <td>-1.325801</td>\n",
       "      <td>-0.181512</td>\n",
       "      <td>-1.329374</td>\n",
       "      <td>0.879087</td>\n",
       "      <td>0.860649</td>\n",
       "      <td>-0.143564</td>\n",
       "      <td>-1.293935</td>\n",
       "      <td>-1.222800</td>\n",
       "      <td>-0.815440</td>\n",
       "      <td>-0.552837</td>\n",
       "      <td>-1.418494</td>\n",
       "      <td>-0.562982</td>\n",
       "      <td>1.743123</td>\n",
       "      <td>0.881802</td>\n",
       "      <td>0.002516</td>\n",
       "      <td>1.560950</td>\n",
       "      <td>-0.150760</td>\n",
       "      <td>-1.023889</td>\n",
       "      <td>750.0</td>\n",
       "    </tr>\n",
       "  </tbody>\n",
       "</table>\n",
       "</div>"
      ],
      "text/plain": [
       "   label        f0        f1        f2        f3        f4        f5  \\\n",
       "0      1 -0.346368  0.416306  0.999236  0.475342  0.427493 -0.005984   \n",
       "1      1  1.708236 -0.319394 -1.241873 -0.887231 -0.871906 -0.005984   \n",
       "2      0 -0.360693  1.794174  0.264738 -0.472273 -0.292344 -1.054221   \n",
       "3      1 -0.377914 -0.103932 -0.649434 -2.125015 -1.643797 -0.005984   \n",
       "4      0 -0.067436 -0.636762 -0.620166 -0.062551  1.588715 -0.005984   \n",
       "\n",
       "         f6        f7        f8        f9       f10       f11       f12  \\\n",
       "0  1.989833  0.344530  1.566297  0.754261  2.269852 -1.300984 -1.199420   \n",
       "1 -0.001047 -1.038225  0.655748  0.754261  0.459217 -0.695640  0.359856   \n",
       "2 -1.150495  1.423404  1.270098  0.754261 -1.031239  1.912465 -1.321417   \n",
       "3  1.011112 -1.040340 -0.541991  0.754261  1.142262  0.551081  1.016731   \n",
       "4 -0.595304 -1.238987  0.336844 -1.325801 -0.181512 -1.329374  0.879087   \n",
       "\n",
       "        f13       f14       f15       f16       f17       f18       f19  \\\n",
       "0 -1.161915  3.357043  0.460796 -0.404118 -0.815440  4.105282  0.267826   \n",
       "1 -1.161915 -0.502048  0.505149 -1.500441  1.226331 -1.178141 -0.877361   \n",
       "2 -1.161915 -0.406757  1.346497 -0.298099  1.226331 -1.199511  0.539020   \n",
       "3  0.860649  0.454005  0.624624  1.439072 -0.815440  0.463763 -0.006583   \n",
       "4  0.860649 -0.143564 -1.293935 -1.222800 -0.815440 -0.552837 -1.418494   \n",
       "\n",
       "        f20       f21       f22       f23       f24       f25       f26  \\\n",
       "0  0.378718  1.743123  3.406367  4.350537 -0.352571  1.130032  2.227706   \n",
       "1 -1.483769 -0.573682 -1.693781 -0.545062 -0.299118 -0.662942 -0.193019   \n",
       "2 -1.590629 -0.573682 -0.543636 -0.937456 -0.300344 -0.523262 -1.506304   \n",
       "3  1.089122 -0.573682 -0.276348 -0.409272 -0.349926 -0.307123  0.529698   \n",
       "4 -0.562982  1.743123  0.881802  0.002516  1.560950 -0.150760 -1.023889   \n",
       "\n",
       "     mass  \n",
       "0  1000.0  \n",
       "1   750.0  \n",
       "2   750.0  \n",
       "3  1250.0  \n",
       "4   750.0  "
      ]
     },
     "execution_count": 5,
     "metadata": {},
     "output_type": "execute_result"
    }
   ],
   "source": [
    "higgs = higgs.rename(columns={higgs.columns[0]: 'label'})\n",
    "higgs['label'] = higgs['label'].apply(lambda x: round(x,))\n",
    "higgs.head()"
   ]
  },
  {
   "cell_type": "markdown",
   "id": "3fefad38",
   "metadata": {},
   "source": [
    "# 7 million records with 28 features plus target, and no missing values or duplicates"
   ]
  },
  {
   "cell_type": "code",
   "execution_count": 6,
   "id": "c4a3cdab",
   "metadata": {},
   "outputs": [
    {
     "data": {
      "text/plain": [
       "label    0\n",
       "f0       0\n",
       "f1       0\n",
       "f2       0\n",
       "f3       0\n",
       "f4       0\n",
       "f5       0\n",
       "f6       0\n",
       "f7       0\n",
       "f8       0\n",
       "f9       0\n",
       "f10      0\n",
       "f11      0\n",
       "f12      0\n",
       "f13      0\n",
       "f14      0\n",
       "f15      0\n",
       "f16      0\n",
       "f17      0\n",
       "f18      0\n",
       "f19      0\n",
       "f20      0\n",
       "f21      0\n",
       "f22      0\n",
       "f23      0\n",
       "f24      0\n",
       "f25      0\n",
       "f26      0\n",
       "mass     0\n",
       "dtype: int64"
      ]
     },
     "execution_count": 6,
     "metadata": {},
     "output_type": "execute_result"
    }
   ],
   "source": [
    "higgs.isna().sum()"
   ]
  },
  {
   "cell_type": "code",
   "execution_count": 7,
   "id": "6de561fe",
   "metadata": {},
   "outputs": [
    {
     "name": "stdout",
     "output_type": "stream",
     "text": [
      "Duplicate rows:  0\n"
     ]
    }
   ],
   "source": [
    "# Check for duplicate rows\n",
    "print('Duplicate rows: ',higgs.duplicated(keep='first').sum())"
   ]
  },
  {
   "cell_type": "code",
   "execution_count": 8,
   "id": "f17a39ea",
   "metadata": {},
   "outputs": [
    {
     "name": "stderr",
     "output_type": "stream",
     "text": [
      "/var/folders/9j/md1p5ld92510j4f_fk49qf300000gn/T/ipykernel_1473/855766858.py:2: RuntimeWarning: More than 20 figures have been opened. Figures created through the pyplot interface (`matplotlib.pyplot.figure`) are retained until explicitly closed and may consume too much memory. (To control this warning, see the rcParam `figure.max_open_warning`).\n",
      "  plt.figure()\n"
     ]
    },
    {
     "data": {
      "image/png": "[encoded data removed]",
      "text/plain": [
       "<Figure size 432x288 with 1 Axes>"
      ]
     },
     "metadata": {
      "needs_background": "light"
     },
     "output_type": "display_data"
    },
    {
     "data": {
      "image/png": "[encoded data removed]",
      "text/plain": [
       "<Figure size 432x288 with 1 Axes>"
      ]
     },
     "metadata": {
      "needs_background": "light"
     },
     "output_type": "display_data"
    },
    {
     "data": {
      "image/png": "[encoded data removed]",
      "text/plain": [
       "<Figure size 432x288 with 1 Axes>"
      ]
     },
     "metadata": {
      "needs_background": "light"
     },
     "output_type": "display_data"
    },
    {
     "data": {
      "image/png": "[encoded data removed]",
      "text/plain": [
       "<Figure size 432x288 with 1 Axes>"
      ]
     },
     "metadata": {
      "needs_background": "light"
     },
     "output_type": "display_data"
    },
    {
     "data": {
      "image/png": "[encoded data removed]",
      "text/plain": [
       "<Figure size 432x288 with 1 Axes>"
      ]
     },
     "metadata": {
      "needs_background": "light"
     },
     "output_type": "display_data"
    },
    {
     "data": {
      "image/png": "[encoded data removed]",
      "text/plain": [
       "<Figure size 432x288 with 1 Axes>"
      ]
     },
     "metadata": {
      "needs_background": "light"
     },
     "output_type": "display_data"
    },
    {
     "data": {
      "image/png": "[encoded data removed]",
      "text/plain": [
       "<Figure size 432x288 with 1 Axes>"
      ]
     },
     "metadata": {
      "needs_background": "light"
     },
     "output_type": "display_data"
    },
    {
     "data": {
      "image/png": "[encoded data removed]",
      "text/plain": [
       "<Figure size 432x288 with 1 Axes>"
      ]
     },
     "metadata": {
      "needs_background": "light"
     },
     "output_type": "display_data"
    },
    {
     "data": {
      "image/png": "[encoded data removed]",
      "text/plain": [
       "<Figure size 432x288 with 1 Axes>"
      ]
     },
     "metadata": {
      "needs_background": "light"
     },
     "output_type": "display_data"
    },
    {
     "data": {
      "image/png": "[encoded data removed]",
      "text/plain": [
       "<Figure size 432x288 with 1 Axes>"
      ]
     },
     "metadata": {
      "needs_background": "light"
     },
     "output_type": "display_data"
    },
    {
     "data": {
      "image/png": "[encoded data removed]",
      "text/plain": [
       "<Figure size 432x288 with 1 Axes>"
      ]
     },
     "metadata": {
      "needs_background": "light"
     },
     "output_type": "display_data"
    },
    {
     "data": {
      "image/png": "[encoded data removed]",
      "text/plain": [
       "<Figure size 432x288 with 1 Axes>"
      ]
     },
     "metadata": {
      "needs_background": "light"
     },
     "output_type": "display_data"
    },
    {
     "data": {
      "image/png": "[encoded data removed]",
      "text/plain": [
       "<Figure size 432x288 with 1 Axes>"
      ]
     },
     "metadata": {
      "needs_background": "light"
     },
     "output_type": "display_data"
    },
    {
     "data": {
      "image/png": "[encoded data removed]",
      "text/plain": [
       "<Figure size 432x288 with 1 Axes>"
      ]
     },
     "metadata": {
      "needs_background": "light"
     },
     "output_type": "display_data"
    },
    {
     "data": {
      "image/png": "[encoded data removed]",
      "text/plain": [
       "<Figure size 432x288 with 1 Axes>"
      ]
     },
     "metadata": {
      "needs_background": "light"
     },
     "output_type": "display_data"
    },
    {
     "data": {
      "image/png": "[encoded data removed]",
      "text/plain": [
       "<Figure size 432x288 with 1 Axes>"
      ]
     },
     "metadata": {
      "needs_background": "light"
     },
     "output_type": "display_data"
    },
    {
     "data": {
      "image/png": "[encoded data removed]",
      "text/plain": [
       "<Figure size 432x288 with 1 Axes>"
      ]
     },
     "metadata": {
      "needs_background": "light"
     },
     "output_type": "display_data"
    },
    {
     "data": {
      "image/png": "[encoded data removed]",
      "text/plain": [
       "<Figure size 432x288 with 1 Axes>"
      ]
     },
     "metadata": {
      "needs_background": "light"
     },
     "output_type": "display_data"
    },
    {
     "data": {
      "image/png": "[encoded data removed]",
      "text/plain": [
       "<Figure size 432x288 with 1 Axes>"
      ]
     },
     "metadata": {
      "needs_background": "light"
     },
     "output_type": "display_data"
    },
    {
     "data": {
      "image/png": "[encoded data removed]",
      "text/plain": [
       "<Figure size 432x288 with 1 Axes>"
      ]
     },
     "metadata": {
      "needs_background": "light"
     },
     "output_type": "display_data"
    },
    {
     "data": {
      "image/png": "[encoded data removed]",
      "text/plain": [
       "<Figure size 432x288 with 1 Axes>"
      ]
     },
     "metadata": {
      "needs_background": "light"
     },
     "output_type": "display_data"
    },
    {
     "data": {
      "image/png": "[encoded data removed]",
      "text/plain": [
       "<Figure size 432x288 with 1 Axes>"
      ]
     },
     "metadata": {
      "needs_background": "light"
     },
     "output_type": "display_data"
    },
    {
     "data": {
      "image/png": "[encoded data removed]",
      "text/plain": [
       "<Figure size 432x288 with 1 Axes>"
      ]
     },
     "metadata": {
      "needs_background": "light"
     },
     "output_type": "display_data"
    },
    {
     "data": {
      "image/png": "[encoded data removed]",
      "text/plain": [
       "<Figure size 432x288 with 1 Axes>"
      ]
     },
     "metadata": {
      "needs_background": "light"
     },
     "output_type": "display_data"
    },
    {
     "data": {
      "image/png": "[encoded data removed]",
      "text/plain": [
       "<Figure size 432x288 with 1 Axes>"
      ]
     },
     "metadata": {
      "needs_background": "light"
     },
     "output_type": "display_data"
    },
    {
     "data": {
      "image/png": "[encoded data removed]",
      "text/plain": [
       "<Figure size 432x288 with 1 Axes>"
      ]
     },
     "metadata": {
      "needs_background": "light"
     },
     "output_type": "display_data"
    },
    {
     "data": {
      "image/png": "[encoded data removed]",
      "text/plain": [
       "<Figure size 432x288 with 1 Axes>"
      ]
     },
     "metadata": {
      "needs_background": "light"
     },
     "output_type": "display_data"
    },
    {
     "data": {
      "image/png": "[encoded data removed]",
      "text/plain": [
       "<Figure size 432x288 with 1 Axes>"
      ]
     },
     "metadata": {
      "needs_background": "light"
     },
     "output_type": "display_data"
    },
    {
     "data": {
      "image/png": "[encoded data removed]",
      "text/plain": [
       "<Figure size 432x288 with 1 Axes>"
      ]
     },
     "metadata": {
      "needs_background": "light"
     },
     "output_type": "display_data"
    }
   ],
   "source": [
    "for i in higgs.columns:    \n",
    "    plt.figure()\n",
    "    plt.title(f'{i}')\n",
    "    plt.hist(higgs[i])"
   ]
  },
  {
   "cell_type": "code",
   "execution_count": 9,
   "id": "c447b39c",
   "metadata": {},
   "outputs": [
    {
     "data": {
      "text/html": [
       "<div>\n",
       "<style scoped>\n",
       "    .dataframe tbody tr th:only-of-type {\n",
       "        vertical-align: middle;\n",
       "    }\n",
       "\n",
       "    .dataframe tbody tr th {\n",
       "        vertical-align: top;\n",
       "    }\n",
       "\n",
       "    .dataframe thead th {\n",
       "        text-align: right;\n",
       "    }\n",
       "</style>\n",
       "<table border=\"1\" class=\"dataframe\">\n",
       "  <thead>\n",
       "    <tr style=\"text-align: right;\">\n",
       "      <th></th>\n",
       "      <th>label</th>\n",
       "      <th>f0</th>\n",
       "      <th>f1</th>\n",
       "      <th>f2</th>\n",
       "      <th>f3</th>\n",
       "      <th>f4</th>\n",
       "      <th>f5</th>\n",
       "      <th>f6</th>\n",
       "      <th>f7</th>\n",
       "      <th>f8</th>\n",
       "      <th>f9</th>\n",
       "      <th>f10</th>\n",
       "      <th>f11</th>\n",
       "      <th>f12</th>\n",
       "      <th>f13</th>\n",
       "      <th>f14</th>\n",
       "      <th>f15</th>\n",
       "      <th>f16</th>\n",
       "      <th>f17</th>\n",
       "      <th>f18</th>\n",
       "      <th>f19</th>\n",
       "      <th>f20</th>\n",
       "      <th>f21</th>\n",
       "      <th>f22</th>\n",
       "      <th>f23</th>\n",
       "      <th>f24</th>\n",
       "      <th>f25</th>\n",
       "      <th>f26</th>\n",
       "      <th>mass</th>\n",
       "    </tr>\n",
       "  </thead>\n",
       "  <tbody>\n",
       "    <tr>\n",
       "      <th>count</th>\n",
       "      <td>7.000000e+06</td>\n",
       "      <td>7.000000e+06</td>\n",
       "      <td>7.000000e+06</td>\n",
       "      <td>7.000000e+06</td>\n",
       "      <td>7.000000e+06</td>\n",
       "      <td>7.000000e+06</td>\n",
       "      <td>7.000000e+06</td>\n",
       "      <td>7.000000e+06</td>\n",
       "      <td>7.000000e+06</td>\n",
       "      <td>7.000000e+06</td>\n",
       "      <td>7.000000e+06</td>\n",
       "      <td>7.000000e+06</td>\n",
       "      <td>7.000000e+06</td>\n",
       "      <td>7.000000e+06</td>\n",
       "      <td>7.000000e+06</td>\n",
       "      <td>7.000000e+06</td>\n",
       "      <td>7.000000e+06</td>\n",
       "      <td>7.000000e+06</td>\n",
       "      <td>7.000000e+06</td>\n",
       "      <td>7.000000e+06</td>\n",
       "      <td>7.000000e+06</td>\n",
       "      <td>7.000000e+06</td>\n",
       "      <td>7.000000e+06</td>\n",
       "      <td>7.000000e+06</td>\n",
       "      <td>7.000000e+06</td>\n",
       "      <td>7.000000e+06</td>\n",
       "      <td>7.000000e+06</td>\n",
       "      <td>7.000000e+06</td>\n",
       "      <td>7.000000e+06</td>\n",
       "    </tr>\n",
       "    <tr>\n",
       "      <th>mean</th>\n",
       "      <td>5.001256e-01</td>\n",
       "      <td>1.612528e-02</td>\n",
       "      <td>4.770022e-04</td>\n",
       "      <td>2.686578e-05</td>\n",
       "      <td>1.056081e-02</td>\n",
       "      <td>-1.050026e-04</td>\n",
       "      <td>2.765919e-03</td>\n",
       "      <td>1.815953e-02</td>\n",
       "      <td>2.510948e-05</td>\n",
       "      <td>4.345870e-04</td>\n",
       "      <td>-6.869956e-03</td>\n",
       "      <td>1.754267e-02</td>\n",
       "      <td>-1.610605e-04</td>\n",
       "      <td>-3.289412e-04</td>\n",
       "      <td>1.738506e-03</td>\n",
       "      <td>1.724634e-02</td>\n",
       "      <td>4.830252e-04</td>\n",
       "      <td>-5.536178e-04</td>\n",
       "      <td>4.960189e-03</td>\n",
       "      <td>1.164789e-02</td>\n",
       "      <td>-1.127097e-04</td>\n",
       "      <td>7.686731e-05</td>\n",
       "      <td>2.909202e-04</td>\n",
       "      <td>1.228774e-02</td>\n",
       "      <td>9.778378e-03</td>\n",
       "      <td>5.269844e-03</td>\n",
       "      <td>-1.760961e-03</td>\n",
       "      <td>1.533136e-02</td>\n",
       "      <td>1.000107e+03</td>\n",
       "    </tr>\n",
       "    <tr>\n",
       "      <th>std</th>\n",
       "      <td>5.000000e-01</td>\n",
       "      <td>1.004417e+00</td>\n",
       "      <td>9.974864e-01</td>\n",
       "      <td>1.000080e+00</td>\n",
       "      <td>9.956003e-01</td>\n",
       "      <td>9.998670e-01</td>\n",
       "      <td>1.000957e+00</td>\n",
       "      <td>9.867746e-01</td>\n",
       "      <td>9.965867e-01</td>\n",
       "      <td>1.000007e+00</td>\n",
       "      <td>1.001938e+00</td>\n",
       "      <td>9.941511e-01</td>\n",
       "      <td>9.984497e-01</td>\n",
       "      <td>1.000078e+00</td>\n",
       "      <td>9.997368e-01</td>\n",
       "      <td>9.994654e-01</td>\n",
       "      <td>9.984289e-01</td>\n",
       "      <td>9.998608e-01</td>\n",
       "      <td>1.001006e+00</td>\n",
       "      <td>1.002725e+00</td>\n",
       "      <td>1.000038e+00</td>\n",
       "      <td>1.000033e+00</td>\n",
       "      <td>1.000170e+00</td>\n",
       "      <td>1.010477e+00</td>\n",
       "      <td>1.005418e+00</td>\n",
       "      <td>1.009990e+00</td>\n",
       "      <td>9.844511e-01</td>\n",
       "      <td>9.822799e-01</td>\n",
       "      <td>3.534255e+02</td>\n",
       "    </tr>\n",
       "    <tr>\n",
       "      <th>min</th>\n",
       "      <td>0.000000e+00</td>\n",
       "      <td>-1.960549e+00</td>\n",
       "      <td>-2.365355e+00</td>\n",
       "      <td>-1.732165e+00</td>\n",
       "      <td>-9.980274e+00</td>\n",
       "      <td>-1.732137e+00</td>\n",
       "      <td>-1.054221e+00</td>\n",
       "      <td>-3.034787e+00</td>\n",
       "      <td>-2.757853e+00</td>\n",
       "      <td>-1.732359e+00</td>\n",
       "      <td>-1.325801e+00</td>\n",
       "      <td>-2.835563e+00</td>\n",
       "      <td>-2.602091e+00</td>\n",
       "      <td>-1.732216e+00</td>\n",
       "      <td>-1.161915e+00</td>\n",
       "      <td>-2.454879e+00</td>\n",
       "      <td>-2.437812e+00</td>\n",
       "      <td>-1.732145e+00</td>\n",
       "      <td>-8.154401e-01</td>\n",
       "      <td>-1.728284e+00</td>\n",
       "      <td>-2.281867e+00</td>\n",
       "      <td>-1.731758e+00</td>\n",
       "      <td>-5.736825e-01</td>\n",
       "      <td>-3.631608e+00</td>\n",
       "      <td>-4.729473e+00</td>\n",
       "      <td>-2.062223e+01</td>\n",
       "      <td>-3.452634e+00</td>\n",
       "      <td>-2.632761e+00</td>\n",
       "      <td>5.000000e+02</td>\n",
       "    </tr>\n",
       "    <tr>\n",
       "      <th>25%</th>\n",
       "      <td>0.000000e+00</td>\n",
       "      <td>-7.288206e-01</td>\n",
       "      <td>-7.332548e-01</td>\n",
       "      <td>-8.656704e-01</td>\n",
       "      <td>-6.092291e-01</td>\n",
       "      <td>-8.658025e-01</td>\n",
       "      <td>-1.054221e+00</td>\n",
       "      <td>-7.566092e-01</td>\n",
       "      <td>-7.014146e-01</td>\n",
       "      <td>-8.656543e-01</td>\n",
       "      <td>-1.325801e+00</td>\n",
       "      <td>-7.237266e-01</td>\n",
       "      <td>-7.032926e-01</td>\n",
       "      <td>-8.665987e-01</td>\n",
       "      <td>-1.161915e+00</td>\n",
       "      <td>-6.996179e-01</td>\n",
       "      <td>-7.070255e-01</td>\n",
       "      <td>-8.662470e-01</td>\n",
       "      <td>-8.154401e-01</td>\n",
       "      <td>-7.423630e-01</td>\n",
       "      <td>-7.206846e-01</td>\n",
       "      <td>-8.656855e-01</td>\n",
       "      <td>-5.736825e-01</td>\n",
       "      <td>-5.417942e-01</td>\n",
       "      <td>-5.115522e-01</td>\n",
       "      <td>-3.543870e-01</td>\n",
       "      <td>-6.925097e-01</td>\n",
       "      <td>-7.943804e-01</td>\n",
       "      <td>7.500000e+02</td>\n",
       "    </tr>\n",
       "    <tr>\n",
       "      <th>50%</th>\n",
       "      <td>1.000000e+00</td>\n",
       "      <td>-3.930319e-02</td>\n",
       "      <td>8.523957e-04</td>\n",
       "      <td>3.199154e-04</td>\n",
       "      <td>1.963316e-02</td>\n",
       "      <td>-5.070131e-04</td>\n",
       "      <td>-5.983562e-03</td>\n",
       "      <td>-1.499527e-01</td>\n",
       "      <td>-1.067553e-04</td>\n",
       "      <td>1.384781e-03</td>\n",
       "      <td>7.542607e-01</td>\n",
       "      <td>-1.285732e-01</td>\n",
       "      <td>-5.755420e-04</td>\n",
       "      <td>-1.282098e-03</td>\n",
       "      <td>8.606486e-01</td>\n",
       "      <td>-9.749269e-02</td>\n",
       "      <td>2.975658e-04</td>\n",
       "      <td>-1.376716e-03</td>\n",
       "      <td>-8.154401e-01</td>\n",
       "      <td>-8.992496e-02</td>\n",
       "      <td>-6.735953e-05</td>\n",
       "      <td>-4.424527e-04</td>\n",
       "      <td>-5.736825e-01</td>\n",
       "      <td>-1.602760e-01</td>\n",
       "      <td>-3.144032e-01</td>\n",
       "      <td>-3.265228e-01</td>\n",
       "      <td>-3.570301e-01</td>\n",
       "      <td>-8.828640e-02</td>\n",
       "      <td>1.000000e+03</td>\n",
       "    </tr>\n",
       "    <tr>\n",
       "      <th>75%</th>\n",
       "      <td>1.000000e+00</td>\n",
       "      <td>6.900799e-01</td>\n",
       "      <td>7.347832e-01</td>\n",
       "      <td>8.659464e-01</td>\n",
       "      <td>6.798818e-01</td>\n",
       "      <td>8.657646e-01</td>\n",
       "      <td>8.504885e-01</td>\n",
       "      <td>7.686690e-01</td>\n",
       "      <td>7.013194e-01</td>\n",
       "      <td>8.665976e-01</td>\n",
       "      <td>7.542607e-01</td>\n",
       "      <td>6.478635e-01</td>\n",
       "      <td>7.041004e-01</td>\n",
       "      <td>8.658323e-01</td>\n",
       "      <td>8.606486e-01</td>\n",
       "      <td>6.347052e-01</td>\n",
       "      <td>7.083709e-01</td>\n",
       "      <td>8.649424e-01</td>\n",
       "      <td>1.226331e+00</td>\n",
       "      <td>6.423185e-01</td>\n",
       "      <td>7.204921e-01</td>\n",
       "      <td>8.659566e-01</td>\n",
       "      <td>-5.736825e-01</td>\n",
       "      <td>4.812194e-01</td>\n",
       "      <td>1.634892e-01</td>\n",
       "      <td>-2.337671e-01</td>\n",
       "      <td>4.753128e-01</td>\n",
       "      <td>7.610846e-01</td>\n",
       "      <td>1.250000e+03</td>\n",
       "    </tr>\n",
       "    <tr>\n",
       "      <th>max</th>\n",
       "      <td>1.000000e+00</td>\n",
       "      <td>4.378282e+00</td>\n",
       "      <td>2.365287e+00</td>\n",
       "      <td>1.732370e+00</td>\n",
       "      <td>4.148023e+00</td>\n",
       "      <td>1.731978e+00</td>\n",
       "      <td>4.482618e+00</td>\n",
       "      <td>3.720345e+00</td>\n",
       "      <td>2.758590e+00</td>\n",
       "      <td>1.731450e+00</td>\n",
       "      <td>7.542607e-01</td>\n",
       "      <td>4.639335e+00</td>\n",
       "      <td>2.602294e+00</td>\n",
       "      <td>1.732007e+00</td>\n",
       "      <td>8.606486e-01</td>\n",
       "      <td>5.535799e+00</td>\n",
       "      <td>2.438369e+00</td>\n",
       "      <td>1.732738e+00</td>\n",
       "      <td>1.226331e+00</td>\n",
       "      <td>5.866367e+00</td>\n",
       "      <td>2.282217e+00</td>\n",
       "      <td>1.732740e+00</td>\n",
       "      <td>1.743123e+00</td>\n",
       "      <td>7.293420e+00</td>\n",
       "      <td>9.333287e+00</td>\n",
       "      <td>1.499064e+01</td>\n",
       "      <td>5.277313e+00</td>\n",
       "      <td>4.444690e+00</td>\n",
       "      <td>1.500000e+03</td>\n",
       "    </tr>\n",
       "  </tbody>\n",
       "</table>\n",
       "</div>"
      ],
      "text/plain": [
       "              label            f0            f1            f2            f3  \\\n",
       "count  7.000000e+06  7.000000e+06  7.000000e+06  7.000000e+06  7.000000e+06   \n",
       "mean   5.001256e-01  1.612528e-02  4.770022e-04  2.686578e-05  1.056081e-02   \n",
       "std    5.000000e-01  1.004417e+00  9.974864e-01  1.000080e+00  9.956003e-01   \n",
       "min    0.000000e+00 -1.960549e+00 -2.365355e+00 -1.732165e+00 -9.980274e+00   \n",
       "25%    0.000000e+00 -7.288206e-01 -7.332548e-01 -8.656704e-01 -6.092291e-01   \n",
       "50%    1.000000e+00 -3.930319e-02  8.523957e-04  3.199154e-04  1.963316e-02   \n",
       "75%    1.000000e+00  6.900799e-01  7.347832e-01  8.659464e-01  6.798818e-01   \n",
       "max    1.000000e+00  4.378282e+00  2.365287e+00  1.732370e+00  4.148023e+00   \n",
       "\n",
       "                 f4            f5            f6            f7            f8  \\\n",
       "count  7.000000e+06  7.000000e+06  7.000000e+06  7.000000e+06  7.000000e+06   \n",
       "mean  -1.050026e-04  2.765919e-03  1.815953e-02  2.510948e-05  4.345870e-04   \n",
       "std    9.998670e-01  1.000957e+00  9.867746e-01  9.965867e-01  1.000007e+00   \n",
       "min   -1.732137e+00 -1.054221e+00 -3.034787e+00 -2.757853e+00 -1.732359e+00   \n",
       "25%   -8.658025e-01 -1.054221e+00 -7.566092e-01 -7.014146e-01 -8.656543e-01   \n",
       "50%   -5.070131e-04 -5.983562e-03 -1.499527e-01 -1.067553e-04  1.384781e-03   \n",
       "75%    8.657646e-01  8.504885e-01  7.686690e-01  7.013194e-01  8.665976e-01   \n",
       "max    1.731978e+00  4.482618e+00  3.720345e+00  2.758590e+00  1.731450e+00   \n",
       "\n",
       "                 f9           f10           f11           f12           f13  \\\n",
       "count  7.000000e+06  7.000000e+06  7.000000e+06  7.000000e+06  7.000000e+06   \n",
       "mean  -6.869956e-03  1.754267e-02 -1.610605e-04 -3.289412e-04  1.738506e-03   \n",
       "std    1.001938e+00  9.941511e-01  9.984497e-01  1.000078e+00  9.997368e-01   \n",
       "min   -1.325801e+00 -2.835563e+00 -2.602091e+00 -1.732216e+00 -1.161915e+00   \n",
       "25%   -1.325801e+00 -7.237266e-01 -7.032926e-01 -8.665987e-01 -1.161915e+00   \n",
       "50%    7.542607e-01 -1.285732e-01 -5.755420e-04 -1.282098e-03  8.606486e-01   \n",
       "75%    7.542607e-01  6.478635e-01  7.041004e-01  8.658323e-01  8.606486e-01   \n",
       "max    7.542607e-01  4.639335e+00  2.602294e+00  1.732007e+00  8.606486e-01   \n",
       "\n",
       "                f14           f15           f16           f17           f18  \\\n",
       "count  7.000000e+06  7.000000e+06  7.000000e+06  7.000000e+06  7.000000e+06   \n",
       "mean   1.724634e-02  4.830252e-04 -5.536178e-04  4.960189e-03  1.164789e-02   \n",
       "std    9.994654e-01  9.984289e-01  9.998608e-01  1.001006e+00  1.002725e+00   \n",
       "min   -2.454879e+00 -2.437812e+00 -1.732145e+00 -8.154401e-01 -1.728284e+00   \n",
       "25%   -6.996179e-01 -7.070255e-01 -8.662470e-01 -8.154401e-01 -7.423630e-01   \n",
       "50%   -9.749269e-02  2.975658e-04 -1.376716e-03 -8.154401e-01 -8.992496e-02   \n",
       "75%    6.347052e-01  7.083709e-01  8.649424e-01  1.226331e+00  6.423185e-01   \n",
       "max    5.535799e+00  2.438369e+00  1.732738e+00  1.226331e+00  5.866367e+00   \n",
       "\n",
       "                f19           f20           f21           f22           f23  \\\n",
       "count  7.000000e+06  7.000000e+06  7.000000e+06  7.000000e+06  7.000000e+06   \n",
       "mean  -1.127097e-04  7.686731e-05  2.909202e-04  1.228774e-02  9.778378e-03   \n",
       "std    1.000038e+00  1.000033e+00  1.000170e+00  1.010477e+00  1.005418e+00   \n",
       "min   -2.281867e+00 -1.731758e+00 -5.736825e-01 -3.631608e+00 -4.729473e+00   \n",
       "25%   -7.206846e-01 -8.656855e-01 -5.736825e-01 -5.417942e-01 -5.115522e-01   \n",
       "50%   -6.735953e-05 -4.424527e-04 -5.736825e-01 -1.602760e-01 -3.144032e-01   \n",
       "75%    7.204921e-01  8.659566e-01 -5.736825e-01  4.812194e-01  1.634892e-01   \n",
       "max    2.282217e+00  1.732740e+00  1.743123e+00  7.293420e+00  9.333287e+00   \n",
       "\n",
       "                f24           f25           f26          mass  \n",
       "count  7.000000e+06  7.000000e+06  7.000000e+06  7.000000e+06  \n",
       "mean   5.269844e-03 -1.760961e-03  1.533136e-02  1.000107e+03  \n",
       "std    1.009990e+00  9.844511e-01  9.822799e-01  3.534255e+02  \n",
       "min   -2.062223e+01 -3.452634e+00 -2.632761e+00  5.000000e+02  \n",
       "25%   -3.543870e-01 -6.925097e-01 -7.943804e-01  7.500000e+02  \n",
       "50%   -3.265228e-01 -3.570301e-01 -8.828640e-02  1.000000e+03  \n",
       "75%   -2.337671e-01  4.753128e-01  7.610846e-01  1.250000e+03  \n",
       "max    1.499064e+01  5.277313e+00  4.444690e+00  1.500000e+03  "
      ]
     },
     "execution_count": 9,
     "metadata": {},
     "output_type": "execute_result"
    }
   ],
   "source": [
    "higgs.describe()"
   ]
  },
  {
   "cell_type": "code",
   "execution_count": 10,
   "id": "7e6a227a",
   "metadata": {},
   "outputs": [
    {
     "data": {
      "text/plain": [
       "Index(['label', 'f0', 'f1', 'f2', 'f3', 'f4', 'f5', 'f6', 'f7', 'f8', 'f9',\n",
       "       'f10', 'f11', 'f12', 'f13', 'f14', 'f15', 'f16', 'f17', 'f18', 'f19',\n",
       "       'f20', 'f21', 'f22', 'f23', 'f24', 'f25', 'f26', 'mass'],\n",
       "      dtype='object')"
      ]
     },
     "execution_count": 10,
     "metadata": {},
     "output_type": "execute_result"
    }
   ],
   "source": [
    "higgs.columns"
   ]
  },
  {
   "cell_type": "code",
   "execution_count": 11,
   "id": "a3759ff3",
   "metadata": {},
   "outputs": [],
   "source": [
    "from sklearn.model_selection import StratifiedShuffleSplit\n",
    "\n",
    "split = StratifiedShuffleSplit(n_splits=1, test_size=0.2, random_state=42)\n",
    "for train_index, holdback_index in split.split(higgs, higgs.label):\n",
    "    training_df = higgs.iloc[train_index]\n",
    "    holdback_df = higgs.iloc[holdback_index]\n"
   ]
  },
  {
   "cell_type": "code",
   "execution_count": 12,
   "id": "26e9b715",
   "metadata": {},
   "outputs": [
    {
     "name": "stdout",
     "output_type": "stream",
     "text": [
      "Size of training set:  (5600000, 29)\n",
      "Size of validation set:  (700000, 29)\n",
      "Size of test set:  (700000, 29)\n"
     ]
    }
   ],
   "source": [
    "from sklearn.model_selection import StratifiedShuffleSplit\n",
    "\n",
    "split = StratifiedShuffleSplit(n_splits=1, test_size=0.5, random_state=42)\n",
    "for validation_index, test_index in split.split(holdback_df, holdback_df.label):\n",
    "    validation_df = holdback_df.iloc[validation_index]\n",
    "    test_df = holdback_df.iloc[test_index]\n",
    "\n",
    "print(\"Size of training set: \",training_df.shape)\n",
    "print(\"Size of validation set: \",validation_df.shape)\n",
    "print(\"Size of test set: \",test_df.shape)"
   ]
  },
  {
   "cell_type": "code",
   "execution_count": 13,
   "id": "ff06e51a",
   "metadata": {},
   "outputs": [],
   "source": [
    "train_features = training_df.drop(['label'],axis=1).values #droping target\n",
    "train_labels = training_df['label'].values\n",
    "\n",
    "validation_features = validation_df.drop(['label'],axis=1).values #droping target\n",
    "validation_labels = validation_df['label'].values\n",
    "\n",
    "test_features = test_df.drop(['label'],axis=1).values #droping target\n",
    "test_labels = test_df['label'].values\n",
    "\n"
   ]
  },
  {
   "cell_type": "code",
   "execution_count": 14,
   "id": "a452c7d6",
   "metadata": {},
   "outputs": [
    {
     "name": "stdout",
     "output_type": "stream",
     "text": [
      "2.8.0\n"
     ]
    }
   ],
   "source": [
    "# TensorFlow and tf.keras\n",
    "import tensorflow as tf\n",
    "\n",
    "print(tf.__version__)"
   ]
  },
  {
   "cell_type": "code",
   "execution_count": 26,
   "id": "e53b9606",
   "metadata": {},
   "outputs": [],
   "source": [
    "simple_model = tf.keras.Sequential([\n",
    "    tf.keras.layers.Dense(300, activation='relu', input_shape=(28,)),\n",
    "    tf.keras.layers.Dense(1, activation='sigmoid')\n",
    "    \n",
    "])"
   ]
  },
  {
   "cell_type": "code",
   "execution_count": 27,
   "id": "3bbd8706",
   "metadata": {},
   "outputs": [],
   "source": [
    "simple_model.compile(optimizer='adam',\n",
    "              loss=tf.keras.losses.BinaryCrossentropy(from_logits=True),\n",
    "              metrics=[tf.keras.metrics.AUC(name='AUC'),'accuracy'])"
   ]
  },
  {
   "cell_type": "code",
   "execution_count": 17,
   "id": "39521544",
   "metadata": {},
   "outputs": [],
   "source": [
    "#Add early stopping\n",
    "callback = tf.keras.callbacks.ReduceLROnPlateau(\n",
    "  monitor='val_loss', factor=0.1, patience=10,\n",
    "  mode='auto', min_delta=0.0001, cooldown=0, min_lr=0,\n",
    ")"
   ]
  },
  {
   "cell_type": "code",
   "execution_count": 18,
   "id": "b141478a",
   "metadata": {},
   "outputs": [
    {
     "data": {
      "text/plain": [
       "(5600000,)"
      ]
     },
     "execution_count": 18,
     "metadata": {},
     "output_type": "execute_result"
    }
   ],
   "source": [
    "train_labels.shape"
   ]
  },
  {
   "cell_type": "code",
   "execution_count": 30,
   "id": "a266f230",
   "metadata": {},
   "outputs": [
    {
     "name": "stdout",
     "output_type": "stream",
     "text": [
      "Epoch 1/5\n",
      "1120/1120 [==============================] - 10s 9ms/step - loss: 0.3439 - AUC: 0.9262 - accuracy: 0.8373\n",
      "Epoch 2/5\n",
      "1120/1120 [==============================] - 11s 10ms/step - loss: 0.3318 - AUC: 0.9307 - accuracy: 0.8421\n",
      "Epoch 3/5\n",
      "1120/1120 [==============================] - 10s 9ms/step - loss: 0.3351 - AUC: 0.9298 - accuracy: 0.8430\n",
      "Epoch 4/5\n",
      "1120/1120 [==============================] - 10s 9ms/step - loss: 0.3322 - AUC: 0.9308 - accuracy: 0.8446\n",
      "Epoch 5/5\n",
      "1120/1120 [==============================] - 10s 9ms/step - loss: 0.3224 - AUC: 0.9343 - accuracy: 0.8486\n"
     ]
    }
   ],
   "source": [
    "history = simple_model.fit(train_features, train_labels, batch_size=5000, epochs=5)\n"
   ]
  },
  {
   "cell_type": "code",
   "execution_count": 31,
   "id": "f1a2a2bd",
   "metadata": {},
   "outputs": [
    {
     "data": {
      "text/plain": [
       "{'loss': [0.3439478874206543,\n",
       "  0.33179980516433716,\n",
       "  0.3350951671600342,\n",
       "  0.33224666118621826,\n",
       "  0.32240426540374756],\n",
       " 'AUC': [0.9262440204620361,\n",
       "  0.9307283759117126,\n",
       "  0.9297764301300049,\n",
       "  0.9308241605758667,\n",
       "  0.934281587600708],\n",
       " 'accuracy': [0.8372790813446045,\n",
       "  0.8421037197113037,\n",
       "  0.8429537415504456,\n",
       "  0.8445783853530884,\n",
       "  0.8485685586929321]}"
      ]
     },
     "execution_count": 31,
     "metadata": {},
     "output_type": "execute_result"
    }
   ],
   "source": [
    "history.history"
   ]
  },
  {
   "cell_type": "code",
   "execution_count": 33,
   "id": "8361abea",
   "metadata": {},
   "outputs": [
    {
     "name": "stderr",
     "output_type": "stream",
     "text": [
      "/Users/rickfontenot/miniforge3/envs/mlp/lib/python3.8/site-packages/tensorflow/python/util/dispatch.py:1082: UserWarning: \"`binary_crossentropy` received `from_logits=True`, but the `output` argument was produced by a sigmoid or softmax activation and thus does not represent logits. Was this intended?\"\n",
      "  return dispatch_target(*args, **kwargs)\n",
      "2022-03-21 02:55:24.559764: I tensorflow/core/grappler/optimizers/custom_graph_optimizer_registry.cc:113] Plugin optimizer for device_type GPU is enabled.\n"
     ]
    },
    {
     "name": "stdout",
     "output_type": "stream",
     "text": [
      "140/140 - 1s - loss: 0.3545 - AUC: 0.9381 - accuracy: 0.8282 - 927ms/epoch - 7ms/step\n",
      "\n",
      "Test accuracy: 0.8282299637794495\n",
      "\n",
      "Test AUC: 0.9381445646286011\n"
     ]
    }
   ],
   "source": [
    "test_loss, test_auc, test_acc = simple_model.evaluate(test_features,  test_labels, batch_size=5000, verbose=2)\n",
    "\n",
    "print('\\nTest accuracy:', test_acc)\n",
    "print('\\nTest AUC:', test_auc)"
   ]
  },
  {
   "cell_type": "code",
   "execution_count": 34,
   "id": "d57b94d4",
   "metadata": {},
   "outputs": [],
   "source": [
    "from tensorflow.keras import regularizers\n",
    "\n",
    "research_model = tf.keras.Sequential([\n",
    "    tf.keras.layers.Dense(300, activation='tanh', input_shape=(28,),kernel_regularizer=regularizers.l2(0.00001)),\n",
    "    tf.keras.layers.Dense(300, activation='tanh',kernel_regularizer=regularizers.l2(0.00001)),\n",
    "    tf.keras.layers.Dense(300, activation='tanh',kernel_regularizer=regularizers.l2(0.00001)),\n",
    "    tf.keras.layers.Dense(300, activation='tanh',kernel_regularizer=regularizers.l2(0.00001)),\n",
    "    tf.keras.layers.Dense(300, activation='tanh',kernel_regularizer=regularizers.l2(0.00001)),\n",
    "    tf.keras.layers.Dense(1, activation='sigmoid')   \n",
    "])\n",
    "\n",
    "research_model.compile(optimizer='adam',\n",
    "              loss=tf.keras.losses.BinaryCrossentropy(from_logits=True),\n",
    "              metrics=[tf.keras.metrics.AUC(name='AUC'),'accuracy'])\n",
    "\n"
   ]
  },
  {
   "cell_type": "code",
   "execution_count": 35,
   "id": "ce966913",
   "metadata": {},
   "outputs": [
    {
     "name": "stdout",
     "output_type": "stream",
     "text": [
      "Epoch 1/5\n"
     ]
    },
    {
     "name": "stderr",
     "output_type": "stream",
     "text": [
      "2022-03-21 02:56:06.969436: I tensorflow/core/grappler/optimizers/custom_graph_optimizer_registry.cc:113] Plugin optimizer for device_type GPU is enabled.\n"
     ]
    },
    {
     "name": "stdout",
     "output_type": "stream",
     "text": [
      "1120/1120 [==============================] - 26s 22ms/step - loss: 0.3651 - AUC: 0.9211 - accuracy: 0.8292\n",
      "Epoch 2/5\n",
      "1120/1120 [==============================] - 26s 23ms/step - loss: 0.3097 - AUC: 0.9450 - accuracy: 0.8631\n",
      "Epoch 3/5\n",
      "1120/1120 [==============================] - 26s 23ms/step - loss: 0.3021 - AUC: 0.9474 - accuracy: 0.8671\n",
      "Epoch 4/5\n",
      "1120/1120 [==============================] - 24s 21ms/step - loss: 0.2976 - AUC: 0.9486 - accuracy: 0.8692\n",
      "Epoch 5/5\n",
      "1120/1120 [==============================] - 24s 21ms/step - loss: 0.2925 - AUC: 0.9500 - accuracy: 0.8717\n"
     ]
    },
    {
     "data": {
      "text/plain": [
       "<keras.callbacks.History at 0x10fa6dc10>"
      ]
     },
     "execution_count": 35,
     "metadata": {},
     "output_type": "execute_result"
    }
   ],
   "source": [
    "research_model.fit(train_features, train_labels, batch_size=5000, epochs=5)\n"
   ]
  },
  {
   "cell_type": "code",
   "execution_count": 36,
   "id": "ad84eff7",
   "metadata": {},
   "outputs": [
    {
     "name": "stderr",
     "output_type": "stream",
     "text": [
      "2022-03-21 02:58:17.101258: I tensorflow/core/grappler/optimizers/custom_graph_optimizer_registry.cc:113] Plugin optimizer for device_type GPU is enabled.\n"
     ]
    },
    {
     "name": "stdout",
     "output_type": "stream",
     "text": [
      "140/140 - 2s - loss: 0.2930 - AUC: 0.9502 - accuracy: 0.8714 - 2s/epoch - 12ms/step\n",
      "\n",
      "Test accuracy: 0.8714428544044495\n",
      "\n",
      "Test AUC: 0.950153112411499\n"
     ]
    }
   ],
   "source": [
    "test_loss, test_auc, test_acc = research_model.evaluate(test_features,  test_labels, batch_size=5000, verbose=2)\n",
    "\n",
    "print('\\nTest accuracy:', test_acc)\n",
    "print('\\nTest AUC:', test_auc)"
   ]
  },
  {
   "cell_type": "code",
   "execution_count": 39,
   "id": "c24d61eb",
   "metadata": {},
   "outputs": [],
   "source": [
    "from tensorflow.keras import regularizers\n",
    "\n",
    "relu_model = tf.keras.Sequential([\n",
    "    tf.keras.layers.Dense(300, activation='relu', input_shape=(28,),kernel_regularizer=regularizers.l2(0.00001)),\n",
    "    tf.keras.layers.Dense(300, activation='relu',kernel_regularizer=regularizers.l2(0.00001)),\n",
    "    tf.keras.layers.Dense(300, activation='relu',kernel_regularizer=regularizers.l2(0.00001)),\n",
    "    tf.keras.layers.Dense(300, activation='relu',kernel_regularizer=regularizers.l2(0.00001)),\n",
    "    tf.keras.layers.Dense(300, activation='relu',kernel_regularizer=regularizers.l2(0.00001)),\n",
    "    tf.keras.layers.Dense(1, activation='sigmoid')   \n",
    "])\n",
    "\n",
    "relu_model.compile(optimizer='adam',\n",
    "              loss=tf.keras.losses.BinaryCrossentropy(from_logits=True),\n",
    "              metrics=[tf.keras.metrics.AUC(name='AUC'),'accuracy'])"
   ]
  },
  {
   "cell_type": "code",
   "execution_count": 40,
   "id": "dc353a64",
   "metadata": {},
   "outputs": [
    {
     "name": "stdout",
     "output_type": "stream",
     "text": [
      "Epoch 1/10\n"
     ]
    },
    {
     "name": "stderr",
     "output_type": "stream",
     "text": [
      "2022-03-21 02:59:29.033618: I tensorflow/core/grappler/optimizers/custom_graph_optimizer_registry.cc:113] Plugin optimizer for device_type GPU is enabled.\n"
     ]
    },
    {
     "name": "stdout",
     "output_type": "stream",
     "text": [
      "1120/1120 [==============================] - 26s 22ms/step - loss: 0.5349 - AUC: 0.8730 - accuracy: 0.7818\n",
      "Epoch 2/10\n",
      "1120/1120 [==============================] - 24s 21ms/step - loss: 0.3477 - AUC: 0.9271 - accuracy: 0.8371\n",
      "Epoch 3/10\n",
      "1120/1120 [==============================] - 23s 21ms/step - loss: 0.3306 - AUC: 0.9336 - accuracy: 0.8468\n",
      "Epoch 4/10\n",
      "1120/1120 [==============================] - 24s 22ms/step - loss: 0.3326 - AUC: 0.9332 - accuracy: 0.8465\n",
      "Epoch 5/10\n",
      "1120/1120 [==============================] - 23s 21ms/step - loss: 0.3183 - AUC: 0.9391 - accuracy: 0.8539\n",
      "Epoch 6/10\n",
      "1120/1120 [==============================] - 25s 22ms/step - loss: 0.3071 - AUC: 0.9437 - accuracy: 0.8606\n",
      "Epoch 7/10\n",
      "1120/1120 [==============================] - 26s 23ms/step - loss: 0.3037 - AUC: 0.9449 - accuracy: 0.8625\n",
      "Epoch 8/10\n",
      "1120/1120 [==============================] - 24s 21ms/step - loss: 0.3013 - AUC: 0.9457 - accuracy: 0.8639\n",
      "Epoch 9/10\n",
      "1120/1120 [==============================] - 24s 21ms/step - loss: 0.2997 - AUC: 0.9462 - accuracy: 0.8647\n",
      "Epoch 10/10\n",
      "1120/1120 [==============================] - 24s 22ms/step - loss: 0.2972 - AUC: 0.9469 - accuracy: 0.8659\n"
     ]
    },
    {
     "data": {
      "text/plain": [
       "<keras.callbacks.History at 0x10a6049a0>"
      ]
     },
     "execution_count": 40,
     "metadata": {},
     "output_type": "execute_result"
    }
   ],
   "source": [
    "relu_model.fit(train_features, train_labels, batch_size=5000, epochs=10)\n"
   ]
  },
  {
   "cell_type": "code",
   "execution_count": 41,
   "id": "e15d98b0",
   "metadata": {},
   "outputs": [
    {
     "name": "stderr",
     "output_type": "stream",
     "text": [
      "2022-03-21 03:03:31.447481: I tensorflow/core/grappler/optimizers/custom_graph_optimizer_registry.cc:113] Plugin optimizer for device_type GPU is enabled.\n"
     ]
    },
    {
     "name": "stdout",
     "output_type": "stream",
     "text": [
      "140/140 - 2s - loss: 0.2972 - AUC: 0.9470 - accuracy: 0.8648 - 2s/epoch - 13ms/step\n",
      "\n",
      "Test accuracy: 0.8647585511207581\n",
      "\n",
      "Test AUC: 0.9470331072807312\n"
     ]
    }
   ],
   "source": [
    "test_loss, test_auc, test_acc = relu_model.evaluate(test_features,  test_labels, batch_size=5000, verbose=2)\n",
    "\n",
    "print('\\nTest accuracy:', test_acc)\n",
    "print('\\nTest AUC:', test_auc)"
   ]
  },
  {
   "cell_type": "markdown",
   "id": "3844c99e",
   "metadata": {},
   "source": [
    "## The research paper model with tanh on 5 layers seems to be best\n",
    "\n",
    "## Try to improve upon it"
   ]
  },
  {
   "cell_type": "markdown",
   "id": "f0a61514",
   "metadata": {},
   "source": [
    "## Scale Features"
   ]
  },
  {
   "cell_type": "code",
   "execution_count": 44,
   "id": "e6b5a3ba",
   "metadata": {},
   "outputs": [
    {
     "data": {
      "text/plain": [
       "array([[-1.57687044e+00, -1.53194678e+00, -1.36175871e-01, ...,\n",
       "         1.81841409e+00,  9.93695080e-01,  4.99999969e+02],\n",
       "       [-1.09753646e-01, -2.56410807e-01,  1.17758490e-01, ...,\n",
       "        -6.77254975e-01, -1.30519986e+00,  1.25000000e+03],\n",
       "       [ 1.76545846e+00, -2.17874026e+00, -3.96287024e-01, ...,\n",
       "        -7.21605003e-01, -7.03450516e-02,  7.50000000e+02],\n",
       "       ...,\n",
       "       [ 5.35067737e-01, -6.91768885e-01, -1.68381310e+00, ...,\n",
       "         1.37669957e+00,  7.15924919e-01,  1.00000000e+03],\n",
       "       [-3.87337863e-01, -9.21249926e-01, -6.11122847e-01, ...,\n",
       "        -1.13498032e+00, -1.57653105e+00,  4.99999969e+02],\n",
       "       [-8.35407794e-01, -4.54731107e-01, -1.93680413e-02, ...,\n",
       "        -6.45789087e-01, -1.07263637e+00,  1.25000000e+03]])"
      ]
     },
     "execution_count": 44,
     "metadata": {},
     "output_type": "execute_result"
    }
   ],
   "source": [
    "train_features"
   ]
  },
  {
   "cell_type": "code",
   "execution_count": 49,
   "id": "6319ed7e",
   "metadata": {},
   "outputs": [],
   "source": [
    "#Scale new predictor matrix\n",
    "from sklearn.preprocessing import StandardScaler\n",
    "scl_obj = StandardScaler()\n",
    "scl_obj.fit(train_features)\n",
    "train_features_scaled = scl_obj.transform(train_features)\n",
    "scl_obj.fit(validation_features)\n",
    "validation_features_scaled = scl_obj.transform(validation_features)\n",
    "scl_obj.fit(test_features)\n",
    "test_features_scaled = scl_obj.transform(test_features)"
   ]
  },
  {
   "cell_type": "code",
   "execution_count": 50,
   "id": "682027f9",
   "metadata": {},
   "outputs": [
    {
     "data": {
      "text/plain": [
       "array([[-1.58589070e+00, -1.53586705e+00, -1.36540050e-01, ...,\n",
       "         1.84851539e+00,  9.96181723e-01, -1.41469037e+00],\n",
       "       [-1.25217096e-01, -2.57340172e-01,  1.17408099e-01, ...,\n",
       "        -6.86327047e-01, -1.34413448e+00,  7.07460940e-01],\n",
       "       [ 1.74175957e+00, -2.18417716e+00, -3.96665327e-01, ...,\n",
       "        -7.31373217e-01, -8.70301789e-02, -7.07306544e-01],\n",
       "       ...,\n",
       "       [ 5.16772400e-01, -6.93719089e-01, -1.68426131e+00, ...,\n",
       "         1.39986748e+00,  7.13406726e-01,  7.71978648e-05],\n",
       "       [-4.01582236e-01, -9.23738223e-01, -6.11512815e-01, ...,\n",
       "        -1.15123710e+00, -1.62035449e+00, -1.41469037e+00],\n",
       "       [-8.47684360e-01, -4.56125498e-01, -1.97258785e-02, ...,\n",
       "        -6.54367254e-01, -1.10738068e+00,  7.07460940e-01]])"
      ]
     },
     "execution_count": 50,
     "metadata": {},
     "output_type": "execute_result"
    }
   ],
   "source": [
    "train_features_scaled"
   ]
  },
  {
   "cell_type": "code",
   "execution_count": 54,
   "id": "d49a5d4d",
   "metadata": {},
   "outputs": [],
   "source": [
    "from tensorflow.keras import regularizers\n",
    "\n",
    "research_model = tf.keras.Sequential([\n",
    "    tf.keras.layers.Dense(300, activation='tanh', input_shape=(28,),kernel_regularizer=regularizers.l2(0.00001)),\n",
    "    tf.keras.layers.Dense(300, activation='tanh',kernel_regularizer=regularizers.l2(0.00001)),\n",
    "    tf.keras.layers.Dense(300, activation='tanh',kernel_regularizer=regularizers.l2(0.00001)),\n",
    "    tf.keras.layers.Dense(300, activation='tanh',kernel_regularizer=regularizers.l2(0.00001)),\n",
    "    tf.keras.layers.Dense(300, activation='tanh',kernel_regularizer=regularizers.l2(0.00001)),\n",
    "    tf.keras.layers.Dense(1, activation='sigmoid')   \n",
    "])\n",
    "\n",
    "research_model.compile(optimizer='adam',\n",
    "              loss=tf.keras.losses.BinaryCrossentropy(from_logits=True),\n",
    "              metrics=[tf.keras.metrics.AUC(name='AUC'),'accuracy'])"
   ]
  },
  {
   "cell_type": "code",
   "execution_count": 55,
   "id": "918c5357",
   "metadata": {},
   "outputs": [
    {
     "name": "stdout",
     "output_type": "stream",
     "text": [
      "Epoch 1/5\n"
     ]
    },
    {
     "name": "stderr",
     "output_type": "stream",
     "text": [
      "2022-03-21 03:11:34.824449: I tensorflow/core/grappler/optimizers/custom_graph_optimizer_registry.cc:113] Plugin optimizer for device_type GPU is enabled.\n"
     ]
    },
    {
     "name": "stdout",
     "output_type": "stream",
     "text": [
      "1120/1120 [==============================] - 26s 22ms/step - loss: 0.3060 - AUC: 0.9467 - accuracy: 0.8661\n",
      "Epoch 2/5\n",
      "1120/1120 [==============================] - 25s 23ms/step - loss: 0.2836 - AUC: 0.9542 - accuracy: 0.8780\n",
      "Epoch 3/5\n",
      "1120/1120 [==============================] - 24s 21ms/step - loss: 0.2783 - AUC: 0.9554 - accuracy: 0.8800\n",
      "Epoch 4/5\n",
      "1120/1120 [==============================] - 25s 22ms/step - loss: 0.2752 - AUC: 0.9560 - accuracy: 0.8811\n",
      "Epoch 5/5\n",
      "1120/1120 [==============================] - 24s 21ms/step - loss: 0.2733 - AUC: 0.9564 - accuracy: 0.8817\n"
     ]
    },
    {
     "data": {
      "text/plain": [
       "<keras.callbacks.History at 0x14952d7c0>"
      ]
     },
     "execution_count": 55,
     "metadata": {},
     "output_type": "execute_result"
    }
   ],
   "source": [
    "research_model.fit(train_features_scaled, train_labels, batch_size=5000, epochs=5)\n"
   ]
  },
  {
   "cell_type": "code",
   "execution_count": 56,
   "id": "4b9c0c42",
   "metadata": {},
   "outputs": [
    {
     "name": "stderr",
     "output_type": "stream",
     "text": [
      "2022-03-21 03:13:41.945749: I tensorflow/core/grappler/optimizers/custom_graph_optimizer_registry.cc:113] Plugin optimizer for device_type GPU is enabled.\n"
     ]
    },
    {
     "name": "stdout",
     "output_type": "stream",
     "text": [
      "140/140 - 2s - loss: 0.2723 - AUC: 0.9568 - accuracy: 0.8820 - 2s/epoch - 13ms/step\n",
      "\n",
      "Test accuracy: 0.8820314407348633\n",
      "\n",
      "Test AUC: 0.9567630290985107\n"
     ]
    }
   ],
   "source": [
    "test_loss, test_auc, test_acc = research_model.evaluate(test_features_scaled,  test_labels, batch_size=5000, verbose=2)\n",
    "\n",
    "print('\\nTest accuracy:', test_acc)\n",
    "print('\\nTest AUC:', test_auc)"
   ]
  },
  {
   "cell_type": "markdown",
   "id": "a17b7983",
   "metadata": {},
   "source": [
    "Scaling features improved auc and accuracy a bit"
   ]
  },
  {
   "cell_type": "markdown",
   "id": "bee02c23",
   "metadata": {},
   "source": [
    "look at class weights"
   ]
  },
  {
   "cell_type": "code",
   "execution_count": 62,
   "id": "0eef7bd4",
   "metadata": {},
   "outputs": [
    {
     "name": "stdout",
     "output_type": "stream",
     "text": [
      "[[      0 2799297]\n",
      " [      1 2800703]]\n"
     ]
    }
   ],
   "source": [
    "\n",
    "unique, counts = np.unique(train_labels, return_counts=True)\n",
    "frequencies = np.asarray((unique, counts)).T\n",
    "\n",
    "print(frequencies)\n"
   ]
  },
  {
   "cell_type": "markdown",
   "id": "f0a80186",
   "metadata": {},
   "source": [
    "look at learning rates"
   ]
  },
  {
   "cell_type": "code",
   "execution_count": 75,
   "id": "7889585e",
   "metadata": {},
   "outputs": [],
   "source": [
    "#Add early stopping\n",
    "callback = [\n",
    "  tf.keras.callbacks.ReduceLROnPlateau(monitor='val_loss', factor=0.2, patience=10,mode='auto', min_delta=0.0001, cooldown=0, min_lr=0.05)\n",
    "]"
   ]
  },
  {
   "cell_type": "code",
   "execution_count": 76,
   "id": "25f1c55e",
   "metadata": {},
   "outputs": [],
   "source": [
    "from tensorflow.keras import regularizers\n",
    "\n",
    "research_model = tf.keras.Sequential([\n",
    "    tf.keras.layers.Dense(300, activation='tanh', input_shape=(28,),kernel_regularizer=regularizers.l2(0.00001)),\n",
    "    tf.keras.layers.Dense(300, activation='tanh',kernel_regularizer=regularizers.l2(0.00001)),\n",
    "    tf.keras.layers.Dense(300, activation='tanh',kernel_regularizer=regularizers.l2(0.00001)),\n",
    "    tf.keras.layers.Dense(300, activation='tanh',kernel_regularizer=regularizers.l2(0.00001)),\n",
    "    tf.keras.layers.Dense(300, activation='tanh',kernel_regularizer=regularizers.l2(0.00001)),\n",
    "    tf.keras.layers.Dense(1, activation='sigmoid')   \n",
    "])\n",
    "\n",
    "research_model.compile(optimizer='adam',\n",
    "              loss=tf.keras.losses.BinaryCrossentropy(from_logits=True),\n",
    "              metrics=[tf.keras.metrics.AUC(name='AUC'),'accuracy'])"
   ]
  },
  {
   "cell_type": "code",
   "execution_count": 77,
   "id": "cd94517a",
   "metadata": {},
   "outputs": [
    {
     "name": "stdout",
     "output_type": "stream",
     "text": [
      "Epoch 1/10\n"
     ]
    },
    {
     "name": "stderr",
     "output_type": "stream",
     "text": [
      "2022-03-21 03:32:59.517445: I tensorflow/core/grappler/optimizers/custom_graph_optimizer_registry.cc:113] Plugin optimizer for device_type GPU is enabled.\n"
     ]
    },
    {
     "name": "stdout",
     "output_type": "stream",
     "text": [
      "1118/1120 [============================>.] - ETA: 0s - loss: 0.3059 - AUC: 0.9468 - accuracy: 0.8664"
     ]
    },
    {
     "name": "stderr",
     "output_type": "stream",
     "text": [
      "2022-03-21 03:33:24.624965: I tensorflow/core/grappler/optimizers/custom_graph_optimizer_registry.cc:113] Plugin optimizer for device_type GPU is enabled.\n"
     ]
    },
    {
     "name": "stdout",
     "output_type": "stream",
     "text": [
      "1120/1120 [==============================] - 27s 24ms/step - loss: 0.3058 - AUC: 0.9468 - accuracy: 0.8664 - val_loss: 0.2876 - val_AUC: 0.9533 - val_accuracy: 0.8767 - lr: 0.0010\n",
      "Epoch 2/10\n",
      "1120/1120 [==============================] - 27s 24ms/step - loss: 0.2835 - AUC: 0.9542 - accuracy: 0.8781 - val_loss: 0.2792 - val_AUC: 0.9554 - val_accuracy: 0.8804 - lr: 0.0010\n",
      "Epoch 3/10\n",
      "1120/1120 [==============================] - 26s 23ms/step - loss: 0.2780 - AUC: 0.9555 - accuracy: 0.8802 - val_loss: 0.2780 - val_AUC: 0.9553 - val_accuracy: 0.8802 - lr: 0.0010\n",
      "Epoch 4/10\n",
      "1120/1120 [==============================] - 25s 22ms/step - loss: 0.2749 - AUC: 0.9561 - accuracy: 0.8813 - val_loss: 0.2744 - val_AUC: 0.9563 - val_accuracy: 0.8809 - lr: 0.0010\n",
      "Epoch 5/10\n",
      "1120/1120 [==============================] - 26s 23ms/step - loss: 0.2730 - AUC: 0.9565 - accuracy: 0.8819 - val_loss: 0.2723 - val_AUC: 0.9566 - val_accuracy: 0.8818 - lr: 0.0010\n",
      "Epoch 6/10\n",
      "1120/1120 [==============================] - 26s 23ms/step - loss: 0.2717 - AUC: 0.9568 - accuracy: 0.8823 - val_loss: 0.2727 - val_AUC: 0.9564 - val_accuracy: 0.8814 - lr: 0.0010\n",
      "Epoch 7/10\n",
      "1120/1120 [==============================] - 26s 23ms/step - loss: 0.2708 - AUC: 0.9570 - accuracy: 0.8826 - val_loss: 0.2714 - val_AUC: 0.9570 - val_accuracy: 0.8821 - lr: 0.0010\n",
      "Epoch 8/10\n",
      "1120/1120 [==============================] - 26s 23ms/step - loss: 0.2700 - AUC: 0.9572 - accuracy: 0.8830 - val_loss: 0.2708 - val_AUC: 0.9570 - val_accuracy: 0.8827 - lr: 0.0010\n",
      "Epoch 9/10\n",
      "1120/1120 [==============================] - 25s 23ms/step - loss: 0.2694 - AUC: 0.9574 - accuracy: 0.8832 - val_loss: 0.2700 - val_AUC: 0.9572 - val_accuracy: 0.8831 - lr: 0.0010\n",
      "Epoch 10/10\n",
      "1120/1120 [==============================] - 25s 23ms/step - loss: 0.2688 - AUC: 0.9575 - accuracy: 0.8835 - val_loss: 0.2710 - val_AUC: 0.9571 - val_accuracy: 0.8822 - lr: 0.0010\n"
     ]
    },
    {
     "data": {
      "text/plain": [
       "<keras.callbacks.History at 0x14acc2dc0>"
      ]
     },
     "execution_count": 77,
     "metadata": {},
     "output_type": "execute_result"
    }
   ],
   "source": [
    "research_model.fit(train_features_scaled, train_labels, batch_size=5000, epochs=10, callbacks=callback, validation_data=[validation_features_scaled, validation_labels])\n"
   ]
  },
  {
   "cell_type": "code",
   "execution_count": 78,
   "id": "e0ebad7b",
   "metadata": {},
   "outputs": [
    {
     "name": "stdout",
     "output_type": "stream",
     "text": [
      "140/140 - 2s - loss: 0.2703 - AUC: 0.9573 - accuracy: 0.8824 - 2s/epoch - 12ms/step\n",
      "\n",
      "Test accuracy: 0.8824028372764587\n",
      "\n",
      "Test AUC: 0.9573490619659424\n"
     ]
    }
   ],
   "source": [
    "test_loss, test_auc, test_acc = research_model.evaluate(test_features_scaled,  test_labels, batch_size=5000, verbose=2)\n",
    "\n",
    "print('\\nTest accuracy:', test_acc)\n",
    "print('\\nTest AUC:', test_auc)"
   ]
  },
  {
   "cell_type": "code",
   "execution_count": 85,
   "id": "77a04dcf",
   "metadata": {},
   "outputs": [],
   "source": [
    "from tensorflow.keras import regularizers\n",
    "\n",
    "research_model = tf.keras.Sequential([\n",
    "    tf.keras.layers.Dense(300, activation='tanh', input_shape=(28,),kernel_regularizer=regularizers.l2(0.00001)),\n",
    "    tf.keras.layers.Dense(300, activation='tanh',kernel_regularizer=regularizers.l2(0.00001)),\n",
    "    tf.keras.layers.Dense(300, activation='tanh',kernel_regularizer=regularizers.l2(0.00001)),\n",
    "    tf.keras.layers.Dense(300, activation='tanh',kernel_regularizer=regularizers.l2(0.00001)),\n",
    "    tf.keras.layers.Dense(300, activation='tanh',kernel_regularizer=regularizers.l2(0.00001)),\n",
    "    tf.keras.layers.Dense(2, activation='softmax')   \n",
    "])\n",
    "\n",
    "research_model.compile(optimizer='adam',\n",
    "              loss=tf.keras.losses.SparseCategoricalCrossentropy(from_logits=True),\n",
    "              metrics=['accuracy'])"
   ]
  },
  {
   "cell_type": "code",
   "execution_count": 87,
   "id": "f9e475ec",
   "metadata": {},
   "outputs": [
    {
     "name": "stdout",
     "output_type": "stream",
     "text": [
      "Epoch 1/5\n",
      "1120/1120 [==============================] - 23s 20ms/step - loss: 0.2828 - accuracy: 0.8783 - val_loss: 0.2813 - val_accuracy: 0.8789 - lr: 0.0010\n",
      "Epoch 2/5\n",
      "1120/1120 [==============================] - 23s 21ms/step - loss: 0.2780 - accuracy: 0.8802 - val_loss: 0.2771 - val_accuracy: 0.8807 - lr: 0.0010\n",
      "Epoch 3/5\n",
      "1120/1120 [==============================] - 24s 22ms/step - loss: 0.2749 - accuracy: 0.8812 - val_loss: 0.2754 - val_accuracy: 0.8807 - lr: 0.0010\n",
      "Epoch 4/5\n",
      "1120/1120 [==============================] - 24s 21ms/step - loss: 0.2729 - accuracy: 0.8819 - val_loss: 0.2719 - val_accuracy: 0.8822 - lr: 0.0010\n",
      "Epoch 5/5\n",
      "1120/1120 [==============================] - 23s 20ms/step - loss: 0.2716 - accuracy: 0.8823 - val_loss: 0.2729 - val_accuracy: 0.8814 - lr: 0.0010\n"
     ]
    },
    {
     "data": {
      "text/plain": [
       "<keras.callbacks.History at 0x522c0d400>"
      ]
     },
     "execution_count": 87,
     "metadata": {},
     "output_type": "execute_result"
    }
   ],
   "source": [
    "research_model.fit(train_features_scaled, train_labels, batch_size=5000, epochs=5, callbacks=callback, validation_data=[validation_features_scaled, validation_labels])\n"
   ]
  },
  {
   "cell_type": "code",
   "execution_count": 88,
   "id": "ce426429",
   "metadata": {},
   "outputs": [
    {
     "name": "stdout",
     "output_type": "stream",
     "text": [
      "140/140 - 1s - loss: 0.2719 - accuracy: 0.8822 - 1s/epoch - 9ms/step\n",
      "\n",
      "Test accuracy: 0.8821671009063721\n"
     ]
    }
   ],
   "source": [
    "test_loss, test_acc = research_model.evaluate(test_features_scaled,  test_labels, batch_size=5000, verbose=2)\n",
    "\n",
    "print('\\nTest accuracy:', test_acc)\n"
   ]
  }
 ],
 "metadata": {
  "interpreter": {
   "hash": "163c475792d3cda12f8f4bc682140b2faffa038247c7a6f843a4fd616cacb042"
  },
  "kernelspec": {
   "display_name": "Python 3.9.1 64-bit (system)",
   "name": "python3"
  },
  "language_info": {
   "codemirror_mode": {
    "name": "ipython",
    "version": 3
   },
   "file_extension": ".py",
   "mimetype": "text/x-python",
   "name": "python",
   "nbconvert_exporter": "python",
   "pygments_lexer": "ipython3",
   "version": "3.8.11"
  }
 },
 "nbformat": 4,
 "nbformat_minor": 5
}
