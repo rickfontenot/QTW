{
 "cells": [
  {
   "cell_type": "markdown",
   "id": "673b07be",
   "metadata": {},
   "source": [
    "___\n",
    "\n",
    "QTW Case 6\n",
    "\n",
    "#### Rick Fontenot\n",
    "___\n"
   ]
  },
  {
   "cell_type": "code",
   "execution_count": 1,
   "id": "ab8fdd64",
   "metadata": {},
   "outputs": [],
   "source": [
    "# Imports\n",
    "import matplotlib.pyplot as plt\n",
    "import seaborn as sns\n",
    "import numpy as np\n",
    "import pandas as pd\n",
    "from datetime import date\n",
    "import sklearn\n",
    "pd.set_option(\"display.max_columns\", None, \"display.max_rows\", None)\n",
    "import missingno as msno\n"
   ]
  },
  {
   "cell_type": "markdown",
   "id": "1cc268bc",
   "metadata": {},
   "source": [
    "### Load the raw data\n"
   ]
  },
  {
   "cell_type": "code",
   "execution_count": 2,
   "id": "fa44cca8",
   "metadata": {},
   "outputs": [
    {
     "data": {
      "text/html": [
       "<div>\n",
       "<style scoped>\n",
       "    .dataframe tbody tr th:only-of-type {\n",
       "        vertical-align: middle;\n",
       "    }\n",
       "\n",
       "    .dataframe tbody tr th {\n",
       "        vertical-align: top;\n",
       "    }\n",
       "\n",
       "    .dataframe thead th {\n",
       "        text-align: right;\n",
       "    }\n",
       "</style>\n",
       "<table border=\"1\" class=\"dataframe\">\n",
       "  <thead>\n",
       "    <tr style=\"text-align: right;\">\n",
       "      <th></th>\n",
       "      <th># label</th>\n",
       "      <th>f0</th>\n",
       "      <th>f1</th>\n",
       "      <th>f2</th>\n",
       "      <th>f3</th>\n",
       "      <th>f4</th>\n",
       "      <th>f5</th>\n",
       "      <th>f6</th>\n",
       "      <th>f7</th>\n",
       "      <th>f8</th>\n",
       "      <th>f9</th>\n",
       "      <th>f10</th>\n",
       "      <th>f11</th>\n",
       "      <th>f12</th>\n",
       "      <th>f13</th>\n",
       "      <th>f14</th>\n",
       "      <th>f15</th>\n",
       "      <th>f16</th>\n",
       "      <th>f17</th>\n",
       "      <th>f18</th>\n",
       "      <th>f19</th>\n",
       "      <th>f20</th>\n",
       "      <th>f21</th>\n",
       "      <th>f22</th>\n",
       "      <th>f23</th>\n",
       "      <th>f24</th>\n",
       "      <th>f25</th>\n",
       "      <th>f26</th>\n",
       "      <th>mass</th>\n",
       "    </tr>\n",
       "  </thead>\n",
       "  <tbody>\n",
       "    <tr>\n",
       "      <th>0</th>\n",
       "      <td>1.0</td>\n",
       "      <td>-0.346368</td>\n",
       "      <td>0.416306</td>\n",
       "      <td>0.999236</td>\n",
       "      <td>0.475342</td>\n",
       "      <td>0.427493</td>\n",
       "      <td>-0.005984</td>\n",
       "      <td>1.989833</td>\n",
       "      <td>0.344530</td>\n",
       "      <td>1.566297</td>\n",
       "      <td>0.754261</td>\n",
       "      <td>2.269852</td>\n",
       "      <td>-1.300984</td>\n",
       "      <td>-1.199420</td>\n",
       "      <td>-1.161915</td>\n",
       "      <td>3.357043</td>\n",
       "      <td>0.460796</td>\n",
       "      <td>-0.404118</td>\n",
       "      <td>-0.815440</td>\n",
       "      <td>4.105282</td>\n",
       "      <td>0.267826</td>\n",
       "      <td>0.378718</td>\n",
       "      <td>1.743123</td>\n",
       "      <td>3.406367</td>\n",
       "      <td>4.350537</td>\n",
       "      <td>-0.352571</td>\n",
       "      <td>1.130032</td>\n",
       "      <td>2.227706</td>\n",
       "      <td>1000.0</td>\n",
       "    </tr>\n",
       "    <tr>\n",
       "      <th>1</th>\n",
       "      <td>1.0</td>\n",
       "      <td>1.708236</td>\n",
       "      <td>-0.319394</td>\n",
       "      <td>-1.241873</td>\n",
       "      <td>-0.887231</td>\n",
       "      <td>-0.871906</td>\n",
       "      <td>-0.005984</td>\n",
       "      <td>-0.001047</td>\n",
       "      <td>-1.038225</td>\n",
       "      <td>0.655748</td>\n",
       "      <td>0.754261</td>\n",
       "      <td>0.459217</td>\n",
       "      <td>-0.695640</td>\n",
       "      <td>0.359856</td>\n",
       "      <td>-1.161915</td>\n",
       "      <td>-0.502048</td>\n",
       "      <td>0.505149</td>\n",
       "      <td>-1.500441</td>\n",
       "      <td>1.226331</td>\n",
       "      <td>-1.178141</td>\n",
       "      <td>-0.877361</td>\n",
       "      <td>-1.483769</td>\n",
       "      <td>-0.573682</td>\n",
       "      <td>-1.693781</td>\n",
       "      <td>-0.545062</td>\n",
       "      <td>-0.299118</td>\n",
       "      <td>-0.662942</td>\n",
       "      <td>-0.193019</td>\n",
       "      <td>750.0</td>\n",
       "    </tr>\n",
       "    <tr>\n",
       "      <th>2</th>\n",
       "      <td>0.0</td>\n",
       "      <td>-0.360693</td>\n",
       "      <td>1.794174</td>\n",
       "      <td>0.264738</td>\n",
       "      <td>-0.472273</td>\n",
       "      <td>-0.292344</td>\n",
       "      <td>-1.054221</td>\n",
       "      <td>-1.150495</td>\n",
       "      <td>1.423404</td>\n",
       "      <td>1.270098</td>\n",
       "      <td>0.754261</td>\n",
       "      <td>-1.031239</td>\n",
       "      <td>1.912465</td>\n",
       "      <td>-1.321417</td>\n",
       "      <td>-1.161915</td>\n",
       "      <td>-0.406757</td>\n",
       "      <td>1.346497</td>\n",
       "      <td>-0.298099</td>\n",
       "      <td>1.226331</td>\n",
       "      <td>-1.199511</td>\n",
       "      <td>0.539020</td>\n",
       "      <td>-1.590629</td>\n",
       "      <td>-0.573682</td>\n",
       "      <td>-0.543636</td>\n",
       "      <td>-0.937456</td>\n",
       "      <td>-0.300344</td>\n",
       "      <td>-0.523262</td>\n",
       "      <td>-1.506304</td>\n",
       "      <td>750.0</td>\n",
       "    </tr>\n",
       "    <tr>\n",
       "      <th>3</th>\n",
       "      <td>1.0</td>\n",
       "      <td>-0.377914</td>\n",
       "      <td>-0.103932</td>\n",
       "      <td>-0.649434</td>\n",
       "      <td>-2.125015</td>\n",
       "      <td>-1.643797</td>\n",
       "      <td>-0.005984</td>\n",
       "      <td>1.011112</td>\n",
       "      <td>-1.040340</td>\n",
       "      <td>-0.541991</td>\n",
       "      <td>0.754261</td>\n",
       "      <td>1.142262</td>\n",
       "      <td>0.551081</td>\n",
       "      <td>1.016731</td>\n",
       "      <td>0.860649</td>\n",
       "      <td>0.454005</td>\n",
       "      <td>0.624624</td>\n",
       "      <td>1.439072</td>\n",
       "      <td>-0.815440</td>\n",
       "      <td>0.463763</td>\n",
       "      <td>-0.006583</td>\n",
       "      <td>1.089122</td>\n",
       "      <td>-0.573682</td>\n",
       "      <td>-0.276348</td>\n",
       "      <td>-0.409272</td>\n",
       "      <td>-0.349926</td>\n",
       "      <td>-0.307123</td>\n",
       "      <td>0.529698</td>\n",
       "      <td>1250.0</td>\n",
       "    </tr>\n",
       "    <tr>\n",
       "      <th>4</th>\n",
       "      <td>0.0</td>\n",
       "      <td>-0.067436</td>\n",
       "      <td>-0.636762</td>\n",
       "      <td>-0.620166</td>\n",
       "      <td>-0.062551</td>\n",
       "      <td>1.588715</td>\n",
       "      <td>-0.005984</td>\n",
       "      <td>-0.595304</td>\n",
       "      <td>-1.238987</td>\n",
       "      <td>0.336844</td>\n",
       "      <td>-1.325801</td>\n",
       "      <td>-0.181512</td>\n",
       "      <td>-1.329374</td>\n",
       "      <td>0.879087</td>\n",
       "      <td>0.860649</td>\n",
       "      <td>-0.143564</td>\n",
       "      <td>-1.293935</td>\n",
       "      <td>-1.222800</td>\n",
       "      <td>-0.815440</td>\n",
       "      <td>-0.552837</td>\n",
       "      <td>-1.418494</td>\n",
       "      <td>-0.562982</td>\n",
       "      <td>1.743123</td>\n",
       "      <td>0.881802</td>\n",
       "      <td>0.002516</td>\n",
       "      <td>1.560950</td>\n",
       "      <td>-0.150760</td>\n",
       "      <td>-1.023889</td>\n",
       "      <td>750.0</td>\n",
       "    </tr>\n",
       "  </tbody>\n",
       "</table>\n",
       "</div>"
      ],
      "text/plain": [
       "   # label        f0        f1        f2        f3        f4        f5  \\\n",
       "0      1.0 -0.346368  0.416306  0.999236  0.475342  0.427493 -0.005984   \n",
       "1      1.0  1.708236 -0.319394 -1.241873 -0.887231 -0.871906 -0.005984   \n",
       "2      0.0 -0.360693  1.794174  0.264738 -0.472273 -0.292344 -1.054221   \n",
       "3      1.0 -0.377914 -0.103932 -0.649434 -2.125015 -1.643797 -0.005984   \n",
       "4      0.0 -0.067436 -0.636762 -0.620166 -0.062551  1.588715 -0.005984   \n",
       "\n",
       "         f6        f7        f8        f9       f10       f11       f12  \\\n",
       "0  1.989833  0.344530  1.566297  0.754261  2.269852 -1.300984 -1.199420   \n",
       "1 -0.001047 -1.038225  0.655748  0.754261  0.459217 -0.695640  0.359856   \n",
       "2 -1.150495  1.423404  1.270098  0.754261 -1.031239  1.912465 -1.321417   \n",
       "3  1.011112 -1.040340 -0.541991  0.754261  1.142262  0.551081  1.016731   \n",
       "4 -0.595304 -1.238987  0.336844 -1.325801 -0.181512 -1.329374  0.879087   \n",
       "\n",
       "        f13       f14       f15       f16       f17       f18       f19  \\\n",
       "0 -1.161915  3.357043  0.460796 -0.404118 -0.815440  4.105282  0.267826   \n",
       "1 -1.161915 -0.502048  0.505149 -1.500441  1.226331 -1.178141 -0.877361   \n",
       "2 -1.161915 -0.406757  1.346497 -0.298099  1.226331 -1.199511  0.539020   \n",
       "3  0.860649  0.454005  0.624624  1.439072 -0.815440  0.463763 -0.006583   \n",
       "4  0.860649 -0.143564 -1.293935 -1.222800 -0.815440 -0.552837 -1.418494   \n",
       "\n",
       "        f20       f21       f22       f23       f24       f25       f26  \\\n",
       "0  0.378718  1.743123  3.406367  4.350537 -0.352571  1.130032  2.227706   \n",
       "1 -1.483769 -0.573682 -1.693781 -0.545062 -0.299118 -0.662942 -0.193019   \n",
       "2 -1.590629 -0.573682 -0.543636 -0.937456 -0.300344 -0.523262 -1.506304   \n",
       "3  1.089122 -0.573682 -0.276348 -0.409272 -0.349926 -0.307123  0.529698   \n",
       "4 -0.562982  1.743123  0.881802  0.002516  1.560950 -0.150760 -1.023889   \n",
       "\n",
       "     mass  \n",
       "0  1000.0  \n",
       "1   750.0  \n",
       "2   750.0  \n",
       "3  1250.0  \n",
       "4   750.0  "
      ]
     },
     "execution_count": 2,
     "metadata": {},
     "output_type": "execute_result"
    }
   ],
   "source": [
    "higgs=pd.read_csv(\"/Users/rickfontenot/Dropbox/SMU/DS7333 Quantifying World/QTW_Github/QTW/Case Study 6/data/all_train.csv\")\n",
    "\n",
    "higgs.head()"
   ]
  },
  {
   "cell_type": "code",
   "execution_count": 3,
   "id": "f770d7ae",
   "metadata": {},
   "outputs": [
    {
     "data": {
      "text/plain": [
       "(7000000, 29)"
      ]
     },
     "execution_count": 3,
     "metadata": {},
     "output_type": "execute_result"
    }
   ],
   "source": [
    "higgs.shape"
   ]
  },
  {
   "cell_type": "code",
   "execution_count": 4,
   "id": "ff540293",
   "metadata": {},
   "outputs": [
    {
     "data": {
      "text/plain": [
       "Index(['# label', 'f0', 'f1', 'f2', 'f3', 'f4', 'f5', 'f6', 'f7', 'f8', 'f9',\n",
       "       'f10', 'f11', 'f12', 'f13', 'f14', 'f15', 'f16', 'f17', 'f18', 'f19',\n",
       "       'f20', 'f21', 'f22', 'f23', 'f24', 'f25', 'f26', 'mass'],\n",
       "      dtype='object')"
      ]
     },
     "execution_count": 4,
     "metadata": {},
     "output_type": "execute_result"
    }
   ],
   "source": [
    "higgs.columns"
   ]
  },
  {
   "cell_type": "code",
   "execution_count": 5,
   "id": "52e2fab4",
   "metadata": {},
   "outputs": [
    {
     "data": {
      "text/html": [
       "<div>\n",
       "<style scoped>\n",
       "    .dataframe tbody tr th:only-of-type {\n",
       "        vertical-align: middle;\n",
       "    }\n",
       "\n",
       "    .dataframe tbody tr th {\n",
       "        vertical-align: top;\n",
       "    }\n",
       "\n",
       "    .dataframe thead th {\n",
       "        text-align: right;\n",
       "    }\n",
       "</style>\n",
       "<table border=\"1\" class=\"dataframe\">\n",
       "  <thead>\n",
       "    <tr style=\"text-align: right;\">\n",
       "      <th></th>\n",
       "      <th>label</th>\n",
       "      <th>f0</th>\n",
       "      <th>f1</th>\n",
       "      <th>f2</th>\n",
       "      <th>f3</th>\n",
       "      <th>f4</th>\n",
       "      <th>f5</th>\n",
       "      <th>f6</th>\n",
       "      <th>f7</th>\n",
       "      <th>f8</th>\n",
       "      <th>f9</th>\n",
       "      <th>f10</th>\n",
       "      <th>f11</th>\n",
       "      <th>f12</th>\n",
       "      <th>f13</th>\n",
       "      <th>f14</th>\n",
       "      <th>f15</th>\n",
       "      <th>f16</th>\n",
       "      <th>f17</th>\n",
       "      <th>f18</th>\n",
       "      <th>f19</th>\n",
       "      <th>f20</th>\n",
       "      <th>f21</th>\n",
       "      <th>f22</th>\n",
       "      <th>f23</th>\n",
       "      <th>f24</th>\n",
       "      <th>f25</th>\n",
       "      <th>f26</th>\n",
       "      <th>mass</th>\n",
       "    </tr>\n",
       "  </thead>\n",
       "  <tbody>\n",
       "    <tr>\n",
       "      <th>0</th>\n",
       "      <td>1</td>\n",
       "      <td>-0.346368</td>\n",
       "      <td>0.416306</td>\n",
       "      <td>0.999236</td>\n",
       "      <td>0.475342</td>\n",
       "      <td>0.427493</td>\n",
       "      <td>-0.005984</td>\n",
       "      <td>1.989833</td>\n",
       "      <td>0.344530</td>\n",
       "      <td>1.566297</td>\n",
       "      <td>0.754261</td>\n",
       "      <td>2.269852</td>\n",
       "      <td>-1.300984</td>\n",
       "      <td>-1.199420</td>\n",
       "      <td>-1.161915</td>\n",
       "      <td>3.357043</td>\n",
       "      <td>0.460796</td>\n",
       "      <td>-0.404118</td>\n",
       "      <td>-0.815440</td>\n",
       "      <td>4.105282</td>\n",
       "      <td>0.267826</td>\n",
       "      <td>0.378718</td>\n",
       "      <td>1.743123</td>\n",
       "      <td>3.406367</td>\n",
       "      <td>4.350537</td>\n",
       "      <td>-0.352571</td>\n",
       "      <td>1.130032</td>\n",
       "      <td>2.227706</td>\n",
       "      <td>1000.0</td>\n",
       "    </tr>\n",
       "    <tr>\n",
       "      <th>1</th>\n",
       "      <td>1</td>\n",
       "      <td>1.708236</td>\n",
       "      <td>-0.319394</td>\n",
       "      <td>-1.241873</td>\n",
       "      <td>-0.887231</td>\n",
       "      <td>-0.871906</td>\n",
       "      <td>-0.005984</td>\n",
       "      <td>-0.001047</td>\n",
       "      <td>-1.038225</td>\n",
       "      <td>0.655748</td>\n",
       "      <td>0.754261</td>\n",
       "      <td>0.459217</td>\n",
       "      <td>-0.695640</td>\n",
       "      <td>0.359856</td>\n",
       "      <td>-1.161915</td>\n",
       "      <td>-0.502048</td>\n",
       "      <td>0.505149</td>\n",
       "      <td>-1.500441</td>\n",
       "      <td>1.226331</td>\n",
       "      <td>-1.178141</td>\n",
       "      <td>-0.877361</td>\n",
       "      <td>-1.483769</td>\n",
       "      <td>-0.573682</td>\n",
       "      <td>-1.693781</td>\n",
       "      <td>-0.545062</td>\n",
       "      <td>-0.299118</td>\n",
       "      <td>-0.662942</td>\n",
       "      <td>-0.193019</td>\n",
       "      <td>750.0</td>\n",
       "    </tr>\n",
       "    <tr>\n",
       "      <th>2</th>\n",
       "      <td>0</td>\n",
       "      <td>-0.360693</td>\n",
       "      <td>1.794174</td>\n",
       "      <td>0.264738</td>\n",
       "      <td>-0.472273</td>\n",
       "      <td>-0.292344</td>\n",
       "      <td>-1.054221</td>\n",
       "      <td>-1.150495</td>\n",
       "      <td>1.423404</td>\n",
       "      <td>1.270098</td>\n",
       "      <td>0.754261</td>\n",
       "      <td>-1.031239</td>\n",
       "      <td>1.912465</td>\n",
       "      <td>-1.321417</td>\n",
       "      <td>-1.161915</td>\n",
       "      <td>-0.406757</td>\n",
       "      <td>1.346497</td>\n",
       "      <td>-0.298099</td>\n",
       "      <td>1.226331</td>\n",
       "      <td>-1.199511</td>\n",
       "      <td>0.539020</td>\n",
       "      <td>-1.590629</td>\n",
       "      <td>-0.573682</td>\n",
       "      <td>-0.543636</td>\n",
       "      <td>-0.937456</td>\n",
       "      <td>-0.300344</td>\n",
       "      <td>-0.523262</td>\n",
       "      <td>-1.506304</td>\n",
       "      <td>750.0</td>\n",
       "    </tr>\n",
       "    <tr>\n",
       "      <th>3</th>\n",
       "      <td>1</td>\n",
       "      <td>-0.377914</td>\n",
       "      <td>-0.103932</td>\n",
       "      <td>-0.649434</td>\n",
       "      <td>-2.125015</td>\n",
       "      <td>-1.643797</td>\n",
       "      <td>-0.005984</td>\n",
       "      <td>1.011112</td>\n",
       "      <td>-1.040340</td>\n",
       "      <td>-0.541991</td>\n",
       "      <td>0.754261</td>\n",
       "      <td>1.142262</td>\n",
       "      <td>0.551081</td>\n",
       "      <td>1.016731</td>\n",
       "      <td>0.860649</td>\n",
       "      <td>0.454005</td>\n",
       "      <td>0.624624</td>\n",
       "      <td>1.439072</td>\n",
       "      <td>-0.815440</td>\n",
       "      <td>0.463763</td>\n",
       "      <td>-0.006583</td>\n",
       "      <td>1.089122</td>\n",
       "      <td>-0.573682</td>\n",
       "      <td>-0.276348</td>\n",
       "      <td>-0.409272</td>\n",
       "      <td>-0.349926</td>\n",
       "      <td>-0.307123</td>\n",
       "      <td>0.529698</td>\n",
       "      <td>1250.0</td>\n",
       "    </tr>\n",
       "    <tr>\n",
       "      <th>4</th>\n",
       "      <td>0</td>\n",
       "      <td>-0.067436</td>\n",
       "      <td>-0.636762</td>\n",
       "      <td>-0.620166</td>\n",
       "      <td>-0.062551</td>\n",
       "      <td>1.588715</td>\n",
       "      <td>-0.005984</td>\n",
       "      <td>-0.595304</td>\n",
       "      <td>-1.238987</td>\n",
       "      <td>0.336844</td>\n",
       "      <td>-1.325801</td>\n",
       "      <td>-0.181512</td>\n",
       "      <td>-1.329374</td>\n",
       "      <td>0.879087</td>\n",
       "      <td>0.860649</td>\n",
       "      <td>-0.143564</td>\n",
       "      <td>-1.293935</td>\n",
       "      <td>-1.222800</td>\n",
       "      <td>-0.815440</td>\n",
       "      <td>-0.552837</td>\n",
       "      <td>-1.418494</td>\n",
       "      <td>-0.562982</td>\n",
       "      <td>1.743123</td>\n",
       "      <td>0.881802</td>\n",
       "      <td>0.002516</td>\n",
       "      <td>1.560950</td>\n",
       "      <td>-0.150760</td>\n",
       "      <td>-1.023889</td>\n",
       "      <td>750.0</td>\n",
       "    </tr>\n",
       "  </tbody>\n",
       "</table>\n",
       "</div>"
      ],
      "text/plain": [
       "   label        f0        f1        f2        f3        f4        f5  \\\n",
       "0      1 -0.346368  0.416306  0.999236  0.475342  0.427493 -0.005984   \n",
       "1      1  1.708236 -0.319394 -1.241873 -0.887231 -0.871906 -0.005984   \n",
       "2      0 -0.360693  1.794174  0.264738 -0.472273 -0.292344 -1.054221   \n",
       "3      1 -0.377914 -0.103932 -0.649434 -2.125015 -1.643797 -0.005984   \n",
       "4      0 -0.067436 -0.636762 -0.620166 -0.062551  1.588715 -0.005984   \n",
       "\n",
       "         f6        f7        f8        f9       f10       f11       f12  \\\n",
       "0  1.989833  0.344530  1.566297  0.754261  2.269852 -1.300984 -1.199420   \n",
       "1 -0.001047 -1.038225  0.655748  0.754261  0.459217 -0.695640  0.359856   \n",
       "2 -1.150495  1.423404  1.270098  0.754261 -1.031239  1.912465 -1.321417   \n",
       "3  1.011112 -1.040340 -0.541991  0.754261  1.142262  0.551081  1.016731   \n",
       "4 -0.595304 -1.238987  0.336844 -1.325801 -0.181512 -1.329374  0.879087   \n",
       "\n",
       "        f13       f14       f15       f16       f17       f18       f19  \\\n",
       "0 -1.161915  3.357043  0.460796 -0.404118 -0.815440  4.105282  0.267826   \n",
       "1 -1.161915 -0.502048  0.505149 -1.500441  1.226331 -1.178141 -0.877361   \n",
       "2 -1.161915 -0.406757  1.346497 -0.298099  1.226331 -1.199511  0.539020   \n",
       "3  0.860649  0.454005  0.624624  1.439072 -0.815440  0.463763 -0.006583   \n",
       "4  0.860649 -0.143564 -1.293935 -1.222800 -0.815440 -0.552837 -1.418494   \n",
       "\n",
       "        f20       f21       f22       f23       f24       f25       f26  \\\n",
       "0  0.378718  1.743123  3.406367  4.350537 -0.352571  1.130032  2.227706   \n",
       "1 -1.483769 -0.573682 -1.693781 -0.545062 -0.299118 -0.662942 -0.193019   \n",
       "2 -1.590629 -0.573682 -0.543636 -0.937456 -0.300344 -0.523262 -1.506304   \n",
       "3  1.089122 -0.573682 -0.276348 -0.409272 -0.349926 -0.307123  0.529698   \n",
       "4 -0.562982  1.743123  0.881802  0.002516  1.560950 -0.150760 -1.023889   \n",
       "\n",
       "     mass  \n",
       "0  1000.0  \n",
       "1   750.0  \n",
       "2   750.0  \n",
       "3  1250.0  \n",
       "4   750.0  "
      ]
     },
     "execution_count": 5,
     "metadata": {},
     "output_type": "execute_result"
    }
   ],
   "source": [
    "higgs = higgs.rename(columns={higgs.columns[0]: 'label'})\n",
    "higgs['label'] = higgs['label'].apply(lambda x: round(x,))\n",
    "higgs.head()"
   ]
  },
  {
   "cell_type": "code",
   "execution_count": 176,
   "id": "fc333b98",
   "metadata": {},
   "outputs": [
    {
     "data": {
      "text/plain": [
       "label\n",
       "0    3499121\n",
       "1    3500879\n",
       "Name: label, dtype: int64"
      ]
     },
     "execution_count": 176,
     "metadata": {},
     "output_type": "execute_result"
    }
   ],
   "source": [
    "higgs.label.groupby(higgs.label).count()\n"
   ]
  },
  {
   "cell_type": "markdown",
   "id": "3fefad38",
   "metadata": {},
   "source": [
    "# 7 million records with 28 features plus target, and no missing values or duplicates"
   ]
  },
  {
   "cell_type": "code",
   "execution_count": 6,
   "id": "c4a3cdab",
   "metadata": {},
   "outputs": [
    {
     "data": {
      "text/plain": [
       "label    0\n",
       "f0       0\n",
       "f1       0\n",
       "f2       0\n",
       "f3       0\n",
       "f4       0\n",
       "f5       0\n",
       "f6       0\n",
       "f7       0\n",
       "f8       0\n",
       "f9       0\n",
       "f10      0\n",
       "f11      0\n",
       "f12      0\n",
       "f13      0\n",
       "f14      0\n",
       "f15      0\n",
       "f16      0\n",
       "f17      0\n",
       "f18      0\n",
       "f19      0\n",
       "f20      0\n",
       "f21      0\n",
       "f22      0\n",
       "f23      0\n",
       "f24      0\n",
       "f25      0\n",
       "f26      0\n",
       "mass     0\n",
       "dtype: int64"
      ]
     },
     "execution_count": 6,
     "metadata": {},
     "output_type": "execute_result"
    }
   ],
   "source": [
    "higgs.isna().sum()"
   ]
  },
  {
   "cell_type": "code",
   "execution_count": 7,
   "id": "6de561fe",
   "metadata": {},
   "outputs": [
    {
     "name": "stdout",
     "output_type": "stream",
     "text": [
      "Duplicate rows:  0\n"
     ]
    }
   ],
   "source": [
    "# Check for duplicate rows\n",
    "print('Duplicate rows: ',higgs.duplicated(keep='first').sum())"
   ]
  },
  {
   "cell_type": "code",
   "execution_count": 8,
   "id": "f17a39ea",
   "metadata": {},
   "outputs": [
    {
     "name": "stderr",
     "output_type": "stream",
     "text": [
      "/var/folders/9j/md1p5ld92510j4f_fk49qf300000gn/T/ipykernel_1473/855766858.py:2: RuntimeWarning: More than 20 figures have been opened. Figures created through the pyplot interface (`matplotlib.pyplot.figure`) are retained until explicitly closed and may consume too much memory. (To control this warning, see the rcParam `figure.max_open_warning`).\n",
      "  plt.figure()\n"
     ]
    },
    {
     "data": {
      "image/png": "[encoded data removed]",
      "text/plain": [
       "<Figure size 432x288 with 1 Axes>"
      ]
     },
     "metadata": {
      "needs_background": "light"
     },
     "output_type": "display_data"
    },
    {
     "data": {
      "image/png": "[encoded data removed]",
      "text/plain": [
       "<Figure size 432x288 with 1 Axes>"
      ]
     },
     "metadata": {
      "needs_background": "light"
     },
     "output_type": "display_data"
    },
    {
     "data": {
      "image/png": "[encoded data removed]",
      "text/plain": [
       "<Figure size 432x288 with 1 Axes>"
      ]
     },
     "metadata": {
      "needs_background": "light"
     },
     "output_type": "display_data"
    },
    {
     "data": {
      "image/png": "[encoded data removed]",
      "text/plain": [
       "<Figure size 432x288 with 1 Axes>"
      ]
     },
     "metadata": {
      "needs_background": "light"
     },
     "output_type": "display_data"
    },
    {
     "data": {
      "image/png": "[encoded data removed]",
      "text/plain": [
       "<Figure size 432x288 with 1 Axes>"
      ]
     },
     "metadata": {
      "needs_background": "light"
     },
     "output_type": "display_data"
    },
    {
     "data": {
      "image/png": "[encoded data removed]",
      "text/plain": [
       "<Figure size 432x288 with 1 Axes>"
      ]
     },
     "metadata": {
      "needs_background": "light"
     },
     "output_type": "display_data"
    },
    {
     "data": {
      "image/png": "[encoded data removed]",
      "text/plain": [
       "<Figure size 432x288 with 1 Axes>"
      ]
     },
     "metadata": {
      "needs_background": "light"
     },
     "output_type": "display_data"
    },
    {
     "data": {
      "image/png": "[encoded data removed]",
      "text/plain": [
       "<Figure size 432x288 with 1 Axes>"
      ]
     },
     "metadata": {
      "needs_background": "light"
     },
     "output_type": "display_data"
    },
    {
     "data": {
      "image/png": "[encoded data removed]",
      "text/plain": [
       "<Figure size 432x288 with 1 Axes>"
      ]
     },
     "metadata": {
      "needs_background": "light"
     },
     "output_type": "display_data"
    },
    {
     "data": {
      "image/png": "[encoded data removed]",
      "text/plain": [
       "<Figure size 432x288 with 1 Axes>"
      ]
     },
     "metadata": {
      "needs_background": "light"
     },
     "output_type": "display_data"
    },
    {
     "data": {
      "image/png": "[encoded data removed]",
      "text/plain": [
       "<Figure size 432x288 with 1 Axes>"
      ]
     },
     "metadata": {
      "needs_background": "light"
     },
     "output_type": "display_data"
    },
    {
     "data": {
      "image/png": "[encoded data removed]",
      "text/plain": [
       "<Figure size 432x288 with 1 Axes>"
      ]
     },
     "metadata": {
      "needs_background": "light"
     },
     "output_type": "display_data"
    },
    {
     "data": {
      "image/png": "[encoded data removed]",
      "text/plain": [
       "<Figure size 432x288 with 1 Axes>"
      ]
     },
     "metadata": {
      "needs_background": "light"
     },
     "output_type": "display_data"
    },
    {
     "data": {
      "image/png": "[encoded data removed]",
      "text/plain": [
       "<Figure size 432x288 with 1 Axes>"
      ]
     },
     "metadata": {
      "needs_background": "light"
     },
     "output_type": "display_data"
    },
    {
     "data": {
      "image/png": "[encoded data removed]",
      "text/plain": [
       "<Figure size 432x288 with 1 Axes>"
      ]
     },
     "metadata": {
      "needs_background": "light"
     },
     "output_type": "display_data"
    },
    {
     "data": {
      "image/png": "[encoded data removed]",
      "text/plain": [
       "<Figure size 432x288 with 1 Axes>"
      ]
     },
     "metadata": {
      "needs_background": "light"
     },
     "output_type": "display_data"
    },
    {
     "data": {
      "image/png": "[encoded data removed]",
      "text/plain": [
       "<Figure size 432x288 with 1 Axes>"
      ]
     },
     "metadata": {
      "needs_background": "light"
     },
     "output_type": "display_data"
    },
    {
     "data": {
      "image/png": "[encoded data removed]",
      "text/plain": [
       "<Figure size 432x288 with 1 Axes>"
      ]
     },
     "metadata": {
      "needs_background": "light"
     },
     "output_type": "display_data"
    },
    {
     "data": {
      "image/png": "[encoded data removed]",
      "text/plain": [
       "<Figure size 432x288 with 1 Axes>"
      ]
     },
     "metadata": {
      "needs_background": "light"
     },
     "output_type": "display_data"
    },
    {
     "data": {
      "image/png": "[encoded data removed]",
      "text/plain": [
       "<Figure size 432x288 with 1 Axes>"
      ]
     },
     "metadata": {
      "needs_background": "light"
     },
     "output_type": "display_data"
    },
    {
     "data": {
      "image/png": "[encoded data removed]",
      "text/plain": [
       "<Figure size 432x288 with 1 Axes>"
      ]
     },
     "metadata": {
      "needs_background": "light"
     },
     "output_type": "display_data"
    },
    {
     "data": {
      "image/png": "[encoded data removed]",
      "text/plain": [
       "<Figure size 432x288 with 1 Axes>"
      ]
     },
     "metadata": {
      "needs_background": "light"
     },
     "output_type": "display_data"
    },
    {
     "data": {
      "image/png": "[encoded data removed]",
      "text/plain": [
       "<Figure size 432x288 with 1 Axes>"
      ]
     },
     "metadata": {
      "needs_background": "light"
     },
     "output_type": "display_data"
    },
    {
     "data": {
      "image/png": "[encoded data removed]",
      "text/plain": [
       "<Figure size 432x288 with 1 Axes>"
      ]
     },
     "metadata": {
      "needs_background": "light"
     },
     "output_type": "display_data"
    },
    {
     "data": {
      "image/png": "[encoded data removed]",
      "text/plain": [
       "<Figure size 432x288 with 1 Axes>"
      ]
     },
     "metadata": {
      "needs_background": "light"
     },
     "output_type": "display_data"
    },
    {
     "data": {
      "image/png": "[encoded data removed]",
      "text/plain": [
       "<Figure size 432x288 with 1 Axes>"
      ]
     },
     "metadata": {
      "needs_background": "light"
     },
     "output_type": "display_data"
    },
    {
     "data": {
      "image/png": "[encoded data removed]",
      "text/plain": [
       "<Figure size 432x288 with 1 Axes>"
      ]
     },
     "metadata": {
      "needs_background": "light"
     },
     "output_type": "display_data"
    },
    {
     "data": {
      "image/png": "[encoded data removed]",
      "text/plain": [
       "<Figure size 432x288 with 1 Axes>"
      ]
     },
     "metadata": {
      "needs_background": "light"
     },
     "output_type": "display_data"
    },
    {
     "data": {
      "image/png": "[encoded data removed]",
      "text/plain": [
       "<Figure size 432x288 with 1 Axes>"
      ]
     },
     "metadata": {
      "needs_background": "light"
     },
     "output_type": "display_data"
    }
   ],
   "source": [
    "for i in higgs.columns:    \n",
    "    plt.figure()\n",
    "    plt.title(f'{i}')\n",
    "    plt.hist(higgs[i])"
   ]
  },
  {
   "cell_type": "code",
   "execution_count": 9,
   "id": "c447b39c",
   "metadata": {},
   "outputs": [
    {
     "data": {
      "text/html": [
       "<div>\n",
       "<style scoped>\n",
       "    .dataframe tbody tr th:only-of-type {\n",
       "        vertical-align: middle;\n",
       "    }\n",
       "\n",
       "    .dataframe tbody tr th {\n",
       "        vertical-align: top;\n",
       "    }\n",
       "\n",
       "    .dataframe thead th {\n",
       "        text-align: right;\n",
       "    }\n",
       "</style>\n",
       "<table border=\"1\" class=\"dataframe\">\n",
       "  <thead>\n",
       "    <tr style=\"text-align: right;\">\n",
       "      <th></th>\n",
       "      <th>label</th>\n",
       "      <th>f0</th>\n",
       "      <th>f1</th>\n",
       "      <th>f2</th>\n",
       "      <th>f3</th>\n",
       "      <th>f4</th>\n",
       "      <th>f5</th>\n",
       "      <th>f6</th>\n",
       "      <th>f7</th>\n",
       "      <th>f8</th>\n",
       "      <th>f9</th>\n",
       "      <th>f10</th>\n",
       "      <th>f11</th>\n",
       "      <th>f12</th>\n",
       "      <th>f13</th>\n",
       "      <th>f14</th>\n",
       "      <th>f15</th>\n",
       "      <th>f16</th>\n",
       "      <th>f17</th>\n",
       "      <th>f18</th>\n",
       "      <th>f19</th>\n",
       "      <th>f20</th>\n",
       "      <th>f21</th>\n",
       "      <th>f22</th>\n",
       "      <th>f23</th>\n",
       "      <th>f24</th>\n",
       "      <th>f25</th>\n",
       "      <th>f26</th>\n",
       "      <th>mass</th>\n",
       "    </tr>\n",
       "  </thead>\n",
       "  <tbody>\n",
       "    <tr>\n",
       "      <th>count</th>\n",
       "      <td>7.000000e+06</td>\n",
       "      <td>7.000000e+06</td>\n",
       "      <td>7.000000e+06</td>\n",
       "      <td>7.000000e+06</td>\n",
       "      <td>7.000000e+06</td>\n",
       "      <td>7.000000e+06</td>\n",
       "      <td>7.000000e+06</td>\n",
       "      <td>7.000000e+06</td>\n",
       "      <td>7.000000e+06</td>\n",
       "      <td>7.000000e+06</td>\n",
       "      <td>7.000000e+06</td>\n",
       "      <td>7.000000e+06</td>\n",
       "      <td>7.000000e+06</td>\n",
       "      <td>7.000000e+06</td>\n",
       "      <td>7.000000e+06</td>\n",
       "      <td>7.000000e+06</td>\n",
       "      <td>7.000000e+06</td>\n",
       "      <td>7.000000e+06</td>\n",
       "      <td>7.000000e+06</td>\n",
       "      <td>7.000000e+06</td>\n",
       "      <td>7.000000e+06</td>\n",
       "      <td>7.000000e+06</td>\n",
       "      <td>7.000000e+06</td>\n",
       "      <td>7.000000e+06</td>\n",
       "      <td>7.000000e+06</td>\n",
       "      <td>7.000000e+06</td>\n",
       "      <td>7.000000e+06</td>\n",
       "      <td>7.000000e+06</td>\n",
       "      <td>7.000000e+06</td>\n",
       "    </tr>\n",
       "    <tr>\n",
       "      <th>mean</th>\n",
       "      <td>5.001256e-01</td>\n",
       "      <td>1.612528e-02</td>\n",
       "      <td>4.770022e-04</td>\n",
       "      <td>2.686578e-05</td>\n",
       "      <td>1.056081e-02</td>\n",
       "      <td>-1.050026e-04</td>\n",
       "      <td>2.765919e-03</td>\n",
       "      <td>1.815953e-02</td>\n",
       "      <td>2.510948e-05</td>\n",
       "      <td>4.345870e-04</td>\n",
       "      <td>-6.869956e-03</td>\n",
       "      <td>1.754267e-02</td>\n",
       "      <td>-1.610605e-04</td>\n",
       "      <td>-3.289412e-04</td>\n",
       "      <td>1.738506e-03</td>\n",
       "      <td>1.724634e-02</td>\n",
       "      <td>4.830252e-04</td>\n",
       "      <td>-5.536178e-04</td>\n",
       "      <td>4.960189e-03</td>\n",
       "      <td>1.164789e-02</td>\n",
       "      <td>-1.127097e-04</td>\n",
       "      <td>7.686731e-05</td>\n",
       "      <td>2.909202e-04</td>\n",
       "      <td>1.228774e-02</td>\n",
       "      <td>9.778378e-03</td>\n",
       "      <td>5.269844e-03</td>\n",
       "      <td>-1.760961e-03</td>\n",
       "      <td>1.533136e-02</td>\n",
       "      <td>1.000107e+03</td>\n",
       "    </tr>\n",
       "    <tr>\n",
       "      <th>std</th>\n",
       "      <td>5.000000e-01</td>\n",
       "      <td>1.004417e+00</td>\n",
       "      <td>9.974864e-01</td>\n",
       "      <td>1.000080e+00</td>\n",
       "      <td>9.956003e-01</td>\n",
       "      <td>9.998670e-01</td>\n",
       "      <td>1.000957e+00</td>\n",
       "      <td>9.867746e-01</td>\n",
       "      <td>9.965867e-01</td>\n",
       "      <td>1.000007e+00</td>\n",
       "      <td>1.001938e+00</td>\n",
       "      <td>9.941511e-01</td>\n",
       "      <td>9.984497e-01</td>\n",
       "      <td>1.000078e+00</td>\n",
       "      <td>9.997368e-01</td>\n",
       "      <td>9.994654e-01</td>\n",
       "      <td>9.984289e-01</td>\n",
       "      <td>9.998608e-01</td>\n",
       "      <td>1.001006e+00</td>\n",
       "      <td>1.002725e+00</td>\n",
       "      <td>1.000038e+00</td>\n",
       "      <td>1.000033e+00</td>\n",
       "      <td>1.000170e+00</td>\n",
       "      <td>1.010477e+00</td>\n",
       "      <td>1.005418e+00</td>\n",
       "      <td>1.009990e+00</td>\n",
       "      <td>9.844511e-01</td>\n",
       "      <td>9.822799e-01</td>\n",
       "      <td>3.534255e+02</td>\n",
       "    </tr>\n",
       "    <tr>\n",
       "      <th>min</th>\n",
       "      <td>0.000000e+00</td>\n",
       "      <td>-1.960549e+00</td>\n",
       "      <td>-2.365355e+00</td>\n",
       "      <td>-1.732165e+00</td>\n",
       "      <td>-9.980274e+00</td>\n",
       "      <td>-1.732137e+00</td>\n",
       "      <td>-1.054221e+00</td>\n",
       "      <td>-3.034787e+00</td>\n",
       "      <td>-2.757853e+00</td>\n",
       "      <td>-1.732359e+00</td>\n",
       "      <td>-1.325801e+00</td>\n",
       "      <td>-2.835563e+00</td>\n",
       "      <td>-2.602091e+00</td>\n",
       "      <td>-1.732216e+00</td>\n",
       "      <td>-1.161915e+00</td>\n",
       "      <td>-2.454879e+00</td>\n",
       "      <td>-2.437812e+00</td>\n",
       "      <td>-1.732145e+00</td>\n",
       "      <td>-8.154401e-01</td>\n",
       "      <td>-1.728284e+00</td>\n",
       "      <td>-2.281867e+00</td>\n",
       "      <td>-1.731758e+00</td>\n",
       "      <td>-5.736825e-01</td>\n",
       "      <td>-3.631608e+00</td>\n",
       "      <td>-4.729473e+00</td>\n",
       "      <td>-2.062223e+01</td>\n",
       "      <td>-3.452634e+00</td>\n",
       "      <td>-2.632761e+00</td>\n",
       "      <td>5.000000e+02</td>\n",
       "    </tr>\n",
       "    <tr>\n",
       "      <th>25%</th>\n",
       "      <td>0.000000e+00</td>\n",
       "      <td>-7.288206e-01</td>\n",
       "      <td>-7.332548e-01</td>\n",
       "      <td>-8.656704e-01</td>\n",
       "      <td>-6.092291e-01</td>\n",
       "      <td>-8.658025e-01</td>\n",
       "      <td>-1.054221e+00</td>\n",
       "      <td>-7.566092e-01</td>\n",
       "      <td>-7.014146e-01</td>\n",
       "      <td>-8.656543e-01</td>\n",
       "      <td>-1.325801e+00</td>\n",
       "      <td>-7.237266e-01</td>\n",
       "      <td>-7.032926e-01</td>\n",
       "      <td>-8.665987e-01</td>\n",
       "      <td>-1.161915e+00</td>\n",
       "      <td>-6.996179e-01</td>\n",
       "      <td>-7.070255e-01</td>\n",
       "      <td>-8.662470e-01</td>\n",
       "      <td>-8.154401e-01</td>\n",
       "      <td>-7.423630e-01</td>\n",
       "      <td>-7.206846e-01</td>\n",
       "      <td>-8.656855e-01</td>\n",
       "      <td>-5.736825e-01</td>\n",
       "      <td>-5.417942e-01</td>\n",
       "      <td>-5.115522e-01</td>\n",
       "      <td>-3.543870e-01</td>\n",
       "      <td>-6.925097e-01</td>\n",
       "      <td>-7.943804e-01</td>\n",
       "      <td>7.500000e+02</td>\n",
       "    </tr>\n",
       "    <tr>\n",
       "      <th>50%</th>\n",
       "      <td>1.000000e+00</td>\n",
       "      <td>-3.930319e-02</td>\n",
       "      <td>8.523957e-04</td>\n",
       "      <td>3.199154e-04</td>\n",
       "      <td>1.963316e-02</td>\n",
       "      <td>-5.070131e-04</td>\n",
       "      <td>-5.983562e-03</td>\n",
       "      <td>-1.499527e-01</td>\n",
       "      <td>-1.067553e-04</td>\n",
       "      <td>1.384781e-03</td>\n",
       "      <td>7.542607e-01</td>\n",
       "      <td>-1.285732e-01</td>\n",
       "      <td>-5.755420e-04</td>\n",
       "      <td>-1.282098e-03</td>\n",
       "      <td>8.606486e-01</td>\n",
       "      <td>-9.749269e-02</td>\n",
       "      <td>2.975658e-04</td>\n",
       "      <td>-1.376716e-03</td>\n",
       "      <td>-8.154401e-01</td>\n",
       "      <td>-8.992496e-02</td>\n",
       "      <td>-6.735953e-05</td>\n",
       "      <td>-4.424527e-04</td>\n",
       "      <td>-5.736825e-01</td>\n",
       "      <td>-1.602760e-01</td>\n",
       "      <td>-3.144032e-01</td>\n",
       "      <td>-3.265228e-01</td>\n",
       "      <td>-3.570301e-01</td>\n",
       "      <td>-8.828640e-02</td>\n",
       "      <td>1.000000e+03</td>\n",
       "    </tr>\n",
       "    <tr>\n",
       "      <th>75%</th>\n",
       "      <td>1.000000e+00</td>\n",
       "      <td>6.900799e-01</td>\n",
       "      <td>7.347832e-01</td>\n",
       "      <td>8.659464e-01</td>\n",
       "      <td>6.798818e-01</td>\n",
       "      <td>8.657646e-01</td>\n",
       "      <td>8.504885e-01</td>\n",
       "      <td>7.686690e-01</td>\n",
       "      <td>7.013194e-01</td>\n",
       "      <td>8.665976e-01</td>\n",
       "      <td>7.542607e-01</td>\n",
       "      <td>6.478635e-01</td>\n",
       "      <td>7.041004e-01</td>\n",
       "      <td>8.658323e-01</td>\n",
       "      <td>8.606486e-01</td>\n",
       "      <td>6.347052e-01</td>\n",
       "      <td>7.083709e-01</td>\n",
       "      <td>8.649424e-01</td>\n",
       "      <td>1.226331e+00</td>\n",
       "      <td>6.423185e-01</td>\n",
       "      <td>7.204921e-01</td>\n",
       "      <td>8.659566e-01</td>\n",
       "      <td>-5.736825e-01</td>\n",
       "      <td>4.812194e-01</td>\n",
       "      <td>1.634892e-01</td>\n",
       "      <td>-2.337671e-01</td>\n",
       "      <td>4.753128e-01</td>\n",
       "      <td>7.610846e-01</td>\n",
       "      <td>1.250000e+03</td>\n",
       "    </tr>\n",
       "    <tr>\n",
       "      <th>max</th>\n",
       "      <td>1.000000e+00</td>\n",
       "      <td>4.378282e+00</td>\n",
       "      <td>2.365287e+00</td>\n",
       "      <td>1.732370e+00</td>\n",
       "      <td>4.148023e+00</td>\n",
       "      <td>1.731978e+00</td>\n",
       "      <td>4.482618e+00</td>\n",
       "      <td>3.720345e+00</td>\n",
       "      <td>2.758590e+00</td>\n",
       "      <td>1.731450e+00</td>\n",
       "      <td>7.542607e-01</td>\n",
       "      <td>4.639335e+00</td>\n",
       "      <td>2.602294e+00</td>\n",
       "      <td>1.732007e+00</td>\n",
       "      <td>8.606486e-01</td>\n",
       "      <td>5.535799e+00</td>\n",
       "      <td>2.438369e+00</td>\n",
       "      <td>1.732738e+00</td>\n",
       "      <td>1.226331e+00</td>\n",
       "      <td>5.866367e+00</td>\n",
       "      <td>2.282217e+00</td>\n",
       "      <td>1.732740e+00</td>\n",
       "      <td>1.743123e+00</td>\n",
       "      <td>7.293420e+00</td>\n",
       "      <td>9.333287e+00</td>\n",
       "      <td>1.499064e+01</td>\n",
       "      <td>5.277313e+00</td>\n",
       "      <td>4.444690e+00</td>\n",
       "      <td>1.500000e+03</td>\n",
       "    </tr>\n",
       "  </tbody>\n",
       "</table>\n",
       "</div>"
      ],
      "text/plain": [
       "              label            f0            f1            f2            f3  \\\n",
       "count  7.000000e+06  7.000000e+06  7.000000e+06  7.000000e+06  7.000000e+06   \n",
       "mean   5.001256e-01  1.612528e-02  4.770022e-04  2.686578e-05  1.056081e-02   \n",
       "std    5.000000e-01  1.004417e+00  9.974864e-01  1.000080e+00  9.956003e-01   \n",
       "min    0.000000e+00 -1.960549e+00 -2.365355e+00 -1.732165e+00 -9.980274e+00   \n",
       "25%    0.000000e+00 -7.288206e-01 -7.332548e-01 -8.656704e-01 -6.092291e-01   \n",
       "50%    1.000000e+00 -3.930319e-02  8.523957e-04  3.199154e-04  1.963316e-02   \n",
       "75%    1.000000e+00  6.900799e-01  7.347832e-01  8.659464e-01  6.798818e-01   \n",
       "max    1.000000e+00  4.378282e+00  2.365287e+00  1.732370e+00  4.148023e+00   \n",
       "\n",
       "                 f4            f5            f6            f7            f8  \\\n",
       "count  7.000000e+06  7.000000e+06  7.000000e+06  7.000000e+06  7.000000e+06   \n",
       "mean  -1.050026e-04  2.765919e-03  1.815953e-02  2.510948e-05  4.345870e-04   \n",
       "std    9.998670e-01  1.000957e+00  9.867746e-01  9.965867e-01  1.000007e+00   \n",
       "min   -1.732137e+00 -1.054221e+00 -3.034787e+00 -2.757853e+00 -1.732359e+00   \n",
       "25%   -8.658025e-01 -1.054221e+00 -7.566092e-01 -7.014146e-01 -8.656543e-01   \n",
       "50%   -5.070131e-04 -5.983562e-03 -1.499527e-01 -1.067553e-04  1.384781e-03   \n",
       "75%    8.657646e-01  8.504885e-01  7.686690e-01  7.013194e-01  8.665976e-01   \n",
       "max    1.731978e+00  4.482618e+00  3.720345e+00  2.758590e+00  1.731450e+00   \n",
       "\n",
       "                 f9           f10           f11           f12           f13  \\\n",
       "count  7.000000e+06  7.000000e+06  7.000000e+06  7.000000e+06  7.000000e+06   \n",
       "mean  -6.869956e-03  1.754267e-02 -1.610605e-04 -3.289412e-04  1.738506e-03   \n",
       "std    1.001938e+00  9.941511e-01  9.984497e-01  1.000078e+00  9.997368e-01   \n",
       "min   -1.325801e+00 -2.835563e+00 -2.602091e+00 -1.732216e+00 -1.161915e+00   \n",
       "25%   -1.325801e+00 -7.237266e-01 -7.032926e-01 -8.665987e-01 -1.161915e+00   \n",
       "50%    7.542607e-01 -1.285732e-01 -5.755420e-04 -1.282098e-03  8.606486e-01   \n",
       "75%    7.542607e-01  6.478635e-01  7.041004e-01  8.658323e-01  8.606486e-01   \n",
       "max    7.542607e-01  4.639335e+00  2.602294e+00  1.732007e+00  8.606486e-01   \n",
       "\n",
       "                f14           f15           f16           f17           f18  \\\n",
       "count  7.000000e+06  7.000000e+06  7.000000e+06  7.000000e+06  7.000000e+06   \n",
       "mean   1.724634e-02  4.830252e-04 -5.536178e-04  4.960189e-03  1.164789e-02   \n",
       "std    9.994654e-01  9.984289e-01  9.998608e-01  1.001006e+00  1.002725e+00   \n",
       "min   -2.454879e+00 -2.437812e+00 -1.732145e+00 -8.154401e-01 -1.728284e+00   \n",
       "25%   -6.996179e-01 -7.070255e-01 -8.662470e-01 -8.154401e-01 -7.423630e-01   \n",
       "50%   -9.749269e-02  2.975658e-04 -1.376716e-03 -8.154401e-01 -8.992496e-02   \n",
       "75%    6.347052e-01  7.083709e-01  8.649424e-01  1.226331e+00  6.423185e-01   \n",
       "max    5.535799e+00  2.438369e+00  1.732738e+00  1.226331e+00  5.866367e+00   \n",
       "\n",
       "                f19           f20           f21           f22           f23  \\\n",
       "count  7.000000e+06  7.000000e+06  7.000000e+06  7.000000e+06  7.000000e+06   \n",
       "mean  -1.127097e-04  7.686731e-05  2.909202e-04  1.228774e-02  9.778378e-03   \n",
       "std    1.000038e+00  1.000033e+00  1.000170e+00  1.010477e+00  1.005418e+00   \n",
       "min   -2.281867e+00 -1.731758e+00 -5.736825e-01 -3.631608e+00 -4.729473e+00   \n",
       "25%   -7.206846e-01 -8.656855e-01 -5.736825e-01 -5.417942e-01 -5.115522e-01   \n",
       "50%   -6.735953e-05 -4.424527e-04 -5.736825e-01 -1.602760e-01 -3.144032e-01   \n",
       "75%    7.204921e-01  8.659566e-01 -5.736825e-01  4.812194e-01  1.634892e-01   \n",
       "max    2.282217e+00  1.732740e+00  1.743123e+00  7.293420e+00  9.333287e+00   \n",
       "\n",
       "                f24           f25           f26          mass  \n",
       "count  7.000000e+06  7.000000e+06  7.000000e+06  7.000000e+06  \n",
       "mean   5.269844e-03 -1.760961e-03  1.533136e-02  1.000107e+03  \n",
       "std    1.009990e+00  9.844511e-01  9.822799e-01  3.534255e+02  \n",
       "min   -2.062223e+01 -3.452634e+00 -2.632761e+00  5.000000e+02  \n",
       "25%   -3.543870e-01 -6.925097e-01 -7.943804e-01  7.500000e+02  \n",
       "50%   -3.265228e-01 -3.570301e-01 -8.828640e-02  1.000000e+03  \n",
       "75%   -2.337671e-01  4.753128e-01  7.610846e-01  1.250000e+03  \n",
       "max    1.499064e+01  5.277313e+00  4.444690e+00  1.500000e+03  "
      ]
     },
     "execution_count": 9,
     "metadata": {},
     "output_type": "execute_result"
    }
   ],
   "source": [
    "higgs.describe()"
   ]
  },
  {
   "cell_type": "code",
   "execution_count": 10,
   "id": "7e6a227a",
   "metadata": {},
   "outputs": [
    {
     "data": {
      "text/plain": [
       "Index(['label', 'f0', 'f1', 'f2', 'f3', 'f4', 'f5', 'f6', 'f7', 'f8', 'f9',\n",
       "       'f10', 'f11', 'f12', 'f13', 'f14', 'f15', 'f16', 'f17', 'f18', 'f19',\n",
       "       'f20', 'f21', 'f22', 'f23', 'f24', 'f25', 'f26', 'mass'],\n",
       "      dtype='object')"
      ]
     },
     "execution_count": 10,
     "metadata": {},
     "output_type": "execute_result"
    }
   ],
   "source": [
    "higgs.columns"
   ]
  },
  {
   "cell_type": "code",
   "execution_count": 7,
   "id": "a3759ff3",
   "metadata": {},
   "outputs": [],
   "source": [
    "from sklearn.model_selection import StratifiedShuffleSplit\n",
    "\n",
    "split = StratifiedShuffleSplit(n_splits=1, test_size=0.2, random_state=42)\n",
    "for train_index, holdback_index in split.split(higgs, higgs.label):\n",
    "    training_df = higgs.iloc[train_index]\n",
    "    holdback_df = higgs.iloc[holdback_index]\n"
   ]
  },
  {
   "cell_type": "code",
   "execution_count": 8,
   "id": "26e9b715",
   "metadata": {},
   "outputs": [
    {
     "name": "stdout",
     "output_type": "stream",
     "text": [
      "Size of training set:  (5600000, 29)\n",
      "Size of validation set:  (700000, 29)\n",
      "Size of test set:  (700000, 29)\n"
     ]
    }
   ],
   "source": [
    "from sklearn.model_selection import StratifiedShuffleSplit\n",
    "\n",
    "split = StratifiedShuffleSplit(n_splits=1, test_size=0.5, random_state=42)\n",
    "for validation_index, test_index in split.split(holdback_df, holdback_df.label):\n",
    "    validation_df = holdback_df.iloc[validation_index]\n",
    "    test_df = holdback_df.iloc[test_index]\n",
    "\n",
    "print(\"Size of training set: \",training_df.shape)\n",
    "print(\"Size of validation set: \",validation_df.shape)\n",
    "print(\"Size of test set: \",test_df.shape)"
   ]
  },
  {
   "cell_type": "code",
   "execution_count": 9,
   "id": "ff06e51a",
   "metadata": {},
   "outputs": [],
   "source": [
    "train_features = training_df.drop(['label'],axis=1).values #droping target\n",
    "train_labels = training_df['label'].values\n",
    "\n",
    "validation_features = validation_df.drop(['label'],axis=1).values #droping target\n",
    "validation_labels = validation_df['label'].values\n",
    "\n",
    "test_features = test_df.drop(['label'],axis=1).values #droping target\n",
    "test_labels = test_df['label'].values\n",
    "\n"
   ]
  },
  {
   "cell_type": "markdown",
   "id": "f0a61514",
   "metadata": {},
   "source": [
    "## Scale Features"
   ]
  },
  {
   "cell_type": "code",
   "execution_count": 44,
   "id": "e6b5a3ba",
   "metadata": {},
   "outputs": [
    {
     "data": {
      "text/plain": [
       "array([[-1.57687044e+00, -1.53194678e+00, -1.36175871e-01, ...,\n",
       "         1.81841409e+00,  9.93695080e-01,  4.99999969e+02],\n",
       "       [-1.09753646e-01, -2.56410807e-01,  1.17758490e-01, ...,\n",
       "        -6.77254975e-01, -1.30519986e+00,  1.25000000e+03],\n",
       "       [ 1.76545846e+00, -2.17874026e+00, -3.96287024e-01, ...,\n",
       "        -7.21605003e-01, -7.03450516e-02,  7.50000000e+02],\n",
       "       ...,\n",
       "       [ 5.35067737e-01, -6.91768885e-01, -1.68381310e+00, ...,\n",
       "         1.37669957e+00,  7.15924919e-01,  1.00000000e+03],\n",
       "       [-3.87337863e-01, -9.21249926e-01, -6.11122847e-01, ...,\n",
       "        -1.13498032e+00, -1.57653105e+00,  4.99999969e+02],\n",
       "       [-8.35407794e-01, -4.54731107e-01, -1.93680413e-02, ...,\n",
       "        -6.45789087e-01, -1.07263637e+00,  1.25000000e+03]])"
      ]
     },
     "execution_count": 44,
     "metadata": {},
     "output_type": "execute_result"
    }
   ],
   "source": [
    "train_features"
   ]
  },
  {
   "cell_type": "code",
   "execution_count": 177,
   "id": "6319ed7e",
   "metadata": {},
   "outputs": [],
   "source": [
    "#Scale new predictor matrix\n",
    "from sklearn.preprocessing import StandardScaler\n",
    "scl_obj = StandardScaler()\n",
    "scl_obj.fit(train_features)\n",
    "train_features_scaled = scl_obj.transform(train_features)\n",
    "scl_obj.fit(validation_features)\n",
    "validation_features_scaled = scl_obj.transform(validation_features)\n",
    "scl_obj.fit(test_features)\n",
    "test_features_scaled = scl_obj.transform(test_features)"
   ]
  },
  {
   "cell_type": "code",
   "execution_count": 178,
   "id": "682027f9",
   "metadata": {},
   "outputs": [
    {
     "data": {
      "text/plain": [
       "array([[-1.58589070e+00, -1.53586705e+00, -1.36540050e-01, ...,\n",
       "         1.84851539e+00,  9.96181723e-01, -1.41469037e+00],\n",
       "       [-1.25217096e-01, -2.57340172e-01,  1.17408099e-01, ...,\n",
       "        -6.86327047e-01, -1.34413448e+00,  7.07460940e-01],\n",
       "       [ 1.74175957e+00, -2.18417716e+00, -3.96665327e-01, ...,\n",
       "        -7.31373217e-01, -8.70301789e-02, -7.07306544e-01],\n",
       "       ...,\n",
       "       [ 5.16772400e-01, -6.93719089e-01, -1.68426131e+00, ...,\n",
       "         1.39986748e+00,  7.13406726e-01,  7.71978648e-05],\n",
       "       [-4.01582236e-01, -9.23738223e-01, -6.11512815e-01, ...,\n",
       "        -1.15123710e+00, -1.62035449e+00, -1.41469037e+00],\n",
       "       [-8.47684360e-01, -4.56125498e-01, -1.97258785e-02, ...,\n",
       "        -6.54367254e-01, -1.10738068e+00,  7.07460940e-01]])"
      ]
     },
     "execution_count": 178,
     "metadata": {},
     "output_type": "execute_result"
    }
   ],
   "source": [
    "train_features_scaled"
   ]
  },
  {
   "cell_type": "markdown",
   "id": "9b8c47fe",
   "metadata": {},
   "source": [
    "# Start with a random forest classifier as benchmark"
   ]
  },
  {
   "cell_type": "code",
   "execution_count": 147,
   "id": "be52f50f",
   "metadata": {},
   "outputs": [],
   "source": [
    "from sklearn.metrics import make_scorer\n",
    "from sklearn.metrics import accuracy_score\n",
    "from sklearn.metrics import recall_score\n",
    "from sklearn.metrics import precision_score\n",
    "\n",
    "\n",
    "scorer = {\n",
    "    'accuracy': make_scorer(accuracy_score),\n",
    "    'recall': make_scorer(recall_score),\n",
    "    'precision': make_scorer(precision_score)\n",
    "}"
   ]
  },
  {
   "cell_type": "code",
   "execution_count": 151,
   "id": "5ad395f3",
   "metadata": {},
   "outputs": [
    {
     "name": "stdout",
     "output_type": "stream",
     "text": [
      "Test Set Accuracy:  0.8240114285714286\n"
     ]
    }
   ],
   "source": [
    "from sklearn.ensemble import RandomForestClassifier\n",
    "\n",
    "rf = RandomForestClassifier(max_depth=5, n_estimators=50)\n",
    "\n",
    "training_model = rf.fit(train_features_scaled,train_labels)\n",
    "\n",
    "rf_test_predictions = training_model.predict(test_features_scaled)\n",
    "print(\"Test Set Accuracy: \", accuracy_score(test_labels, rf_test_predictions))\n",
    "\n"
   ]
  },
  {
   "cell_type": "code",
   "execution_count": 10,
   "id": "a452c7d6",
   "metadata": {},
   "outputs": [
    {
     "name": "stdout",
     "output_type": "stream",
     "text": [
      "2.8.0\n"
     ]
    }
   ],
   "source": [
    "# TensorFlow and tf.keras\n",
    "import tensorflow as tf\n",
    "\n",
    "print(tf.__version__)"
   ]
  },
  {
   "cell_type": "code",
   "execution_count": null,
   "id": "6efef1ca",
   "metadata": {},
   "outputs": [],
   "source": [
    "tf.random.set_seed(1234)\n"
   ]
  },
  {
   "cell_type": "code",
   "execution_count": 141,
   "id": "e53b9606",
   "metadata": {},
   "outputs": [],
   "source": [
    "simple_model = tf.keras.Sequential([\n",
    "    tf.keras.layers.Dense(300, activation='relu', input_shape=(28,)),\n",
    "    tf.keras.layers.Dense(1, activation='sigmoid')\n",
    "    \n",
    "])"
   ]
  },
  {
   "cell_type": "code",
   "execution_count": 142,
   "id": "3bbd8706",
   "metadata": {},
   "outputs": [],
   "source": [
    "simple_model.compile(optimizer='adam',\n",
    "              loss=tf.keras.losses.BinaryCrossentropy(from_logits=True),\n",
    "              metrics=[tf.keras.metrics.AUC(name='AUC'),'accuracy'])"
   ]
  },
  {
   "cell_type": "code",
   "execution_count": 143,
   "id": "39521544",
   "metadata": {},
   "outputs": [],
   "source": [
    "#Add early stopping\n",
    "callback = tf.keras.callbacks.ReduceLROnPlateau(\n",
    "  monitor='val_loss', factor=0.1, patience=10,\n",
    "  mode='auto', min_delta=0.0001, cooldown=0, min_lr=0,\n",
    ")"
   ]
  },
  {
   "cell_type": "code",
   "execution_count": 144,
   "id": "b141478a",
   "metadata": {},
   "outputs": [
    {
     "data": {
      "text/plain": [
       "(5600000,)"
      ]
     },
     "execution_count": 144,
     "metadata": {},
     "output_type": "execute_result"
    }
   ],
   "source": [
    "train_labels.shape"
   ]
  },
  {
   "cell_type": "code",
   "execution_count": 145,
   "id": "a266f230",
   "metadata": {},
   "outputs": [
    {
     "name": "stdout",
     "output_type": "stream",
     "text": [
      "Epoch 1/5\n"
     ]
    },
    {
     "name": "stderr",
     "output_type": "stream",
     "text": [
      "/Users/rickfontenot/miniforge3/envs/mlp/lib/python3.8/site-packages/tensorflow/python/util/dispatch.py:1082: UserWarning: \"`binary_crossentropy` received `from_logits=True`, but the `output` argument was produced by a sigmoid or softmax activation and thus does not represent logits. Was this intended?\"\n",
      "  return dispatch_target(*args, **kwargs)\n",
      "2022-03-27 08:23:07.680914: I tensorflow/core/grappler/optimizers/custom_graph_optimizer_registry.cc:113] Plugin optimizer for device_type GPU is enabled.\n"
     ]
    },
    {
     "name": "stdout",
     "output_type": "stream",
     "text": [
      "1120/1120 [==============================] - 12s 10ms/step - loss: 0.3161 - AUC: 0.9369 - accuracy: 0.8547\n",
      "Epoch 2/5\n",
      "1120/1120 [==============================] - 11s 10ms/step - loss: 0.2879 - AUC: 0.9474 - accuracy: 0.8667\n",
      "Epoch 3/5\n",
      "1120/1120 [==============================] - 11s 10ms/step - loss: 0.2812 - AUC: 0.9500 - accuracy: 0.8709\n",
      "Epoch 4/5\n",
      "1120/1120 [==============================] - 11s 10ms/step - loss: 0.2779 - AUC: 0.9512 - accuracy: 0.8731\n",
      "Epoch 5/5\n",
      "1120/1120 [==============================] - 11s 10ms/step - loss: 0.2757 - AUC: 0.9520 - accuracy: 0.8744\n"
     ]
    }
   ],
   "source": [
    "history = simple_model.fit(train_features_scaled, train_labels, batch_size=5000, epochs=5)\n"
   ]
  },
  {
   "cell_type": "code",
   "execution_count": 146,
   "id": "f1a2a2bd",
   "metadata": {},
   "outputs": [
    {
     "data": {
      "text/plain": [
       "{'loss': [0.3160959482192993,\n",
       "  0.2879311144351959,\n",
       "  0.2812224328517914,\n",
       "  0.2778681516647339,\n",
       "  0.27569618821144104],\n",
       " 'AUC': [0.9368914365768433,\n",
       "  0.9474374651908875,\n",
       "  0.9499911069869995,\n",
       "  0.9512038230895996,\n",
       "  0.9519756436347961],\n",
       " 'accuracy': [0.8546880483627319,\n",
       "  0.8667005300521851,\n",
       "  0.870865523815155,\n",
       "  0.8731201887130737,\n",
       "  0.8744133710861206]}"
      ]
     },
     "execution_count": 146,
     "metadata": {},
     "output_type": "execute_result"
    }
   ],
   "source": [
    "history.history"
   ]
  },
  {
   "cell_type": "code",
   "execution_count": 15,
   "id": "8361abea",
   "metadata": {},
   "outputs": [
    {
     "name": "stderr",
     "output_type": "stream",
     "text": [
      "2022-03-25 22:27:14.378810: I tensorflow/core/grappler/optimizers/custom_graph_optimizer_registry.cc:113] Plugin optimizer for device_type GPU is enabled.\n"
     ]
    },
    {
     "name": "stdout",
     "output_type": "stream",
     "text": [
      "140/140 - 1s - loss: 0.3627 - AUC: 0.9284 - accuracy: 0.8201 - 1s/epoch - 8ms/step\n",
      "\n",
      "Test accuracy: 0.8200514316558838\n",
      "\n",
      "Test AUC: 0.9283562898635864\n"
     ]
    }
   ],
   "source": [
    "test_loss, test_auc, test_acc = simple_model.evaluate(test_features,  test_labels, batch_size=5000, verbose=2)\n",
    "\n",
    "print('\\nTest accuracy:', test_acc)\n",
    "print('\\nTest AUC:', test_auc)"
   ]
  },
  {
   "cell_type": "code",
   "execution_count": 54,
   "id": "d49a5d4d",
   "metadata": {},
   "outputs": [],
   "source": [
    "from tensorflow.keras import regularizers\n",
    "\n",
    "research_model = tf.keras.Sequential([\n",
    "    tf.keras.layers.Dense(300, activation='tanh', input_shape=(28,),kernel_regularizer=regularizers.l2(0.00001)),\n",
    "    tf.keras.layers.Dense(300, activation='tanh',kernel_regularizer=regularizers.l2(0.00001)),\n",
    "    tf.keras.layers.Dense(300, activation='tanh',kernel_regularizer=regularizers.l2(0.00001)),\n",
    "    tf.keras.layers.Dense(300, activation='tanh',kernel_regularizer=regularizers.l2(0.00001)),\n",
    "    tf.keras.layers.Dense(300, activation='tanh',kernel_regularizer=regularizers.l2(0.00001)),\n",
    "    tf.keras.layers.Dense(1, activation='sigmoid')   \n",
    "])\n",
    "\n",
    "research_model.compile(optimizer='adam',\n",
    "              loss=tf.keras.losses.BinaryCrossentropy(from_logits=True),\n",
    "              metrics=[tf.keras.metrics.AUC(name='AUC'),'accuracy'])"
   ]
  },
  {
   "cell_type": "code",
   "execution_count": 55,
   "id": "918c5357",
   "metadata": {},
   "outputs": [
    {
     "name": "stdout",
     "output_type": "stream",
     "text": [
      "Epoch 1/5\n"
     ]
    },
    {
     "name": "stderr",
     "output_type": "stream",
     "text": [
      "2022-03-21 03:11:34.824449: I tensorflow/core/grappler/optimizers/custom_graph_optimizer_registry.cc:113] Plugin optimizer for device_type GPU is enabled.\n"
     ]
    },
    {
     "name": "stdout",
     "output_type": "stream",
     "text": [
      "1120/1120 [==============================] - 26s 22ms/step - loss: 0.3060 - AUC: 0.9467 - accuracy: 0.8661\n",
      "Epoch 2/5\n",
      "1120/1120 [==============================] - 25s 23ms/step - loss: 0.2836 - AUC: 0.9542 - accuracy: 0.8780\n",
      "Epoch 3/5\n",
      "1120/1120 [==============================] - 24s 21ms/step - loss: 0.2783 - AUC: 0.9554 - accuracy: 0.8800\n",
      "Epoch 4/5\n",
      "1120/1120 [==============================] - 25s 22ms/step - loss: 0.2752 - AUC: 0.9560 - accuracy: 0.8811\n",
      "Epoch 5/5\n",
      "1120/1120 [==============================] - 24s 21ms/step - loss: 0.2733 - AUC: 0.9564 - accuracy: 0.8817\n"
     ]
    },
    {
     "data": {
      "text/plain": [
       "<keras.callbacks.History at 0x14952d7c0>"
      ]
     },
     "execution_count": 55,
     "metadata": {},
     "output_type": "execute_result"
    }
   ],
   "source": [
    "research_model.fit(train_features_scaled, train_labels, batch_size=5000, epochs=5)\n"
   ]
  },
  {
   "cell_type": "code",
   "execution_count": 56,
   "id": "4b9c0c42",
   "metadata": {},
   "outputs": [
    {
     "name": "stderr",
     "output_type": "stream",
     "text": [
      "2022-03-21 03:13:41.945749: I tensorflow/core/grappler/optimizers/custom_graph_optimizer_registry.cc:113] Plugin optimizer for device_type GPU is enabled.\n"
     ]
    },
    {
     "name": "stdout",
     "output_type": "stream",
     "text": [
      "140/140 - 2s - loss: 0.2723 - AUC: 0.9568 - accuracy: 0.8820 - 2s/epoch - 13ms/step\n",
      "\n",
      "Test accuracy: 0.8820314407348633\n",
      "\n",
      "Test AUC: 0.9567630290985107\n"
     ]
    }
   ],
   "source": [
    "test_loss, test_auc, test_acc = research_model.evaluate(test_features_scaled,  test_labels, batch_size=5000, verbose=2)\n",
    "\n",
    "print('\\nTest accuracy:', test_acc)\n",
    "print('\\nTest AUC:', test_auc)"
   ]
  },
  {
   "cell_type": "code",
   "execution_count": 179,
   "id": "090ae6e3",
   "metadata": {},
   "outputs": [
    {
     "name": "stdout",
     "output_type": "stream",
     "text": [
      "Epoch 1/5\n"
     ]
    },
    {
     "name": "stderr",
     "output_type": "stream",
     "text": [
      "/Users/rickfontenot/miniforge3/envs/mlp/lib/python3.8/site-packages/tensorflow/python/util/dispatch.py:1082: UserWarning: \"`binary_crossentropy` received `from_logits=True`, but the `output` argument was produced by a sigmoid or softmax activation and thus does not represent logits. Was this intended?\"\n",
      "  return dispatch_target(*args, **kwargs)\n",
      "2022-03-28 09:54:01.143315: I tensorflow/core/grappler/optimizers/custom_graph_optimizer_registry.cc:113] Plugin optimizer for device_type GPU is enabled.\n"
     ]
    },
    {
     "name": "stdout",
     "output_type": "stream",
     "text": [
      "1120/1120 [==============================] - 32s 21ms/step - loss: 0.3730 - AUC: 0.9210 - accuracy: 0.8385\n",
      "Epoch 2/5\n",
      "1120/1120 [==============================] - 24s 21ms/step - loss: 0.3320 - AUC: 0.9363 - accuracy: 0.8527\n",
      "Epoch 3/5\n",
      "1120/1120 [==============================] - 24s 21ms/step - loss: 0.3201 - AUC: 0.9411 - accuracy: 0.8579\n",
      "Epoch 4/5\n",
      "1120/1120 [==============================] - 23s 21ms/step - loss: 0.3138 - AUC: 0.9437 - accuracy: 0.8612\n",
      "Epoch 5/5\n",
      "1120/1120 [==============================] - 23s 21ms/step - loss: 0.3098 - AUC: 0.9454 - accuracy: 0.8633\n"
     ]
    },
    {
     "name": "stderr",
     "output_type": "stream",
     "text": [
      "2022-03-28 09:56:00.853576: I tensorflow/core/grappler/optimizers/custom_graph_optimizer_registry.cc:113] Plugin optimizer for device_type GPU is enabled.\n"
     ]
    },
    {
     "name": "stdout",
     "output_type": "stream",
     "text": [
      "140/140 - 2s - loss: 0.3077 - AUC: 0.9462 - accuracy: 0.8645 - 2s/epoch - 14ms/step\n",
      "\n",
      "Test accuracy: 0.8644742965698242\n",
      "\n",
      "Test AUC: 0.9462007880210876\n"
     ]
    }
   ],
   "source": [
    "from tensorflow.keras import regularizers\n",
    "\n",
    "research_model = tf.keras.Sequential([\n",
    "    tf.keras.layers.Dense(300, activation='tanh', input_shape=(28,),kernel_regularizer=regularizers.l2(0.00001)),\n",
    "    tf.keras.layers.Dense(300, activation='tanh',kernel_regularizer=regularizers.l2(0.00001)),\n",
    "    tf.keras.layers.Dense(300, activation='tanh',kernel_regularizer=regularizers.l2(0.00001)),\n",
    "    tf.keras.layers.Dense(300, activation='tanh',kernel_regularizer=regularizers.l2(0.00001)),\n",
    "    tf.keras.layers.Dense(300, activation='tanh',kernel_regularizer=regularizers.l2(0.00001)),\n",
    "    tf.keras.layers.Dense(1, activation='sigmoid')   \n",
    "])\n",
    "\n",
    "research_model.compile(optimizer=tf.keras.optimizers.SGD(learning_rate=0.05),\n",
    "              loss=tf.keras.losses.BinaryCrossentropy(from_logits=True),\n",
    "              metrics=[tf.keras.metrics.AUC(name='AUC'),'accuracy'])\n",
    "\n",
    "research_model.fit(train_features_scaled, train_labels, batch_size=5000, epochs=5)\n",
    "\n",
    "test_loss, test_auc, test_acc = research_model.evaluate(test_features_scaled,  test_labels, batch_size=5000, verbose=2)\n",
    "\n",
    "print('\\nTest accuracy:', test_acc)\n",
    "print('\\nTest AUC:', test_auc)\n"
   ]
  },
  {
   "cell_type": "markdown",
   "id": "a17b7983",
   "metadata": {},
   "source": [
    "Scaling features improved auc and accuracy a bit"
   ]
  },
  {
   "cell_type": "markdown",
   "id": "bee02c23",
   "metadata": {},
   "source": [
    "look at class weights"
   ]
  },
  {
   "cell_type": "code",
   "execution_count": 62,
   "id": "0eef7bd4",
   "metadata": {},
   "outputs": [
    {
     "name": "stdout",
     "output_type": "stream",
     "text": [
      "[[      0 2799297]\n",
      " [      1 2800703]]\n"
     ]
    }
   ],
   "source": [
    "\n",
    "unique, counts = np.unique(train_labels, return_counts=True)\n",
    "frequencies = np.asarray((unique, counts)).T\n",
    "\n",
    "print(frequencies)\n"
   ]
  },
  {
   "cell_type": "markdown",
   "id": "f0a80186",
   "metadata": {},
   "source": [
    "look at learning rates"
   ]
  },
  {
   "cell_type": "code",
   "execution_count": 75,
   "id": "7889585e",
   "metadata": {},
   "outputs": [],
   "source": [
    "#Add early stopping\n",
    "callback = [\n",
    "  tf.keras.callbacks.ReduceLROnPlateau(monitor='val_loss', factor=0.2, patience=10,mode='auto', min_delta=0.0001, cooldown=0, min_lr=0.05)\n",
    "]"
   ]
  },
  {
   "cell_type": "code",
   "execution_count": 76,
   "id": "25f1c55e",
   "metadata": {},
   "outputs": [],
   "source": [
    "from tensorflow.keras import regularizers\n",
    "\n",
    "research_model = tf.keras.Sequential([\n",
    "    tf.keras.layers.Dense(300, activation='tanh', input_shape=(28,),kernel_regularizer=regularizers.l2(0.00001)),\n",
    "    tf.keras.layers.Dense(300, activation='tanh',kernel_regularizer=regularizers.l2(0.00001)),\n",
    "    tf.keras.layers.Dense(300, activation='tanh',kernel_regularizer=regularizers.l2(0.00001)),\n",
    "    tf.keras.layers.Dense(300, activation='tanh',kernel_regularizer=regularizers.l2(0.00001)),\n",
    "    tf.keras.layers.Dense(300, activation='tanh',kernel_regularizer=regularizers.l2(0.00001)),\n",
    "    tf.keras.layers.Dense(1, activation='sigmoid')   \n",
    "])\n",
    "\n",
    "research_model.compile(optimizer='adam',\n",
    "              loss=tf.keras.losses.BinaryCrossentropy(from_logits=True),\n",
    "              metrics=[tf.keras.metrics.AUC(name='AUC'),'accuracy'])"
   ]
  },
  {
   "cell_type": "code",
   "execution_count": 77,
   "id": "cd94517a",
   "metadata": {},
   "outputs": [
    {
     "name": "stdout",
     "output_type": "stream",
     "text": [
      "Epoch 1/10\n"
     ]
    },
    {
     "name": "stderr",
     "output_type": "stream",
     "text": [
      "2022-03-21 03:32:59.517445: I tensorflow/core/grappler/optimizers/custom_graph_optimizer_registry.cc:113] Plugin optimizer for device_type GPU is enabled.\n"
     ]
    },
    {
     "name": "stdout",
     "output_type": "stream",
     "text": [
      "1118/1120 [============================>.] - ETA: 0s - loss: 0.3059 - AUC: 0.9468 - accuracy: 0.8664"
     ]
    },
    {
     "name": "stderr",
     "output_type": "stream",
     "text": [
      "2022-03-21 03:33:24.624965: I tensorflow/core/grappler/optimizers/custom_graph_optimizer_registry.cc:113] Plugin optimizer for device_type GPU is enabled.\n"
     ]
    },
    {
     "name": "stdout",
     "output_type": "stream",
     "text": [
      "1120/1120 [==============================] - 27s 24ms/step - loss: 0.3058 - AUC: 0.9468 - accuracy: 0.8664 - val_loss: 0.2876 - val_AUC: 0.9533 - val_accuracy: 0.8767 - lr: 0.0010\n",
      "Epoch 2/10\n",
      "1120/1120 [==============================] - 27s 24ms/step - loss: 0.2835 - AUC: 0.9542 - accuracy: 0.8781 - val_loss: 0.2792 - val_AUC: 0.9554 - val_accuracy: 0.8804 - lr: 0.0010\n",
      "Epoch 3/10\n",
      "1120/1120 [==============================] - 26s 23ms/step - loss: 0.2780 - AUC: 0.9555 - accuracy: 0.8802 - val_loss: 0.2780 - val_AUC: 0.9553 - val_accuracy: 0.8802 - lr: 0.0010\n",
      "Epoch 4/10\n",
      "1120/1120 [==============================] - 25s 22ms/step - loss: 0.2749 - AUC: 0.9561 - accuracy: 0.8813 - val_loss: 0.2744 - val_AUC: 0.9563 - val_accuracy: 0.8809 - lr: 0.0010\n",
      "Epoch 5/10\n",
      "1120/1120 [==============================] - 26s 23ms/step - loss: 0.2730 - AUC: 0.9565 - accuracy: 0.8819 - val_loss: 0.2723 - val_AUC: 0.9566 - val_accuracy: 0.8818 - lr: 0.0010\n",
      "Epoch 6/10\n",
      "1120/1120 [==============================] - 26s 23ms/step - loss: 0.2717 - AUC: 0.9568 - accuracy: 0.8823 - val_loss: 0.2727 - val_AUC: 0.9564 - val_accuracy: 0.8814 - lr: 0.0010\n",
      "Epoch 7/10\n",
      "1120/1120 [==============================] - 26s 23ms/step - loss: 0.2708 - AUC: 0.9570 - accuracy: 0.8826 - val_loss: 0.2714 - val_AUC: 0.9570 - val_accuracy: 0.8821 - lr: 0.0010\n",
      "Epoch 8/10\n",
      "1120/1120 [==============================] - 26s 23ms/step - loss: 0.2700 - AUC: 0.9572 - accuracy: 0.8830 - val_loss: 0.2708 - val_AUC: 0.9570 - val_accuracy: 0.8827 - lr: 0.0010\n",
      "Epoch 9/10\n",
      "1120/1120 [==============================] - 25s 23ms/step - loss: 0.2694 - AUC: 0.9574 - accuracy: 0.8832 - val_loss: 0.2700 - val_AUC: 0.9572 - val_accuracy: 0.8831 - lr: 0.0010\n",
      "Epoch 10/10\n",
      "1120/1120 [==============================] - 25s 23ms/step - loss: 0.2688 - AUC: 0.9575 - accuracy: 0.8835 - val_loss: 0.2710 - val_AUC: 0.9571 - val_accuracy: 0.8822 - lr: 0.0010\n"
     ]
    },
    {
     "data": {
      "text/plain": [
       "<keras.callbacks.History at 0x14acc2dc0>"
      ]
     },
     "execution_count": 77,
     "metadata": {},
     "output_type": "execute_result"
    }
   ],
   "source": [
    "research_model.fit(train_features_scaled, train_labels, batch_size=5000, epochs=10, callbacks=callback, validation_data=[validation_features_scaled, validation_labels])\n"
   ]
  },
  {
   "cell_type": "code",
   "execution_count": 78,
   "id": "e0ebad7b",
   "metadata": {},
   "outputs": [
    {
     "name": "stdout",
     "output_type": "stream",
     "text": [
      "140/140 - 2s - loss: 0.2703 - AUC: 0.9573 - accuracy: 0.8824 - 2s/epoch - 12ms/step\n",
      "\n",
      "Test accuracy: 0.8824028372764587\n",
      "\n",
      "Test AUC: 0.9573490619659424\n"
     ]
    }
   ],
   "source": [
    "test_loss, test_auc, test_acc = research_model.evaluate(test_features_scaled,  test_labels, batch_size=5000, verbose=2)\n",
    "\n",
    "print('\\nTest accuracy:', test_acc)\n",
    "print('\\nTest AUC:', test_auc)"
   ]
  },
  {
   "cell_type": "code",
   "execution_count": 159,
   "id": "77a04dcf",
   "metadata": {},
   "outputs": [],
   "source": [
    "from tensorflow.keras import regularizers\n",
    "\n",
    "research_model = tf.keras.Sequential([\n",
    "    tf.keras.layers.Dense(300, activation='tanh', input_shape=(28,),kernel_regularizer=regularizers.l2(0.00001)),\n",
    "    tf.keras.layers.Dense(300, activation='tanh',kernel_regularizer=regularizers.l2(0.00001)),\n",
    "    tf.keras.layers.Dense(300, activation='tanh',kernel_regularizer=regularizers.l2(0.00001)),\n",
    "    tf.keras.layers.Dense(300, activation='tanh',kernel_regularizer=regularizers.l2(0.00001)),\n",
    "    tf.keras.layers.Dense(300, activation='tanh',kernel_regularizer=regularizers.l2(0.00001)),\n",
    "    tf.keras.layers.Dense(2, activation='softmax')   \n",
    "])\n",
    "\n",
    "research_model.compile(optimizer='adam',\n",
    "              loss=tf.keras.losses.SparseCategoricalCrossentropy(from_logits=True),\n",
    "              metrics=['accuracy'])"
   ]
  },
  {
   "cell_type": "code",
   "execution_count": 87,
   "id": "f9e475ec",
   "metadata": {},
   "outputs": [
    {
     "name": "stdout",
     "output_type": "stream",
     "text": [
      "Epoch 1/5\n",
      "1120/1120 [==============================] - 23s 20ms/step - loss: 0.2828 - accuracy: 0.8783 - val_loss: 0.2813 - val_accuracy: 0.8789 - lr: 0.0010\n",
      "Epoch 2/5\n",
      "1120/1120 [==============================] - 23s 21ms/step - loss: 0.2780 - accuracy: 0.8802 - val_loss: 0.2771 - val_accuracy: 0.8807 - lr: 0.0010\n",
      "Epoch 3/5\n",
      "1120/1120 [==============================] - 24s 22ms/step - loss: 0.2749 - accuracy: 0.8812 - val_loss: 0.2754 - val_accuracy: 0.8807 - lr: 0.0010\n",
      "Epoch 4/5\n",
      "1120/1120 [==============================] - 24s 21ms/step - loss: 0.2729 - accuracy: 0.8819 - val_loss: 0.2719 - val_accuracy: 0.8822 - lr: 0.0010\n",
      "Epoch 5/5\n",
      "1120/1120 [==============================] - 23s 20ms/step - loss: 0.2716 - accuracy: 0.8823 - val_loss: 0.2729 - val_accuracy: 0.8814 - lr: 0.0010\n"
     ]
    },
    {
     "data": {
      "text/plain": [
       "<keras.callbacks.History at 0x522c0d400>"
      ]
     },
     "execution_count": 87,
     "metadata": {},
     "output_type": "execute_result"
    }
   ],
   "source": [
    "research_model.fit(train_features_scaled, train_labels, batch_size=5000, epochs=5, callbacks=callback, validation_data=[validation_features_scaled, validation_labels])\n"
   ]
  },
  {
   "cell_type": "code",
   "execution_count": 88,
   "id": "ce426429",
   "metadata": {},
   "outputs": [
    {
     "name": "stdout",
     "output_type": "stream",
     "text": [
      "140/140 - 1s - loss: 0.2719 - accuracy: 0.8822 - 1s/epoch - 9ms/step\n",
      "\n",
      "Test accuracy: 0.8821671009063721\n"
     ]
    }
   ],
   "source": [
    "test_loss, test_acc = research_model.evaluate(test_features_scaled,  test_labels, batch_size=5000, verbose=2)\n",
    "\n",
    "print('\\nTest accuracy:', test_acc)\n"
   ]
  },
  {
   "cell_type": "markdown",
   "id": "c7ac15c7",
   "metadata": {},
   "source": [
    "Try an initial grid search based on help from this page:\n",
    "https://www.tensorflow.org/tensorboard/hyperparameter_tuning_with_hparams"
   ]
  },
  {
   "cell_type": "code",
   "execution_count": 26,
   "id": "b43aaa76",
   "metadata": {},
   "outputs": [],
   "source": [
    "from tensorflow.keras.callbacks import TensorBoard\n",
    "from time import time\n",
    "tb = TensorBoard(log_dir=f\"logs\\\\{time()}\")\n",
    "#%reload_ext tensorboard\n",
    "#%tensorboard --logdir logs"
   ]
  },
  {
   "cell_type": "code",
   "execution_count": 176,
   "id": "d0325453",
   "metadata": {},
   "outputs": [],
   "source": [
    "%rm -rf ./logs/"
   ]
  },
  {
   "cell_type": "code",
   "execution_count": 32,
   "id": "e8167da6",
   "metadata": {},
   "outputs": [
    {
     "name": "stdout",
     "output_type": "stream",
     "text": [
      "Epoch 1/50\n"
     ]
    },
    {
     "name": "stderr",
     "output_type": "stream",
     "text": [
      "/Users/rickfontenot/miniforge3/envs/mlp/lib/python3.8/site-packages/tensorflow/python/util/dispatch.py:1082: UserWarning: \"`sparse_categorical_crossentropy` received `from_logits=True`, but the `output` argument was produced by a sigmoid or softmax activation and thus does not represent logits. Was this intended?\"\n",
      "  return dispatch_target(*args, **kwargs)\n",
      "2022-03-26 10:36:39.427790: I tensorflow/core/grappler/optimizers/custom_graph_optimizer_registry.cc:113] Plugin optimizer for device_type GPU is enabled.\n"
     ]
    },
    {
     "name": "stdout",
     "output_type": "stream",
     "text": [
      "  30/1120 [..............................] - ETA: 31s - loss: 0.3898 - accuracy: 0.8272"
     ]
    },
    {
     "ename": "KeyboardInterrupt",
     "evalue": "",
     "output_type": "error",
     "traceback": [
      "\u001b[0;31m---------------------------------------------------------------------------\u001b[0m",
      "\u001b[0;31mKeyboardInterrupt\u001b[0m                         Traceback (most recent call last)",
      "\u001b[1;32m/Users/rickfontenot/Dropbox/SMU/DS7333 Quantifying World/QTW_Github/QTW/QTW/Case Study 6/case6_rick.ipynb Cell 53'\u001b[0m in \u001b[0;36m<cell line: 20>\u001b[0;34m()\u001b[0m\n\u001b[1;32m      <a href='vscode-notebook-cell:/Users/rickfontenot/Dropbox/SMU/DS7333%20Quantifying%20World/QTW_Github/QTW/QTW/Case%20Study%206/case6_rick.ipynb#ch0000052?line=2'>3</a>\u001b[0m research_model \u001b[39m=\u001b[39m tf\u001b[39m.\u001b[39mkeras\u001b[39m.\u001b[39mSequential([\n\u001b[1;32m      <a href='vscode-notebook-cell:/Users/rickfontenot/Dropbox/SMU/DS7333%20Quantifying%20World/QTW_Github/QTW/QTW/Case%20Study%206/case6_rick.ipynb#ch0000052?line=3'>4</a>\u001b[0m     tf\u001b[39m.\u001b[39mkeras\u001b[39m.\u001b[39mlayers\u001b[39m.\u001b[39mDense(\u001b[39m500\u001b[39m, activation\u001b[39m=\u001b[39m\u001b[39m'\u001b[39m\u001b[39mtanh\u001b[39m\u001b[39m'\u001b[39m, input_shape\u001b[39m=\u001b[39m(\u001b[39m28\u001b[39m,)),\n\u001b[1;32m      <a href='vscode-notebook-cell:/Users/rickfontenot/Dropbox/SMU/DS7333%20Quantifying%20World/QTW_Github/QTW/QTW/Case%20Study%206/case6_rick.ipynb#ch0000052?line=4'>5</a>\u001b[0m     tf\u001b[39m.\u001b[39mkeras\u001b[39m.\u001b[39mlayers\u001b[39m.\u001b[39mDropout(\u001b[39m0.0\u001b[39m),\n\u001b[0;32m   (...)\u001b[0m\n\u001b[1;32m     <a href='vscode-notebook-cell:/Users/rickfontenot/Dropbox/SMU/DS7333%20Quantifying%20World/QTW_Github/QTW/QTW/Case%20Study%206/case6_rick.ipynb#ch0000052?line=13'>14</a>\u001b[0m     tf\u001b[39m.\u001b[39mkeras\u001b[39m.\u001b[39mlayers\u001b[39m.\u001b[39mDense(\u001b[39m2\u001b[39m, activation\u001b[39m=\u001b[39m\u001b[39m'\u001b[39m\u001b[39msoftmax\u001b[39m\u001b[39m'\u001b[39m)   \n\u001b[1;32m     <a href='vscode-notebook-cell:/Users/rickfontenot/Dropbox/SMU/DS7333%20Quantifying%20World/QTW_Github/QTW/QTW/Case%20Study%206/case6_rick.ipynb#ch0000052?line=14'>15</a>\u001b[0m ])\n\u001b[1;32m     <a href='vscode-notebook-cell:/Users/rickfontenot/Dropbox/SMU/DS7333%20Quantifying%20World/QTW_Github/QTW/QTW/Case%20Study%206/case6_rick.ipynb#ch0000052?line=16'>17</a>\u001b[0m research_model\u001b[39m.\u001b[39mcompile(optimizer\u001b[39m=\u001b[39m\u001b[39m'\u001b[39m\u001b[39madam\u001b[39m\u001b[39m'\u001b[39m,\n\u001b[1;32m     <a href='vscode-notebook-cell:/Users/rickfontenot/Dropbox/SMU/DS7333%20Quantifying%20World/QTW_Github/QTW/QTW/Case%20Study%206/case6_rick.ipynb#ch0000052?line=17'>18</a>\u001b[0m               loss\u001b[39m=\u001b[39mtf\u001b[39m.\u001b[39mkeras\u001b[39m.\u001b[39mlosses\u001b[39m.\u001b[39mSparseCategoricalCrossentropy(from_logits\u001b[39m=\u001b[39m\u001b[39mTrue\u001b[39;00m),\n\u001b[1;32m     <a href='vscode-notebook-cell:/Users/rickfontenot/Dropbox/SMU/DS7333%20Quantifying%20World/QTW_Github/QTW/QTW/Case%20Study%206/case6_rick.ipynb#ch0000052?line=18'>19</a>\u001b[0m               metrics\u001b[39m=\u001b[39m[\u001b[39m'\u001b[39m\u001b[39maccuracy\u001b[39m\u001b[39m'\u001b[39m])\n\u001b[0;32m---> <a href='vscode-notebook-cell:/Users/rickfontenot/Dropbox/SMU/DS7333%20Quantifying%20World/QTW_Github/QTW/QTW/Case%20Study%206/case6_rick.ipynb#ch0000052?line=19'>20</a>\u001b[0m research_model\u001b[39m.\u001b[39;49mfit(train_features_scaled, train_labels, batch_size\u001b[39m=\u001b[39;49m\u001b[39m5000\u001b[39;49m, epochs\u001b[39m=\u001b[39;49m\u001b[39m50\u001b[39;49m, callbacks\u001b[39m=\u001b[39;49mtb, validation_data\u001b[39m=\u001b[39;49m[validation_features_scaled, validation_labels])\n",
      "File \u001b[0;32m~/miniforge3/envs/mlp/lib/python3.8/site-packages/keras/utils/traceback_utils.py:64\u001b[0m, in \u001b[0;36mfilter_traceback.<locals>.error_handler\u001b[0;34m(*args, **kwargs)\u001b[0m\n\u001b[1;32m     <a href='file:///Users/rickfontenot/miniforge3/envs/mlp/lib/python3.8/site-packages/keras/utils/traceback_utils.py?line=61'>62</a>\u001b[0m filtered_tb \u001b[39m=\u001b[39m \u001b[39mNone\u001b[39;00m\n\u001b[1;32m     <a href='file:///Users/rickfontenot/miniforge3/envs/mlp/lib/python3.8/site-packages/keras/utils/traceback_utils.py?line=62'>63</a>\u001b[0m \u001b[39mtry\u001b[39;00m:\n\u001b[0;32m---> <a href='file:///Users/rickfontenot/miniforge3/envs/mlp/lib/python3.8/site-packages/keras/utils/traceback_utils.py?line=63'>64</a>\u001b[0m   \u001b[39mreturn\u001b[39;00m fn(\u001b[39m*\u001b[39;49margs, \u001b[39m*\u001b[39;49m\u001b[39m*\u001b[39;49mkwargs)\n\u001b[1;32m     <a href='file:///Users/rickfontenot/miniforge3/envs/mlp/lib/python3.8/site-packages/keras/utils/traceback_utils.py?line=64'>65</a>\u001b[0m \u001b[39mexcept\u001b[39;00m \u001b[39mException\u001b[39;00m \u001b[39mas\u001b[39;00m e:  \u001b[39m# pylint: disable=broad-except\u001b[39;00m\n\u001b[1;32m     <a href='file:///Users/rickfontenot/miniforge3/envs/mlp/lib/python3.8/site-packages/keras/utils/traceback_utils.py?line=65'>66</a>\u001b[0m   filtered_tb \u001b[39m=\u001b[39m _process_traceback_frames(e\u001b[39m.\u001b[39m__traceback__)\n",
      "File \u001b[0;32m~/miniforge3/envs/mlp/lib/python3.8/site-packages/keras/engine/training.py:1384\u001b[0m, in \u001b[0;36mModel.fit\u001b[0;34m(self, x, y, batch_size, epochs, verbose, callbacks, validation_split, validation_data, shuffle, class_weight, sample_weight, initial_epoch, steps_per_epoch, validation_steps, validation_batch_size, validation_freq, max_queue_size, workers, use_multiprocessing)\u001b[0m\n\u001b[1;32m   <a href='file:///Users/rickfontenot/miniforge3/envs/mlp/lib/python3.8/site-packages/keras/engine/training.py?line=1376'>1377</a>\u001b[0m \u001b[39mwith\u001b[39;00m tf\u001b[39m.\u001b[39mprofiler\u001b[39m.\u001b[39mexperimental\u001b[39m.\u001b[39mTrace(\n\u001b[1;32m   <a href='file:///Users/rickfontenot/miniforge3/envs/mlp/lib/python3.8/site-packages/keras/engine/training.py?line=1377'>1378</a>\u001b[0m     \u001b[39m'\u001b[39m\u001b[39mtrain\u001b[39m\u001b[39m'\u001b[39m,\n\u001b[1;32m   <a href='file:///Users/rickfontenot/miniforge3/envs/mlp/lib/python3.8/site-packages/keras/engine/training.py?line=1378'>1379</a>\u001b[0m     epoch_num\u001b[39m=\u001b[39mepoch,\n\u001b[1;32m   <a href='file:///Users/rickfontenot/miniforge3/envs/mlp/lib/python3.8/site-packages/keras/engine/training.py?line=1379'>1380</a>\u001b[0m     step_num\u001b[39m=\u001b[39mstep,\n\u001b[1;32m   <a href='file:///Users/rickfontenot/miniforge3/envs/mlp/lib/python3.8/site-packages/keras/engine/training.py?line=1380'>1381</a>\u001b[0m     batch_size\u001b[39m=\u001b[39mbatch_size,\n\u001b[1;32m   <a href='file:///Users/rickfontenot/miniforge3/envs/mlp/lib/python3.8/site-packages/keras/engine/training.py?line=1381'>1382</a>\u001b[0m     _r\u001b[39m=\u001b[39m\u001b[39m1\u001b[39m):\n\u001b[1;32m   <a href='file:///Users/rickfontenot/miniforge3/envs/mlp/lib/python3.8/site-packages/keras/engine/training.py?line=1382'>1383</a>\u001b[0m   callbacks\u001b[39m.\u001b[39mon_train_batch_begin(step)\n\u001b[0;32m-> <a href='file:///Users/rickfontenot/miniforge3/envs/mlp/lib/python3.8/site-packages/keras/engine/training.py?line=1383'>1384</a>\u001b[0m   tmp_logs \u001b[39m=\u001b[39m \u001b[39mself\u001b[39;49m\u001b[39m.\u001b[39;49mtrain_function(iterator)\n\u001b[1;32m   <a href='file:///Users/rickfontenot/miniforge3/envs/mlp/lib/python3.8/site-packages/keras/engine/training.py?line=1384'>1385</a>\u001b[0m   \u001b[39mif\u001b[39;00m data_handler\u001b[39m.\u001b[39mshould_sync:\n\u001b[1;32m   <a href='file:///Users/rickfontenot/miniforge3/envs/mlp/lib/python3.8/site-packages/keras/engine/training.py?line=1385'>1386</a>\u001b[0m     context\u001b[39m.\u001b[39masync_wait()\n",
      "File \u001b[0;32m~/miniforge3/envs/mlp/lib/python3.8/site-packages/tensorflow/python/util/traceback_utils.py:150\u001b[0m, in \u001b[0;36mfilter_traceback.<locals>.error_handler\u001b[0;34m(*args, **kwargs)\u001b[0m\n\u001b[1;32m    <a href='file:///Users/rickfontenot/miniforge3/envs/mlp/lib/python3.8/site-packages/tensorflow/python/util/traceback_utils.py?line=147'>148</a>\u001b[0m filtered_tb \u001b[39m=\u001b[39m \u001b[39mNone\u001b[39;00m\n\u001b[1;32m    <a href='file:///Users/rickfontenot/miniforge3/envs/mlp/lib/python3.8/site-packages/tensorflow/python/util/traceback_utils.py?line=148'>149</a>\u001b[0m \u001b[39mtry\u001b[39;00m:\n\u001b[0;32m--> <a href='file:///Users/rickfontenot/miniforge3/envs/mlp/lib/python3.8/site-packages/tensorflow/python/util/traceback_utils.py?line=149'>150</a>\u001b[0m   \u001b[39mreturn\u001b[39;00m fn(\u001b[39m*\u001b[39;49margs, \u001b[39m*\u001b[39;49m\u001b[39m*\u001b[39;49mkwargs)\n\u001b[1;32m    <a href='file:///Users/rickfontenot/miniforge3/envs/mlp/lib/python3.8/site-packages/tensorflow/python/util/traceback_utils.py?line=150'>151</a>\u001b[0m \u001b[39mexcept\u001b[39;00m \u001b[39mException\u001b[39;00m \u001b[39mas\u001b[39;00m e:\n\u001b[1;32m    <a href='file:///Users/rickfontenot/miniforge3/envs/mlp/lib/python3.8/site-packages/tensorflow/python/util/traceback_utils.py?line=151'>152</a>\u001b[0m   filtered_tb \u001b[39m=\u001b[39m _process_traceback_frames(e\u001b[39m.\u001b[39m__traceback__)\n",
      "File \u001b[0;32m~/miniforge3/envs/mlp/lib/python3.8/site-packages/tensorflow/python/eager/def_function.py:915\u001b[0m, in \u001b[0;36mFunction.__call__\u001b[0;34m(self, *args, **kwds)\u001b[0m\n\u001b[1;32m    <a href='file:///Users/rickfontenot/miniforge3/envs/mlp/lib/python3.8/site-packages/tensorflow/python/eager/def_function.py?line=911'>912</a>\u001b[0m compiler \u001b[39m=\u001b[39m \u001b[39m\"\u001b[39m\u001b[39mxla\u001b[39m\u001b[39m\"\u001b[39m \u001b[39mif\u001b[39;00m \u001b[39mself\u001b[39m\u001b[39m.\u001b[39m_jit_compile \u001b[39melse\u001b[39;00m \u001b[39m\"\u001b[39m\u001b[39mnonXla\u001b[39m\u001b[39m\"\u001b[39m\n\u001b[1;32m    <a href='file:///Users/rickfontenot/miniforge3/envs/mlp/lib/python3.8/site-packages/tensorflow/python/eager/def_function.py?line=913'>914</a>\u001b[0m \u001b[39mwith\u001b[39;00m OptionalXlaContext(\u001b[39mself\u001b[39m\u001b[39m.\u001b[39m_jit_compile):\n\u001b[0;32m--> <a href='file:///Users/rickfontenot/miniforge3/envs/mlp/lib/python3.8/site-packages/tensorflow/python/eager/def_function.py?line=914'>915</a>\u001b[0m   result \u001b[39m=\u001b[39m \u001b[39mself\u001b[39;49m\u001b[39m.\u001b[39;49m_call(\u001b[39m*\u001b[39;49margs, \u001b[39m*\u001b[39;49m\u001b[39m*\u001b[39;49mkwds)\n\u001b[1;32m    <a href='file:///Users/rickfontenot/miniforge3/envs/mlp/lib/python3.8/site-packages/tensorflow/python/eager/def_function.py?line=916'>917</a>\u001b[0m new_tracing_count \u001b[39m=\u001b[39m \u001b[39mself\u001b[39m\u001b[39m.\u001b[39mexperimental_get_tracing_count()\n\u001b[1;32m    <a href='file:///Users/rickfontenot/miniforge3/envs/mlp/lib/python3.8/site-packages/tensorflow/python/eager/def_function.py?line=917'>918</a>\u001b[0m without_tracing \u001b[39m=\u001b[39m (tracing_count \u001b[39m==\u001b[39m new_tracing_count)\n",
      "File \u001b[0;32m~/miniforge3/envs/mlp/lib/python3.8/site-packages/tensorflow/python/eager/def_function.py:947\u001b[0m, in \u001b[0;36mFunction._call\u001b[0;34m(self, *args, **kwds)\u001b[0m\n\u001b[1;32m    <a href='file:///Users/rickfontenot/miniforge3/envs/mlp/lib/python3.8/site-packages/tensorflow/python/eager/def_function.py?line=943'>944</a>\u001b[0m   \u001b[39mself\u001b[39m\u001b[39m.\u001b[39m_lock\u001b[39m.\u001b[39mrelease()\n\u001b[1;32m    <a href='file:///Users/rickfontenot/miniforge3/envs/mlp/lib/python3.8/site-packages/tensorflow/python/eager/def_function.py?line=944'>945</a>\u001b[0m   \u001b[39m# In this case we have created variables on the first call, so we run the\u001b[39;00m\n\u001b[1;32m    <a href='file:///Users/rickfontenot/miniforge3/envs/mlp/lib/python3.8/site-packages/tensorflow/python/eager/def_function.py?line=945'>946</a>\u001b[0m   \u001b[39m# defunned version which is guaranteed to never create variables.\u001b[39;00m\n\u001b[0;32m--> <a href='file:///Users/rickfontenot/miniforge3/envs/mlp/lib/python3.8/site-packages/tensorflow/python/eager/def_function.py?line=946'>947</a>\u001b[0m   \u001b[39mreturn\u001b[39;00m \u001b[39mself\u001b[39;49m\u001b[39m.\u001b[39;49m_stateless_fn(\u001b[39m*\u001b[39;49margs, \u001b[39m*\u001b[39;49m\u001b[39m*\u001b[39;49mkwds)  \u001b[39m# pylint: disable=not-callable\u001b[39;00m\n\u001b[1;32m    <a href='file:///Users/rickfontenot/miniforge3/envs/mlp/lib/python3.8/site-packages/tensorflow/python/eager/def_function.py?line=947'>948</a>\u001b[0m \u001b[39melif\u001b[39;00m \u001b[39mself\u001b[39m\u001b[39m.\u001b[39m_stateful_fn \u001b[39mis\u001b[39;00m \u001b[39mnot\u001b[39;00m \u001b[39mNone\u001b[39;00m:\n\u001b[1;32m    <a href='file:///Users/rickfontenot/miniforge3/envs/mlp/lib/python3.8/site-packages/tensorflow/python/eager/def_function.py?line=948'>949</a>\u001b[0m   \u001b[39m# Release the lock early so that multiple threads can perform the call\u001b[39;00m\n\u001b[1;32m    <a href='file:///Users/rickfontenot/miniforge3/envs/mlp/lib/python3.8/site-packages/tensorflow/python/eager/def_function.py?line=949'>950</a>\u001b[0m   \u001b[39m# in parallel.\u001b[39;00m\n\u001b[1;32m    <a href='file:///Users/rickfontenot/miniforge3/envs/mlp/lib/python3.8/site-packages/tensorflow/python/eager/def_function.py?line=950'>951</a>\u001b[0m   \u001b[39mself\u001b[39m\u001b[39m.\u001b[39m_lock\u001b[39m.\u001b[39mrelease()\n",
      "File \u001b[0;32m~/miniforge3/envs/mlp/lib/python3.8/site-packages/tensorflow/python/eager/function.py:2956\u001b[0m, in \u001b[0;36mFunction.__call__\u001b[0;34m(self, *args, **kwargs)\u001b[0m\n\u001b[1;32m   <a href='file:///Users/rickfontenot/miniforge3/envs/mlp/lib/python3.8/site-packages/tensorflow/python/eager/function.py?line=2952'>2953</a>\u001b[0m \u001b[39mwith\u001b[39;00m \u001b[39mself\u001b[39m\u001b[39m.\u001b[39m_lock:\n\u001b[1;32m   <a href='file:///Users/rickfontenot/miniforge3/envs/mlp/lib/python3.8/site-packages/tensorflow/python/eager/function.py?line=2953'>2954</a>\u001b[0m   (graph_function,\n\u001b[1;32m   <a href='file:///Users/rickfontenot/miniforge3/envs/mlp/lib/python3.8/site-packages/tensorflow/python/eager/function.py?line=2954'>2955</a>\u001b[0m    filtered_flat_args) \u001b[39m=\u001b[39m \u001b[39mself\u001b[39m\u001b[39m.\u001b[39m_maybe_define_function(args, kwargs)\n\u001b[0;32m-> <a href='file:///Users/rickfontenot/miniforge3/envs/mlp/lib/python3.8/site-packages/tensorflow/python/eager/function.py?line=2955'>2956</a>\u001b[0m \u001b[39mreturn\u001b[39;00m graph_function\u001b[39m.\u001b[39;49m_call_flat(\n\u001b[1;32m   <a href='file:///Users/rickfontenot/miniforge3/envs/mlp/lib/python3.8/site-packages/tensorflow/python/eager/function.py?line=2956'>2957</a>\u001b[0m     filtered_flat_args, captured_inputs\u001b[39m=\u001b[39;49mgraph_function\u001b[39m.\u001b[39;49mcaptured_inputs)\n",
      "File \u001b[0;32m~/miniforge3/envs/mlp/lib/python3.8/site-packages/tensorflow/python/eager/function.py:1853\u001b[0m, in \u001b[0;36mConcreteFunction._call_flat\u001b[0;34m(self, args, captured_inputs, cancellation_manager)\u001b[0m\n\u001b[1;32m   <a href='file:///Users/rickfontenot/miniforge3/envs/mlp/lib/python3.8/site-packages/tensorflow/python/eager/function.py?line=1848'>1849</a>\u001b[0m possible_gradient_type \u001b[39m=\u001b[39m gradients_util\u001b[39m.\u001b[39mPossibleTapeGradientTypes(args)\n\u001b[1;32m   <a href='file:///Users/rickfontenot/miniforge3/envs/mlp/lib/python3.8/site-packages/tensorflow/python/eager/function.py?line=1849'>1850</a>\u001b[0m \u001b[39mif\u001b[39;00m (possible_gradient_type \u001b[39m==\u001b[39m gradients_util\u001b[39m.\u001b[39mPOSSIBLE_GRADIENT_TYPES_NONE\n\u001b[1;32m   <a href='file:///Users/rickfontenot/miniforge3/envs/mlp/lib/python3.8/site-packages/tensorflow/python/eager/function.py?line=1850'>1851</a>\u001b[0m     \u001b[39mand\u001b[39;00m executing_eagerly):\n\u001b[1;32m   <a href='file:///Users/rickfontenot/miniforge3/envs/mlp/lib/python3.8/site-packages/tensorflow/python/eager/function.py?line=1851'>1852</a>\u001b[0m   \u001b[39m# No tape is watching; skip to running the function.\u001b[39;00m\n\u001b[0;32m-> <a href='file:///Users/rickfontenot/miniforge3/envs/mlp/lib/python3.8/site-packages/tensorflow/python/eager/function.py?line=1852'>1853</a>\u001b[0m   \u001b[39mreturn\u001b[39;00m \u001b[39mself\u001b[39m\u001b[39m.\u001b[39m_build_call_outputs(\u001b[39mself\u001b[39;49m\u001b[39m.\u001b[39;49m_inference_function\u001b[39m.\u001b[39;49mcall(\n\u001b[1;32m   <a href='file:///Users/rickfontenot/miniforge3/envs/mlp/lib/python3.8/site-packages/tensorflow/python/eager/function.py?line=1853'>1854</a>\u001b[0m       ctx, args, cancellation_manager\u001b[39m=\u001b[39;49mcancellation_manager))\n\u001b[1;32m   <a href='file:///Users/rickfontenot/miniforge3/envs/mlp/lib/python3.8/site-packages/tensorflow/python/eager/function.py?line=1854'>1855</a>\u001b[0m forward_backward \u001b[39m=\u001b[39m \u001b[39mself\u001b[39m\u001b[39m.\u001b[39m_select_forward_and_backward_functions(\n\u001b[1;32m   <a href='file:///Users/rickfontenot/miniforge3/envs/mlp/lib/python3.8/site-packages/tensorflow/python/eager/function.py?line=1855'>1856</a>\u001b[0m     args,\n\u001b[1;32m   <a href='file:///Users/rickfontenot/miniforge3/envs/mlp/lib/python3.8/site-packages/tensorflow/python/eager/function.py?line=1856'>1857</a>\u001b[0m     possible_gradient_type,\n\u001b[1;32m   <a href='file:///Users/rickfontenot/miniforge3/envs/mlp/lib/python3.8/site-packages/tensorflow/python/eager/function.py?line=1857'>1858</a>\u001b[0m     executing_eagerly)\n\u001b[1;32m   <a href='file:///Users/rickfontenot/miniforge3/envs/mlp/lib/python3.8/site-packages/tensorflow/python/eager/function.py?line=1858'>1859</a>\u001b[0m forward_function, args_with_tangents \u001b[39m=\u001b[39m forward_backward\u001b[39m.\u001b[39mforward()\n",
      "File \u001b[0;32m~/miniforge3/envs/mlp/lib/python3.8/site-packages/tensorflow/python/eager/function.py:499\u001b[0m, in \u001b[0;36m_EagerDefinedFunction.call\u001b[0;34m(self, ctx, args, cancellation_manager)\u001b[0m\n\u001b[1;32m    <a href='file:///Users/rickfontenot/miniforge3/envs/mlp/lib/python3.8/site-packages/tensorflow/python/eager/function.py?line=496'>497</a>\u001b[0m \u001b[39mwith\u001b[39;00m _InterpolateFunctionError(\u001b[39mself\u001b[39m):\n\u001b[1;32m    <a href='file:///Users/rickfontenot/miniforge3/envs/mlp/lib/python3.8/site-packages/tensorflow/python/eager/function.py?line=497'>498</a>\u001b[0m   \u001b[39mif\u001b[39;00m cancellation_manager \u001b[39mis\u001b[39;00m \u001b[39mNone\u001b[39;00m:\n\u001b[0;32m--> <a href='file:///Users/rickfontenot/miniforge3/envs/mlp/lib/python3.8/site-packages/tensorflow/python/eager/function.py?line=498'>499</a>\u001b[0m     outputs \u001b[39m=\u001b[39m execute\u001b[39m.\u001b[39;49mexecute(\n\u001b[1;32m    <a href='file:///Users/rickfontenot/miniforge3/envs/mlp/lib/python3.8/site-packages/tensorflow/python/eager/function.py?line=499'>500</a>\u001b[0m         \u001b[39mstr\u001b[39;49m(\u001b[39mself\u001b[39;49m\u001b[39m.\u001b[39;49msignature\u001b[39m.\u001b[39;49mname),\n\u001b[1;32m    <a href='file:///Users/rickfontenot/miniforge3/envs/mlp/lib/python3.8/site-packages/tensorflow/python/eager/function.py?line=500'>501</a>\u001b[0m         num_outputs\u001b[39m=\u001b[39;49m\u001b[39mself\u001b[39;49m\u001b[39m.\u001b[39;49m_num_outputs,\n\u001b[1;32m    <a href='file:///Users/rickfontenot/miniforge3/envs/mlp/lib/python3.8/site-packages/tensorflow/python/eager/function.py?line=501'>502</a>\u001b[0m         inputs\u001b[39m=\u001b[39;49margs,\n\u001b[1;32m    <a href='file:///Users/rickfontenot/miniforge3/envs/mlp/lib/python3.8/site-packages/tensorflow/python/eager/function.py?line=502'>503</a>\u001b[0m         attrs\u001b[39m=\u001b[39;49mattrs,\n\u001b[1;32m    <a href='file:///Users/rickfontenot/miniforge3/envs/mlp/lib/python3.8/site-packages/tensorflow/python/eager/function.py?line=503'>504</a>\u001b[0m         ctx\u001b[39m=\u001b[39;49mctx)\n\u001b[1;32m    <a href='file:///Users/rickfontenot/miniforge3/envs/mlp/lib/python3.8/site-packages/tensorflow/python/eager/function.py?line=504'>505</a>\u001b[0m   \u001b[39melse\u001b[39;00m:\n\u001b[1;32m    <a href='file:///Users/rickfontenot/miniforge3/envs/mlp/lib/python3.8/site-packages/tensorflow/python/eager/function.py?line=505'>506</a>\u001b[0m     outputs \u001b[39m=\u001b[39m execute\u001b[39m.\u001b[39mexecute_with_cancellation(\n\u001b[1;32m    <a href='file:///Users/rickfontenot/miniforge3/envs/mlp/lib/python3.8/site-packages/tensorflow/python/eager/function.py?line=506'>507</a>\u001b[0m         \u001b[39mstr\u001b[39m(\u001b[39mself\u001b[39m\u001b[39m.\u001b[39msignature\u001b[39m.\u001b[39mname),\n\u001b[1;32m    <a href='file:///Users/rickfontenot/miniforge3/envs/mlp/lib/python3.8/site-packages/tensorflow/python/eager/function.py?line=507'>508</a>\u001b[0m         num_outputs\u001b[39m=\u001b[39m\u001b[39mself\u001b[39m\u001b[39m.\u001b[39m_num_outputs,\n\u001b[0;32m   (...)\u001b[0m\n\u001b[1;32m    <a href='file:///Users/rickfontenot/miniforge3/envs/mlp/lib/python3.8/site-packages/tensorflow/python/eager/function.py?line=510'>511</a>\u001b[0m         ctx\u001b[39m=\u001b[39mctx,\n\u001b[1;32m    <a href='file:///Users/rickfontenot/miniforge3/envs/mlp/lib/python3.8/site-packages/tensorflow/python/eager/function.py?line=511'>512</a>\u001b[0m         cancellation_manager\u001b[39m=\u001b[39mcancellation_manager)\n",
      "File \u001b[0;32m~/miniforge3/envs/mlp/lib/python3.8/site-packages/tensorflow/python/eager/execute.py:54\u001b[0m, in \u001b[0;36mquick_execute\u001b[0;34m(op_name, num_outputs, inputs, attrs, ctx, name)\u001b[0m\n\u001b[1;32m     <a href='file:///Users/rickfontenot/miniforge3/envs/mlp/lib/python3.8/site-packages/tensorflow/python/eager/execute.py?line=51'>52</a>\u001b[0m \u001b[39mtry\u001b[39;00m:\n\u001b[1;32m     <a href='file:///Users/rickfontenot/miniforge3/envs/mlp/lib/python3.8/site-packages/tensorflow/python/eager/execute.py?line=52'>53</a>\u001b[0m   ctx\u001b[39m.\u001b[39mensure_initialized()\n\u001b[0;32m---> <a href='file:///Users/rickfontenot/miniforge3/envs/mlp/lib/python3.8/site-packages/tensorflow/python/eager/execute.py?line=53'>54</a>\u001b[0m   tensors \u001b[39m=\u001b[39m pywrap_tfe\u001b[39m.\u001b[39;49mTFE_Py_Execute(ctx\u001b[39m.\u001b[39;49m_handle, device_name, op_name,\n\u001b[1;32m     <a href='file:///Users/rickfontenot/miniforge3/envs/mlp/lib/python3.8/site-packages/tensorflow/python/eager/execute.py?line=54'>55</a>\u001b[0m                                       inputs, attrs, num_outputs)\n\u001b[1;32m     <a href='file:///Users/rickfontenot/miniforge3/envs/mlp/lib/python3.8/site-packages/tensorflow/python/eager/execute.py?line=55'>56</a>\u001b[0m \u001b[39mexcept\u001b[39;00m core\u001b[39m.\u001b[39m_NotOkStatusException \u001b[39mas\u001b[39;00m e:\n\u001b[1;32m     <a href='file:///Users/rickfontenot/miniforge3/envs/mlp/lib/python3.8/site-packages/tensorflow/python/eager/execute.py?line=56'>57</a>\u001b[0m   \u001b[39mif\u001b[39;00m name \u001b[39mis\u001b[39;00m \u001b[39mnot\u001b[39;00m \u001b[39mNone\u001b[39;00m:\n",
      "\u001b[0;31mKeyboardInterrupt\u001b[0m: "
     ]
    }
   ],
   "source": [
    "from tensorflow.keras import regularizers\n",
    "\n",
    "research_model = tf.keras.Sequential([\n",
    "    tf.keras.layers.Dense(500, activation='tanh', input_shape=(28,)),\n",
    "    tf.keras.layers.Dropout(0.0),\n",
    "    tf.keras.layers.Dense(400, activation='tanh'),\n",
    "    tf.keras.layers.Dropout(0.0),\n",
    "    tf.keras.layers.Dense(300, activation='tanh'),\n",
    "    tf.keras.layers.Dropout(0.0),\n",
    "    tf.keras.layers.Dense(200, activation='tanh'),\n",
    "    tf.keras.layers.Dropout(0.0),\n",
    "    tf.keras.layers.Dense(100, activation='tanh'),\n",
    "    tf.keras.layers.Dropout(0.0),\n",
    "    tf.keras.layers.Dense(2, activation='softmax')   \n",
    "])\n",
    "\n",
    "research_model.compile(optimizer='adam',\n",
    "              loss=tf.keras.losses.SparseCategoricalCrossentropy(from_logits=True),\n",
    "              metrics=['accuracy'])\n",
    "research_model.fit(train_features_scaled, train_labels, batch_size=5000, epochs=50, callbacks=tb, validation_data=[validation_features_scaled, validation_labels])\n"
   ]
  },
  {
   "cell_type": "code",
   "execution_count": 31,
   "id": "19da1d04",
   "metadata": {},
   "outputs": [
    {
     "ename": "NameError",
     "evalue": "name 'hp' is not defined",
     "output_type": "error",
     "traceback": [
      "\u001b[0;31m---------------------------------------------------------------------------\u001b[0m",
      "\u001b[0;31mNameError\u001b[0m                                 Traceback (most recent call last)",
      "\u001b[1;32m/Users/rickfontenot/Dropbox/SMU/DS7333 Quantifying World/QTW_Github/QTW/QTW/Case Study 6/case6_rick.ipynb Cell 54'\u001b[0m in \u001b[0;36m<cell line: 1>\u001b[0;34m()\u001b[0m\n\u001b[0;32m----> <a href='vscode-notebook-cell:/Users/rickfontenot/Dropbox/SMU/DS7333%20Quantifying%20World/QTW_Github/QTW/QTW/Case%20Study%206/case6_rick.ipynb#ch0000053?line=0'>1</a>\u001b[0m HP_NUM_UNITS \u001b[39m=\u001b[39m hp\u001b[39m.\u001b[39mHParam(\u001b[39m'\u001b[39m\u001b[39mnum_units\u001b[39m\u001b[39m'\u001b[39m, hp\u001b[39m.\u001b[39mDiscrete([\u001b[39m100\u001b[39m, \u001b[39m300\u001b[39m])) \n\u001b[1;32m      <a href='vscode-notebook-cell:/Users/rickfontenot/Dropbox/SMU/DS7333%20Quantifying%20World/QTW_Github/QTW/QTW/Case%20Study%206/case6_rick.ipynb#ch0000053?line=1'>2</a>\u001b[0m HP_DROPOUT \u001b[39m=\u001b[39m hp\u001b[39m.\u001b[39mHParam(\u001b[39m'\u001b[39m\u001b[39mdropout\u001b[39m\u001b[39m'\u001b[39m, hp\u001b[39m.\u001b[39mDiscrete([\u001b[39m0.0\u001b[39m, \u001b[39m0.2\u001b[39m])) \u001b[39m#[0.0, 0.2]\u001b[39;00m\n\u001b[1;32m      <a href='vscode-notebook-cell:/Users/rickfontenot/Dropbox/SMU/DS7333%20Quantifying%20World/QTW_Github/QTW/QTW/Case%20Study%206/case6_rick.ipynb#ch0000053?line=2'>3</a>\u001b[0m HP_OPTIMIZER \u001b[39m=\u001b[39m hp\u001b[39m.\u001b[39mHParam(\u001b[39m'\u001b[39m\u001b[39moptimizer\u001b[39m\u001b[39m'\u001b[39m, hp\u001b[39m.\u001b[39mDiscrete([\u001b[39m'\u001b[39m\u001b[39madam\u001b[39m\u001b[39m'\u001b[39m, \u001b[39m'\u001b[39m\u001b[39msgd\u001b[39m\u001b[39m'\u001b[39m])) \u001b[39m#['adam', 'sgd']\u001b[39;00m\n",
      "\u001b[0;31mNameError\u001b[0m: name 'hp' is not defined"
     ]
    }
   ],
   "source": [
    "\n",
    "HP_NUM_UNITS = hp.HParam('num_units', hp.Discrete([100, 300])) \n",
    "HP_DROPOUT = hp.HParam('dropout', hp.Discrete([0.0, 0.2])) #[0.0, 0.2]\n",
    "HP_OPTIMIZER = hp.HParam('optimizer', hp.Discrete(['adam', 'sgd'])) #['adam', 'sgd']\n",
    "HP_ACTIVATION = hp.HParam('activation', hp.Discrete(['gelu', 'selu', 'swish', 'relu', 'tanh']))\n",
    "\n",
    "METRIC_ACCURACY = 'accuracy'\n",
    "\n",
    "with tf.summary.create_file_writer('logs/hparam_tuning/').as_default():\n",
    "  hp.hparams_config(\n",
    "    hparams=[HP_ACTIVATION, HP_DROPOUT, HP_OPTIMIZER, HP_NUM_UNITS],\n",
    "    metrics=[hp.Metric(METRIC_ACCURACY, display_name='Accuracy')],\n",
    "  )\n"
   ]
  },
  {
   "cell_type": "code",
   "execution_count": null,
   "id": "4bbb1362",
   "metadata": {},
   "outputs": [],
   "source": []
  },
  {
   "cell_type": "code",
   "execution_count": 380,
   "id": "f61b79bf",
   "metadata": {},
   "outputs": [],
   "source": [
    "\n",
    "def train_test_model(hparams):\n",
    "  model = tf.keras.models.Sequential([\n",
    "    tf.keras.layers.Dense(hparams[HP_NUM_UNITS], activation=hparams[HP_ACTIVATION]),\n",
    "    tf.keras.layers.Dropout(hparams[HP_DROPOUT]),\n",
    "    tf.keras.layers.Dense(hparams[HP_NUM_UNITS], activation=hparams[HP_ACTIVATION]),\n",
    "    tf.keras.layers.Dropout(hparams[HP_DROPOUT]),\n",
    "    tf.keras.layers.Dense(hparams[HP_NUM_UNITS], activation=hparams[HP_ACTIVATION]),\n",
    "    tf.keras.layers.Dropout(hparams[HP_DROPOUT]),\n",
    "    tf.keras.layers.Dense(hparams[HP_NUM_UNITS], activation=hparams[HP_ACTIVATION]),\n",
    "    tf.keras.layers.Dropout(hparams[HP_DROPOUT]),\n",
    "    tf.keras.layers.Dense(hparams[HP_NUM_UNITS], activation=hparams[HP_ACTIVATION]),\n",
    "    tf.keras.layers.Dropout(hparams[HP_DROPOUT]),\n",
    "    tf.keras.layers.Dense(2, activation=tf.nn.softmax),\n",
    "  ])\n",
    "  model.compile(\n",
    "      optimizer=hparams[HP_OPTIMIZER],\n",
    "      loss='sparse_categorical_crossentropy',\n",
    "      metrics=['accuracy'],\n",
    "  )\n",
    "\n",
    "  model.fit(train_features_scaled, train_labels, batch_size=5000, epochs=5, validation_data=[validation_features_scaled, validation_labels]) # Run with 1 epoch to speed things up for demo purposes\n",
    "  _, accuracy = model.evaluate(validation_features_scaled, validation_labels, batch_size=5000, ) #callbacks=[tf.keras.callbacks.TensorBoard('logs/hparam_tuning'),hp.KerasCallback('logs/hparam_tuning', hparams)]\n",
    "  return accuracy\n"
   ]
  },
  {
   "cell_type": "code",
   "execution_count": 353,
   "id": "06b746e4",
   "metadata": {},
   "outputs": [
    {
     "data": {
      "text/plain": [
       "([HParam(name='activation', domain=Discrete(['gelu', 'relu', 'selu', 'swish', 'tanh']), display_name=None, description=None),\n",
       "  HParam(name='dropout', domain=Discrete([0.0001]), display_name=None, description=None),\n",
       "  HParam(name='optimizer', domain=Discrete(['adam']), display_name=None, description=None),\n",
       "  HParam(name='num_units', domain=Discrete([300]), display_name=None, description=None)],)"
      ]
     },
     "execution_count": 353,
     "metadata": {},
     "output_type": "execute_result"
    }
   ],
   "source": []
  },
  {
   "cell_type": "code",
   "execution_count": 381,
   "id": "ec139533",
   "metadata": {},
   "outputs": [],
   "source": [
    "def run(run_dir, hparams):\n",
    "  with tf.summary.create_file_writer(run_dir).as_default():\n",
    "    hp.hparams(hparams)  # record the values used in this trial\n",
    "    accuracy = train_test_model(hparams)\n",
    "    tf.summary.scalar(METRIC_ACCURACY, accuracy, step=1)"
   ]
  },
  {
   "cell_type": "code",
   "execution_count": 382,
   "id": "213d9263",
   "metadata": {},
   "outputs": [
    {
     "name": "stdout",
     "output_type": "stream",
     "text": [
      "--- Starting trial: run-0\n",
      "{'activation': 'gelu', 'dropout': 0.0, 'optimizer': 'adam', 'num_units': 300}\n",
      "Epoch 1/5\n"
     ]
    },
    {
     "name": "stderr",
     "output_type": "stream",
     "text": [
      "2022-03-25 19:06:09.969119: I tensorflow/core/grappler/optimizers/custom_graph_optimizer_registry.cc:113] Plugin optimizer for device_type GPU is enabled.\n"
     ]
    },
    {
     "name": "stdout",
     "output_type": "stream",
     "text": [
      "1120/1120 [==============================] - ETA: 0s - loss: 0.2850 - accuracy: 0.8690"
     ]
    },
    {
     "name": "stderr",
     "output_type": "stream",
     "text": [
      "2022-03-25 19:07:07.247469: I tensorflow/core/grappler/optimizers/custom_graph_optimizer_registry.cc:113] Plugin optimizer for device_type GPU is enabled.\n"
     ]
    },
    {
     "name": "stdout",
     "output_type": "stream",
     "text": [
      "1120/1120 [==============================] - 61s 52ms/step - loss: 0.2850 - accuracy: 0.8690 - val_loss: 0.2679 - val_accuracy: 0.8786\n",
      "Epoch 2/5\n",
      "1120/1120 [==============================] - 56s 50ms/step - loss: 0.2650 - accuracy: 0.8803 - val_loss: 0.2627 - val_accuracy: 0.8816\n",
      "Epoch 3/5\n",
      "1120/1120 [==============================] - 53s 47ms/step - loss: 0.2614 - accuracy: 0.8825 - val_loss: 0.2609 - val_accuracy: 0.8828\n",
      "Epoch 4/5\n",
      "1120/1120 [==============================] - 53s 48ms/step - loss: 0.2593 - accuracy: 0.8836 - val_loss: 0.2592 - val_accuracy: 0.8835\n",
      "Epoch 5/5\n",
      "1120/1120 [==============================] - 56s 50ms/step - loss: 0.2577 - accuracy: 0.8844 - val_loss: 0.2586 - val_accuracy: 0.8837\n",
      "140/140 [==============================] - 3s 20ms/step - loss: 0.2586 - accuracy: 0.8837\n",
      "--- Starting trial: run-1\n",
      "{'activation': 'gelu', 'dropout': 0.0, 'optimizer': 'sgd', 'num_units': 300}\n",
      "Epoch 1/5\n"
     ]
    },
    {
     "name": "stderr",
     "output_type": "stream",
     "text": [
      "2022-03-25 19:11:00.320804: I tensorflow/core/grappler/optimizers/custom_graph_optimizer_registry.cc:113] Plugin optimizer for device_type GPU is enabled.\n"
     ]
    },
    {
     "name": "stdout",
     "output_type": "stream",
     "text": [
      "1120/1120 [==============================] - ETA: 0s - loss: 0.5107 - accuracy: 0.7927"
     ]
    },
    {
     "name": "stderr",
     "output_type": "stream",
     "text": [
      "2022-03-25 19:11:56.721831: I tensorflow/core/grappler/optimizers/custom_graph_optimizer_registry.cc:113] Plugin optimizer for device_type GPU is enabled.\n"
     ]
    },
    {
     "name": "stdout",
     "output_type": "stream",
     "text": [
      "1120/1120 [==============================] - 62s 53ms/step - loss: 0.5107 - accuracy: 0.7927 - val_loss: 0.3878 - val_accuracy: 0.8237\n",
      "Epoch 2/5\n",
      "1120/1120 [==============================] - 61s 55ms/step - loss: 0.3654 - accuracy: 0.8319 - val_loss: 0.3540 - val_accuracy: 0.8365\n",
      "Epoch 3/5\n",
      "1120/1120 [==============================] - 55s 49ms/step - loss: 0.3487 - accuracy: 0.8384 - val_loss: 0.3447 - val_accuracy: 0.8397\n",
      "Epoch 4/5\n",
      "1120/1120 [==============================] - 55s 49ms/step - loss: 0.3413 - accuracy: 0.8410 - val_loss: 0.3387 - val_accuracy: 0.8420\n",
      "Epoch 5/5\n",
      "1120/1120 [==============================] - 57s 51ms/step - loss: 0.3363 - accuracy: 0.8431 - val_loss: 0.3345 - val_accuracy: 0.8439\n",
      "140/140 [==============================] - 3s 23ms/step - loss: 0.3345 - accuracy: 0.8439\n",
      "--- Starting trial: run-2\n",
      "{'activation': 'gelu', 'dropout': 0.2, 'optimizer': 'adam', 'num_units': 300}\n",
      "Epoch 1/5\n"
     ]
    },
    {
     "name": "stderr",
     "output_type": "stream",
     "text": [
      "2022-03-25 19:16:01.224047: I tensorflow/core/grappler/optimizers/custom_graph_optimizer_registry.cc:113] Plugin optimizer for device_type GPU is enabled.\n"
     ]
    },
    {
     "name": "stdout",
     "output_type": "stream",
     "text": [
      "1120/1120 [==============================] - ETA: 0s - loss: 0.2964 - accuracy: 0.8624"
     ]
    },
    {
     "name": "stderr",
     "output_type": "stream",
     "text": [
      "2022-03-25 19:17:17.903235: I tensorflow/core/grappler/optimizers/custom_graph_optimizer_registry.cc:113] Plugin optimizer for device_type GPU is enabled.\n"
     ]
    },
    {
     "name": "stdout",
     "output_type": "stream",
     "text": [
      "1120/1120 [==============================] - 81s 69ms/step - loss: 0.2964 - accuracy: 0.8624 - val_loss: 0.2746 - val_accuracy: 0.8754\n",
      "Epoch 2/5\n",
      "1120/1120 [==============================] - 73s 65ms/step - loss: 0.2765 - accuracy: 0.8745 - val_loss: 0.2670 - val_accuracy: 0.8792\n",
      "Epoch 3/5\n",
      "1120/1120 [==============================] - 67s 60ms/step - loss: 0.2715 - accuracy: 0.8773 - val_loss: 0.2639 - val_accuracy: 0.8813\n",
      "Epoch 4/5\n",
      "1120/1120 [==============================] - 66s 59ms/step - loss: 0.2691 - accuracy: 0.8787 - val_loss: 0.2621 - val_accuracy: 0.8820\n",
      "Epoch 5/5\n",
      "1120/1120 [==============================] - 64s 56ms/step - loss: 0.2676 - accuracy: 0.8796 - val_loss: 0.2613 - val_accuracy: 0.8828\n",
      "140/140 [==============================] - 3s 20ms/step - loss: 0.2613 - accuracy: 0.8828\n",
      "--- Starting trial: run-3\n",
      "{'activation': 'gelu', 'dropout': 0.2, 'optimizer': 'sgd', 'num_units': 300}\n",
      "Epoch 1/5\n"
     ]
    },
    {
     "name": "stderr",
     "output_type": "stream",
     "text": [
      "2022-03-25 19:22:03.018508: I tensorflow/core/grappler/optimizers/custom_graph_optimizer_registry.cc:113] Plugin optimizer for device_type GPU is enabled.\n"
     ]
    },
    {
     "name": "stdout",
     "output_type": "stream",
     "text": [
      "1120/1120 [==============================] - ETA: 0s - loss: 0.5150 - accuracy: 0.7795"
     ]
    },
    {
     "name": "stderr",
     "output_type": "stream",
     "text": [
      "2022-03-25 19:23:08.377318: I tensorflow/core/grappler/optimizers/custom_graph_optimizer_registry.cc:113] Plugin optimizer for device_type GPU is enabled.\n"
     ]
    },
    {
     "name": "stdout",
     "output_type": "stream",
     "text": [
      "1120/1120 [==============================] - 69s 59ms/step - loss: 0.5150 - accuracy: 0.7795 - val_loss: 0.3901 - val_accuracy: 0.8230\n",
      "Epoch 2/5\n",
      "1120/1120 [==============================] - 65s 58ms/step - loss: 0.3739 - accuracy: 0.8292 - val_loss: 0.3552 - val_accuracy: 0.8355\n",
      "Epoch 3/5\n",
      "1120/1120 [==============================] - 61s 55ms/step - loss: 0.3572 - accuracy: 0.8354 - val_loss: 0.3460 - val_accuracy: 0.8387\n",
      "Epoch 4/5\n",
      "1120/1120 [==============================] - 60s 54ms/step - loss: 0.3500 - accuracy: 0.8377 - val_loss: 0.3406 - val_accuracy: 0.8404\n",
      "Epoch 5/5\n",
      "1120/1120 [==============================] - 60s 53ms/step - loss: 0.3453 - accuracy: 0.8392 - val_loss: 0.3367 - val_accuracy: 0.8419\n",
      "140/140 [==============================] - 2s 17ms/step - loss: 0.3367 - accuracy: 0.8419\n",
      "--- Starting trial: run-4\n",
      "{'activation': 'relu', 'dropout': 0.0, 'optimizer': 'adam', 'num_units': 300}\n",
      "Epoch 1/5\n"
     ]
    },
    {
     "name": "stderr",
     "output_type": "stream",
     "text": [
      "2022-03-25 19:27:26.447890: I tensorflow/core/grappler/optimizers/custom_graph_optimizer_registry.cc:113] Plugin optimizer for device_type GPU is enabled.\n"
     ]
    },
    {
     "name": "stdout",
     "output_type": "stream",
     "text": [
      "1120/1120 [==============================] - ETA: 0s - loss: 0.2812 - accuracy: 0.8716"
     ]
    },
    {
     "name": "stderr",
     "output_type": "stream",
     "text": [
      "2022-03-25 19:27:59.211394: I tensorflow/core/grappler/optimizers/custom_graph_optimizer_registry.cc:113] Plugin optimizer for device_type GPU is enabled.\n"
     ]
    },
    {
     "name": "stdout",
     "output_type": "stream",
     "text": [
      "1120/1120 [==============================] - 36s 30ms/step - loss: 0.2812 - accuracy: 0.8716 - val_loss: 0.2690 - val_accuracy: 0.8784\n",
      "Epoch 2/5\n",
      "1120/1120 [==============================] - 32s 28ms/step - loss: 0.2648 - accuracy: 0.8807 - val_loss: 0.2651 - val_accuracy: 0.8809\n",
      "Epoch 3/5\n",
      "1120/1120 [==============================] - 28s 25ms/step - loss: 0.2614 - accuracy: 0.8826 - val_loss: 0.2614 - val_accuracy: 0.8824\n",
      "Epoch 4/5\n",
      "1120/1120 [==============================] - 28s 25ms/step - loss: 0.2594 - accuracy: 0.8836 - val_loss: 0.2607 - val_accuracy: 0.8830\n",
      "Epoch 5/5\n",
      "1120/1120 [==============================] - 26s 24ms/step - loss: 0.2578 - accuracy: 0.8845 - val_loss: 0.2592 - val_accuracy: 0.8837\n",
      "140/140 [==============================] - 2s 16ms/step - loss: 0.2592 - accuracy: 0.8837\n",
      "--- Starting trial: run-5\n",
      "{'activation': 'relu', 'dropout': 0.0, 'optimizer': 'sgd', 'num_units': 300}\n",
      "Epoch 1/5\n"
     ]
    },
    {
     "name": "stderr",
     "output_type": "stream",
     "text": [
      "2022-03-25 19:30:02.553504: I tensorflow/core/grappler/optimizers/custom_graph_optimizer_registry.cc:113] Plugin optimizer for device_type GPU is enabled.\n"
     ]
    },
    {
     "name": "stdout",
     "output_type": "stream",
     "text": [
      "1120/1120 [==============================] - ETA: 0s - loss: 0.4022 - accuracy: 0.8155"
     ]
    },
    {
     "name": "stderr",
     "output_type": "stream",
     "text": [
      "2022-03-25 19:30:34.415264: I tensorflow/core/grappler/optimizers/custom_graph_optimizer_registry.cc:113] Plugin optimizer for device_type GPU is enabled.\n"
     ]
    },
    {
     "name": "stdout",
     "output_type": "stream",
     "text": [
      "1120/1120 [==============================] - 35s 29ms/step - loss: 0.4022 - accuracy: 0.8155 - val_loss: 0.3429 - val_accuracy: 0.8417\n",
      "Epoch 2/5\n",
      "1120/1120 [==============================] - 30s 27ms/step - loss: 0.3345 - accuracy: 0.8451 - val_loss: 0.3285 - val_accuracy: 0.8478\n",
      "Epoch 3/5\n",
      "1120/1120 [==============================] - 30s 27ms/step - loss: 0.3248 - accuracy: 0.8494 - val_loss: 0.3215 - val_accuracy: 0.8510\n",
      "Epoch 4/5\n",
      "1120/1120 [==============================] - 28s 25ms/step - loss: 0.3184 - accuracy: 0.8523 - val_loss: 0.3156 - val_accuracy: 0.8535\n",
      "Epoch 5/5\n",
      "1120/1120 [==============================] - 27s 24ms/step - loss: 0.3126 - accuracy: 0.8546 - val_loss: 0.3102 - val_accuracy: 0.8554\n",
      "140/140 [==============================] - 2s 14ms/step - loss: 0.3102 - accuracy: 0.8554\n",
      "--- Starting trial: run-6\n",
      "{'activation': 'relu', 'dropout': 0.2, 'optimizer': 'adam', 'num_units': 300}\n",
      "Epoch 1/5\n"
     ]
    },
    {
     "name": "stderr",
     "output_type": "stream",
     "text": [
      "2022-03-25 19:32:38.737354: I tensorflow/core/grappler/optimizers/custom_graph_optimizer_registry.cc:113] Plugin optimizer for device_type GPU is enabled.\n"
     ]
    },
    {
     "name": "stdout",
     "output_type": "stream",
     "text": [
      "1120/1120 [==============================] - ETA: 0s - loss: 0.2964 - accuracy: 0.8633"
     ]
    },
    {
     "name": "stderr",
     "output_type": "stream",
     "text": [
      "2022-03-25 19:33:28.263832: I tensorflow/core/grappler/optimizers/custom_graph_optimizer_registry.cc:113] Plugin optimizer for device_type GPU is enabled.\n"
     ]
    },
    {
     "name": "stdout",
     "output_type": "stream",
     "text": [
      "1120/1120 [==============================] - 52s 44ms/step - loss: 0.2964 - accuracy: 0.8633 - val_loss: 0.2722 - val_accuracy: 0.8773\n",
      "Epoch 2/5\n",
      "1120/1120 [==============================] - 50s 44ms/step - loss: 0.2755 - accuracy: 0.8755 - val_loss: 0.2664 - val_accuracy: 0.8803\n",
      "Epoch 3/5\n",
      "1120/1120 [==============================] - 49s 44ms/step - loss: 0.2711 - accuracy: 0.8777 - val_loss: 0.2661 - val_accuracy: 0.8812\n",
      "Epoch 4/5\n",
      "1120/1120 [==============================] - 49s 44ms/step - loss: 0.2690 - accuracy: 0.8790 - val_loss: 0.2628 - val_accuracy: 0.8819\n",
      "Epoch 5/5\n",
      "1120/1120 [==============================] - 49s 43ms/step - loss: 0.2674 - accuracy: 0.8798 - val_loss: 0.2630 - val_accuracy: 0.8821\n",
      "140/140 [==============================] - 2s 13ms/step - loss: 0.2630 - accuracy: 0.8821\n",
      "--- Starting trial: run-7\n",
      "{'activation': 'relu', 'dropout': 0.2, 'optimizer': 'sgd', 'num_units': 300}\n",
      "Epoch 1/5\n"
     ]
    },
    {
     "name": "stderr",
     "output_type": "stream",
     "text": [
      "2022-03-25 19:36:53.511584: I tensorflow/core/grappler/optimizers/custom_graph_optimizer_registry.cc:113] Plugin optimizer for device_type GPU is enabled.\n"
     ]
    },
    {
     "name": "stdout",
     "output_type": "stream",
     "text": [
      "1119/1120 [============================>.] - ETA: 0s - loss: 0.4476 - accuracy: 0.7872"
     ]
    },
    {
     "name": "stderr",
     "output_type": "stream",
     "text": [
      "2022-03-25 19:37:40.946934: I tensorflow/core/grappler/optimizers/custom_graph_optimizer_registry.cc:113] Plugin optimizer for device_type GPU is enabled.\n"
     ]
    },
    {
     "name": "stdout",
     "output_type": "stream",
     "text": [
      "1120/1120 [==============================] - 51s 44ms/step - loss: 0.4476 - accuracy: 0.7873 - val_loss: 0.3523 - val_accuracy: 0.8367\n",
      "Epoch 2/5\n",
      "1120/1120 [==============================] - 46s 41ms/step - loss: 0.3634 - accuracy: 0.8318 - val_loss: 0.3365 - val_accuracy: 0.8432\n",
      "Epoch 3/5\n",
      "1120/1120 [==============================] - 48s 43ms/step - loss: 0.3500 - accuracy: 0.8366 - val_loss: 0.3306 - val_accuracy: 0.8458\n",
      "Epoch 4/5\n",
      "1120/1120 [==============================] - 46s 41ms/step - loss: 0.3436 - accuracy: 0.8392 - val_loss: 0.3271 - val_accuracy: 0.8478\n",
      "Epoch 5/5\n",
      "1120/1120 [==============================] - 45s 41ms/step - loss: 0.3391 - accuracy: 0.8412 - val_loss: 0.3246 - val_accuracy: 0.8492\n",
      "140/140 [==============================] - 2s 15ms/step - loss: 0.3246 - accuracy: 0.8492\n",
      "--- Starting trial: run-8\n",
      "{'activation': 'selu', 'dropout': 0.0, 'optimizer': 'adam', 'num_units': 300}\n",
      "Epoch 1/5\n"
     ]
    },
    {
     "name": "stderr",
     "output_type": "stream",
     "text": [
      "2022-03-25 19:40:55.006975: I tensorflow/core/grappler/optimizers/custom_graph_optimizer_registry.cc:113] Plugin optimizer for device_type GPU is enabled.\n"
     ]
    },
    {
     "name": "stdout",
     "output_type": "stream",
     "text": [
      "1120/1120 [==============================] - ETA: 0s - loss: 0.2917 - accuracy: 0.8658"
     ]
    },
    {
     "name": "stderr",
     "output_type": "stream",
     "text": [
      "2022-03-25 19:42:42.114126: I tensorflow/core/grappler/optimizers/custom_graph_optimizer_registry.cc:113] Plugin optimizer for device_type GPU is enabled.\n"
     ]
    },
    {
     "name": "stdout",
     "output_type": "stream",
     "text": [
      "1120/1120 [==============================] - 114s 100ms/step - loss: 0.2917 - accuracy: 0.8658 - val_loss: 0.2770 - val_accuracy: 0.8736\n",
      "Epoch 2/5\n",
      "1120/1120 [==============================] - 109s 97ms/step - loss: 0.2739 - accuracy: 0.8756 - val_loss: 0.2721 - val_accuracy: 0.8753\n",
      "Epoch 3/5\n",
      "1120/1120 [==============================] - 111s 100ms/step - loss: 0.2693 - accuracy: 0.8780 - val_loss: 0.2690 - val_accuracy: 0.8786\n",
      "Epoch 4/5\n",
      "1120/1120 [==============================] - 102s 91ms/step - loss: 0.2664 - accuracy: 0.8796 - val_loss: 0.2660 - val_accuracy: 0.8797\n",
      "Epoch 5/5\n",
      "1120/1120 [==============================] - 105s 94ms/step - loss: 0.2644 - accuracy: 0.8809 - val_loss: 0.2647 - val_accuracy: 0.8807\n",
      "140/140 [==============================] - 6s 44ms/step - loss: 0.2647 - accuracy: 0.8807\n",
      "--- Starting trial: run-9\n",
      "{'activation': 'selu', 'dropout': 0.0, 'optimizer': 'sgd', 'num_units': 300}\n",
      "Epoch 1/5\n"
     ]
    },
    {
     "name": "stderr",
     "output_type": "stream",
     "text": [
      "2022-03-25 19:50:07.979564: I tensorflow/core/grappler/optimizers/custom_graph_optimizer_registry.cc:113] Plugin optimizer for device_type GPU is enabled.\n"
     ]
    },
    {
     "name": "stdout",
     "output_type": "stream",
     "text": [
      "1120/1120 [==============================] - ETA: 0s - loss: 0.3457 - accuracy: 0.8414"
     ]
    },
    {
     "name": "stderr",
     "output_type": "stream",
     "text": [
      "2022-03-25 19:51:54.947672: I tensorflow/core/grappler/optimizers/custom_graph_optimizer_registry.cc:113] Plugin optimizer for device_type GPU is enabled.\n"
     ]
    },
    {
     "name": "stdout",
     "output_type": "stream",
     "text": [
      "1120/1120 [==============================] - 115s 102ms/step - loss: 0.3457 - accuracy: 0.8414 - val_loss: 0.3250 - val_accuracy: 0.8496\n",
      "Epoch 2/5\n",
      "1120/1120 [==============================] - 110s 98ms/step - loss: 0.3148 - accuracy: 0.8531 - val_loss: 0.3090 - val_accuracy: 0.8556\n",
      "Epoch 3/5\n",
      "1120/1120 [==============================] - 113s 101ms/step - loss: 0.3057 - accuracy: 0.8571 - val_loss: 0.3035 - val_accuracy: 0.8586\n",
      "Epoch 4/5\n",
      "1120/1120 [==============================] - 105s 94ms/step - loss: 0.3012 - accuracy: 0.8594 - val_loss: 0.2995 - val_accuracy: 0.8605\n",
      "Epoch 5/5\n",
      "1120/1120 [==============================] - 102s 91ms/step - loss: 0.2974 - accuracy: 0.8613 - val_loss: 0.2960 - val_accuracy: 0.8622\n",
      "140/140 [==============================] - 7s 45ms/step - loss: 0.2960 - accuracy: 0.8622\n",
      "--- Starting trial: run-10\n",
      "{'activation': 'selu', 'dropout': 0.2, 'optimizer': 'adam', 'num_units': 300}\n",
      "Epoch 1/5\n"
     ]
    },
    {
     "name": "stderr",
     "output_type": "stream",
     "text": [
      "2022-03-25 19:59:25.161033: I tensorflow/core/grappler/optimizers/custom_graph_optimizer_registry.cc:113] Plugin optimizer for device_type GPU is enabled.\n"
     ]
    },
    {
     "name": "stdout",
     "output_type": "stream",
     "text": [
      "1120/1120 [==============================] - ETA: 0s - loss: 0.3181 - accuracy: 0.8513"
     ]
    },
    {
     "name": "stderr",
     "output_type": "stream",
     "text": [
      "2022-03-25 20:01:30.610675: I tensorflow/core/grappler/optimizers/custom_graph_optimizer_registry.cc:113] Plugin optimizer for device_type GPU is enabled.\n"
     ]
    },
    {
     "name": "stdout",
     "output_type": "stream",
     "text": [
      "1120/1120 [==============================] - 132s 117ms/step - loss: 0.3181 - accuracy: 0.8513 - val_loss: 0.2860 - val_accuracy: 0.8681\n",
      "Epoch 2/5\n",
      "1120/1120 [==============================] - 128s 113ms/step - loss: 0.2901 - accuracy: 0.8662 - val_loss: 0.2768 - val_accuracy: 0.8742\n",
      "Epoch 3/5\n",
      "1120/1120 [==============================] - 130s 116ms/step - loss: 0.2835 - accuracy: 0.8706 - val_loss: 0.2724 - val_accuracy: 0.8765\n",
      "Epoch 4/5\n",
      "1120/1120 [==============================] - 126s 112ms/step - loss: 0.2798 - accuracy: 0.8727 - val_loss: 0.2729 - val_accuracy: 0.8769\n",
      "Epoch 5/5\n",
      "1120/1120 [==============================] - 121s 108ms/step - loss: 0.2773 - accuracy: 0.8744 - val_loss: 0.2683 - val_accuracy: 0.8790\n",
      "140/140 [==============================] - 7s 51ms/step - loss: 0.2683 - accuracy: 0.8790\n",
      "--- Starting trial: run-11\n",
      "{'activation': 'selu', 'dropout': 0.2, 'optimizer': 'sgd', 'num_units': 300}\n",
      "Epoch 1/5\n"
     ]
    },
    {
     "name": "stderr",
     "output_type": "stream",
     "text": [
      "2022-03-25 20:10:15.169410: I tensorflow/core/grappler/optimizers/custom_graph_optimizer_registry.cc:113] Plugin optimizer for device_type GPU is enabled.\n"
     ]
    },
    {
     "name": "stdout",
     "output_type": "stream",
     "text": [
      "1120/1120 [==============================] - ETA: 0s - loss: 0.4181 - accuracy: 0.8146"
     ]
    },
    {
     "name": "stderr",
     "output_type": "stream",
     "text": [
      "2022-03-25 20:12:26.816286: I tensorflow/core/grappler/optimizers/custom_graph_optimizer_registry.cc:113] Plugin optimizer for device_type GPU is enabled.\n"
     ]
    },
    {
     "name": "stdout",
     "output_type": "stream",
     "text": [
      "1120/1120 [==============================] - 140s 123ms/step - loss: 0.4181 - accuracy: 0.8146 - val_loss: 0.3480 - val_accuracy: 0.8396\n",
      "Epoch 2/5\n",
      "1120/1120 [==============================] - 132s 118ms/step - loss: 0.3607 - accuracy: 0.8317 - val_loss: 0.3267 - val_accuracy: 0.8470\n",
      "Epoch 3/5\n",
      "1120/1120 [==============================] - 134s 119ms/step - loss: 0.3434 - accuracy: 0.8366 - val_loss: 0.3224 - val_accuracy: 0.8479\n",
      "Epoch 4/5\n",
      "1120/1120 [==============================] - 126s 112ms/step - loss: 0.3364 - accuracy: 0.8391 - val_loss: 0.3200 - val_accuracy: 0.8490\n",
      "Epoch 5/5\n",
      "1120/1120 [==============================] - 116s 103ms/step - loss: 0.3325 - accuracy: 0.8406 - val_loss: 0.3181 - val_accuracy: 0.8504\n",
      "140/140 [==============================] - 5s 35ms/step - loss: 0.3181 - accuracy: 0.8504\n",
      "--- Starting trial: run-12\n",
      "{'activation': 'swish', 'dropout': 0.0, 'optimizer': 'adam', 'num_units': 300}\n",
      "Epoch 1/5\n"
     ]
    },
    {
     "name": "stderr",
     "output_type": "stream",
     "text": [
      "2022-03-25 20:21:09.078688: I tensorflow/core/grappler/optimizers/custom_graph_optimizer_registry.cc:113] Plugin optimizer for device_type GPU is enabled.\n"
     ]
    },
    {
     "name": "stdout",
     "output_type": "stream",
     "text": [
      "1119/1120 [============================>.] - ETA: 0s - loss: 0.2907 - accuracy: 0.8658"
     ]
    },
    {
     "name": "stderr",
     "output_type": "stream",
     "text": [
      "2022-03-25 20:22:00.635366: I tensorflow/core/grappler/optimizers/custom_graph_optimizer_registry.cc:113] Plugin optimizer for device_type GPU is enabled.\n"
     ]
    },
    {
     "name": "stdout",
     "output_type": "stream",
     "text": [
      "1120/1120 [==============================] - 54s 47ms/step - loss: 0.2907 - accuracy: 0.8658 - val_loss: 0.2741 - val_accuracy: 0.8751\n",
      "Epoch 2/5\n",
      "1120/1120 [==============================] - 37s 33ms/step - loss: 0.2683 - accuracy: 0.8785 - val_loss: 0.2650 - val_accuracy: 0.8805\n",
      "Epoch 3/5\n",
      "1120/1120 [==============================] - 36s 32ms/step - loss: 0.2630 - accuracy: 0.8816 - val_loss: 0.2633 - val_accuracy: 0.8816\n",
      "Epoch 4/5\n",
      "1120/1120 [==============================] - 35s 32ms/step - loss: 0.2607 - accuracy: 0.8828 - val_loss: 0.2602 - val_accuracy: 0.8831\n",
      "Epoch 5/5\n",
      "1120/1120 [==============================] - 35s 31ms/step - loss: 0.2590 - accuracy: 0.8837 - val_loss: 0.2595 - val_accuracy: 0.8837\n",
      "140/140 [==============================] - 2s 11ms/step - loss: 0.2595 - accuracy: 0.8837\n",
      "--- Starting trial: run-13\n",
      "{'activation': 'swish', 'dropout': 0.0, 'optimizer': 'sgd', 'num_units': 300}\n",
      "Epoch 1/5\n"
     ]
    },
    {
     "name": "stderr",
     "output_type": "stream",
     "text": [
      "2022-03-25 20:24:30.922040: I tensorflow/core/grappler/optimizers/custom_graph_optimizer_registry.cc:113] Plugin optimizer for device_type GPU is enabled.\n"
     ]
    },
    {
     "name": "stdout",
     "output_type": "stream",
     "text": [
      "1120/1120 [==============================] - ETA: 0s - loss: 0.5201 - accuracy: 0.7928"
     ]
    },
    {
     "name": "stderr",
     "output_type": "stream",
     "text": [
      "2022-03-25 20:25:05.252539: I tensorflow/core/grappler/optimizers/custom_graph_optimizer_registry.cc:113] Plugin optimizer for device_type GPU is enabled.\n"
     ]
    },
    {
     "name": "stdout",
     "output_type": "stream",
     "text": [
      "1120/1120 [==============================] - 37s 32ms/step - loss: 0.5201 - accuracy: 0.7928 - val_loss: 0.3937 - val_accuracy: 0.8222\n",
      "Epoch 2/5\n",
      "1120/1120 [==============================] - 35s 31ms/step - loss: 0.3726 - accuracy: 0.8306 - val_loss: 0.3623 - val_accuracy: 0.8349\n",
      "Epoch 3/5\n",
      "1120/1120 [==============================] - 35s 31ms/step - loss: 0.3581 - accuracy: 0.8364 - val_loss: 0.3550 - val_accuracy: 0.8374\n",
      "Epoch 4/5\n",
      "1120/1120 [==============================] - 34s 31ms/step - loss: 0.3520 - accuracy: 0.8382 - val_loss: 0.3496 - val_accuracy: 0.8391\n",
      "Epoch 5/5\n",
      "1120/1120 [==============================] - 34s 31ms/step - loss: 0.3471 - accuracy: 0.8396 - val_loss: 0.3450 - val_accuracy: 0.8403\n",
      "140/140 [==============================] - 2s 11ms/step - loss: 0.3450 - accuracy: 0.8403\n",
      "--- Starting trial: run-14\n",
      "{'activation': 'swish', 'dropout': 0.2, 'optimizer': 'adam', 'num_units': 300}\n",
      "Epoch 1/5\n"
     ]
    },
    {
     "name": "stderr",
     "output_type": "stream",
     "text": [
      "2022-03-25 20:27:32.606346: I tensorflow/core/grappler/optimizers/custom_graph_optimizer_registry.cc:113] Plugin optimizer for device_type GPU is enabled.\n"
     ]
    },
    {
     "name": "stdout",
     "output_type": "stream",
     "text": [
      "1119/1120 [============================>.] - ETA: 0s - loss: 0.3008 - accuracy: 0.8599"
     ]
    },
    {
     "name": "stderr",
     "output_type": "stream",
     "text": [
      "2022-03-25 20:28:18.872928: I tensorflow/core/grappler/optimizers/custom_graph_optimizer_registry.cc:113] Plugin optimizer for device_type GPU is enabled.\n"
     ]
    },
    {
     "name": "stdout",
     "output_type": "stream",
     "text": [
      "1120/1120 [==============================] - 49s 42ms/step - loss: 0.3007 - accuracy: 0.8599 - val_loss: 0.2787 - val_accuracy: 0.8722\n",
      "Epoch 2/5\n",
      "1120/1120 [==============================] - 47s 42ms/step - loss: 0.2808 - accuracy: 0.8718 - val_loss: 0.2707 - val_accuracy: 0.8775\n",
      "Epoch 3/5\n",
      "1120/1120 [==============================] - 46s 41ms/step - loss: 0.2748 - accuracy: 0.8755 - val_loss: 0.2666 - val_accuracy: 0.8799\n",
      "Epoch 4/5\n",
      "1120/1120 [==============================] - 47s 42ms/step - loss: 0.2717 - accuracy: 0.8774 - val_loss: 0.2641 - val_accuracy: 0.8807\n",
      "Epoch 5/5\n",
      "1120/1120 [==============================] - 47s 42ms/step - loss: 0.2696 - accuracy: 0.8785 - val_loss: 0.2624 - val_accuracy: 0.8816\n",
      "140/140 [==============================] - 2s 13ms/step - loss: 0.2624 - accuracy: 0.8816\n",
      "--- Starting trial: run-15\n",
      "{'activation': 'swish', 'dropout': 0.2, 'optimizer': 'sgd', 'num_units': 300}\n",
      "Epoch 1/5\n"
     ]
    },
    {
     "name": "stderr",
     "output_type": "stream",
     "text": [
      "2022-03-25 20:31:33.438864: I tensorflow/core/grappler/optimizers/custom_graph_optimizer_registry.cc:113] Plugin optimizer for device_type GPU is enabled.\n"
     ]
    },
    {
     "name": "stdout",
     "output_type": "stream",
     "text": [
      "1120/1120 [==============================] - ETA: 0s - loss: 0.5234 - accuracy: 0.7803"
     ]
    },
    {
     "name": "stderr",
     "output_type": "stream",
     "text": [
      "2022-03-25 20:32:19.472993: I tensorflow/core/grappler/optimizers/custom_graph_optimizer_registry.cc:113] Plugin optimizer for device_type GPU is enabled.\n"
     ]
    },
    {
     "name": "stdout",
     "output_type": "stream",
     "text": [
      "1120/1120 [==============================] - 48s 42ms/step - loss: 0.5234 - accuracy: 0.7803 - val_loss: 0.3951 - val_accuracy: 0.8218\n",
      "Epoch 2/5\n",
      "1120/1120 [==============================] - 45s 40ms/step - loss: 0.3790 - accuracy: 0.8284 - val_loss: 0.3630 - val_accuracy: 0.8343\n",
      "Epoch 3/5\n",
      "1120/1120 [==============================] - 45s 41ms/step - loss: 0.3647 - accuracy: 0.8344 - val_loss: 0.3558 - val_accuracy: 0.8368\n",
      "Epoch 4/5\n",
      "1120/1120 [==============================] - 45s 40ms/step - loss: 0.3589 - accuracy: 0.8359 - val_loss: 0.3508 - val_accuracy: 0.8382\n",
      "Epoch 5/5\n",
      "1120/1120 [==============================] - 46s 41ms/step - loss: 0.3545 - accuracy: 0.8371 - val_loss: 0.3468 - val_accuracy: 0.8391\n",
      "140/140 [==============================] - 2s 12ms/step - loss: 0.3468 - accuracy: 0.8391\n",
      "--- Starting trial: run-16\n",
      "{'activation': 'tanh', 'dropout': 0.0, 'optimizer': 'adam', 'num_units': 300}\n",
      "Epoch 1/5\n"
     ]
    },
    {
     "name": "stderr",
     "output_type": "stream",
     "text": [
      "2022-03-25 20:35:29.925546: I tensorflow/core/grappler/optimizers/custom_graph_optimizer_registry.cc:113] Plugin optimizer for device_type GPU is enabled.\n"
     ]
    },
    {
     "name": "stdout",
     "output_type": "stream",
     "text": [
      "1119/1120 [============================>.] - ETA: 0s - loss: 0.2902 - accuracy: 0.8662"
     ]
    },
    {
     "name": "stderr",
     "output_type": "stream",
     "text": [
      "2022-03-25 20:35:53.786111: I tensorflow/core/grappler/optimizers/custom_graph_optimizer_registry.cc:113] Plugin optimizer for device_type GPU is enabled.\n"
     ]
    },
    {
     "name": "stdout",
     "output_type": "stream",
     "text": [
      "1120/1120 [==============================] - 26s 23ms/step - loss: 0.2902 - accuracy: 0.8662 - val_loss: 0.2746 - val_accuracy: 0.8746\n",
      "Epoch 2/5\n",
      "1120/1120 [==============================] - 25s 22ms/step - loss: 0.2691 - accuracy: 0.8782 - val_loss: 0.2670 - val_accuracy: 0.8792\n",
      "Epoch 3/5\n",
      "1120/1120 [==============================] - 24s 21ms/step - loss: 0.2650 - accuracy: 0.8806 - val_loss: 0.2642 - val_accuracy: 0.8810\n",
      "Epoch 4/5\n",
      "1120/1120 [==============================] - 25s 23ms/step - loss: 0.2625 - accuracy: 0.8819 - val_loss: 0.2631 - val_accuracy: 0.8815\n",
      "Epoch 5/5\n",
      "1120/1120 [==============================] - 25s 22ms/step - loss: 0.2609 - accuracy: 0.8828 - val_loss: 0.2616 - val_accuracy: 0.8825\n",
      "140/140 [==============================] - 1s 10ms/step - loss: 0.2616 - accuracy: 0.8825\n",
      "--- Starting trial: run-17\n",
      "{'activation': 'tanh', 'dropout': 0.0, 'optimizer': 'sgd', 'num_units': 300}\n",
      "Epoch 1/5\n"
     ]
    },
    {
     "name": "stderr",
     "output_type": "stream",
     "text": [
      "2022-03-25 20:37:41.518438: I tensorflow/core/grappler/optimizers/custom_graph_optimizer_registry.cc:113] Plugin optimizer for device_type GPU is enabled.\n"
     ]
    },
    {
     "name": "stdout",
     "output_type": "stream",
     "text": [
      "1119/1120 [============================>.] - ETA: 0s - loss: 0.3687 - accuracy: 0.8344"
     ]
    },
    {
     "name": "stderr",
     "output_type": "stream",
     "text": [
      "2022-03-25 20:38:06.416046: I tensorflow/core/grappler/optimizers/custom_graph_optimizer_registry.cc:113] Plugin optimizer for device_type GPU is enabled.\n"
     ]
    },
    {
     "name": "stdout",
     "output_type": "stream",
     "text": [
      "1120/1120 [==============================] - 28s 23ms/step - loss: 0.3687 - accuracy: 0.8344 - val_loss: 0.3631 - val_accuracy: 0.8375\n",
      "Epoch 2/5\n",
      "1120/1120 [==============================] - 25s 22ms/step - loss: 0.3610 - accuracy: 0.8374 - val_loss: 0.3587 - val_accuracy: 0.8384\n",
      "Epoch 3/5\n",
      "1120/1120 [==============================] - 27s 24ms/step - loss: 0.3531 - accuracy: 0.8390 - val_loss: 0.3453 - val_accuracy: 0.8411\n",
      "Epoch 4/5\n",
      "1120/1120 [==============================] - 25s 23ms/step - loss: 0.3346 - accuracy: 0.8443 - val_loss: 0.3257 - val_accuracy: 0.8480\n",
      "Epoch 5/5\n",
      "1120/1120 [==============================] - 27s 24ms/step - loss: 0.3208 - accuracy: 0.8501 - val_loss: 0.3171 - val_accuracy: 0.8522\n",
      "140/140 [==============================] - 2s 15ms/step - loss: 0.3171 - accuracy: 0.8522\n",
      "--- Starting trial: run-18\n",
      "{'activation': 'tanh', 'dropout': 0.2, 'optimizer': 'adam', 'num_units': 300}\n",
      "Epoch 1/5\n"
     ]
    },
    {
     "name": "stderr",
     "output_type": "stream",
     "text": [
      "2022-03-25 20:39:58.870677: I tensorflow/core/grappler/optimizers/custom_graph_optimizer_registry.cc:113] Plugin optimizer for device_type GPU is enabled.\n"
     ]
    },
    {
     "name": "stdout",
     "output_type": "stream",
     "text": [
      "1119/1120 [============================>.] - ETA: 0s - loss: 0.3137 - accuracy: 0.8527"
     ]
    },
    {
     "name": "stderr",
     "output_type": "stream",
     "text": [
      "2022-03-25 20:40:43.034191: I tensorflow/core/grappler/optimizers/custom_graph_optimizer_registry.cc:113] Plugin optimizer for device_type GPU is enabled.\n"
     ]
    },
    {
     "name": "stdout",
     "output_type": "stream",
     "text": [
      "1120/1120 [==============================] - 48s 40ms/step - loss: 0.3137 - accuracy: 0.8527 - val_loss: 0.2850 - val_accuracy: 0.8692\n",
      "Epoch 2/5\n",
      "1120/1120 [==============================] - 41s 36ms/step - loss: 0.2873 - accuracy: 0.8678 - val_loss: 0.2756 - val_accuracy: 0.8755\n",
      "Epoch 3/5\n",
      "1120/1120 [==============================] - 42s 37ms/step - loss: 0.2807 - accuracy: 0.8722 - val_loss: 0.2702 - val_accuracy: 0.8782\n",
      "Epoch 4/5\n",
      "1120/1120 [==============================] - 45s 40ms/step - loss: 0.2774 - accuracy: 0.8740 - val_loss: 0.2687 - val_accuracy: 0.8788\n",
      "Epoch 5/5\n",
      "1120/1120 [==============================] - 44s 39ms/step - loss: 0.2753 - accuracy: 0.8753 - val_loss: 0.2679 - val_accuracy: 0.8795\n",
      "140/140 [==============================] - 2s 12ms/step - loss: 0.2679 - accuracy: 0.8795\n",
      "--- Starting trial: run-19\n",
      "{'activation': 'tanh', 'dropout': 0.2, 'optimizer': 'sgd', 'num_units': 300}\n",
      "Epoch 1/5\n"
     ]
    },
    {
     "name": "stderr",
     "output_type": "stream",
     "text": [
      "2022-03-25 20:43:40.046173: I tensorflow/core/grappler/optimizers/custom_graph_optimizer_registry.cc:113] Plugin optimizer for device_type GPU is enabled.\n"
     ]
    },
    {
     "name": "stdout",
     "output_type": "stream",
     "text": [
      "1119/1120 [============================>.] - ETA: 0s - loss: 0.3983 - accuracy: 0.8216"
     ]
    },
    {
     "name": "stderr",
     "output_type": "stream",
     "text": [
      "2022-03-25 20:44:23.350131: I tensorflow/core/grappler/optimizers/custom_graph_optimizer_registry.cc:113] Plugin optimizer for device_type GPU is enabled.\n"
     ]
    },
    {
     "name": "stdout",
     "output_type": "stream",
     "text": [
      "1120/1120 [==============================] - 46s 40ms/step - loss: 0.3983 - accuracy: 0.8216 - val_loss: 0.3683 - val_accuracy: 0.8362\n",
      "Epoch 2/5\n",
      "1120/1120 [==============================] - 44s 39ms/step - loss: 0.3809 - accuracy: 0.8306 - val_loss: 0.3660 - val_accuracy: 0.8371\n",
      "Epoch 3/5\n",
      "1120/1120 [==============================] - 41s 36ms/step - loss: 0.3753 - accuracy: 0.8325 - val_loss: 0.3634 - val_accuracy: 0.8377\n",
      "Epoch 4/5\n",
      "1120/1120 [==============================] - 40s 35ms/step - loss: 0.3704 - accuracy: 0.8338 - val_loss: 0.3574 - val_accuracy: 0.8381\n",
      "Epoch 5/5\n",
      "1120/1120 [==============================] - 39s 35ms/step - loss: 0.3633 - accuracy: 0.8343 - val_loss: 0.3464 - val_accuracy: 0.8386\n",
      "140/140 [==============================] - 2s 12ms/step - loss: 0.3464 - accuracy: 0.8386\n"
     ]
    }
   ],
   "source": [
    "%rm -rf ./logs/\n",
    "\n",
    "session_num = 0\n",
    "\n",
    "for activation in HP_ACTIVATION.domain.values: \n",
    "  for dropout_rate in HP_DROPOUT.domain.values:\n",
    "    for optimizer in HP_OPTIMIZER.domain.values:\n",
    "      for num_units in HP_NUM_UNITS.domain.values:\n",
    "        hparams = {\n",
    "          HP_ACTIVATION: activation,\n",
    "          HP_DROPOUT: dropout_rate,\n",
    "          HP_OPTIMIZER: optimizer,\n",
    "          HP_NUM_UNITS: num_units\n",
    "      }\n",
    "      run_name = \"run-%d\" % session_num\n",
    "      print('--- Starting trial: %s' % run_name)\n",
    "      print({h.name: hparams[h] for h in hparams})\n",
    "      run('logs/hparam_tuning/' + run_name, hparams)\n",
    "      session_num += 1"
   ]
  },
  {
   "cell_type": "markdown",
   "id": "7a13d6bd",
   "metadata": {},
   "source": [
    "## Other things to tune on: Learning rate, batch size, epochs"
   ]
  },
  {
   "cell_type": "code",
   "execution_count": 383,
   "id": "c4efaaf6",
   "metadata": {},
   "outputs": [
    {
     "name": "stdout",
     "output_type": "stream",
     "text": [
      "Epoch 1/5\n"
     ]
    },
    {
     "name": "stderr",
     "output_type": "stream",
     "text": [
      "/Users/rickfontenot/miniforge3/envs/mlp/lib/python3.8/site-packages/tensorflow/python/util/dispatch.py:1082: UserWarning: \"`sparse_categorical_crossentropy` received `from_logits=True`, but the `output` argument was produced by a sigmoid or softmax activation and thus does not represent logits. Was this intended?\"\n",
      "  return dispatch_target(*args, **kwargs)\n",
      "2022-03-25 21:04:09.014406: I tensorflow/core/grappler/optimizers/custom_graph_optimizer_registry.cc:113] Plugin optimizer for device_type GPU is enabled.\n"
     ]
    },
    {
     "name": "stdout",
     "output_type": "stream",
     "text": [
      "1119/1120 [============================>.] - ETA: 0s - loss: 0.2852 - accuracy: 0.8690"
     ]
    },
    {
     "name": "stderr",
     "output_type": "stream",
     "text": [
      "2022-03-25 21:05:02.243171: I tensorflow/core/grappler/optimizers/custom_graph_optimizer_registry.cc:113] Plugin optimizer for device_type GPU is enabled.\n"
     ]
    },
    {
     "name": "stdout",
     "output_type": "stream",
     "text": [
      "1120/1120 [==============================] - 58s 49ms/step - loss: 0.2852 - accuracy: 0.8690 - val_loss: 0.2682 - val_accuracy: 0.8788\n",
      "Epoch 2/5\n",
      " 923/1120 [=======================>......] - ETA: 9s - loss: 0.2653 - accuracy: 0.8802"
     ]
    }
   ],
   "source": [
    "gelu_model = tf.keras.Sequential([\n",
    "    tf.keras.layers.Dense(300, activation='gelu', input_shape=(28,)),\n",
    "    tf.keras.layers.Dropout(0.0),\n",
    "    tf.keras.layers.Dense(300, activation='gelu'),\n",
    "    tf.keras.layers.Dropout(0.0),\n",
    "    tf.keras.layers.Dense(300, activation='gelu'),\n",
    "    tf.keras.layers.Dropout(0.0),\n",
    "    tf.keras.layers.Dense(300, activation='gelu'),\n",
    "    tf.keras.layers.Dropout(0.0),\n",
    "    tf.keras.layers.Dense(300, activation='gelu'),\n",
    "    tf.keras.layers.Dropout(0.0),\n",
    "    tf.keras.layers.Dense(2, activation='softmax')   \n",
    "])\n",
    "\n",
    "gelu_model.compile(optimizer='adam',\n",
    "              loss=tf.keras.losses.SparseCategoricalCrossentropy(from_logits=True),\n",
    "              metrics=['accuracy'])\n",
    "gelu_model.fit(train_features_scaled, train_labels, batch_size=5000, epochs=5, callbacks=tb, validation_data=[validation_features_scaled, validation_labels])\n",
    "\n",
    "test_loss, test_acc = gelu_model.evaluate(test_features_scaled,  test_labels, batch_size=5000, verbose=2)\n",
    "\n",
    "print('\\nTest accuracy:', test_acc)\n"
   ]
  },
  {
   "cell_type": "code",
   "execution_count": 22,
   "id": "fc69e0ee",
   "metadata": {},
   "outputs": [
    {
     "name": "stdout",
     "output_type": "stream",
     "text": [
      "Epoch 1/50\n"
     ]
    },
    {
     "name": "stderr",
     "output_type": "stream",
     "text": [
      "/Users/rickfontenot/miniforge3/envs/mlp/lib/python3.8/site-packages/tensorflow/python/util/dispatch.py:1082: UserWarning: \"`sparse_categorical_crossentropy` received `from_logits=True`, but the `output` argument was produced by a sigmoid or softmax activation and thus does not represent logits. Was this intended?\"\n",
      "  return dispatch_target(*args, **kwargs)\n",
      "2022-03-25 22:29:09.008423: I tensorflow/core/grappler/optimizers/custom_graph_optimizer_registry.cc:113] Plugin optimizer for device_type GPU is enabled.\n"
     ]
    },
    {
     "name": "stdout",
     "output_type": "stream",
     "text": [
      "1119/1120 [============================>.] - ETA: 0s - loss: 0.2845 - accuracy: 0.8694"
     ]
    },
    {
     "name": "stderr",
     "output_type": "stream",
     "text": [
      "2022-03-25 22:29:54.996089: I tensorflow/core/grappler/optimizers/custom_graph_optimizer_registry.cc:113] Plugin optimizer for device_type GPU is enabled.\n"
     ]
    },
    {
     "name": "stdout",
     "output_type": "stream",
     "text": [
      "1120/1120 [==============================] - 49s 41ms/step - loss: 0.2845 - accuracy: 0.8694 - val_loss: 0.2687 - val_accuracy: 0.8784\n",
      "Epoch 2/50\n",
      "1120/1120 [==============================] - 46s 41ms/step - loss: 0.2653 - accuracy: 0.8802 - val_loss: 0.2636 - val_accuracy: 0.8809\n",
      "Epoch 3/50\n",
      "1120/1120 [==============================] - 47s 42ms/step - loss: 0.2615 - accuracy: 0.8823 - val_loss: 0.2608 - val_accuracy: 0.8829\n",
      "Epoch 4/50\n",
      "1120/1120 [==============================] - 49s 43ms/step - loss: 0.2594 - accuracy: 0.8836 - val_loss: 0.2594 - val_accuracy: 0.8838\n",
      "Epoch 5/50\n",
      "1120/1120 [==============================] - 48s 42ms/step - loss: 0.2577 - accuracy: 0.8845 - val_loss: 0.2592 - val_accuracy: 0.8838\n",
      "Epoch 6/50\n",
      "1120/1120 [==============================] - 47s 42ms/step - loss: 0.2562 - accuracy: 0.8853 - val_loss: 0.2579 - val_accuracy: 0.8843\n",
      "Epoch 7/50\n",
      "1120/1120 [==============================] - 49s 43ms/step - loss: 0.2549 - accuracy: 0.8860 - val_loss: 0.2575 - val_accuracy: 0.8846\n",
      "Epoch 8/50\n",
      "1120/1120 [==============================] - 48s 43ms/step - loss: 0.2536 - accuracy: 0.8866 - val_loss: 0.2570 - val_accuracy: 0.8850\n",
      "Epoch 9/50\n",
      "1120/1120 [==============================] - 50s 45ms/step - loss: 0.2524 - accuracy: 0.8874 - val_loss: 0.2580 - val_accuracy: 0.8846\n",
      "Epoch 10/50\n",
      "1120/1120 [==============================] - 47s 42ms/step - loss: 0.2512 - accuracy: 0.8880 - val_loss: 0.2566 - val_accuracy: 0.8853\n",
      "Epoch 11/50\n",
      "1120/1120 [==============================] - 48s 43ms/step - loss: 0.2498 - accuracy: 0.8886 - val_loss: 0.2572 - val_accuracy: 0.8849\n",
      "Epoch 12/50\n",
      "1120/1120 [==============================] - 48s 43ms/step - loss: 0.2485 - accuracy: 0.8892 - val_loss: 0.2574 - val_accuracy: 0.8849\n",
      "Epoch 13/50\n",
      "1120/1120 [==============================] - 47s 42ms/step - loss: 0.2470 - accuracy: 0.8900 - val_loss: 0.2590 - val_accuracy: 0.8845\n",
      "Epoch 14/50\n",
      "1120/1120 [==============================] - 47s 42ms/step - loss: 0.2454 - accuracy: 0.8908 - val_loss: 0.2596 - val_accuracy: 0.8842\n",
      "Epoch 15/50\n",
      "1120/1120 [==============================] - 47s 42ms/step - loss: 0.2437 - accuracy: 0.8916 - val_loss: 0.2598 - val_accuracy: 0.8838\n",
      "Epoch 16/50\n",
      "1120/1120 [==============================] - 48s 43ms/step - loss: 0.2419 - accuracy: 0.8925 - val_loss: 0.2618 - val_accuracy: 0.8833\n",
      "Epoch 17/50\n",
      "1120/1120 [==============================] - 47s 42ms/step - loss: 0.2400 - accuracy: 0.8934 - val_loss: 0.2635 - val_accuracy: 0.8823\n",
      "Epoch 18/50\n",
      "1120/1120 [==============================] - 48s 43ms/step - loss: 0.2380 - accuracy: 0.8945 - val_loss: 0.2652 - val_accuracy: 0.8823\n",
      "Epoch 19/50\n",
      "1120/1120 [==============================] - 47s 42ms/step - loss: 0.2358 - accuracy: 0.8955 - val_loss: 0.2676 - val_accuracy: 0.8811\n",
      "Epoch 20/50\n",
      "1120/1120 [==============================] - 48s 42ms/step - loss: 0.2336 - accuracy: 0.8967 - val_loss: 0.2703 - val_accuracy: 0.8806\n",
      "Epoch 21/50\n",
      "1120/1120 [==============================] - 47s 42ms/step - loss: 0.2314 - accuracy: 0.8978 - val_loss: 0.2723 - val_accuracy: 0.8802\n",
      "Epoch 22/50\n",
      "1120/1120 [==============================] - 47s 42ms/step - loss: 0.2292 - accuracy: 0.8989 - val_loss: 0.2740 - val_accuracy: 0.8796\n",
      "Epoch 23/50\n",
      "1120/1120 [==============================] - 48s 43ms/step - loss: 0.2270 - accuracy: 0.9000 - val_loss: 0.2766 - val_accuracy: 0.8789\n",
      "Epoch 24/50\n",
      "1120/1120 [==============================] - 47s 42ms/step - loss: 0.2250 - accuracy: 0.9010 - val_loss: 0.2787 - val_accuracy: 0.8781\n",
      "Epoch 25/50\n",
      "1120/1120 [==============================] - 48s 43ms/step - loss: 0.2230 - accuracy: 0.9020 - val_loss: 0.2822 - val_accuracy: 0.8768\n",
      "Epoch 26/50\n",
      "1120/1120 [==============================] - 46s 41ms/step - loss: 0.2210 - accuracy: 0.9030 - val_loss: 0.2836 - val_accuracy: 0.8770\n",
      "Epoch 27/50\n",
      "1120/1120 [==============================] - 48s 43ms/step - loss: 0.2193 - accuracy: 0.9039 - val_loss: 0.2854 - val_accuracy: 0.8765\n",
      "Epoch 28/50\n",
      "1120/1120 [==============================] - 47s 42ms/step - loss: 0.2177 - accuracy: 0.9047 - val_loss: 0.2876 - val_accuracy: 0.8756\n",
      "Epoch 29/50\n",
      "1120/1120 [==============================] - 47s 42ms/step - loss: 0.2160 - accuracy: 0.9055 - val_loss: 0.2916 - val_accuracy: 0.8750\n",
      "Epoch 30/50\n",
      "1120/1120 [==============================] - 47s 42ms/step - loss: 0.2145 - accuracy: 0.9062 - val_loss: 0.2933 - val_accuracy: 0.8747\n",
      "Epoch 31/50\n",
      "1120/1120 [==============================] - 47s 42ms/step - loss: 0.2132 - accuracy: 0.9068 - val_loss: 0.2953 - val_accuracy: 0.8747\n",
      "Epoch 32/50\n",
      "1120/1120 [==============================] - 47s 42ms/step - loss: 0.2118 - accuracy: 0.9074 - val_loss: 0.2966 - val_accuracy: 0.8739\n",
      "Epoch 33/50\n",
      "1120/1120 [==============================] - 47s 41ms/step - loss: 0.2106 - accuracy: 0.9079 - val_loss: 0.2993 - val_accuracy: 0.8732\n",
      "Epoch 34/50\n",
      "1120/1120 [==============================] - 48s 43ms/step - loss: 0.2094 - accuracy: 0.9086 - val_loss: 0.3004 - val_accuracy: 0.8734\n",
      "Epoch 35/50\n",
      "1120/1120 [==============================] - 47s 42ms/step - loss: 0.2083 - accuracy: 0.9092 - val_loss: 0.3021 - val_accuracy: 0.8724\n",
      "Epoch 36/50\n",
      "1120/1120 [==============================] - 50s 44ms/step - loss: 0.2073 - accuracy: 0.9096 - val_loss: 0.3057 - val_accuracy: 0.8730\n",
      "Epoch 37/50\n",
      "1120/1120 [==============================] - 47s 42ms/step - loss: 0.2063 - accuracy: 0.9101 - val_loss: 0.3063 - val_accuracy: 0.8725\n",
      "Epoch 38/50\n",
      "1120/1120 [==============================] - 46s 41ms/step - loss: 0.2053 - accuracy: 0.9106 - val_loss: 0.3067 - val_accuracy: 0.8725\n",
      "Epoch 39/50\n",
      "1120/1120 [==============================] - 47s 42ms/step - loss: 0.2044 - accuracy: 0.9110 - val_loss: 0.3106 - val_accuracy: 0.8718\n",
      "Epoch 40/50\n",
      "1120/1120 [==============================] - 46s 41ms/step - loss: 0.2036 - accuracy: 0.9112 - val_loss: 0.3111 - val_accuracy: 0.8711\n",
      "Epoch 41/50\n",
      "1120/1120 [==============================] - 47s 42ms/step - loss: 0.2028 - accuracy: 0.9116 - val_loss: 0.3135 - val_accuracy: 0.8720\n",
      "Epoch 42/50\n",
      "1120/1120 [==============================] - 46s 41ms/step - loss: 0.2021 - accuracy: 0.9121 - val_loss: 0.3152 - val_accuracy: 0.8701\n",
      "Epoch 43/50\n",
      "1120/1120 [==============================] - 46s 41ms/step - loss: 0.2013 - accuracy: 0.9125 - val_loss: 0.3146 - val_accuracy: 0.8712\n",
      "Epoch 44/50\n",
      "1120/1120 [==============================] - 47s 42ms/step - loss: 0.2006 - accuracy: 0.9127 - val_loss: 0.3170 - val_accuracy: 0.8708\n",
      "Epoch 45/50\n",
      "1120/1120 [==============================] - 45s 41ms/step - loss: 0.1999 - accuracy: 0.9130 - val_loss: 0.3175 - val_accuracy: 0.8706\n",
      "Epoch 46/50\n",
      "1120/1120 [==============================] - 47s 42ms/step - loss: 0.1993 - accuracy: 0.9134 - val_loss: 0.3193 - val_accuracy: 0.8694\n",
      "Epoch 47/50\n",
      "1120/1120 [==============================] - 47s 42ms/step - loss: 0.1987 - accuracy: 0.9136 - val_loss: 0.3188 - val_accuracy: 0.8701\n",
      "Epoch 48/50\n",
      "1120/1120 [==============================] - 46s 41ms/step - loss: 0.1982 - accuracy: 0.9138 - val_loss: 0.3221 - val_accuracy: 0.8696\n",
      "Epoch 49/50\n",
      "1120/1120 [==============================] - 46s 41ms/step - loss: 0.1975 - accuracy: 0.9141 - val_loss: 0.3228 - val_accuracy: 0.8699\n",
      "Epoch 50/50\n",
      "1120/1120 [==============================] - 46s 41ms/step - loss: 0.1970 - accuracy: 0.9144 - val_loss: 0.3260 - val_accuracy: 0.8685\n",
      "140/140 - 3s - loss: 0.3240 - accuracy: 0.8689 - 3s/epoch - 19ms/step\n",
      "\n",
      "Test accuracy: 0.8689299821853638\n"
     ]
    }
   ],
   "source": [
    "gelu_model = tf.keras.Sequential([\n",
    "    tf.keras.layers.Dense(300, activation='gelu', input_shape=(28,)),\n",
    "    tf.keras.layers.Dropout(0.0),\n",
    "    tf.keras.layers.Dense(300, activation='gelu'),\n",
    "    tf.keras.layers.Dropout(0.0),\n",
    "    tf.keras.layers.Dense(300, activation='gelu'),\n",
    "    tf.keras.layers.Dropout(0.0),\n",
    "    tf.keras.layers.Dense(300, activation='gelu'),\n",
    "    tf.keras.layers.Dropout(0.0),\n",
    "    tf.keras.layers.Dense(300, activation='gelu'),\n",
    "    tf.keras.layers.Dropout(0.0),\n",
    "    tf.keras.layers.Dense(2, activation='softmax')   \n",
    "])\n",
    "\n",
    "gelu_model.compile(optimizer='adam',\n",
    "              loss=tf.keras.losses.SparseCategoricalCrossentropy(from_logits=True),\n",
    "              metrics=['accuracy'])\n",
    "gelu_model.fit(train_features_scaled, train_labels, batch_size=5000, epochs=50, callbacks=tb, validation_data=[validation_features_scaled, validation_labels])\n",
    "\n",
    "test_loss, test_acc = gelu_model.evaluate(test_features_scaled,  test_labels, batch_size=5000, verbose=2)\n",
    "\n",
    "print('\\nTest accuracy:', test_acc)"
   ]
  },
  {
   "cell_type": "code",
   "execution_count": 28,
   "id": "b5630ebe",
   "metadata": {},
   "outputs": [
    {
     "name": "stdout",
     "output_type": "stream",
     "text": [
      "2.8.0\n"
     ]
    }
   ],
   "source": [
    "# TensorFlow and tf.keras\n",
    "import tensorflow as tf\n",
    "\n",
    "print(tf.__version__)"
   ]
  },
  {
   "cell_type": "code",
   "execution_count": 33,
   "id": "fcc15652",
   "metadata": {},
   "outputs": [],
   "source": [
    "from tensorflow.keras.callbacks import TensorBoard\n"
   ]
  },
  {
   "cell_type": "code",
   "execution_count": 35,
   "id": "dd070014",
   "metadata": {},
   "outputs": [],
   "source": [
    "from tensorboard.plugins.hparams import api as hp\n"
   ]
  },
  {
   "cell_type": "code",
   "execution_count": 54,
   "id": "4ab8a9e6",
   "metadata": {},
   "outputs": [],
   "source": [
    "%rm -rf ./logs/\n"
   ]
  },
  {
   "cell_type": "code",
   "execution_count": 55,
   "id": "4ac35c5b",
   "metadata": {},
   "outputs": [],
   "source": [
    "del hparams\n",
    "del HP_LEARNING_RATE\n",
    "\n",
    "HP_NUM_UNITS = hp.HParam('num_units', hp.Discrete([100, 300])) \n",
    "HP_DROPOUT = hp.HParam('dropout', hp.Discrete([0.0, 0.2])) #[0.0, 0.2]\n",
    "HP_OPTIMIZER = hp.HParam('optimizer', hp.Discrete(['adam'])) #['adam', 'sgd']\n",
    "HP_LEARNING_RATE= hp.HParam('learning_rate', hp.Discrete([0.01, 0.0015, 0.001]))\n",
    "\n",
    "\n",
    "METRIC_ACCURACY = 'accuracy'\n",
    "\n",
    "with tf.summary.create_file_writer('logs/hparam_tuning/').as_default():\n",
    "  hp.hparams_config(\n",
    "    hparams=[HP_LEARNING_RATE, HP_DROPOUT, HP_OPTIMIZER, HP_NUM_UNITS],\n",
    "    metrics=[hp.Metric(METRIC_ACCURACY, display_name='Accuracy')],\n",
    "  )\n"
   ]
  },
  {
   "cell_type": "code",
   "execution_count": 56,
   "id": "616daf5d",
   "metadata": {},
   "outputs": [],
   "source": [
    "\n",
    "def train_test_model(hparams):\n",
    "  model = tf.keras.models.Sequential([\n",
    "    tf.keras.layers.Dense(hparams[HP_NUM_UNITS], activation='gelu'),\n",
    "    tf.keras.layers.Dropout(hparams[HP_DROPOUT]),\n",
    "    tf.keras.layers.Dense(hparams[HP_NUM_UNITS], activation='gelu'),\n",
    "    tf.keras.layers.Dropout(hparams[HP_DROPOUT]),\n",
    "    tf.keras.layers.Dense(hparams[HP_NUM_UNITS], activation='gelu'),\n",
    "    tf.keras.layers.Dropout(hparams[HP_DROPOUT]),\n",
    "    tf.keras.layers.Dense(hparams[HP_NUM_UNITS], activation='gelu'),\n",
    "    tf.keras.layers.Dropout(hparams[HP_DROPOUT]),\n",
    "    tf.keras.layers.Dense(hparams[HP_NUM_UNITS], activation='gelu'),\n",
    "    tf.keras.layers.Dropout(hparams[HP_DROPOUT]),\n",
    "    tf.keras.layers.Dense(2, activation=tf.nn.softmax),\n",
    "  ])\n",
    "  model.compile(\n",
    "      optimizer=tf.optimizers.Adam(hparams[HP_LEARNING_RATE]),\n",
    "      loss='sparse_categorical_crossentropy',\n",
    "      metrics=['accuracy'],\n",
    "  )\n",
    "\n",
    "  model.fit(train_features_scaled, train_labels, batch_size=5000, epochs=5, validation_data=[validation_features_scaled, validation_labels]) # Run with 1 epoch to speed things up for demo purposes\n",
    "  _, accuracy = model.evaluate(validation_features_scaled, validation_labels, batch_size=5000, ) #callbacks=[tf.keras.callbacks.TensorBoard('logs/hparam_tuning'),hp.KerasCallback('logs/hparam_tuning', hparams)]\n",
    "  return accuracy"
   ]
  },
  {
   "cell_type": "code",
   "execution_count": 57,
   "id": "87c7ac0d",
   "metadata": {},
   "outputs": [],
   "source": [
    "def run(run_dir, hparams):\n",
    "  with tf.summary.create_file_writer(run_dir).as_default():\n",
    "    hp.hparams(hparams)  # record the values used in this trial\n",
    "    accuracy = train_test_model(hparams)\n",
    "    tf.summary.scalar(METRIC_ACCURACY, accuracy, step=1)"
   ]
  },
  {
   "cell_type": "code",
   "execution_count": 58,
   "id": "1c7638a8",
   "metadata": {},
   "outputs": [
    {
     "name": "stdout",
     "output_type": "stream",
     "text": [
      "--- Starting trial: run-0\n",
      "{'learning_rate': 0.001, 'dropout': 0.0, 'optimizer': 'adam', 'num_units': 300}\n",
      "Epoch 1/5\n"
     ]
    },
    {
     "name": "stderr",
     "output_type": "stream",
     "text": [
      "2022-03-26 11:35:54.582155: I tensorflow/core/grappler/optimizers/custom_graph_optimizer_registry.cc:113] Plugin optimizer for device_type GPU is enabled.\n"
     ]
    },
    {
     "name": "stdout",
     "output_type": "stream",
     "text": [
      "1119/1120 [============================>.] - ETA: 0s - loss: 0.2848 - accuracy: 0.8691"
     ]
    },
    {
     "name": "stderr",
     "output_type": "stream",
     "text": [
      "2022-03-26 11:36:32.044262: I tensorflow/core/grappler/optimizers/custom_graph_optimizer_registry.cc:113] Plugin optimizer for device_type GPU is enabled.\n"
     ]
    },
    {
     "name": "stdout",
     "output_type": "stream",
     "text": [
      "1120/1120 [==============================] - 39s 35ms/step - loss: 0.2848 - accuracy: 0.8691 - val_loss: 0.2687 - val_accuracy: 0.8782\n",
      "Epoch 2/5\n",
      "1120/1120 [==============================] - 38s 34ms/step - loss: 0.2652 - accuracy: 0.8802 - val_loss: 0.2633 - val_accuracy: 0.8814\n",
      "Epoch 3/5\n",
      "1120/1120 [==============================] - 38s 34ms/step - loss: 0.2615 - accuracy: 0.8824 - val_loss: 0.2609 - val_accuracy: 0.8829\n",
      "Epoch 4/5\n",
      "1120/1120 [==============================] - 38s 34ms/step - loss: 0.2593 - accuracy: 0.8836 - val_loss: 0.2601 - val_accuracy: 0.8833\n",
      "Epoch 5/5\n",
      "1120/1120 [==============================] - 38s 34ms/step - loss: 0.2576 - accuracy: 0.8845 - val_loss: 0.2581 - val_accuracy: 0.8844\n",
      "140/140 [==============================] - 2s 13ms/step - loss: 0.2581 - accuracy: 0.8844\n",
      "--- Starting trial: run-1\n",
      "{'learning_rate': 0.001, 'dropout': 0.2, 'optimizer': 'adam', 'num_units': 300}\n",
      "Epoch 1/5\n"
     ]
    },
    {
     "name": "stderr",
     "output_type": "stream",
     "text": [
      "2022-03-26 11:39:09.353120: I tensorflow/core/grappler/optimizers/custom_graph_optimizer_registry.cc:113] Plugin optimizer for device_type GPU is enabled.\n"
     ]
    },
    {
     "name": "stdout",
     "output_type": "stream",
     "text": [
      "1119/1120 [============================>.] - ETA: 0s - loss: 0.2958 - accuracy: 0.8627"
     ]
    },
    {
     "name": "stderr",
     "output_type": "stream",
     "text": [
      "2022-03-26 11:39:55.851057: I tensorflow/core/grappler/optimizers/custom_graph_optimizer_registry.cc:113] Plugin optimizer for device_type GPU is enabled.\n"
     ]
    },
    {
     "name": "stdout",
     "output_type": "stream",
     "text": [
      "1120/1120 [==============================] - 49s 42ms/step - loss: 0.2958 - accuracy: 0.8628 - val_loss: 0.2745 - val_accuracy: 0.8753\n",
      "Epoch 2/5\n",
      "1120/1120 [==============================] - 47s 42ms/step - loss: 0.2765 - accuracy: 0.8743 - val_loss: 0.2671 - val_accuracy: 0.8795\n",
      "Epoch 3/5\n",
      "1120/1120 [==============================] - 47s 42ms/step - loss: 0.2717 - accuracy: 0.8774 - val_loss: 0.2643 - val_accuracy: 0.8809\n",
      "Epoch 4/5\n",
      "1120/1120 [==============================] - 47s 42ms/step - loss: 0.2692 - accuracy: 0.8786 - val_loss: 0.2623 - val_accuracy: 0.8819\n",
      "Epoch 5/5\n",
      "1120/1120 [==============================] - 48s 42ms/step - loss: 0.2677 - accuracy: 0.8795 - val_loss: 0.2612 - val_accuracy: 0.8828\n",
      "140/140 [==============================] - 2s 13ms/step - loss: 0.2612 - accuracy: 0.8828\n",
      "--- Starting trial: run-2\n",
      "{'learning_rate': 0.0015, 'dropout': 0.0, 'optimizer': 'adam', 'num_units': 300}\n",
      "Epoch 1/5\n"
     ]
    },
    {
     "name": "stderr",
     "output_type": "stream",
     "text": [
      "2022-03-26 11:43:10.048675: I tensorflow/core/grappler/optimizers/custom_graph_optimizer_registry.cc:113] Plugin optimizer for device_type GPU is enabled.\n"
     ]
    },
    {
     "name": "stdout",
     "output_type": "stream",
     "text": [
      "1120/1120 [==============================] - ETA: 0s - loss: 0.2812 - accuracy: 0.8713"
     ]
    },
    {
     "name": "stderr",
     "output_type": "stream",
     "text": [
      "2022-03-26 11:43:47.492862: I tensorflow/core/grappler/optimizers/custom_graph_optimizer_registry.cc:113] Plugin optimizer for device_type GPU is enabled.\n"
     ]
    },
    {
     "name": "stdout",
     "output_type": "stream",
     "text": [
      "1120/1120 [==============================] - 40s 35ms/step - loss: 0.2812 - accuracy: 0.8713 - val_loss: 0.2669 - val_accuracy: 0.8789\n",
      "Epoch 2/5\n",
      "1120/1120 [==============================] - 38s 34ms/step - loss: 0.2641 - accuracy: 0.8811 - val_loss: 0.2619 - val_accuracy: 0.8820\n",
      "Epoch 3/5\n",
      "1120/1120 [==============================] - 38s 34ms/step - loss: 0.2608 - accuracy: 0.8829 - val_loss: 0.2609 - val_accuracy: 0.8828\n",
      "Epoch 4/5\n",
      "1120/1120 [==============================] - 38s 34ms/step - loss: 0.2586 - accuracy: 0.8841 - val_loss: 0.2596 - val_accuracy: 0.8838\n",
      "Epoch 5/5\n",
      "1120/1120 [==============================] - 38s 34ms/step - loss: 0.2570 - accuracy: 0.8848 - val_loss: 0.2584 - val_accuracy: 0.8843\n",
      "140/140 [==============================] - 2s 13ms/step - loss: 0.2584 - accuracy: 0.8843\n",
      "--- Starting trial: run-3\n",
      "{'learning_rate': 0.0015, 'dropout': 0.2, 'optimizer': 'adam', 'num_units': 300}\n",
      "Epoch 1/5\n"
     ]
    },
    {
     "name": "stderr",
     "output_type": "stream",
     "text": [
      "2022-03-26 11:46:26.655910: I tensorflow/core/grappler/optimizers/custom_graph_optimizer_registry.cc:113] Plugin optimizer for device_type GPU is enabled.\n"
     ]
    },
    {
     "name": "stdout",
     "output_type": "stream",
     "text": [
      "1120/1120 [==============================] - ETA: 0s - loss: 0.2921 - accuracy: 0.8652"
     ]
    },
    {
     "name": "stderr",
     "output_type": "stream",
     "text": [
      "2022-03-26 11:47:13.260195: I tensorflow/core/grappler/optimizers/custom_graph_optimizer_registry.cc:113] Plugin optimizer for device_type GPU is enabled.\n"
     ]
    },
    {
     "name": "stdout",
     "output_type": "stream",
     "text": [
      "1120/1120 [==============================] - 49s 43ms/step - loss: 0.2921 - accuracy: 0.8652 - val_loss: 0.2716 - val_accuracy: 0.8772\n",
      "Epoch 2/5\n",
      "1120/1120 [==============================] - 47s 42ms/step - loss: 0.2746 - accuracy: 0.8758 - val_loss: 0.2651 - val_accuracy: 0.8803\n",
      "Epoch 3/5\n",
      "1120/1120 [==============================] - 48s 42ms/step - loss: 0.2706 - accuracy: 0.8780 - val_loss: 0.2654 - val_accuracy: 0.8814\n",
      "Epoch 4/5\n",
      "1120/1120 [==============================] - 47s 42ms/step - loss: 0.2685 - accuracy: 0.8792 - val_loss: 0.2622 - val_accuracy: 0.8823\n",
      "Epoch 5/5\n",
      "1120/1120 [==============================] - 48s 42ms/step - loss: 0.2670 - accuracy: 0.8801 - val_loss: 0.2609 - val_accuracy: 0.8835\n",
      "140/140 [==============================] - 2s 13ms/step - loss: 0.2609 - accuracy: 0.8835\n",
      "--- Starting trial: run-4\n",
      "{'learning_rate': 0.01, 'dropout': 0.0, 'optimizer': 'adam', 'num_units': 300}\n",
      "Epoch 1/5\n"
     ]
    },
    {
     "name": "stderr",
     "output_type": "stream",
     "text": [
      "2022-03-26 11:50:29.189966: I tensorflow/core/grappler/optimizers/custom_graph_optimizer_registry.cc:113] Plugin optimizer for device_type GPU is enabled.\n"
     ]
    },
    {
     "name": "stdout",
     "output_type": "stream",
     "text": [
      "1119/1120 [============================>.] - ETA: 0s - loss: 0.2839 - accuracy: 0.8717"
     ]
    },
    {
     "name": "stderr",
     "output_type": "stream",
     "text": [
      "2022-03-26 11:51:08.811691: I tensorflow/core/grappler/optimizers/custom_graph_optimizer_registry.cc:113] Plugin optimizer for device_type GPU is enabled.\n"
     ]
    },
    {
     "name": "stdout",
     "output_type": "stream",
     "text": [
      "1120/1120 [==============================] - 42s 36ms/step - loss: 0.2839 - accuracy: 0.8717 - val_loss: 0.2669 - val_accuracy: 0.8793\n",
      "Epoch 2/5\n",
      "1120/1120 [==============================] - 38s 34ms/step - loss: 0.2656 - accuracy: 0.8805 - val_loss: 0.2642 - val_accuracy: 0.8808\n",
      "Epoch 3/5\n",
      "1120/1120 [==============================] - 38s 34ms/step - loss: 0.2630 - accuracy: 0.8820 - val_loss: 0.2622 - val_accuracy: 0.8827\n",
      "Epoch 4/5\n",
      "1120/1120 [==============================] - 38s 34ms/step - loss: 0.2613 - accuracy: 0.8831 - val_loss: 0.2612 - val_accuracy: 0.8832\n",
      "Epoch 5/5\n",
      "1120/1120 [==============================] - 38s 34ms/step - loss: 0.2598 - accuracy: 0.8838 - val_loss: 0.2598 - val_accuracy: 0.8832\n",
      "140/140 [==============================] - 2s 13ms/step - loss: 0.2598 - accuracy: 0.8832\n",
      "--- Starting trial: run-5\n",
      "{'learning_rate': 0.01, 'dropout': 0.2, 'optimizer': 'adam', 'num_units': 300}\n",
      "Epoch 1/5\n"
     ]
    },
    {
     "name": "stderr",
     "output_type": "stream",
     "text": [
      "2022-03-26 11:53:45.870552: I tensorflow/core/grappler/optimizers/custom_graph_optimizer_registry.cc:113] Plugin optimizer for device_type GPU is enabled.\n"
     ]
    },
    {
     "name": "stdout",
     "output_type": "stream",
     "text": [
      "1119/1120 [============================>.] - ETA: 0s - loss: 0.2913 - accuracy: 0.8675"
     ]
    },
    {
     "name": "stderr",
     "output_type": "stream",
     "text": [
      "2022-03-26 11:54:32.113528: I tensorflow/core/grappler/optimizers/custom_graph_optimizer_registry.cc:113] Plugin optimizer for device_type GPU is enabled.\n"
     ]
    },
    {
     "name": "stdout",
     "output_type": "stream",
     "text": [
      "1120/1120 [==============================] - 48s 42ms/step - loss: 0.2913 - accuracy: 0.8675 - val_loss: 0.2717 - val_accuracy: 0.8774\n",
      "Epoch 2/5\n",
      "1120/1120 [==============================] - 47s 42ms/step - loss: 0.2775 - accuracy: 0.8754 - val_loss: 0.2687 - val_accuracy: 0.8789\n",
      "Epoch 3/5\n",
      "1120/1120 [==============================] - 48s 43ms/step - loss: 0.2757 - accuracy: 0.8766 - val_loss: 0.2727 - val_accuracy: 0.8795\n",
      "Epoch 4/5\n",
      "1120/1120 [==============================] - 50s 45ms/step - loss: 0.2751 - accuracy: 0.8770 - val_loss: 0.2695 - val_accuracy: 0.8807\n",
      "Epoch 5/5\n",
      "1120/1120 [==============================] - 50s 45ms/step - loss: 0.2755 - accuracy: 0.8771 - val_loss: 0.2703 - val_accuracy: 0.8797\n",
      "140/140 [==============================] - 2s 14ms/step - loss: 0.2703 - accuracy: 0.8797\n"
     ]
    }
   ],
   "source": [
    "session_num = 0\n",
    "\n",
    "for learning_rate in HP_LEARNING_RATE.domain.values: \n",
    "  for dropout_rate in HP_DROPOUT.domain.values:\n",
    "    for optimizer in HP_OPTIMIZER.domain.values:\n",
    "      for num_units in HP_NUM_UNITS.domain.values:\n",
    "        hparams = {\n",
    "          HP_LEARNING_RATE: learning_rate,\n",
    "          HP_DROPOUT: dropout_rate,\n",
    "          HP_OPTIMIZER: optimizer,\n",
    "          HP_NUM_UNITS: num_units\n",
    "      }\n",
    "      run_name = \"run-%d\" % session_num\n",
    "      print('--- Starting trial: %s' % run_name)\n",
    "      print({h.name: hparams[h] for h in hparams})\n",
    "      run('logs/hparam_tuning/' + run_name, hparams)\n",
    "      session_num += 1"
   ]
  },
  {
   "cell_type": "code",
   "execution_count": 34,
   "id": "d57b94d4",
   "metadata": {},
   "outputs": [],
   "source": [
    "from tensorflow.keras import regularizers\n",
    "\n",
    "research_model = tf.keras.Sequential([\n",
    "    tf.keras.layers.Dense(300, activation='tanh', input_shape=(28,),kernel_regularizer=regularizers.l2(0.00001)),\n",
    "    tf.keras.layers.Dense(300, activation='tanh',kernel_regularizer=regularizers.l2(0.00001)),\n",
    "    tf.keras.layers.Dense(300, activation='tanh',kernel_regularizer=regularizers.l2(0.00001)),\n",
    "    tf.keras.layers.Dense(300, activation='tanh',kernel_regularizer=regularizers.l2(0.00001)),\n",
    "    tf.keras.layers.Dense(300, activation='tanh',kernel_regularizer=regularizers.l2(0.00001)),\n",
    "    tf.keras.layers.Dense(1, activation='sigmoid')   \n",
    "])\n",
    "\n",
    "research_model.compile(optimizer='adam',\n",
    "              loss=tf.keras.losses.BinaryCrossentropy(from_logits=True),\n",
    "              metrics=[tf.keras.metrics.AUC(name='AUC'),'accuracy'])\n",
    "\n"
   ]
  },
  {
   "cell_type": "code",
   "execution_count": 35,
   "id": "ce966913",
   "metadata": {},
   "outputs": [
    {
     "name": "stdout",
     "output_type": "stream",
     "text": [
      "Epoch 1/5\n"
     ]
    },
    {
     "name": "stderr",
     "output_type": "stream",
     "text": [
      "2022-03-21 02:56:06.969436: I tensorflow/core/grappler/optimizers/custom_graph_optimizer_registry.cc:113] Plugin optimizer for device_type GPU is enabled.\n"
     ]
    },
    {
     "name": "stdout",
     "output_type": "stream",
     "text": [
      "1120/1120 [==============================] - 26s 22ms/step - loss: 0.3651 - AUC: 0.9211 - accuracy: 0.8292\n",
      "Epoch 2/5\n",
      "1120/1120 [==============================] - 26s 23ms/step - loss: 0.3097 - AUC: 0.9450 - accuracy: 0.8631\n",
      "Epoch 3/5\n",
      "1120/1120 [==============================] - 26s 23ms/step - loss: 0.3021 - AUC: 0.9474 - accuracy: 0.8671\n",
      "Epoch 4/5\n",
      "1120/1120 [==============================] - 24s 21ms/step - loss: 0.2976 - AUC: 0.9486 - accuracy: 0.8692\n",
      "Epoch 5/5\n",
      "1120/1120 [==============================] - 24s 21ms/step - loss: 0.2925 - AUC: 0.9500 - accuracy: 0.8717\n"
     ]
    },
    {
     "data": {
      "text/plain": [
       "<keras.callbacks.History at 0x10fa6dc10>"
      ]
     },
     "execution_count": 35,
     "metadata": {},
     "output_type": "execute_result"
    }
   ],
   "source": [
    "research_model.fit(train_features, train_labels, batch_size=5000, epochs=5)\n"
   ]
  },
  {
   "cell_type": "code",
   "execution_count": 36,
   "id": "ad84eff7",
   "metadata": {},
   "outputs": [
    {
     "name": "stderr",
     "output_type": "stream",
     "text": [
      "2022-03-21 02:58:17.101258: I tensorflow/core/grappler/optimizers/custom_graph_optimizer_registry.cc:113] Plugin optimizer for device_type GPU is enabled.\n"
     ]
    },
    {
     "name": "stdout",
     "output_type": "stream",
     "text": [
      "140/140 - 2s - loss: 0.2930 - AUC: 0.9502 - accuracy: 0.8714 - 2s/epoch - 12ms/step\n",
      "\n",
      "Test accuracy: 0.8714428544044495\n",
      "\n",
      "Test AUC: 0.950153112411499\n"
     ]
    }
   ],
   "source": [
    "test_loss, test_auc, test_acc = research_model.evaluate(test_features,  test_labels, batch_size=5000, verbose=2)\n",
    "\n",
    "print('\\nTest accuracy:', test_acc)\n",
    "print('\\nTest AUC:', test_auc)"
   ]
  },
  {
   "cell_type": "code",
   "execution_count": 39,
   "id": "c24d61eb",
   "metadata": {},
   "outputs": [],
   "source": [
    "from tensorflow.keras import regularizers\n",
    "\n",
    "relu_model = tf.keras.Sequential([\n",
    "    tf.keras.layers.Dense(300, activation='relu', input_shape=(28,),kernel_regularizer=regularizers.l2(0.00001)),\n",
    "    tf.keras.layers.Dense(300, activation='relu',kernel_regularizer=regularizers.l2(0.00001)),\n",
    "    tf.keras.layers.Dense(300, activation='relu',kernel_regularizer=regularizers.l2(0.00001)),\n",
    "    tf.keras.layers.Dense(300, activation='relu',kernel_regularizer=regularizers.l2(0.00001)),\n",
    "    tf.keras.layers.Dense(300, activation='relu',kernel_regularizer=regularizers.l2(0.00001)),\n",
    "    tf.keras.layers.Dense(1, activation='sigmoid')   \n",
    "])\n",
    "\n",
    "relu_model.compile(optimizer='adam',\n",
    "              loss=tf.keras.losses.BinaryCrossentropy(from_logits=True),\n",
    "              metrics=[tf.keras.metrics.AUC(name='AUC'),'accuracy'])"
   ]
  },
  {
   "cell_type": "code",
   "execution_count": 40,
   "id": "dc353a64",
   "metadata": {},
   "outputs": [
    {
     "name": "stdout",
     "output_type": "stream",
     "text": [
      "Epoch 1/10\n"
     ]
    },
    {
     "name": "stderr",
     "output_type": "stream",
     "text": [
      "2022-03-21 02:59:29.033618: I tensorflow/core/grappler/optimizers/custom_graph_optimizer_registry.cc:113] Plugin optimizer for device_type GPU is enabled.\n"
     ]
    },
    {
     "name": "stdout",
     "output_type": "stream",
     "text": [
      "1120/1120 [==============================] - 26s 22ms/step - loss: 0.5349 - AUC: 0.8730 - accuracy: 0.7818\n",
      "Epoch 2/10\n",
      "1120/1120 [==============================] - 24s 21ms/step - loss: 0.3477 - AUC: 0.9271 - accuracy: 0.8371\n",
      "Epoch 3/10\n",
      "1120/1120 [==============================] - 23s 21ms/step - loss: 0.3306 - AUC: 0.9336 - accuracy: 0.8468\n",
      "Epoch 4/10\n",
      "1120/1120 [==============================] - 24s 22ms/step - loss: 0.3326 - AUC: 0.9332 - accuracy: 0.8465\n",
      "Epoch 5/10\n",
      "1120/1120 [==============================] - 23s 21ms/step - loss: 0.3183 - AUC: 0.9391 - accuracy: 0.8539\n",
      "Epoch 6/10\n",
      "1120/1120 [==============================] - 25s 22ms/step - loss: 0.3071 - AUC: 0.9437 - accuracy: 0.8606\n",
      "Epoch 7/10\n",
      "1120/1120 [==============================] - 26s 23ms/step - loss: 0.3037 - AUC: 0.9449 - accuracy: 0.8625\n",
      "Epoch 8/10\n",
      "1120/1120 [==============================] - 24s 21ms/step - loss: 0.3013 - AUC: 0.9457 - accuracy: 0.8639\n",
      "Epoch 9/10\n",
      "1120/1120 [==============================] - 24s 21ms/step - loss: 0.2997 - AUC: 0.9462 - accuracy: 0.8647\n",
      "Epoch 10/10\n",
      "1120/1120 [==============================] - 24s 22ms/step - loss: 0.2972 - AUC: 0.9469 - accuracy: 0.8659\n"
     ]
    },
    {
     "data": {
      "text/plain": [
       "<keras.callbacks.History at 0x10a6049a0>"
      ]
     },
     "execution_count": 40,
     "metadata": {},
     "output_type": "execute_result"
    }
   ],
   "source": [
    "relu_model.fit(train_features, train_labels, batch_size=5000, epochs=10)\n"
   ]
  },
  {
   "cell_type": "code",
   "execution_count": 41,
   "id": "e15d98b0",
   "metadata": {},
   "outputs": [
    {
     "name": "stderr",
     "output_type": "stream",
     "text": [
      "2022-03-21 03:03:31.447481: I tensorflow/core/grappler/optimizers/custom_graph_optimizer_registry.cc:113] Plugin optimizer for device_type GPU is enabled.\n"
     ]
    },
    {
     "name": "stdout",
     "output_type": "stream",
     "text": [
      "140/140 - 2s - loss: 0.2972 - AUC: 0.9470 - accuracy: 0.8648 - 2s/epoch - 13ms/step\n",
      "\n",
      "Test accuracy: 0.8647585511207581\n",
      "\n",
      "Test AUC: 0.9470331072807312\n"
     ]
    }
   ],
   "source": [
    "test_loss, test_auc, test_acc = relu_model.evaluate(test_features,  test_labels, batch_size=5000, verbose=2)\n",
    "\n",
    "print('\\nTest accuracy:', test_acc)\n",
    "print('\\nTest AUC:', test_auc)"
   ]
  },
  {
   "cell_type": "markdown",
   "id": "3844c99e",
   "metadata": {},
   "source": [
    "## The research paper model with tanh on 5 layers seems to be best\n",
    "\n",
    "## Try to improve upon it"
   ]
  },
  {
   "cell_type": "code",
   "execution_count": 62,
   "id": "7a6fada2",
   "metadata": {},
   "outputs": [
    {
     "name": "stdout",
     "output_type": "stream",
     "text": [
      "Epoch 1/50\n"
     ]
    },
    {
     "name": "stderr",
     "output_type": "stream",
     "text": [
      "/Users/rickfontenot/miniforge3/envs/mlp/lib/python3.8/site-packages/tensorflow/python/util/dispatch.py:1082: UserWarning: \"`sparse_categorical_crossentropy` received `from_logits=True`, but the `output` argument was produced by a sigmoid or softmax activation and thus does not represent logits. Was this intended?\"\n",
      "  return dispatch_target(*args, **kwargs)\n",
      "2022-03-26 12:52:57.186927: I tensorflow/core/grappler/optimizers/custom_graph_optimizer_registry.cc:113] Plugin optimizer for device_type GPU is enabled.\n"
     ]
    },
    {
     "name": "stdout",
     "output_type": "stream",
     "text": [
      "1119/1120 [============================>.] - ETA: 0s - loss: 0.2845 - accuracy: 0.8694"
     ]
    },
    {
     "name": "stderr",
     "output_type": "stream",
     "text": [
      "2022-03-26 12:53:36.773438: I tensorflow/core/grappler/optimizers/custom_graph_optimizer_registry.cc:113] Plugin optimizer for device_type GPU is enabled.\n"
     ]
    },
    {
     "name": "stdout",
     "output_type": "stream",
     "text": [
      "1120/1120 [==============================] - 42s 37ms/step - loss: 0.2845 - accuracy: 0.8694 - val_loss: 0.2697 - val_accuracy: 0.8776\n",
      "Epoch 2/50\n",
      "1120/1120 [==============================] - 40s 36ms/step - loss: 0.2652 - accuracy: 0.8802 - val_loss: 0.2629 - val_accuracy: 0.8813\n",
      "Epoch 3/50\n",
      "1120/1120 [==============================] - 40s 36ms/step - loss: 0.2616 - accuracy: 0.8823 - val_loss: 0.2617 - val_accuracy: 0.8824\n",
      "Epoch 4/50\n",
      "1120/1120 [==============================] - 39s 35ms/step - loss: 0.2594 - accuracy: 0.8835 - val_loss: 0.2599 - val_accuracy: 0.8828\n",
      "Epoch 5/50\n",
      "1120/1120 [==============================] - 40s 36ms/step - loss: 0.2577 - accuracy: 0.8846 - val_loss: 0.2582 - val_accuracy: 0.8842\n",
      "Epoch 6/50\n",
      "1120/1120 [==============================] - 41s 37ms/step - loss: 0.2562 - accuracy: 0.8853 - val_loss: 0.2578 - val_accuracy: 0.8844\n",
      "Epoch 7/50\n",
      "1120/1120 [==============================] - 42s 37ms/step - loss: 0.2550 - accuracy: 0.8860 - val_loss: 0.2570 - val_accuracy: 0.8846\n",
      "Epoch 8/50\n",
      "1120/1120 [==============================] - 41s 37ms/step - loss: 0.2537 - accuracy: 0.8866 - val_loss: 0.2574 - val_accuracy: 0.8845\n",
      "Epoch 9/50\n",
      "1120/1120 [==============================] - 41s 37ms/step - loss: 0.2526 - accuracy: 0.8873 - val_loss: 0.2568 - val_accuracy: 0.8851\n",
      "Epoch 10/50\n",
      "1120/1120 [==============================] - 44s 39ms/step - loss: 0.2513 - accuracy: 0.8879 - val_loss: 0.2571 - val_accuracy: 0.8853\n",
      "Epoch 11/50\n",
      "1120/1120 [==============================] - 46s 41ms/step - loss: 0.2500 - accuracy: 0.8886 - val_loss: 0.2575 - val_accuracy: 0.8849\n",
      "Epoch 12/50\n",
      "1120/1120 [==============================] - 44s 39ms/step - loss: 0.2486 - accuracy: 0.8893 - val_loss: 0.2580 - val_accuracy: 0.8847\n",
      "Epoch 13/50\n",
      "1120/1120 [==============================] - 41s 37ms/step - loss: 0.2471 - accuracy: 0.8901 - val_loss: 0.2584 - val_accuracy: 0.8843\n",
      "Epoch 14/50\n",
      "1120/1120 [==============================] - 41s 36ms/step - loss: 0.2455 - accuracy: 0.8909 - val_loss: 0.2606 - val_accuracy: 0.8830\n",
      "Epoch 15/50\n",
      "1120/1120 [==============================] - 41s 37ms/step - loss: 0.2438 - accuracy: 0.8917 - val_loss: 0.2605 - val_accuracy: 0.8836\n",
      "Epoch 16/50\n",
      "1120/1120 [==============================] - 41s 37ms/step - loss: 0.2420 - accuracy: 0.8925 - val_loss: 0.2621 - val_accuracy: 0.8829\n",
      "Epoch 17/50\n",
      "1120/1120 [==============================] - 41s 37ms/step - loss: 0.2400 - accuracy: 0.8935 - val_loss: 0.2637 - val_accuracy: 0.8825\n",
      "Epoch 18/50\n",
      "1120/1120 [==============================] - 41s 37ms/step - loss: 0.2379 - accuracy: 0.8946 - val_loss: 0.2653 - val_accuracy: 0.8816\n",
      "Epoch 19/50\n",
      "1120/1120 [==============================] - 41s 37ms/step - loss: 0.2358 - accuracy: 0.8957 - val_loss: 0.2667 - val_accuracy: 0.8811\n",
      "Epoch 20/50\n",
      "1120/1120 [==============================] - 41s 37ms/step - loss: 0.2336 - accuracy: 0.8969 - val_loss: 0.2689 - val_accuracy: 0.8804\n",
      "Epoch 21/50\n",
      "1120/1120 [==============================] - 41s 37ms/step - loss: 0.2313 - accuracy: 0.8980 - val_loss: 0.2710 - val_accuracy: 0.8798\n",
      "Epoch 22/50\n",
      "1120/1120 [==============================] - 41s 37ms/step - loss: 0.2291 - accuracy: 0.8991 - val_loss: 0.2738 - val_accuracy: 0.8788\n",
      "Epoch 23/50\n",
      "1120/1120 [==============================] - 41s 37ms/step - loss: 0.2269 - accuracy: 0.9003 - val_loss: 0.2764 - val_accuracy: 0.8782\n",
      "Epoch 24/50\n",
      "1120/1120 [==============================] - 41s 37ms/step - loss: 0.2248 - accuracy: 0.9013 - val_loss: 0.2790 - val_accuracy: 0.8773\n",
      "Epoch 25/50\n",
      "1120/1120 [==============================] - 41s 37ms/step - loss: 0.2228 - accuracy: 0.9023 - val_loss: 0.2813 - val_accuracy: 0.8770\n",
      "Epoch 26/50\n",
      "1120/1120 [==============================] - 41s 37ms/step - loss: 0.2208 - accuracy: 0.9034 - val_loss: 0.2842 - val_accuracy: 0.8754\n",
      "Epoch 27/50\n",
      "1120/1120 [==============================] - 41s 37ms/step - loss: 0.2190 - accuracy: 0.9041 - val_loss: 0.2866 - val_accuracy: 0.8757\n",
      "Epoch 28/50\n",
      "1120/1120 [==============================] - 41s 37ms/step - loss: 0.2173 - accuracy: 0.9050 - val_loss: 0.2883 - val_accuracy: 0.8754\n",
      "Epoch 29/50\n",
      "1120/1120 [==============================] - 41s 37ms/step - loss: 0.2157 - accuracy: 0.9057 - val_loss: 0.2917 - val_accuracy: 0.8753\n",
      "Epoch 30/50\n",
      "1120/1120 [==============================] - 41s 36ms/step - loss: 0.2142 - accuracy: 0.9065 - val_loss: 0.2934 - val_accuracy: 0.8742\n",
      "Epoch 31/50\n",
      "1120/1120 [==============================] - 41s 37ms/step - loss: 0.2127 - accuracy: 0.9072 - val_loss: 0.2941 - val_accuracy: 0.8740\n",
      "Epoch 32/50\n",
      "1120/1120 [==============================] - 41s 37ms/step - loss: 0.2114 - accuracy: 0.9078 - val_loss: 0.2975 - val_accuracy: 0.8734\n",
      "Epoch 33/50\n",
      "1120/1120 [==============================] - 41s 37ms/step - loss: 0.2102 - accuracy: 0.9086 - val_loss: 0.2996 - val_accuracy: 0.8732\n",
      "Epoch 34/50\n",
      "1120/1120 [==============================] - 42s 38ms/step - loss: 0.2090 - accuracy: 0.9091 - val_loss: 0.2999 - val_accuracy: 0.8728\n",
      "Epoch 35/50\n",
      "1120/1120 [==============================] - 41s 37ms/step - loss: 0.2080 - accuracy: 0.9095 - val_loss: 0.3040 - val_accuracy: 0.8733\n",
      "Epoch 36/50\n",
      "1120/1120 [==============================] - 41s 37ms/step - loss: 0.2069 - accuracy: 0.9101 - val_loss: 0.3059 - val_accuracy: 0.8721\n",
      "Epoch 37/50\n",
      "1120/1120 [==============================] - 41s 37ms/step - loss: 0.2059 - accuracy: 0.9105 - val_loss: 0.3056 - val_accuracy: 0.8714\n",
      "Epoch 38/50\n",
      "1120/1120 [==============================] - 41s 37ms/step - loss: 0.2049 - accuracy: 0.9110 - val_loss: 0.3077 - val_accuracy: 0.8718\n",
      "Epoch 39/50\n",
      "1120/1120 [==============================] - 41s 37ms/step - loss: 0.2040 - accuracy: 0.9114 - val_loss: 0.3093 - val_accuracy: 0.8711\n",
      "Epoch 40/50\n",
      "1120/1120 [==============================] - 41s 37ms/step - loss: 0.2031 - accuracy: 0.9119 - val_loss: 0.3110 - val_accuracy: 0.8707\n",
      "Epoch 41/50\n",
      "1120/1120 [==============================] - 41s 37ms/step - loss: 0.2024 - accuracy: 0.9122 - val_loss: 0.3118 - val_accuracy: 0.8708\n",
      "Epoch 42/50\n",
      "1120/1120 [==============================] - 41s 37ms/step - loss: 0.2016 - accuracy: 0.9124 - val_loss: 0.3161 - val_accuracy: 0.8708\n",
      "Epoch 43/50\n",
      "1120/1120 [==============================] - 41s 37ms/step - loss: 0.2008 - accuracy: 0.9129 - val_loss: 0.3154 - val_accuracy: 0.8702\n",
      "Epoch 44/50\n",
      "1120/1120 [==============================] - 41s 37ms/step - loss: 0.2002 - accuracy: 0.9131 - val_loss: 0.3175 - val_accuracy: 0.8700\n",
      "Epoch 45/50\n",
      "1120/1120 [==============================] - 41s 37ms/step - loss: 0.1995 - accuracy: 0.9135 - val_loss: 0.3184 - val_accuracy: 0.8703\n",
      "Epoch 46/50\n",
      "1120/1120 [==============================] - 41s 36ms/step - loss: 0.1988 - accuracy: 0.9139 - val_loss: 0.3215 - val_accuracy: 0.8700\n",
      "Epoch 47/50\n",
      "1120/1120 [==============================] - 41s 37ms/step - loss: 0.1982 - accuracy: 0.9140 - val_loss: 0.3212 - val_accuracy: 0.8701\n",
      "Epoch 48/50\n",
      "1120/1120 [==============================] - 41s 37ms/step - loss: 0.1978 - accuracy: 0.9143 - val_loss: 0.3227 - val_accuracy: 0.8694\n",
      "Epoch 49/50\n",
      "1120/1120 [==============================] - 41s 37ms/step - loss: 0.1970 - accuracy: 0.9147 - val_loss: 0.3242 - val_accuracy: 0.8688\n",
      "Epoch 50/50\n",
      "1120/1120 [==============================] - 41s 37ms/step - loss: 0.1966 - accuracy: 0.9148 - val_loss: 0.3248 - val_accuracy: 0.8695\n",
      "140/140 - 2s - loss: 0.3234 - accuracy: 0.8701 - 2s/epoch - 13ms/step\n",
      "\n",
      "Test accuracy: 0.870058536529541\n"
     ]
    }
   ],
   "source": [
    "tb = TensorBoard(log_dir=f\"logs\\\\{time()}\")\n",
    "\n",
    "gelu_model = tf.keras.Sequential([\n",
    "    tf.keras.layers.Dense(300, activation='gelu', input_shape=(28,)),\n",
    "    tf.keras.layers.Dropout(0.0),\n",
    "    tf.keras.layers.Dense(300, activation='gelu'),\n",
    "    tf.keras.layers.Dropout(0.0),\n",
    "    tf.keras.layers.Dense(300, activation='gelu'),\n",
    "    tf.keras.layers.Dropout(0.0),\n",
    "    tf.keras.layers.Dense(300, activation='gelu'),\n",
    "    tf.keras.layers.Dropout(0.0),\n",
    "    tf.keras.layers.Dense(300, activation='gelu'),\n",
    "    tf.keras.layers.Dropout(0.0),\n",
    "    tf.keras.layers.Dense(2, activation='softmax')   \n",
    "])\n",
    "\n",
    "gelu_model.compile(optimizer=tf.optimizers.Adam(hparams[HP_LEARNING_RATE]),\n",
    "              loss=tf.keras.losses.SparseCategoricalCrossentropy(from_logits=True),\n",
    "              metrics=['accuracy'])\n",
    "gelu_model.fit(train_features_scaled, train_labels, batch_size=5000, epochs=50, callbacks=tb, validation_data=[validation_features_scaled, validation_labels])\n",
    "\n",
    "test_loss, test_acc = gelu_model.evaluate(test_features_scaled,  test_labels, batch_size=5000, verbose=2)\n",
    "\n",
    "print('\\nTest accuracy:', test_acc)"
   ]
  },
  {
   "cell_type": "markdown",
   "id": "193a67f2",
   "metadata": {},
   "source": [
    "Max acuracy 88.53 at epoch 10 on last run\n",
    "\n",
    "Reduce epochs to 20, see how batch size affects performance\n",
    "\n",
    "With batch size = 5000 each epoch for this model averageed about 42 seconds\n",
    "With batch size = 22500 below each epoch is about 45 seconds so not a big change\n"
   ]
  },
  {
   "cell_type": "code",
   "execution_count": 64,
   "id": "ad78b5fa",
   "metadata": {},
   "outputs": [
    {
     "name": "stdout",
     "output_type": "stream",
     "text": [
      "Epoch 1/20\n"
     ]
    },
    {
     "name": "stderr",
     "output_type": "stream",
     "text": [
      "2022-03-26 13:36:05.446960: I tensorflow/core/grappler/optimizers/custom_graph_optimizer_registry.cc:113] Plugin optimizer for device_type GPU is enabled.\n"
     ]
    },
    {
     "name": "stdout",
     "output_type": "stream",
     "text": [
      "2240/2240 [==============================] - ETA: 0s - loss: 0.2793 - accuracy: 0.8723"
     ]
    },
    {
     "name": "stderr",
     "output_type": "stream",
     "text": [
      "2022-03-26 13:36:48.934781: I tensorflow/core/grappler/optimizers/custom_graph_optimizer_registry.cc:113] Plugin optimizer for device_type GPU is enabled.\n"
     ]
    },
    {
     "name": "stdout",
     "output_type": "stream",
     "text": [
      "2240/2240 [==============================] - 46s 20ms/step - loss: 0.2793 - accuracy: 0.8723 - val_loss: 0.2659 - val_accuracy: 0.8802\n",
      "Epoch 2/20\n",
      "2240/2240 [==============================] - 45s 20ms/step - loss: 0.2637 - accuracy: 0.8812 - val_loss: 0.2619 - val_accuracy: 0.8820\n",
      "Epoch 3/20\n",
      "2240/2240 [==============================] - 45s 20ms/step - loss: 0.2604 - accuracy: 0.8831 - val_loss: 0.2605 - val_accuracy: 0.8831\n",
      "Epoch 4/20\n",
      "2240/2240 [==============================] - 45s 20ms/step - loss: 0.2583 - accuracy: 0.8843 - val_loss: 0.2586 - val_accuracy: 0.8844\n",
      "Epoch 5/20\n",
      "2240/2240 [==============================] - 45s 20ms/step - loss: 0.2565 - accuracy: 0.8852 - val_loss: 0.2578 - val_accuracy: 0.8846\n",
      "Epoch 6/20\n",
      "2240/2240 [==============================] - 45s 20ms/step - loss: 0.2549 - accuracy: 0.8861 - val_loss: 0.2576 - val_accuracy: 0.8849\n",
      "Epoch 7/20\n",
      "2240/2240 [==============================] - 45s 20ms/step - loss: 0.2535 - accuracy: 0.8868 - val_loss: 0.2576 - val_accuracy: 0.8848\n",
      "Epoch 8/20\n",
      "2240/2240 [==============================] - 45s 20ms/step - loss: 0.2521 - accuracy: 0.8876 - val_loss: 0.2570 - val_accuracy: 0.8850\n",
      "Epoch 9/20\n",
      "2240/2240 [==============================] - 45s 20ms/step - loss: 0.2507 - accuracy: 0.8884 - val_loss: 0.2583 - val_accuracy: 0.8846\n",
      "Epoch 10/20\n",
      "2240/2240 [==============================] - 45s 20ms/step - loss: 0.2491 - accuracy: 0.8891 - val_loss: 0.2587 - val_accuracy: 0.8843\n",
      "Epoch 11/20\n",
      "2240/2240 [==============================] - 46s 20ms/step - loss: 0.2476 - accuracy: 0.8900 - val_loss: 0.2589 - val_accuracy: 0.8846\n",
      "Epoch 12/20\n",
      "2240/2240 [==============================] - 46s 21ms/step - loss: 0.2458 - accuracy: 0.8908 - val_loss: 0.2598 - val_accuracy: 0.8843\n",
      "Epoch 13/20\n",
      "2240/2240 [==============================] - 46s 20ms/step - loss: 0.2441 - accuracy: 0.8917 - val_loss: 0.2610 - val_accuracy: 0.8834\n",
      "Epoch 14/20\n",
      "2240/2240 [==============================] - 47s 21ms/step - loss: 0.2422 - accuracy: 0.8926 - val_loss: 0.2620 - val_accuracy: 0.8829\n",
      "Epoch 15/20\n",
      "2240/2240 [==============================] - 46s 20ms/step - loss: 0.2404 - accuracy: 0.8936 - val_loss: 0.2637 - val_accuracy: 0.8827\n",
      "Epoch 16/20\n",
      "2240/2240 [==============================] - 45s 20ms/step - loss: 0.2386 - accuracy: 0.8945 - val_loss: 0.2650 - val_accuracy: 0.8816\n",
      "Epoch 17/20\n",
      "2240/2240 [==============================] - 44s 20ms/step - loss: 0.2367 - accuracy: 0.8954 - val_loss: 0.2669 - val_accuracy: 0.8816\n",
      "Epoch 18/20\n",
      "2240/2240 [==============================] - 44s 20ms/step - loss: 0.2350 - accuracy: 0.8963 - val_loss: 0.2679 - val_accuracy: 0.8811\n",
      "Epoch 19/20\n",
      "2240/2240 [==============================] - 44s 20ms/step - loss: 0.2333 - accuracy: 0.8972 - val_loss: 0.2705 - val_accuracy: 0.8802\n",
      "Epoch 20/20\n",
      "2240/2240 [==============================] - 44s 20ms/step - loss: 0.2316 - accuracy: 0.8980 - val_loss: 0.2725 - val_accuracy: 0.8791\n",
      "280/280 - 2s - loss: 0.2714 - accuracy: 0.8796 - 2s/epoch - 8ms/step\n",
      "\n",
      "Test accuracy: 0.87960284948349\n"
     ]
    }
   ],
   "source": [
    "tb = TensorBoard(log_dir=f\"logs\\\\{time()}\")\n",
    "\n",
    "gelu_model = tf.keras.Sequential([\n",
    "    tf.keras.layers.Dense(300, activation='gelu', input_shape=(28,)),\n",
    "    tf.keras.layers.Dropout(0.0),\n",
    "    tf.keras.layers.Dense(300, activation='gelu'),\n",
    "    tf.keras.layers.Dropout(0.0),\n",
    "    tf.keras.layers.Dense(300, activation='gelu'),\n",
    "    tf.keras.layers.Dropout(0.0),\n",
    "    tf.keras.layers.Dense(300, activation='gelu'),\n",
    "    tf.keras.layers.Dropout(0.0),\n",
    "    tf.keras.layers.Dense(300, activation='gelu'),\n",
    "    tf.keras.layers.Dropout(0.0),\n",
    "    tf.keras.layers.Dense(2, activation='softmax')   \n",
    "])\n",
    "\n",
    "gelu_model.compile(optimizer=tf.optimizers.Adam(0.001),\n",
    "              loss=tf.keras.losses.SparseCategoricalCrossentropy(from_logits=True),\n",
    "              metrics=['accuracy'])\n",
    "gelu_model.fit(train_features_scaled, train_labels, batch_size=2500, epochs=8, callbacks=tb, validation_data=[validation_features_scaled, validation_labels])\n",
    "\n",
    "test_loss, test_acc = gelu_model.evaluate(test_features_scaled,  test_labels, batch_size=2500, verbose=2)\n",
    "\n",
    "print('\\nTest accuracy:', test_acc)"
   ]
  },
  {
   "cell_type": "markdown",
   "id": "49bcbf00",
   "metadata": {},
   "source": [
    "With batch size = 2500 max accuracy was 88.5% at epoch 8, so it reached max accuracy earlier epoch but slightly lower accuracy\n",
    "\n",
    "Try batch size = 10,000"
   ]
  },
  {
   "cell_type": "code",
   "execution_count": 65,
   "id": "7590dfbf",
   "metadata": {},
   "outputs": [
    {
     "name": "stdout",
     "output_type": "stream",
     "text": [
      "Epoch 1/20\n"
     ]
    },
    {
     "name": "stderr",
     "output_type": "stream",
     "text": [
      "2022-03-26 13:51:14.698454: I tensorflow/core/grappler/optimizers/custom_graph_optimizer_registry.cc:113] Plugin optimizer for device_type GPU is enabled.\n"
     ]
    },
    {
     "name": "stdout",
     "output_type": "stream",
     "text": [
      "560/560 [==============================] - ETA: 0s - loss: 0.2935 - accuracy: 0.8644"
     ]
    },
    {
     "name": "stderr",
     "output_type": "stream",
     "text": [
      "2022-03-26 13:51:53.343590: I tensorflow/core/grappler/optimizers/custom_graph_optimizer_registry.cc:113] Plugin optimizer for device_type GPU is enabled.\n"
     ]
    },
    {
     "name": "stdout",
     "output_type": "stream",
     "text": [
      "560/560 [==============================] - 41s 71ms/step - loss: 0.2935 - accuracy: 0.8644 - val_loss: 0.2744 - val_accuracy: 0.8747\n",
      "Epoch 2/20\n",
      "560/560 [==============================] - 39s 70ms/step - loss: 0.2691 - accuracy: 0.8780 - val_loss: 0.2661 - val_accuracy: 0.8797\n",
      "Epoch 3/20\n",
      "560/560 [==============================] - 39s 69ms/step - loss: 0.2635 - accuracy: 0.8811 - val_loss: 0.2625 - val_accuracy: 0.8818\n",
      "Epoch 4/20\n",
      "560/560 [==============================] - 39s 69ms/step - loss: 0.2611 - accuracy: 0.8824 - val_loss: 0.2611 - val_accuracy: 0.8826\n",
      "Epoch 5/20\n",
      "560/560 [==============================] - 39s 69ms/step - loss: 0.2595 - accuracy: 0.8833 - val_loss: 0.2596 - val_accuracy: 0.8830\n",
      "Epoch 6/20\n",
      "560/560 [==============================] - 39s 70ms/step - loss: 0.2581 - accuracy: 0.8841 - val_loss: 0.2594 - val_accuracy: 0.8836\n",
      "Epoch 7/20\n",
      "560/560 [==============================] - 39s 70ms/step - loss: 0.2569 - accuracy: 0.8847 - val_loss: 0.2587 - val_accuracy: 0.8839\n",
      "Epoch 8/20\n",
      "560/560 [==============================] - 39s 70ms/step - loss: 0.2558 - accuracy: 0.8854 - val_loss: 0.2579 - val_accuracy: 0.8847\n",
      "Epoch 9/20\n",
      "560/560 [==============================] - 39s 70ms/step - loss: 0.2548 - accuracy: 0.8859 - val_loss: 0.2573 - val_accuracy: 0.8845\n",
      "Epoch 10/20\n",
      "560/560 [==============================] - 39s 70ms/step - loss: 0.2538 - accuracy: 0.8865 - val_loss: 0.2570 - val_accuracy: 0.8850\n",
      "Epoch 11/20\n",
      "560/560 [==============================] - 40s 71ms/step - loss: 0.2528 - accuracy: 0.8869 - val_loss: 0.2571 - val_accuracy: 0.8850\n",
      "Epoch 12/20\n",
      "560/560 [==============================] - 39s 70ms/step - loss: 0.2518 - accuracy: 0.8875 - val_loss: 0.2566 - val_accuracy: 0.8850\n",
      "Epoch 13/20\n",
      "560/560 [==============================] - 39s 69ms/step - loss: 0.2508 - accuracy: 0.8880 - val_loss: 0.2566 - val_accuracy: 0.8853\n",
      "Epoch 14/20\n",
      "560/560 [==============================] - 39s 69ms/step - loss: 0.2498 - accuracy: 0.8885 - val_loss: 0.2568 - val_accuracy: 0.8852\n",
      "Epoch 15/20\n",
      "560/560 [==============================] - 39s 69ms/step - loss: 0.2487 - accuracy: 0.8891 - val_loss: 0.2574 - val_accuracy: 0.8849\n",
      "Epoch 16/20\n",
      "560/560 [==============================] - 39s 69ms/step - loss: 0.2476 - accuracy: 0.8896 - val_loss: 0.2580 - val_accuracy: 0.8843\n",
      "Epoch 17/20\n",
      "560/560 [==============================] - 39s 69ms/step - loss: 0.2463 - accuracy: 0.8903 - val_loss: 0.2586 - val_accuracy: 0.8845\n",
      "Epoch 18/20\n",
      "560/560 [==============================] - 39s 69ms/step - loss: 0.2450 - accuracy: 0.8908 - val_loss: 0.2594 - val_accuracy: 0.8841\n",
      "Epoch 19/20\n",
      "560/560 [==============================] - 39s 69ms/step - loss: 0.2436 - accuracy: 0.8916 - val_loss: 0.2604 - val_accuracy: 0.8835\n",
      "Epoch 20/20\n",
      "560/560 [==============================] - 39s 69ms/step - loss: 0.2420 - accuracy: 0.8924 - val_loss: 0.2613 - val_accuracy: 0.8833\n",
      "70/70 - 2s - loss: 0.2603 - accuracy: 0.8843 - 2s/epoch - 25ms/step\n",
      "\n",
      "Test accuracy: 0.8842856884002686\n"
     ]
    }
   ],
   "source": [
    "tb = TensorBoard(log_dir=f\"logs\\\\{time()}\")\n",
    "\n",
    "gelu_model = tf.keras.Sequential([\n",
    "    tf.keras.layers.Dense(300, activation='gelu', input_shape=(28,)),\n",
    "    tf.keras.layers.Dropout(0.0),\n",
    "    tf.keras.layers.Dense(300, activation='gelu'),\n",
    "    tf.keras.layers.Dropout(0.0),\n",
    "    tf.keras.layers.Dense(300, activation='gelu'),\n",
    "    tf.keras.layers.Dropout(0.0),\n",
    "    tf.keras.layers.Dense(300, activation='gelu'),\n",
    "    tf.keras.layers.Dropout(0.0),\n",
    "    tf.keras.layers.Dense(300, activation='gelu'),\n",
    "    tf.keras.layers.Dropout(0.0),\n",
    "    tf.keras.layers.Dense(2, activation='softmax')   \n",
    "])\n",
    "\n",
    "gelu_model.compile(optimizer=tf.optimizers.Adam(0.001),\n",
    "              loss=tf.keras.losses.SparseCategoricalCrossentropy(from_logits=True),\n",
    "              metrics=['accuracy'])\n",
    "gelu_model.fit(train_features_scaled, train_labels, batch_size=10000, epochs=20, callbacks=tb, validation_data=[validation_features_scaled, validation_labels])\n",
    "\n",
    "test_loss, test_acc = gelu_model.evaluate(test_features_scaled,  test_labels, batch_size=10000, verbose=2)\n",
    "\n",
    "print('\\nTest accuracy:', test_acc)"
   ]
  },
  {
   "cell_type": "markdown",
   "id": "d22a40a0",
   "metadata": {},
   "source": [
    "back to batch size 5000 with 8 epochs, add auc metric, need to change output to sigmoid activation"
   ]
  },
  {
   "cell_type": "code",
   "execution_count": 133,
   "id": "3466af64",
   "metadata": {},
   "outputs": [
    {
     "name": "stdout",
     "output_type": "stream",
     "text": [
      "Epoch 1/50\n"
     ]
    },
    {
     "name": "stderr",
     "output_type": "stream",
     "text": [
      "2022-03-26 21:00:24.842801: I tensorflow/core/grappler/optimizers/custom_graph_optimizer_registry.cc:113] Plugin optimizer for device_type GPU is enabled.\n"
     ]
    },
    {
     "name": "stdout",
     "output_type": "stream",
     "text": [
      "2240/2240 [==============================] - ETA: 0s - loss: 0.2794 - accuracy: 0.8723 - AUC: 0.9507"
     ]
    },
    {
     "name": "stderr",
     "output_type": "stream",
     "text": [
      "2022-03-26 21:01:14.819861: I tensorflow/core/grappler/optimizers/custom_graph_optimizer_registry.cc:113] Plugin optimizer for device_type GPU is enabled.\n"
     ]
    },
    {
     "name": "stdout",
     "output_type": "stream",
     "text": [
      "2240/2240 [==============================] - 54s 24ms/step - loss: 0.2794 - accuracy: 0.8723 - AUC: 0.9507 - val_loss: 0.2659 - val_accuracy: 0.8798 - val_AUC: 0.9554\n",
      "Epoch 2/50\n",
      "2240/2240 [==============================] - 52s 23ms/step - loss: 0.2635 - accuracy: 0.8814 - AUC: 0.9562 - val_loss: 0.2615 - val_accuracy: 0.8823 - val_AUC: 0.9569\n",
      "Epoch 3/50\n",
      "2240/2240 [==============================] - 50s 22ms/step - loss: 0.2602 - accuracy: 0.8832 - AUC: 0.9573 - val_loss: 0.2602 - val_accuracy: 0.8832 - val_AUC: 0.9574\n",
      "Epoch 4/50\n",
      "2240/2240 [==============================] - 51s 23ms/step - loss: 0.2580 - accuracy: 0.8843 - AUC: 0.9581 - val_loss: 0.2580 - val_accuracy: 0.8843 - val_AUC: 0.9581\n",
      "Epoch 5/50\n",
      "2240/2240 [==============================] - 52s 23ms/step - loss: 0.2562 - accuracy: 0.8852 - AUC: 0.9587 - val_loss: 0.2581 - val_accuracy: 0.8845 - val_AUC: 0.9581\n",
      "Epoch 6/50\n",
      "2240/2240 [==============================] - 52s 23ms/step - loss: 0.2546 - accuracy: 0.8862 - AUC: 0.9592 - val_loss: 0.2577 - val_accuracy: 0.8844 - val_AUC: 0.9581\n",
      "Epoch 7/50\n",
      "2240/2240 [==============================] - 52s 23ms/step - loss: 0.2532 - accuracy: 0.8869 - AUC: 0.9596 - val_loss: 0.2571 - val_accuracy: 0.8851 - val_AUC: 0.9585\n",
      "Epoch 8/50\n",
      "2240/2240 [==============================] - 49s 22ms/step - loss: 0.2517 - accuracy: 0.8877 - AUC: 0.9601 - val_loss: 0.2573 - val_accuracy: 0.8848 - val_AUC: 0.9583\n",
      "Epoch 9/50\n",
      "2240/2240 [==============================] - 49s 22ms/step - loss: 0.2503 - accuracy: 0.8885 - AUC: 0.9606 - val_loss: 0.2568 - val_accuracy: 0.8853 - val_AUC: 0.9585\n",
      "Epoch 10/50\n",
      "2240/2240 [==============================] - 50s 22ms/step - loss: 0.2487 - accuracy: 0.8893 - AUC: 0.9611 - val_loss: 0.2582 - val_accuracy: 0.8842 - val_AUC: 0.9581\n",
      "Epoch 11/50\n",
      "2240/2240 [==============================] - 53s 24ms/step - loss: 0.2469 - accuracy: 0.8902 - AUC: 0.9617 - val_loss: 0.2584 - val_accuracy: 0.8845 - val_AUC: 0.9579\n",
      "Epoch 12/50\n",
      "2240/2240 [==============================] - 53s 24ms/step - loss: 0.2451 - accuracy: 0.8911 - AUC: 0.9622 - val_loss: 0.2594 - val_accuracy: 0.8842 - val_AUC: 0.9576\n",
      "Epoch 13/50\n",
      "2240/2240 [==============================] - 50s 22ms/step - loss: 0.2434 - accuracy: 0.8920 - AUC: 0.9628 - val_loss: 0.2615 - val_accuracy: 0.8839 - val_AUC: 0.9573\n",
      "Epoch 14/50\n",
      "2240/2240 [==============================] - 50s 22ms/step - loss: 0.2414 - accuracy: 0.8931 - AUC: 0.9634 - val_loss: 0.2619 - val_accuracy: 0.8834 - val_AUC: 0.9569\n",
      "Epoch 15/50\n",
      "2240/2240 [==============================] - 50s 22ms/step - loss: 0.2395 - accuracy: 0.8940 - AUC: 0.9640 - val_loss: 0.2636 - val_accuracy: 0.8832 - val_AUC: 0.9567\n",
      "Epoch 16/50\n",
      "2240/2240 [==============================] - 50s 22ms/step - loss: 0.2376 - accuracy: 0.8950 - AUC: 0.9646 - val_loss: 0.2650 - val_accuracy: 0.8830 - val_AUC: 0.9563\n",
      "Epoch 17/50\n",
      " 453/2240 [=====>........................] - ETA: 38s - loss: 0.2315 - accuracy: 0.8984 - AUC: 0.9665"
     ]
    },
    {
     "ename": "KeyboardInterrupt",
     "evalue": "",
     "output_type": "error",
     "traceback": [
      "\u001b[0;31m---------------------------------------------------------------------------\u001b[0m",
      "\u001b[0;31mKeyboardInterrupt\u001b[0m                         Traceback (most recent call last)",
      "\u001b[1;32m/Users/rickfontenot/Dropbox/SMU/DS7333 Quantifying World/QTW_Github/QTW/QTW/Case Study 6/case6_rick.ipynb Cell 77'\u001b[0m in \u001b[0;36m<cell line: 20>\u001b[0;34m()\u001b[0m\n\u001b[1;32m      <a href='vscode-notebook-cell:/Users/rickfontenot/Dropbox/SMU/DS7333%20Quantifying%20World/QTW_Github/QTW/QTW/Case%20Study%206/case6_rick.ipynb#ch0000075?line=2'>3</a>\u001b[0m gelu_model \u001b[39m=\u001b[39m tf\u001b[39m.\u001b[39mkeras\u001b[39m.\u001b[39mSequential([\n\u001b[1;32m      <a href='vscode-notebook-cell:/Users/rickfontenot/Dropbox/SMU/DS7333%20Quantifying%20World/QTW_Github/QTW/QTW/Case%20Study%206/case6_rick.ipynb#ch0000075?line=3'>4</a>\u001b[0m     tf\u001b[39m.\u001b[39mkeras\u001b[39m.\u001b[39mlayers\u001b[39m.\u001b[39mDense(\u001b[39m300\u001b[39m, activation\u001b[39m=\u001b[39m\u001b[39m'\u001b[39m\u001b[39mgelu\u001b[39m\u001b[39m'\u001b[39m, input_shape\u001b[39m=\u001b[39m(\u001b[39m28\u001b[39m,)),\n\u001b[1;32m      <a href='vscode-notebook-cell:/Users/rickfontenot/Dropbox/SMU/DS7333%20Quantifying%20World/QTW_Github/QTW/QTW/Case%20Study%206/case6_rick.ipynb#ch0000075?line=4'>5</a>\u001b[0m     tf\u001b[39m.\u001b[39mkeras\u001b[39m.\u001b[39mlayers\u001b[39m.\u001b[39mDropout(\u001b[39m0.0\u001b[39m),\n\u001b[0;32m   (...)\u001b[0m\n\u001b[1;32m     <a href='vscode-notebook-cell:/Users/rickfontenot/Dropbox/SMU/DS7333%20Quantifying%20World/QTW_Github/QTW/QTW/Case%20Study%206/case6_rick.ipynb#ch0000075?line=13'>14</a>\u001b[0m     tf\u001b[39m.\u001b[39mkeras\u001b[39m.\u001b[39mlayers\u001b[39m.\u001b[39mDense(\u001b[39m1\u001b[39m, activation\u001b[39m=\u001b[39m\u001b[39m'\u001b[39m\u001b[39msigmoid\u001b[39m\u001b[39m'\u001b[39m)   \n\u001b[1;32m     <a href='vscode-notebook-cell:/Users/rickfontenot/Dropbox/SMU/DS7333%20Quantifying%20World/QTW_Github/QTW/QTW/Case%20Study%206/case6_rick.ipynb#ch0000075?line=14'>15</a>\u001b[0m ])\n\u001b[1;32m     <a href='vscode-notebook-cell:/Users/rickfontenot/Dropbox/SMU/DS7333%20Quantifying%20World/QTW_Github/QTW/QTW/Case%20Study%206/case6_rick.ipynb#ch0000075?line=16'>17</a>\u001b[0m gelu_model\u001b[39m.\u001b[39mcompile(optimizer\u001b[39m=\u001b[39mtf\u001b[39m.\u001b[39moptimizers\u001b[39m.\u001b[39mAdam(\u001b[39m0.001\u001b[39m),\n\u001b[1;32m     <a href='vscode-notebook-cell:/Users/rickfontenot/Dropbox/SMU/DS7333%20Quantifying%20World/QTW_Github/QTW/QTW/Case%20Study%206/case6_rick.ipynb#ch0000075?line=17'>18</a>\u001b[0m               loss\u001b[39m=\u001b[39mtf\u001b[39m.\u001b[39mkeras\u001b[39m.\u001b[39mlosses\u001b[39m.\u001b[39mBinaryCrossentropy(from_logits\u001b[39m=\u001b[39m\u001b[39mTrue\u001b[39;00m),\n\u001b[1;32m     <a href='vscode-notebook-cell:/Users/rickfontenot/Dropbox/SMU/DS7333%20Quantifying%20World/QTW_Github/QTW/QTW/Case%20Study%206/case6_rick.ipynb#ch0000075?line=18'>19</a>\u001b[0m               metrics\u001b[39m=\u001b[39m[\u001b[39m'\u001b[39m\u001b[39maccuracy\u001b[39m\u001b[39m'\u001b[39m, tf\u001b[39m.\u001b[39mkeras\u001b[39m.\u001b[39mmetrics\u001b[39m.\u001b[39mAUC(name\u001b[39m=\u001b[39m\u001b[39m'\u001b[39m\u001b[39mAUC\u001b[39m\u001b[39m'\u001b[39m)])\n\u001b[0;32m---> <a href='vscode-notebook-cell:/Users/rickfontenot/Dropbox/SMU/DS7333%20Quantifying%20World/QTW_Github/QTW/QTW/Case%20Study%206/case6_rick.ipynb#ch0000075?line=19'>20</a>\u001b[0m gelu_model\u001b[39m.\u001b[39;49mfit(train_features_scaled, train_labels, batch_size\u001b[39m=\u001b[39;49m\u001b[39m2500\u001b[39;49m, epochs\u001b[39m=\u001b[39;49m\u001b[39m50\u001b[39;49m, callbacks\u001b[39m=\u001b[39;49mtb, validation_data\u001b[39m=\u001b[39;49m[validation_features_scaled, validation_labels])\n\u001b[1;32m     <a href='vscode-notebook-cell:/Users/rickfontenot/Dropbox/SMU/DS7333%20Quantifying%20World/QTW_Github/QTW/QTW/Case%20Study%206/case6_rick.ipynb#ch0000075?line=21'>22</a>\u001b[0m test_loss, test_acc, test_auc \u001b[39m=\u001b[39m gelu_model\u001b[39m.\u001b[39mevaluate(test_features_scaled,  test_labels, batch_size\u001b[39m=\u001b[39m\u001b[39m2500\u001b[39m, verbose\u001b[39m=\u001b[39m\u001b[39m2\u001b[39m)\n\u001b[1;32m     <a href='vscode-notebook-cell:/Users/rickfontenot/Dropbox/SMU/DS7333%20Quantifying%20World/QTW_Github/QTW/QTW/Case%20Study%206/case6_rick.ipynb#ch0000075?line=23'>24</a>\u001b[0m \u001b[39mprint\u001b[39m(\u001b[39m'\u001b[39m\u001b[39m\\n\u001b[39;00m\u001b[39mTest accuracy:\u001b[39m\u001b[39m'\u001b[39m, test_acc)\n",
      "File \u001b[0;32m~/miniforge3/envs/mlp/lib/python3.8/site-packages/keras/utils/traceback_utils.py:64\u001b[0m, in \u001b[0;36mfilter_traceback.<locals>.error_handler\u001b[0;34m(*args, **kwargs)\u001b[0m\n\u001b[1;32m     <a href='file:///Users/rickfontenot/miniforge3/envs/mlp/lib/python3.8/site-packages/keras/utils/traceback_utils.py?line=61'>62</a>\u001b[0m filtered_tb \u001b[39m=\u001b[39m \u001b[39mNone\u001b[39;00m\n\u001b[1;32m     <a href='file:///Users/rickfontenot/miniforge3/envs/mlp/lib/python3.8/site-packages/keras/utils/traceback_utils.py?line=62'>63</a>\u001b[0m \u001b[39mtry\u001b[39;00m:\n\u001b[0;32m---> <a href='file:///Users/rickfontenot/miniforge3/envs/mlp/lib/python3.8/site-packages/keras/utils/traceback_utils.py?line=63'>64</a>\u001b[0m   \u001b[39mreturn\u001b[39;00m fn(\u001b[39m*\u001b[39;49margs, \u001b[39m*\u001b[39;49m\u001b[39m*\u001b[39;49mkwargs)\n\u001b[1;32m     <a href='file:///Users/rickfontenot/miniforge3/envs/mlp/lib/python3.8/site-packages/keras/utils/traceback_utils.py?line=64'>65</a>\u001b[0m \u001b[39mexcept\u001b[39;00m \u001b[39mException\u001b[39;00m \u001b[39mas\u001b[39;00m e:  \u001b[39m# pylint: disable=broad-except\u001b[39;00m\n\u001b[1;32m     <a href='file:///Users/rickfontenot/miniforge3/envs/mlp/lib/python3.8/site-packages/keras/utils/traceback_utils.py?line=65'>66</a>\u001b[0m   filtered_tb \u001b[39m=\u001b[39m _process_traceback_frames(e\u001b[39m.\u001b[39m__traceback__)\n",
      "File \u001b[0;32m~/miniforge3/envs/mlp/lib/python3.8/site-packages/keras/engine/training.py:1389\u001b[0m, in \u001b[0;36mModel.fit\u001b[0;34m(self, x, y, batch_size, epochs, verbose, callbacks, validation_split, validation_data, shuffle, class_weight, sample_weight, initial_epoch, steps_per_epoch, validation_steps, validation_batch_size, validation_freq, max_queue_size, workers, use_multiprocessing)\u001b[0m\n\u001b[1;32m   <a href='file:///Users/rickfontenot/miniforge3/envs/mlp/lib/python3.8/site-packages/keras/engine/training.py?line=1386'>1387</a>\u001b[0m logs \u001b[39m=\u001b[39m tmp_logs  \u001b[39m# No error, now safe to assign to logs.\u001b[39;00m\n\u001b[1;32m   <a href='file:///Users/rickfontenot/miniforge3/envs/mlp/lib/python3.8/site-packages/keras/engine/training.py?line=1387'>1388</a>\u001b[0m end_step \u001b[39m=\u001b[39m step \u001b[39m+\u001b[39m data_handler\u001b[39m.\u001b[39mstep_increment\n\u001b[0;32m-> <a href='file:///Users/rickfontenot/miniforge3/envs/mlp/lib/python3.8/site-packages/keras/engine/training.py?line=1388'>1389</a>\u001b[0m callbacks\u001b[39m.\u001b[39;49mon_train_batch_end(end_step, logs)\n\u001b[1;32m   <a href='file:///Users/rickfontenot/miniforge3/envs/mlp/lib/python3.8/site-packages/keras/engine/training.py?line=1389'>1390</a>\u001b[0m \u001b[39mif\u001b[39;00m \u001b[39mself\u001b[39m\u001b[39m.\u001b[39mstop_training:\n\u001b[1;32m   <a href='file:///Users/rickfontenot/miniforge3/envs/mlp/lib/python3.8/site-packages/keras/engine/training.py?line=1390'>1391</a>\u001b[0m   \u001b[39mbreak\u001b[39;00m\n",
      "File \u001b[0;32m~/miniforge3/envs/mlp/lib/python3.8/site-packages/keras/callbacks.py:438\u001b[0m, in \u001b[0;36mCallbackList.on_train_batch_end\u001b[0;34m(self, batch, logs)\u001b[0m\n\u001b[1;32m    <a href='file:///Users/rickfontenot/miniforge3/envs/mlp/lib/python3.8/site-packages/keras/callbacks.py?line=430'>431</a>\u001b[0m \u001b[39m\"\"\"Calls the `on_train_batch_end` methods of its callbacks.\u001b[39;00m\n\u001b[1;32m    <a href='file:///Users/rickfontenot/miniforge3/envs/mlp/lib/python3.8/site-packages/keras/callbacks.py?line=431'>432</a>\u001b[0m \n\u001b[1;32m    <a href='file:///Users/rickfontenot/miniforge3/envs/mlp/lib/python3.8/site-packages/keras/callbacks.py?line=432'>433</a>\u001b[0m \u001b[39mArgs:\u001b[39;00m\n\u001b[1;32m    <a href='file:///Users/rickfontenot/miniforge3/envs/mlp/lib/python3.8/site-packages/keras/callbacks.py?line=433'>434</a>\u001b[0m \u001b[39m    batch: Integer, index of batch within the current epoch.\u001b[39;00m\n\u001b[1;32m    <a href='file:///Users/rickfontenot/miniforge3/envs/mlp/lib/python3.8/site-packages/keras/callbacks.py?line=434'>435</a>\u001b[0m \u001b[39m    logs: Dict. Aggregated metric results up until this batch.\u001b[39;00m\n\u001b[1;32m    <a href='file:///Users/rickfontenot/miniforge3/envs/mlp/lib/python3.8/site-packages/keras/callbacks.py?line=435'>436</a>\u001b[0m \u001b[39m\"\"\"\u001b[39;00m\n\u001b[1;32m    <a href='file:///Users/rickfontenot/miniforge3/envs/mlp/lib/python3.8/site-packages/keras/callbacks.py?line=436'>437</a>\u001b[0m \u001b[39mif\u001b[39;00m \u001b[39mself\u001b[39m\u001b[39m.\u001b[39m_should_call_train_batch_hooks:\n\u001b[0;32m--> <a href='file:///Users/rickfontenot/miniforge3/envs/mlp/lib/python3.8/site-packages/keras/callbacks.py?line=437'>438</a>\u001b[0m   \u001b[39mself\u001b[39;49m\u001b[39m.\u001b[39;49m_call_batch_hook(ModeKeys\u001b[39m.\u001b[39;49mTRAIN, \u001b[39m'\u001b[39;49m\u001b[39mend\u001b[39;49m\u001b[39m'\u001b[39;49m, batch, logs\u001b[39m=\u001b[39;49mlogs)\n",
      "File \u001b[0;32m~/miniforge3/envs/mlp/lib/python3.8/site-packages/keras/callbacks.py:297\u001b[0m, in \u001b[0;36mCallbackList._call_batch_hook\u001b[0;34m(self, mode, hook, batch, logs)\u001b[0m\n\u001b[1;32m    <a href='file:///Users/rickfontenot/miniforge3/envs/mlp/lib/python3.8/site-packages/keras/callbacks.py?line=294'>295</a>\u001b[0m   \u001b[39mself\u001b[39m\u001b[39m.\u001b[39m_call_batch_begin_hook(mode, batch, logs)\n\u001b[1;32m    <a href='file:///Users/rickfontenot/miniforge3/envs/mlp/lib/python3.8/site-packages/keras/callbacks.py?line=295'>296</a>\u001b[0m \u001b[39melif\u001b[39;00m hook \u001b[39m==\u001b[39m \u001b[39m'\u001b[39m\u001b[39mend\u001b[39m\u001b[39m'\u001b[39m:\n\u001b[0;32m--> <a href='file:///Users/rickfontenot/miniforge3/envs/mlp/lib/python3.8/site-packages/keras/callbacks.py?line=296'>297</a>\u001b[0m   \u001b[39mself\u001b[39;49m\u001b[39m.\u001b[39;49m_call_batch_end_hook(mode, batch, logs)\n\u001b[1;32m    <a href='file:///Users/rickfontenot/miniforge3/envs/mlp/lib/python3.8/site-packages/keras/callbacks.py?line=297'>298</a>\u001b[0m \u001b[39melse\u001b[39;00m:\n\u001b[1;32m    <a href='file:///Users/rickfontenot/miniforge3/envs/mlp/lib/python3.8/site-packages/keras/callbacks.py?line=298'>299</a>\u001b[0m   \u001b[39mraise\u001b[39;00m \u001b[39mValueError\u001b[39;00m(\n\u001b[1;32m    <a href='file:///Users/rickfontenot/miniforge3/envs/mlp/lib/python3.8/site-packages/keras/callbacks.py?line=299'>300</a>\u001b[0m       \u001b[39mf\u001b[39m\u001b[39m'\u001b[39m\u001b[39mUnrecognized hook: \u001b[39m\u001b[39m{\u001b[39;00mhook\u001b[39m}\u001b[39;00m\u001b[39m. Expected values are [\u001b[39m\u001b[39m\"\u001b[39m\u001b[39mbegin\u001b[39m\u001b[39m\"\u001b[39m\u001b[39m, \u001b[39m\u001b[39m\"\u001b[39m\u001b[39mend\u001b[39m\u001b[39m\"\u001b[39m\u001b[39m]\u001b[39m\u001b[39m'\u001b[39m)\n",
      "File \u001b[0;32m~/miniforge3/envs/mlp/lib/python3.8/site-packages/keras/callbacks.py:318\u001b[0m, in \u001b[0;36mCallbackList._call_batch_end_hook\u001b[0;34m(self, mode, batch, logs)\u001b[0m\n\u001b[1;32m    <a href='file:///Users/rickfontenot/miniforge3/envs/mlp/lib/python3.8/site-packages/keras/callbacks.py?line=314'>315</a>\u001b[0m   batch_time \u001b[39m=\u001b[39m time\u001b[39m.\u001b[39mtime() \u001b[39m-\u001b[39m \u001b[39mself\u001b[39m\u001b[39m.\u001b[39m_batch_start_time\n\u001b[1;32m    <a href='file:///Users/rickfontenot/miniforge3/envs/mlp/lib/python3.8/site-packages/keras/callbacks.py?line=315'>316</a>\u001b[0m   \u001b[39mself\u001b[39m\u001b[39m.\u001b[39m_batch_times\u001b[39m.\u001b[39mappend(batch_time)\n\u001b[0;32m--> <a href='file:///Users/rickfontenot/miniforge3/envs/mlp/lib/python3.8/site-packages/keras/callbacks.py?line=317'>318</a>\u001b[0m \u001b[39mself\u001b[39;49m\u001b[39m.\u001b[39;49m_call_batch_hook_helper(hook_name, batch, logs)\n\u001b[1;32m    <a href='file:///Users/rickfontenot/miniforge3/envs/mlp/lib/python3.8/site-packages/keras/callbacks.py?line=319'>320</a>\u001b[0m \u001b[39mif\u001b[39;00m \u001b[39mlen\u001b[39m(\u001b[39mself\u001b[39m\u001b[39m.\u001b[39m_batch_times) \u001b[39m>\u001b[39m\u001b[39m=\u001b[39m \u001b[39mself\u001b[39m\u001b[39m.\u001b[39m_num_batches_for_timing_check:\n\u001b[1;32m    <a href='file:///Users/rickfontenot/miniforge3/envs/mlp/lib/python3.8/site-packages/keras/callbacks.py?line=320'>321</a>\u001b[0m   end_hook_name \u001b[39m=\u001b[39m hook_name\n",
      "File \u001b[0;32m~/miniforge3/envs/mlp/lib/python3.8/site-packages/keras/callbacks.py:356\u001b[0m, in \u001b[0;36mCallbackList._call_batch_hook_helper\u001b[0;34m(self, hook_name, batch, logs)\u001b[0m\n\u001b[1;32m    <a href='file:///Users/rickfontenot/miniforge3/envs/mlp/lib/python3.8/site-packages/keras/callbacks.py?line=353'>354</a>\u001b[0m \u001b[39mfor\u001b[39;00m callback \u001b[39min\u001b[39;00m \u001b[39mself\u001b[39m\u001b[39m.\u001b[39mcallbacks:\n\u001b[1;32m    <a href='file:///Users/rickfontenot/miniforge3/envs/mlp/lib/python3.8/site-packages/keras/callbacks.py?line=354'>355</a>\u001b[0m   hook \u001b[39m=\u001b[39m \u001b[39mgetattr\u001b[39m(callback, hook_name)\n\u001b[0;32m--> <a href='file:///Users/rickfontenot/miniforge3/envs/mlp/lib/python3.8/site-packages/keras/callbacks.py?line=355'>356</a>\u001b[0m   hook(batch, logs)\n\u001b[1;32m    <a href='file:///Users/rickfontenot/miniforge3/envs/mlp/lib/python3.8/site-packages/keras/callbacks.py?line=357'>358</a>\u001b[0m \u001b[39mif\u001b[39;00m \u001b[39mself\u001b[39m\u001b[39m.\u001b[39m_check_timing:\n\u001b[1;32m    <a href='file:///Users/rickfontenot/miniforge3/envs/mlp/lib/python3.8/site-packages/keras/callbacks.py?line=358'>359</a>\u001b[0m   \u001b[39mif\u001b[39;00m hook_name \u001b[39mnot\u001b[39;00m \u001b[39min\u001b[39;00m \u001b[39mself\u001b[39m\u001b[39m.\u001b[39m_hook_times:\n",
      "File \u001b[0;32m~/miniforge3/envs/mlp/lib/python3.8/site-packages/keras/callbacks.py:1034\u001b[0m, in \u001b[0;36mProgbarLogger.on_train_batch_end\u001b[0;34m(self, batch, logs)\u001b[0m\n\u001b[1;32m   <a href='file:///Users/rickfontenot/miniforge3/envs/mlp/lib/python3.8/site-packages/keras/callbacks.py?line=1032'>1033</a>\u001b[0m \u001b[39mdef\u001b[39;00m \u001b[39mon_train_batch_end\u001b[39m(\u001b[39mself\u001b[39m, batch, logs\u001b[39m=\u001b[39m\u001b[39mNone\u001b[39;00m):\n\u001b[0;32m-> <a href='file:///Users/rickfontenot/miniforge3/envs/mlp/lib/python3.8/site-packages/keras/callbacks.py?line=1033'>1034</a>\u001b[0m   \u001b[39mself\u001b[39;49m\u001b[39m.\u001b[39;49m_batch_update_progbar(batch, logs)\n",
      "File \u001b[0;32m~/miniforge3/envs/mlp/lib/python3.8/site-packages/keras/callbacks.py:1106\u001b[0m, in \u001b[0;36mProgbarLogger._batch_update_progbar\u001b[0;34m(self, batch, logs)\u001b[0m\n\u001b[1;32m   <a href='file:///Users/rickfontenot/miniforge3/envs/mlp/lib/python3.8/site-packages/keras/callbacks.py?line=1101'>1102</a>\u001b[0m   \u001b[39mself\u001b[39m\u001b[39m.\u001b[39mseen \u001b[39m+\u001b[39m\u001b[39m=\u001b[39m add_seen\n\u001b[1;32m   <a href='file:///Users/rickfontenot/miniforge3/envs/mlp/lib/python3.8/site-packages/keras/callbacks.py?line=1103'>1104</a>\u001b[0m \u001b[39mif\u001b[39;00m \u001b[39mself\u001b[39m\u001b[39m.\u001b[39mverbose \u001b[39m==\u001b[39m \u001b[39m1\u001b[39m:\n\u001b[1;32m   <a href='file:///Users/rickfontenot/miniforge3/envs/mlp/lib/python3.8/site-packages/keras/callbacks.py?line=1104'>1105</a>\u001b[0m   \u001b[39m# Only block async when verbose = 1.\u001b[39;00m\n\u001b[0;32m-> <a href='file:///Users/rickfontenot/miniforge3/envs/mlp/lib/python3.8/site-packages/keras/callbacks.py?line=1105'>1106</a>\u001b[0m   logs \u001b[39m=\u001b[39m tf_utils\u001b[39m.\u001b[39;49msync_to_numpy_or_python_type(logs)\n\u001b[1;32m   <a href='file:///Users/rickfontenot/miniforge3/envs/mlp/lib/python3.8/site-packages/keras/callbacks.py?line=1106'>1107</a>\u001b[0m   \u001b[39mself\u001b[39m\u001b[39m.\u001b[39mprogbar\u001b[39m.\u001b[39mupdate(\u001b[39mself\u001b[39m\u001b[39m.\u001b[39mseen, \u001b[39mlist\u001b[39m(logs\u001b[39m.\u001b[39mitems()), finalize\u001b[39m=\u001b[39m\u001b[39mFalse\u001b[39;00m)\n",
      "File \u001b[0;32m~/miniforge3/envs/mlp/lib/python3.8/site-packages/keras/utils/tf_utils.py:563\u001b[0m, in \u001b[0;36msync_to_numpy_or_python_type\u001b[0;34m(tensors)\u001b[0m\n\u001b[1;32m    <a href='file:///Users/rickfontenot/miniforge3/envs/mlp/lib/python3.8/site-packages/keras/utils/tf_utils.py?line=559'>560</a>\u001b[0m     \u001b[39mreturn\u001b[39;00m t\n\u001b[1;32m    <a href='file:///Users/rickfontenot/miniforge3/envs/mlp/lib/python3.8/site-packages/keras/utils/tf_utils.py?line=560'>561</a>\u001b[0m   \u001b[39mreturn\u001b[39;00m t\u001b[39m.\u001b[39mitem() \u001b[39mif\u001b[39;00m np\u001b[39m.\u001b[39mndim(t) \u001b[39m==\u001b[39m \u001b[39m0\u001b[39m \u001b[39melse\u001b[39;00m t\n\u001b[0;32m--> <a href='file:///Users/rickfontenot/miniforge3/envs/mlp/lib/python3.8/site-packages/keras/utils/tf_utils.py?line=562'>563</a>\u001b[0m \u001b[39mreturn\u001b[39;00m tf\u001b[39m.\u001b[39;49mnest\u001b[39m.\u001b[39;49mmap_structure(_to_single_numpy_or_python_type, tensors)\n",
      "File \u001b[0;32m~/miniforge3/envs/mlp/lib/python3.8/site-packages/tensorflow/python/util/nest.py:914\u001b[0m, in \u001b[0;36mmap_structure\u001b[0;34m(func, *structure, **kwargs)\u001b[0m\n\u001b[1;32m    <a href='file:///Users/rickfontenot/miniforge3/envs/mlp/lib/python3.8/site-packages/tensorflow/python/util/nest.py?line=909'>910</a>\u001b[0m flat_structure \u001b[39m=\u001b[39m (flatten(s, expand_composites) \u001b[39mfor\u001b[39;00m s \u001b[39min\u001b[39;00m structure)\n\u001b[1;32m    <a href='file:///Users/rickfontenot/miniforge3/envs/mlp/lib/python3.8/site-packages/tensorflow/python/util/nest.py?line=910'>911</a>\u001b[0m entries \u001b[39m=\u001b[39m \u001b[39mzip\u001b[39m(\u001b[39m*\u001b[39mflat_structure)\n\u001b[1;32m    <a href='file:///Users/rickfontenot/miniforge3/envs/mlp/lib/python3.8/site-packages/tensorflow/python/util/nest.py?line=912'>913</a>\u001b[0m \u001b[39mreturn\u001b[39;00m pack_sequence_as(\n\u001b[0;32m--> <a href='file:///Users/rickfontenot/miniforge3/envs/mlp/lib/python3.8/site-packages/tensorflow/python/util/nest.py?line=913'>914</a>\u001b[0m     structure[\u001b[39m0\u001b[39m], [func(\u001b[39m*\u001b[39mx) \u001b[39mfor\u001b[39;00m x \u001b[39min\u001b[39;00m entries],\n\u001b[1;32m    <a href='file:///Users/rickfontenot/miniforge3/envs/mlp/lib/python3.8/site-packages/tensorflow/python/util/nest.py?line=914'>915</a>\u001b[0m     expand_composites\u001b[39m=\u001b[39mexpand_composites)\n",
      "File \u001b[0;32m~/miniforge3/envs/mlp/lib/python3.8/site-packages/tensorflow/python/util/nest.py:914\u001b[0m, in \u001b[0;36m<listcomp>\u001b[0;34m(.0)\u001b[0m\n\u001b[1;32m    <a href='file:///Users/rickfontenot/miniforge3/envs/mlp/lib/python3.8/site-packages/tensorflow/python/util/nest.py?line=909'>910</a>\u001b[0m flat_structure \u001b[39m=\u001b[39m (flatten(s, expand_composites) \u001b[39mfor\u001b[39;00m s \u001b[39min\u001b[39;00m structure)\n\u001b[1;32m    <a href='file:///Users/rickfontenot/miniforge3/envs/mlp/lib/python3.8/site-packages/tensorflow/python/util/nest.py?line=910'>911</a>\u001b[0m entries \u001b[39m=\u001b[39m \u001b[39mzip\u001b[39m(\u001b[39m*\u001b[39mflat_structure)\n\u001b[1;32m    <a href='file:///Users/rickfontenot/miniforge3/envs/mlp/lib/python3.8/site-packages/tensorflow/python/util/nest.py?line=912'>913</a>\u001b[0m \u001b[39mreturn\u001b[39;00m pack_sequence_as(\n\u001b[0;32m--> <a href='file:///Users/rickfontenot/miniforge3/envs/mlp/lib/python3.8/site-packages/tensorflow/python/util/nest.py?line=913'>914</a>\u001b[0m     structure[\u001b[39m0\u001b[39m], [func(\u001b[39m*\u001b[39;49mx) \u001b[39mfor\u001b[39;00m x \u001b[39min\u001b[39;00m entries],\n\u001b[1;32m    <a href='file:///Users/rickfontenot/miniforge3/envs/mlp/lib/python3.8/site-packages/tensorflow/python/util/nest.py?line=914'>915</a>\u001b[0m     expand_composites\u001b[39m=\u001b[39mexpand_composites)\n",
      "File \u001b[0;32m~/miniforge3/envs/mlp/lib/python3.8/site-packages/keras/utils/tf_utils.py:557\u001b[0m, in \u001b[0;36msync_to_numpy_or_python_type.<locals>._to_single_numpy_or_python_type\u001b[0;34m(t)\u001b[0m\n\u001b[1;32m    <a href='file:///Users/rickfontenot/miniforge3/envs/mlp/lib/python3.8/site-packages/keras/utils/tf_utils.py?line=553'>554</a>\u001b[0m \u001b[39mdef\u001b[39;00m \u001b[39m_to_single_numpy_or_python_type\u001b[39m(t):\n\u001b[1;32m    <a href='file:///Users/rickfontenot/miniforge3/envs/mlp/lib/python3.8/site-packages/keras/utils/tf_utils.py?line=554'>555</a>\u001b[0m   \u001b[39m# Don't turn ragged or sparse tensors to NumPy.\u001b[39;00m\n\u001b[1;32m    <a href='file:///Users/rickfontenot/miniforge3/envs/mlp/lib/python3.8/site-packages/keras/utils/tf_utils.py?line=555'>556</a>\u001b[0m   \u001b[39mif\u001b[39;00m \u001b[39misinstance\u001b[39m(t, tf\u001b[39m.\u001b[39mTensor):\n\u001b[0;32m--> <a href='file:///Users/rickfontenot/miniforge3/envs/mlp/lib/python3.8/site-packages/keras/utils/tf_utils.py?line=556'>557</a>\u001b[0m     t \u001b[39m=\u001b[39m t\u001b[39m.\u001b[39;49mnumpy()\n\u001b[1;32m    <a href='file:///Users/rickfontenot/miniforge3/envs/mlp/lib/python3.8/site-packages/keras/utils/tf_utils.py?line=557'>558</a>\u001b[0m   \u001b[39m# Strings, ragged and sparse tensors don't have .item(). Return them as-is.\u001b[39;00m\n\u001b[1;32m    <a href='file:///Users/rickfontenot/miniforge3/envs/mlp/lib/python3.8/site-packages/keras/utils/tf_utils.py?line=558'>559</a>\u001b[0m   \u001b[39mif\u001b[39;00m \u001b[39mnot\u001b[39;00m \u001b[39misinstance\u001b[39m(t, (np\u001b[39m.\u001b[39mndarray, np\u001b[39m.\u001b[39mgeneric)):\n",
      "File \u001b[0;32m~/miniforge3/envs/mlp/lib/python3.8/site-packages/tensorflow/python/framework/ops.py:1223\u001b[0m, in \u001b[0;36m_EagerTensorBase.numpy\u001b[0;34m(self)\u001b[0m\n\u001b[1;32m   <a href='file:///Users/rickfontenot/miniforge3/envs/mlp/lib/python3.8/site-packages/tensorflow/python/framework/ops.py?line=1199'>1200</a>\u001b[0m \u001b[39m\"\"\"Copy of the contents of this Tensor into a NumPy array or scalar.\u001b[39;00m\n\u001b[1;32m   <a href='file:///Users/rickfontenot/miniforge3/envs/mlp/lib/python3.8/site-packages/tensorflow/python/framework/ops.py?line=1200'>1201</a>\u001b[0m \n\u001b[1;32m   <a href='file:///Users/rickfontenot/miniforge3/envs/mlp/lib/python3.8/site-packages/tensorflow/python/framework/ops.py?line=1201'>1202</a>\u001b[0m \u001b[39mUnlike NumPy arrays, Tensors are immutable, so this method has to copy\u001b[39;00m\n\u001b[0;32m   (...)\u001b[0m\n\u001b[1;32m   <a href='file:///Users/rickfontenot/miniforge3/envs/mlp/lib/python3.8/site-packages/tensorflow/python/framework/ops.py?line=1219'>1220</a>\u001b[0m \u001b[39m    NumPy dtype.\u001b[39;00m\n\u001b[1;32m   <a href='file:///Users/rickfontenot/miniforge3/envs/mlp/lib/python3.8/site-packages/tensorflow/python/framework/ops.py?line=1220'>1221</a>\u001b[0m \u001b[39m\"\"\"\u001b[39;00m\n\u001b[1;32m   <a href='file:///Users/rickfontenot/miniforge3/envs/mlp/lib/python3.8/site-packages/tensorflow/python/framework/ops.py?line=1221'>1222</a>\u001b[0m \u001b[39m# TODO(slebedev): Consider avoiding a copy for non-CPU or remote tensors.\u001b[39;00m\n\u001b[0;32m-> <a href='file:///Users/rickfontenot/miniforge3/envs/mlp/lib/python3.8/site-packages/tensorflow/python/framework/ops.py?line=1222'>1223</a>\u001b[0m maybe_arr \u001b[39m=\u001b[39m \u001b[39mself\u001b[39;49m\u001b[39m.\u001b[39;49m_numpy()  \u001b[39m# pylint: disable=protected-access\u001b[39;00m\n\u001b[1;32m   <a href='file:///Users/rickfontenot/miniforge3/envs/mlp/lib/python3.8/site-packages/tensorflow/python/framework/ops.py?line=1223'>1224</a>\u001b[0m \u001b[39mreturn\u001b[39;00m maybe_arr\u001b[39m.\u001b[39mcopy() \u001b[39mif\u001b[39;00m \u001b[39misinstance\u001b[39m(maybe_arr, np\u001b[39m.\u001b[39mndarray) \u001b[39melse\u001b[39;00m maybe_arr\n",
      "File \u001b[0;32m~/miniforge3/envs/mlp/lib/python3.8/site-packages/tensorflow/python/framework/ops.py:1189\u001b[0m, in \u001b[0;36m_EagerTensorBase._numpy\u001b[0;34m(self)\u001b[0m\n\u001b[1;32m   <a href='file:///Users/rickfontenot/miniforge3/envs/mlp/lib/python3.8/site-packages/tensorflow/python/framework/ops.py?line=1186'>1187</a>\u001b[0m \u001b[39mdef\u001b[39;00m \u001b[39m_numpy\u001b[39m(\u001b[39mself\u001b[39m):\n\u001b[1;32m   <a href='file:///Users/rickfontenot/miniforge3/envs/mlp/lib/python3.8/site-packages/tensorflow/python/framework/ops.py?line=1187'>1188</a>\u001b[0m   \u001b[39mtry\u001b[39;00m:\n\u001b[0;32m-> <a href='file:///Users/rickfontenot/miniforge3/envs/mlp/lib/python3.8/site-packages/tensorflow/python/framework/ops.py?line=1188'>1189</a>\u001b[0m     \u001b[39mreturn\u001b[39;00m \u001b[39mself\u001b[39;49m\u001b[39m.\u001b[39;49m_numpy_internal()\n\u001b[1;32m   <a href='file:///Users/rickfontenot/miniforge3/envs/mlp/lib/python3.8/site-packages/tensorflow/python/framework/ops.py?line=1189'>1190</a>\u001b[0m   \u001b[39mexcept\u001b[39;00m core\u001b[39m.\u001b[39m_NotOkStatusException \u001b[39mas\u001b[39;00m e:  \u001b[39m# pylint: disable=protected-access\u001b[39;00m\n\u001b[1;32m   <a href='file:///Users/rickfontenot/miniforge3/envs/mlp/lib/python3.8/site-packages/tensorflow/python/framework/ops.py?line=1190'>1191</a>\u001b[0m     \u001b[39mraise\u001b[39;00m core\u001b[39m.\u001b[39m_status_to_exception(e) \u001b[39mfrom\u001b[39;00m \u001b[39mNone\u001b[39m\n",
      "\u001b[0;31mKeyboardInterrupt\u001b[0m: "
     ]
    }
   ],
   "source": [
    "\n",
    "tb = TensorBoard(log_dir=f\"logs\\\\{time()}\")\n",
    "\n",
    "gelu_model = tf.keras.Sequential([\n",
    "    tf.keras.layers.Dense(300, activation='gelu', input_shape=(28,)),\n",
    "    tf.keras.layers.Dropout(0.0),\n",
    "    tf.keras.layers.Dense(300, activation='gelu'),\n",
    "    tf.keras.layers.Dropout(0.0),\n",
    "    tf.keras.layers.Dense(300, activation='gelu'),\n",
    "    tf.keras.layers.Dropout(0.0),\n",
    "    tf.keras.layers.Dense(300, activation='gelu'),\n",
    "    tf.keras.layers.Dropout(0.0),\n",
    "    tf.keras.layers.Dense(300, activation='gelu'),\n",
    "    tf.keras.layers.Dropout(0.0),\n",
    "    tf.keras.layers.Dense(1, activation='sigmoid')   \n",
    "])\n",
    "\n",
    "gelu_model.compile(optimizer=tf.optimizers.Adam(0.001),\n",
    "              loss=tf.keras.losses.BinaryCrossentropy(from_logits=True),\n",
    "              metrics=['accuracy', tf.keras.metrics.AUC(name='AUC')])\n",
    "gelu_model.fit(train_features_scaled, train_labels, batch_size=2500, epochs=50, callbacks=tb, validation_data=[validation_features_scaled, validation_labels])\n",
    "\n",
    "test_loss, test_acc, test_auc = gelu_model.evaluate(test_features_scaled,  test_labels, batch_size=2500, verbose=2)\n",
    "\n",
    "print('\\nTest accuracy:', test_acc)\n",
    "print('\\nTest AUC:', test_auc)"
   ]
  },
  {
   "cell_type": "markdown",
   "id": "252045ce",
   "metadata": {},
   "source": [
    "## Re-run with softmax activation and predict to get probabilities\n"
   ]
  },
  {
   "cell_type": "code",
   "execution_count": 155,
   "id": "7ad30f60",
   "metadata": {},
   "outputs": [
    {
     "name": "stdout",
     "output_type": "stream",
     "text": [
      "Epoch 1/100\n"
     ]
    },
    {
     "name": "stderr",
     "output_type": "stream",
     "text": [
      "2022-03-27 15:43:27.324356: I tensorflow/core/grappler/optimizers/custom_graph_optimizer_registry.cc:113] Plugin optimizer for device_type GPU is enabled.\n"
     ]
    },
    {
     "name": "stdout",
     "output_type": "stream",
     "text": [
      "1119/1120 [============================>.] - ETA: 0s - loss: 0.2845 - accuracy: 0.8694"
     ]
    },
    {
     "name": "stderr",
     "output_type": "stream",
     "text": [
      "2022-03-27 15:44:07.828080: I tensorflow/core/grappler/optimizers/custom_graph_optimizer_registry.cc:113] Plugin optimizer for device_type GPU is enabled.\n"
     ]
    },
    {
     "name": "stdout",
     "output_type": "stream",
     "text": [
      "1120/1120 [==============================] - 43s 38ms/step - loss: 0.2845 - accuracy: 0.8694 - val_loss: 0.2688 - val_accuracy: 0.8786\n",
      "Epoch 2/100\n",
      "1120/1120 [==============================] - 41s 37ms/step - loss: 0.2651 - accuracy: 0.8803 - val_loss: 0.2635 - val_accuracy: 0.8811\n",
      "Epoch 3/100\n",
      "1120/1120 [==============================] - 40s 36ms/step - loss: 0.2614 - accuracy: 0.8825 - val_loss: 0.2612 - val_accuracy: 0.8824\n",
      "Epoch 4/100\n",
      "1120/1120 [==============================] - 38s 34ms/step - loss: 0.2593 - accuracy: 0.8835 - val_loss: 0.2593 - val_accuracy: 0.8837\n",
      "Epoch 5/100\n",
      "1120/1120 [==============================] - 39s 34ms/step - loss: 0.2577 - accuracy: 0.8845 - val_loss: 0.2585 - val_accuracy: 0.8841\n",
      "Epoch 6/100\n",
      "1120/1120 [==============================] - 39s 34ms/step - loss: 0.2563 - accuracy: 0.8852 - val_loss: 0.2583 - val_accuracy: 0.8843\n",
      "Epoch 7/100\n",
      "1120/1120 [==============================] - 39s 34ms/step - loss: 0.2549 - accuracy: 0.8860 - val_loss: 0.2582 - val_accuracy: 0.8845\n",
      "Epoch 8/100\n",
      "1120/1120 [==============================] - 38s 34ms/step - loss: 0.2537 - accuracy: 0.8866 - val_loss: 0.2575 - val_accuracy: 0.8849\n",
      "Epoch 9/100\n",
      "1120/1120 [==============================] - 38s 34ms/step - loss: 0.2524 - accuracy: 0.8873 - val_loss: 0.2581 - val_accuracy: 0.8847\n",
      "Epoch 10/100\n",
      "1120/1120 [==============================] - 38s 34ms/step - loss: 0.2512 - accuracy: 0.8880 - val_loss: 0.2566 - val_accuracy: 0.8852\n",
      "Epoch 11/100\n",
      "1120/1120 [==============================] - 39s 35ms/step - loss: 0.2498 - accuracy: 0.8886 - val_loss: 0.2574 - val_accuracy: 0.8850\n",
      "Epoch 12/100\n",
      "1120/1120 [==============================] - 43s 38ms/step - loss: 0.2485 - accuracy: 0.8893 - val_loss: 0.2578 - val_accuracy: 0.8848\n",
      "Epoch 13/100\n",
      "1120/1120 [==============================] - 41s 37ms/step - loss: 0.2470 - accuracy: 0.8900 - val_loss: 0.2589 - val_accuracy: 0.8845\n"
     ]
    },
    {
     "name": "stderr",
     "output_type": "stream",
     "text": [
      "2022-03-27 15:52:03.173842: I tensorflow/core/grappler/optimizers/custom_graph_optimizer_registry.cc:113] Plugin optimizer for device_type GPU is enabled.\n"
     ]
    }
   ],
   "source": [
    "\n",
    "tb = TensorBoard(log_dir=f\"logs\\\\{time()}\")\n",
    "\n",
    "callback = tf.keras.callbacks.EarlyStopping(\n",
    "    monitor='val_accuracy',\n",
    "    min_delta=0.0001,\n",
    "    patience=3,\n",
    "    verbose=0,\n",
    "    mode='auto',\n",
    "    baseline=None,\n",
    "    restore_best_weights=True\n",
    ")\n",
    "\n",
    "\n",
    "gelu_model = tf.keras.Sequential([\n",
    "    tf.keras.layers.Dense(300, activation='gelu', input_shape=(28,)),\n",
    "    tf.keras.layers.Dropout(0.0),\n",
    "    tf.keras.layers.Dense(300, activation='gelu'),\n",
    "    tf.keras.layers.Dropout(0.0),\n",
    "    tf.keras.layers.Dense(300, activation='gelu'),\n",
    "    tf.keras.layers.Dropout(0.0),\n",
    "    tf.keras.layers.Dense(300, activation='gelu'),\n",
    "    tf.keras.layers.Dropout(0.0),\n",
    "    tf.keras.layers.Dense(300, activation='gelu'),\n",
    "    tf.keras.layers.Dropout(0.0),\n",
    "    tf.keras.layers.Dense(2, activation='softmax')   \n",
    "])\n",
    "\n",
    "gelu_model.compile(optimizer=tf.optimizers.Adam(0.001),\n",
    "              loss=tf.keras.losses.SparseCategoricalCrossentropy(from_logits=True),\n",
    "              metrics=['accuracy'])\n",
    "gelu_model.fit(train_features_scaled, train_labels, batch_size=5000, epochs=100, callbacks=callback, validation_data=[validation_features_scaled, validation_labels])\n",
    "\n",
    "validation_predictions = gelu_model.predict(validation_features_scaled)\n",
    "\n"
   ]
  },
  {
   "cell_type": "code",
   "execution_count": 161,
   "metadata": {},
   "outputs": [
    {
     "name": "stdout",
     "output_type": "stream",
     "text": [
      "140/140 - 2s - loss: 0.2555 - accuracy: 0.8860 - 2s/epoch - 13ms/step\n",
      "\n",
      "Test accuracy: 0.8860242962837219\n"
     ]
    }
   ],
   "source": [
    "test_loss, test_acc = gelu_model.evaluate(test_features_scaled,  test_labels, batch_size=5000, verbose=2)\n",
    "\n",
    "print('\\nTest accuracy:', test_acc)\n",
    "\n"
   ]
  },
  {
   "cell_type": "code",
   "execution_count": 184,
   "id": "dad70ff9",
   "metadata": {},
   "outputs": [
    {
     "name": "stdout",
     "output_type": "stream",
     "text": [
      "Epoch 1/100\n"
     ]
    },
    {
     "name": "stderr",
     "output_type": "stream",
     "text": [
      "/Users/rickfontenot/miniforge3/envs/mlp/lib/python3.8/site-packages/tensorflow/python/util/dispatch.py:1082: UserWarning: \"`binary_crossentropy` received `from_logits=True`, but the `output` argument was produced by a sigmoid or softmax activation and thus does not represent logits. Was this intended?\"\n",
      "  return dispatch_target(*args, **kwargs)\n",
      "2022-03-28 11:38:52.923345: I tensorflow/core/grappler/optimizers/custom_graph_optimizer_registry.cc:113] Plugin optimizer for device_type GPU is enabled.\n"
     ]
    },
    {
     "name": "stdout",
     "output_type": "stream",
     "text": [
      "1120/1120 [==============================] - ETA: 0s - loss: 0.2958 - accuracy: 0.8630"
     ]
    },
    {
     "name": "stderr",
     "output_type": "stream",
     "text": [
      "2022-03-28 11:39:43.367791: I tensorflow/core/grappler/optimizers/custom_graph_optimizer_registry.cc:113] Plugin optimizer for device_type GPU is enabled.\n"
     ]
    },
    {
     "name": "stdout",
     "output_type": "stream",
     "text": [
      "1120/1120 [==============================] - 53s 46ms/step - loss: 0.2958 - accuracy: 0.8630 - val_loss: 0.2744 - val_accuracy: 0.8760\n",
      "Epoch 2/100\n",
      "1120/1120 [==============================] - 51s 46ms/step - loss: 0.2762 - accuracy: 0.8745 - val_loss: 0.2669 - val_accuracy: 0.8790\n",
      "Epoch 3/100\n",
      "1120/1120 [==============================] - 50s 45ms/step - loss: 0.2715 - accuracy: 0.8774 - val_loss: 0.2638 - val_accuracy: 0.8812\n",
      "Epoch 4/100\n",
      "1120/1120 [==============================] - 51s 46ms/step - loss: 0.2690 - accuracy: 0.8786 - val_loss: 0.2626 - val_accuracy: 0.8819\n",
      "Epoch 5/100\n",
      "1120/1120 [==============================] - 51s 46ms/step - loss: 0.2675 - accuracy: 0.8796 - val_loss: 0.2606 - val_accuracy: 0.8828\n",
      "Epoch 6/100\n",
      "1120/1120 [==============================] - 51s 45ms/step - loss: 0.2664 - accuracy: 0.8802 - val_loss: 0.2600 - val_accuracy: 0.8832\n",
      "Epoch 7/100\n",
      "1120/1120 [==============================] - 51s 45ms/step - loss: 0.2655 - accuracy: 0.8808 - val_loss: 0.2605 - val_accuracy: 0.8832\n",
      "Epoch 8/100\n",
      "1120/1120 [==============================] - 50s 44ms/step - loss: 0.2647 - accuracy: 0.8812 - val_loss: 0.2587 - val_accuracy: 0.8839\n",
      "Epoch 9/100\n",
      "1120/1120 [==============================] - 50s 45ms/step - loss: 0.2640 - accuracy: 0.8815 - val_loss: 0.2588 - val_accuracy: 0.8842\n",
      "Epoch 10/100\n",
      "1120/1120 [==============================] - 50s 45ms/step - loss: 0.2635 - accuracy: 0.8818 - val_loss: 0.2578 - val_accuracy: 0.8843\n",
      "Epoch 11/100\n",
      "1120/1120 [==============================] - 50s 45ms/step - loss: 0.2628 - accuracy: 0.8822 - val_loss: 0.2576 - val_accuracy: 0.8848\n",
      "Epoch 12/100\n",
      "1120/1120 [==============================] - 50s 44ms/step - loss: 0.2625 - accuracy: 0.8824 - val_loss: 0.2578 - val_accuracy: 0.8850\n",
      "Epoch 13/100\n",
      "1120/1120 [==============================] - 49s 44ms/step - loss: 0.2621 - accuracy: 0.8827 - val_loss: 0.2569 - val_accuracy: 0.8852\n",
      "Epoch 14/100\n",
      "1120/1120 [==============================] - 50s 44ms/step - loss: 0.2618 - accuracy: 0.8829 - val_loss: 0.2570 - val_accuracy: 0.8850\n",
      "Epoch 15/100\n",
      "1120/1120 [==============================] - 50s 44ms/step - loss: 0.2615 - accuracy: 0.8829 - val_loss: 0.2568 - val_accuracy: 0.8853\n",
      "Epoch 16/100\n",
      "1120/1120 [==============================] - 50s 44ms/step - loss: 0.2612 - accuracy: 0.8831 - val_loss: 0.2565 - val_accuracy: 0.8854\n",
      "Epoch 17/100\n",
      "1120/1120 [==============================] - 50s 45ms/step - loss: 0.2609 - accuracy: 0.8832 - val_loss: 0.2569 - val_accuracy: 0.8853\n",
      "Epoch 18/100\n",
      "1120/1120 [==============================] - 50s 44ms/step - loss: 0.2607 - accuracy: 0.8834 - val_loss: 0.2571 - val_accuracy: 0.8857\n",
      "Epoch 19/100\n",
      "1120/1120 [==============================] - 50s 45ms/step - loss: 0.2605 - accuracy: 0.8835 - val_loss: 0.2570 - val_accuracy: 0.8855\n",
      "Epoch 20/100\n",
      "1120/1120 [==============================] - 51s 46ms/step - loss: 0.2602 - accuracy: 0.8836 - val_loss: 0.2561 - val_accuracy: 0.8858\n",
      "Epoch 21/100\n",
      "1120/1120 [==============================] - 52s 47ms/step - loss: 0.2601 - accuracy: 0.8837 - val_loss: 0.2561 - val_accuracy: 0.8860\n",
      "Epoch 22/100\n",
      "1120/1120 [==============================] - 53s 47ms/step - loss: 0.2599 - accuracy: 0.8838 - val_loss: 0.2557 - val_accuracy: 0.8857\n",
      "Epoch 23/100\n",
      "1120/1120 [==============================] - 52s 47ms/step - loss: 0.2597 - accuracy: 0.8838 - val_loss: 0.2555 - val_accuracy: 0.8858\n",
      "Epoch 24/100\n",
      "1120/1120 [==============================] - 50s 45ms/step - loss: 0.2596 - accuracy: 0.8840 - val_loss: 0.2562 - val_accuracy: 0.8858\n",
      "140/140 - 2s - loss: 0.2552 - accuracy: 0.8866 - 2s/epoch - 12ms/step\n",
      "\n",
      "Test accuracy: 0.8865957260131836\n"
     ]
    }
   ],
   "source": [
    "tb = TensorBoard(log_dir=f\"logs\\\\{time()}\")\n",
    "\n",
    "callback = tf.keras.callbacks.EarlyStopping(\n",
    "    monitor='val_accuracy',\n",
    "    min_delta=0.0001,\n",
    "    patience=3,\n",
    "    verbose=0,\n",
    "    mode='auto',\n",
    "    baseline=None,\n",
    "    restore_best_weights=True\n",
    ")\n",
    "\n",
    "\n",
    "gelu_model = tf.keras.Sequential([\n",
    "    tf.keras.layers.Dense(300, activation='gelu', input_shape=(28,)),\n",
    "    tf.keras.layers.Dropout(0.2),\n",
    "    tf.keras.layers.Dense(300, activation='gelu'),\n",
    "    tf.keras.layers.Dropout(0.2),\n",
    "    tf.keras.layers.Dense(300, activation='gelu'),\n",
    "    tf.keras.layers.Dropout(0.2),\n",
    "    tf.keras.layers.Dense(300, activation='gelu'),\n",
    "    tf.keras.layers.Dropout(0.2),\n",
    "    tf.keras.layers.Dense(300, activation='gelu'),\n",
    "    tf.keras.layers.Dropout(0.2),\n",
    "    tf.keras.layers.Dense(1, activation='sigmoid')   \n",
    "])\n",
    "\n",
    "gelu_model.compile(optimizer=tf.optimizers.Adam(learning_rate=0.001),\n",
    "              loss=tf.keras.losses.BinaryCrossentropy(from_logits=True),\n",
    "              metrics=['accuracy'])\n",
    "\n",
    "gelu_model.fit(train_features_scaled, train_labels, batch_size=5000, epochs=100, callbacks=callback, validation_data=[validation_features_scaled, validation_labels])\n",
    "\n",
    "test_loss, test_acc = gelu_model.evaluate(test_features_scaled,  test_labels, batch_size=5000, verbose=2)\n",
    "\n",
    "print('\\nTest accuracy:', test_acc)"
   ]
  },
  {
   "cell_type": "code",
   "execution_count": 185,
   "id": "d5dbf7e6",
   "metadata": {},
   "outputs": [
    {
     "name": "stderr",
     "output_type": "stream",
     "text": [
      "2022-03-28 12:01:22.606713: I tensorflow/core/grappler/optimizers/custom_graph_optimizer_registry.cc:113] Plugin optimizer for device_type GPU is enabled.\n"
     ]
    }
   ],
   "source": [
    "test_predictions = gelu_model.predict(test_features_scaled) \n"
   ]
  },
  {
   "cell_type": "code",
   "execution_count": 188,
   "id": "4c816632",
   "metadata": {},
   "outputs": [
    {
     "data": {
      "text/plain": [
       "array([[0.9990633 ],\n",
       "       [0.06389532],\n",
       "       [0.51801455],\n",
       "       ...,\n",
       "       [0.22660534],\n",
       "       [0.00643735],\n",
       "       [0.9987992 ]], dtype=float32)"
      ]
     },
     "execution_count": 188,
     "metadata": {},
     "output_type": "execute_result"
    }
   ],
   "source": [
    "test_predictions"
   ]
  },
  {
   "cell_type": "code",
   "execution_count": 189,
   "id": "ed59ac68",
   "metadata": {},
   "outputs": [
    {
     "data": {
      "text/plain": [
       "[1,\n",
       " 0,\n",
       " 1,\n",
       " 1,\n",
       " 1,\n",
       " 0,\n",
       " 0,\n",
       " 0,\n",
       " 0,\n",
       " 0,\n",
       " 0,\n",
       " 1,\n",
       " 1,\n",
       " 0,\n",
       " 1,\n",
       " 0,\n",
       " 0,\n",
       " 1,\n",
       " 1,\n",
       " 1,\n",
       " 1,\n",
       " 0,\n",
       " 1,\n",
       " 0,\n",
       " 1,\n",
       " 0,\n",
       " 1,\n",
       " 0,\n",
       " 0,\n",
       " 1,\n",
       " 0,\n",
       " 1,\n",
       " 1,\n",
       " 0,\n",
       " 0,\n",
       " 1,\n",
       " 0,\n",
       " 1,\n",
       " 1,\n",
       " 1,\n",
       " 1,\n",
       " 0,\n",
       " 1,\n",
       " 1,\n",
       " 1,\n",
       " 1,\n",
       " 1,\n",
       " 0,\n",
       " 0,\n",
       " 0,\n",
       " 1,\n",
       " 0,\n",
       " 0,\n",
       " 1,\n",
       " 1,\n",
       " 1,\n",
       " 0,\n",
       " 0,\n",
       " 0,\n",
       " 1,\n",
       " 1,\n",
       " 1,\n",
       " 1,\n",
       " 1,\n",
       " 0,\n",
       " 1,\n",
       " 1,\n",
       " 0,\n",
       " 0,\n",
       " 1,\n",
       " 0,\n",
       " 0,\n",
       " 1,\n",
       " 1,\n",
       " 0,\n",
       " 1,\n",
       " 1,\n",
       " 1,\n",
       " 1,\n",
       " 0,\n",
       " 0,\n",
       " 1,\n",
       " 1,\n",
       " 0,\n",
       " 1,\n",
       " 1,\n",
       " 0,\n",
       " 0,\n",
       " 1,\n",
       " 1,\n",
       " 0,\n",
       " 1,\n",
       " 1,\n",
       " 0,\n",
       " 0,\n",
       " 0,\n",
       " 1,\n",
       " 0,\n",
       " 0,\n",
       " 0,\n",
       " 1,\n",
       " 1,\n",
       " 0,\n",
       " 1,\n",
       " 1,\n",
       " 1,\n",
       " 0,\n",
       " 0,\n",
       " 1,\n",
       " 0,\n",
       " 0,\n",
       " 1,\n",
       " 0,\n",
       " 1,\n",
       " 0,\n",
       " 1,\n",
       " 0,\n",
       " 0,\n",
       " 1,\n",
       " 0,\n",
       " 1,\n",
       " 0,\n",
       " 1,\n",
       " 0,\n",
       " 0,\n",
       " 1,\n",
       " 0,\n",
       " 0,\n",
       " 0,\n",
       " 1,\n",
       " 0,\n",
       " 1,\n",
       " 1,\n",
       " 0,\n",
       " 0,\n",
       " 1,\n",
       " 1,\n",
       " 1,\n",
       " 1,\n",
       " 1,\n",
       " 0,\n",
       " 0,\n",
       " 0,\n",
       " 1,\n",
       " 1,\n",
       " 0,\n",
       " 0,\n",
       " 0,\n",
       " 1,\n",
       " 1,\n",
       " 1,\n",
       " 1,\n",
       " 1,\n",
       " 0,\n",
       " 0,\n",
       " 0,\n",
       " 0,\n",
       " 1,\n",
       " 0,\n",
       " 1,\n",
       " 0,\n",
       " 1,\n",
       " 0,\n",
       " 1,\n",
       " 1,\n",
       " 0,\n",
       " 1,\n",
       " 0,\n",
       " 1,\n",
       " 0,\n",
       " 1,\n",
       " 1,\n",
       " 0,\n",
       " 0,\n",
       " 0,\n",
       " 0,\n",
       " 0,\n",
       " 1,\n",
       " 0,\n",
       " 0,\n",
       " 0,\n",
       " 1,\n",
       " 0,\n",
       " 1,\n",
       " 0,\n",
       " 0,\n",
       " 1,\n",
       " 1,\n",
       " 0,\n",
       " 0,\n",
       " 1,\n",
       " 1,\n",
       " 1,\n",
       " 1,\n",
       " 0,\n",
       " 1,\n",
       " 0,\n",
       " 1,\n",
       " 1,\n",
       " 1,\n",
       " 0,\n",
       " 0,\n",
       " 0,\n",
       " 0,\n",
       " 0,\n",
       " 0,\n",
       " 1,\n",
       " 0,\n",
       " 1,\n",
       " 1,\n",
       " 1,\n",
       " 1,\n",
       " 1,\n",
       " 1,\n",
       " 1,\n",
       " 1,\n",
       " 0,\n",
       " 1,\n",
       " 1,\n",
       " 0,\n",
       " 0,\n",
       " 0,\n",
       " 0,\n",
       " 0,\n",
       " 1,\n",
       " 1,\n",
       " 1,\n",
       " 0,\n",
       " 0,\n",
       " 1,\n",
       " 1,\n",
       " 1,\n",
       " 1,\n",
       " 1,\n",
       " 0,\n",
       " 1,\n",
       " 0,\n",
       " 1,\n",
       " 1,\n",
       " 1,\n",
       " 0,\n",
       " 1,\n",
       " 0,\n",
       " 0,\n",
       " 0,\n",
       " 1,\n",
       " 1,\n",
       " 0,\n",
       " 1,\n",
       " 1,\n",
       " 1,\n",
       " 1,\n",
       " 1,\n",
       " 0,\n",
       " 1,\n",
       " 0,\n",
       " 1,\n",
       " 1,\n",
       " 1,\n",
       " 1,\n",
       " 0,\n",
       " 1,\n",
       " 1,\n",
       " 1,\n",
       " 1,\n",
       " 0,\n",
       " 0,\n",
       " 0,\n",
       " 0,\n",
       " 0,\n",
       " 1,\n",
       " 1,\n",
       " 1,\n",
       " 1,\n",
       " 1,\n",
       " 1,\n",
       " 1,\n",
       " 1,\n",
       " 0,\n",
       " 1,\n",
       " 1,\n",
       " 0,\n",
       " 0,\n",
       " 0,\n",
       " 0,\n",
       " 0,\n",
       " 1,\n",
       " 0,\n",
       " 1,\n",
       " 0,\n",
       " 0,\n",
       " 0,\n",
       " 1,\n",
       " 0,\n",
       " 1,\n",
       " 0,\n",
       " 0,\n",
       " 1,\n",
       " 0,\n",
       " 0,\n",
       " 1,\n",
       " 1,\n",
       " 1,\n",
       " 0,\n",
       " 0,\n",
       " 0,\n",
       " 0,\n",
       " 1,\n",
       " 1,\n",
       " 1,\n",
       " 0,\n",
       " 0,\n",
       " 0,\n",
       " 0,\n",
       " 0,\n",
       " 1,\n",
       " 1,\n",
       " 1,\n",
       " 0,\n",
       " 1,\n",
       " 1,\n",
       " 1,\n",
       " 0,\n",
       " 1,\n",
       " 0,\n",
       " 0,\n",
       " 1,\n",
       " 0,\n",
       " 1,\n",
       " 0,\n",
       " 1,\n",
       " 1,\n",
       " 0,\n",
       " 0,\n",
       " 0,\n",
       " 1,\n",
       " 1,\n",
       " 1,\n",
       " 1,\n",
       " 0,\n",
       " 0,\n",
       " 1,\n",
       " 1,\n",
       " 0,\n",
       " 1,\n",
       " 1,\n",
       " 1,\n",
       " 1,\n",
       " 1,\n",
       " 1,\n",
       " 0,\n",
       " 1,\n",
       " 1,\n",
       " 1,\n",
       " 0,\n",
       " 0,\n",
       " 1,\n",
       " 0,\n",
       " 1,\n",
       " 1,\n",
       " 1,\n",
       " 1,\n",
       " 1,\n",
       " 0,\n",
       " 0,\n",
       " 1,\n",
       " 1,\n",
       " 1,\n",
       " 1,\n",
       " 1,\n",
       " 0,\n",
       " 1,\n",
       " 1,\n",
       " 1,\n",
       " 0,\n",
       " 1,\n",
       " 0,\n",
       " 0,\n",
       " 1,\n",
       " 1,\n",
       " 1,\n",
       " 0,\n",
       " 1,\n",
       " 1,\n",
       " 0,\n",
       " 1,\n",
       " 0,\n",
       " 1,\n",
       " 1,\n",
       " 1,\n",
       " 1,\n",
       " 1,\n",
       " 1,\n",
       " 0,\n",
       " 0,\n",
       " 1,\n",
       " 1,\n",
       " 1,\n",
       " 0,\n",
       " 0,\n",
       " 0,\n",
       " 0,\n",
       " 1,\n",
       " 0,\n",
       " 1,\n",
       " 0,\n",
       " 0,\n",
       " 0,\n",
       " 1,\n",
       " 0,\n",
       " 1,\n",
       " 1,\n",
       " 0,\n",
       " 1,\n",
       " 0,\n",
       " 1,\n",
       " 1,\n",
       " 1,\n",
       " 1,\n",
       " 0,\n",
       " 1,\n",
       " 1,\n",
       " 1,\n",
       " 1,\n",
       " 0,\n",
       " 1,\n",
       " 0,\n",
       " 0,\n",
       " 0,\n",
       " 0,\n",
       " 1,\n",
       " 1,\n",
       " 1,\n",
       " 1,\n",
       " 1,\n",
       " 1,\n",
       " 0,\n",
       " 0,\n",
       " 0,\n",
       " 1,\n",
       " 0,\n",
       " 1,\n",
       " 1,\n",
       " 1,\n",
       " 0,\n",
       " 0,\n",
       " 0,\n",
       " 1,\n",
       " 0,\n",
       " 1,\n",
       " 1,\n",
       " 0,\n",
       " 1,\n",
       " 1,\n",
       " 0,\n",
       " 0,\n",
       " 1,\n",
       " 0,\n",
       " 1,\n",
       " 0,\n",
       " 1,\n",
       " 1,\n",
       " 0,\n",
       " 1,\n",
       " 0,\n",
       " 1,\n",
       " 1,\n",
       " 1,\n",
       " 1,\n",
       " 0,\n",
       " 1,\n",
       " 1,\n",
       " 1,\n",
       " 1,\n",
       " 0,\n",
       " 1,\n",
       " 1,\n",
       " 0,\n",
       " 0,\n",
       " 0,\n",
       " 1,\n",
       " 1,\n",
       " 1,\n",
       " 1,\n",
       " 1,\n",
       " 1,\n",
       " 0,\n",
       " 1,\n",
       " 1,\n",
       " 0,\n",
       " 1,\n",
       " 1,\n",
       " 1,\n",
       " 1,\n",
       " 0,\n",
       " 1,\n",
       " 1,\n",
       " 0,\n",
       " 1,\n",
       " 0,\n",
       " 1,\n",
       " 0,\n",
       " 0,\n",
       " 0,\n",
       " 0,\n",
       " 1,\n",
       " 1,\n",
       " 1,\n",
       " 1,\n",
       " 1,\n",
       " 1,\n",
       " 1,\n",
       " 1,\n",
       " 1,\n",
       " 1,\n",
       " 0,\n",
       " 0,\n",
       " 1,\n",
       " 1,\n",
       " 1,\n",
       " 0,\n",
       " 1,\n",
       " 0,\n",
       " 1,\n",
       " 1,\n",
       " 1,\n",
       " 0,\n",
       " 0,\n",
       " 0,\n",
       " 1,\n",
       " 1,\n",
       " 0,\n",
       " 1,\n",
       " 0,\n",
       " 1,\n",
       " 0,\n",
       " 1,\n",
       " 0,\n",
       " 0,\n",
       " 0,\n",
       " 0,\n",
       " 1,\n",
       " 1,\n",
       " 0,\n",
       " 0,\n",
       " 0,\n",
       " 1,\n",
       " 0,\n",
       " 0,\n",
       " 0,\n",
       " 0,\n",
       " 1,\n",
       " 0,\n",
       " 1,\n",
       " 0,\n",
       " 1,\n",
       " 1,\n",
       " 1,\n",
       " 0,\n",
       " 0,\n",
       " 1,\n",
       " 0,\n",
       " 0,\n",
       " 0,\n",
       " 1,\n",
       " 0,\n",
       " 1,\n",
       " 0,\n",
       " 0,\n",
       " 1,\n",
       " 1,\n",
       " 1,\n",
       " 1,\n",
       " 0,\n",
       " 0,\n",
       " 1,\n",
       " 1,\n",
       " 1,\n",
       " 0,\n",
       " 1,\n",
       " 0,\n",
       " 0,\n",
       " 1,\n",
       " 0,\n",
       " 0,\n",
       " 1,\n",
       " 0,\n",
       " 0,\n",
       " 1,\n",
       " 1,\n",
       " 1,\n",
       " 1,\n",
       " 0,\n",
       " 1,\n",
       " 0,\n",
       " 0,\n",
       " 0,\n",
       " 1,\n",
       " 1,\n",
       " 1,\n",
       " 1,\n",
       " 0,\n",
       " 1,\n",
       " 0,\n",
       " 1,\n",
       " 0,\n",
       " 1,\n",
       " 0,\n",
       " 0,\n",
       " 1,\n",
       " 0,\n",
       " 0,\n",
       " 0,\n",
       " 0,\n",
       " 1,\n",
       " 1,\n",
       " 0,\n",
       " 1,\n",
       " 1,\n",
       " 0,\n",
       " 0,\n",
       " 0,\n",
       " 1,\n",
       " 1,\n",
       " 1,\n",
       " 0,\n",
       " 0,\n",
       " 0,\n",
       " 1,\n",
       " 1,\n",
       " 1,\n",
       " 0,\n",
       " 1,\n",
       " 1,\n",
       " 0,\n",
       " 1,\n",
       " 1,\n",
       " 0,\n",
       " 0,\n",
       " 1,\n",
       " 1,\n",
       " 1,\n",
       " 0,\n",
       " 1,\n",
       " 0,\n",
       " 1,\n",
       " 0,\n",
       " 1,\n",
       " 0,\n",
       " 0,\n",
       " 1,\n",
       " 1,\n",
       " 0,\n",
       " 1,\n",
       " 1,\n",
       " 0,\n",
       " 1,\n",
       " 1,\n",
       " 0,\n",
       " 1,\n",
       " 1,\n",
       " 1,\n",
       " 0,\n",
       " 0,\n",
       " 1,\n",
       " 1,\n",
       " 0,\n",
       " 1,\n",
       " 1,\n",
       " 0,\n",
       " 0,\n",
       " 0,\n",
       " 1,\n",
       " 0,\n",
       " 0,\n",
       " 0,\n",
       " 1,\n",
       " 0,\n",
       " 1,\n",
       " 0,\n",
       " 0,\n",
       " 1,\n",
       " 0,\n",
       " 0,\n",
       " 1,\n",
       " 0,\n",
       " 1,\n",
       " 1,\n",
       " 1,\n",
       " 1,\n",
       " 1,\n",
       " 1,\n",
       " 1,\n",
       " 1,\n",
       " 0,\n",
       " 1,\n",
       " 0,\n",
       " 0,\n",
       " 0,\n",
       " 0,\n",
       " 1,\n",
       " 1,\n",
       " 1,\n",
       " 1,\n",
       " 1,\n",
       " 0,\n",
       " 0,\n",
       " 0,\n",
       " 0,\n",
       " 0,\n",
       " 0,\n",
       " 1,\n",
       " 1,\n",
       " 1,\n",
       " 0,\n",
       " 0,\n",
       " 1,\n",
       " 0,\n",
       " 0,\n",
       " 0,\n",
       " 1,\n",
       " 1,\n",
       " 1,\n",
       " 0,\n",
       " 0,\n",
       " 1,\n",
       " 1,\n",
       " 0,\n",
       " 1,\n",
       " 0,\n",
       " 0,\n",
       " 0,\n",
       " 1,\n",
       " 1,\n",
       " 1,\n",
       " 1,\n",
       " 0,\n",
       " 1,\n",
       " 1,\n",
       " 0,\n",
       " 1,\n",
       " 1,\n",
       " 1,\n",
       " 1,\n",
       " 0,\n",
       " 0,\n",
       " 0,\n",
       " 1,\n",
       " 1,\n",
       " 1,\n",
       " 0,\n",
       " 1,\n",
       " 0,\n",
       " 1,\n",
       " 0,\n",
       " 0,\n",
       " 1,\n",
       " 0,\n",
       " 1,\n",
       " 1,\n",
       " 0,\n",
       " 1,\n",
       " 1,\n",
       " 1,\n",
       " 0,\n",
       " 1,\n",
       " 1,\n",
       " 1,\n",
       " 0,\n",
       " 0,\n",
       " 1,\n",
       " 0,\n",
       " 1,\n",
       " 0,\n",
       " 1,\n",
       " 0,\n",
       " 0,\n",
       " 0,\n",
       " 0,\n",
       " 1,\n",
       " 1,\n",
       " 1,\n",
       " 1,\n",
       " 1,\n",
       " 0,\n",
       " 1,\n",
       " 0,\n",
       " 0,\n",
       " 1,\n",
       " 1,\n",
       " 1,\n",
       " 1,\n",
       " 0,\n",
       " 0,\n",
       " 0,\n",
       " 1,\n",
       " 1,\n",
       " 0,\n",
       " 1,\n",
       " 0,\n",
       " 0,\n",
       " 0,\n",
       " 0,\n",
       " 0,\n",
       " 0,\n",
       " 0,\n",
       " 0,\n",
       " 1,\n",
       " 1,\n",
       " 1,\n",
       " 0,\n",
       " 1,\n",
       " 0,\n",
       " 0,\n",
       " 0,\n",
       " 0,\n",
       " 1,\n",
       " 1,\n",
       " 1,\n",
       " 1,\n",
       " 1,\n",
       " 1,\n",
       " 1,\n",
       " 1,\n",
       " 1,\n",
       " 0,\n",
       " 1,\n",
       " 1,\n",
       " 0,\n",
       " 1,\n",
       " 1,\n",
       " 1,\n",
       " 1,\n",
       " 0,\n",
       " 0,\n",
       " 0,\n",
       " 1,\n",
       " 1,\n",
       " 1,\n",
       " 1,\n",
       " 0,\n",
       " 0,\n",
       " 0,\n",
       " 1,\n",
       " 0,\n",
       " 1,\n",
       " 1,\n",
       " 1,\n",
       " 1,\n",
       " 0,\n",
       " 1,\n",
       " 1,\n",
       " 1,\n",
       " 0,\n",
       " 1,\n",
       " 0,\n",
       " 0,\n",
       " 0,\n",
       " 0,\n",
       " 1,\n",
       " 0,\n",
       " 0,\n",
       " 1,\n",
       " 1,\n",
       " 1,\n",
       " 0,\n",
       " 1,\n",
       " 1,\n",
       " 0,\n",
       " 0,\n",
       " 1,\n",
       " 1,\n",
       " 1,\n",
       " 0,\n",
       " 0,\n",
       " 1,\n",
       " 1,\n",
       " 1,\n",
       " 1,\n",
       " 0,\n",
       " 0,\n",
       " 1,\n",
       " 1,\n",
       " 0,\n",
       " 1,\n",
       " 0,\n",
       " 0,\n",
       " 0,\n",
       " 0,\n",
       " 0,\n",
       " 1,\n",
       " 0,\n",
       " 0,\n",
       " 1,\n",
       " 0,\n",
       " 1,\n",
       " 1,\n",
       " 0,\n",
       " 1,\n",
       " 0,\n",
       " 0,\n",
       " 1,\n",
       " 0,\n",
       " 1,\n",
       " 1,\n",
       " 0,\n",
       " 1,\n",
       " 1,\n",
       " 1,\n",
       " 0,\n",
       " 0,\n",
       " 0,\n",
       " 0,\n",
       " 1,\n",
       " 1,\n",
       " 1,\n",
       " 1,\n",
       " 0,\n",
       " 1,\n",
       " 1,\n",
       " 1,\n",
       " 1,\n",
       " 0,\n",
       " 0,\n",
       " 1,\n",
       " 1,\n",
       " 0,\n",
       " 0,\n",
       " 0,\n",
       " 0,\n",
       " 1,\n",
       " 0,\n",
       " 0,\n",
       " 0,\n",
       " 0,\n",
       " 0,\n",
       " 0,\n",
       " 0,\n",
       " 1,\n",
       " 0,\n",
       " 1,\n",
       " 1,\n",
       " 0,\n",
       " 0,\n",
       " 1,\n",
       " 0,\n",
       " 0,\n",
       " 0,\n",
       " 1,\n",
       " 0,\n",
       " 1,\n",
       " 0,\n",
       " 1,\n",
       " 0,\n",
       " 0,\n",
       " 0,\n",
       " 0,\n",
       " 1,\n",
       " 0,\n",
       " 0,\n",
       " 0,\n",
       " 0,\n",
       " 0,\n",
       " 0,\n",
       " 1,\n",
       " 1,\n",
       " 0,\n",
       " 0,\n",
       " 1,\n",
       " 1,\n",
       " 1,\n",
       " 1,\n",
       " 1,\n",
       " 1,\n",
       " 0,\n",
       " 0,\n",
       " 1,\n",
       " 0,\n",
       " 0,\n",
       " 0,\n",
       " 1,\n",
       " 1,\n",
       " 1,\n",
       " 1,\n",
       " 1,\n",
       " 1,\n",
       " 1,\n",
       " 0,\n",
       " 1,\n",
       " 1,\n",
       " 0,\n",
       " 1,\n",
       " 0,\n",
       " 1,\n",
       " 1,\n",
       " 1,\n",
       " 0,\n",
       " 1,\n",
       " 1,\n",
       " 0,\n",
       " ...]"
      ]
     },
     "execution_count": 189,
     "metadata": {},
     "output_type": "execute_result"
    }
   ],
   "source": [
    "prediction_labels = [int(p>=0.5) for p in test_predictions]\n",
    "prediction_labels"
   ]
  },
  {
   "cell_type": "code",
   "execution_count": 186,
   "id": "70f03570",
   "metadata": {},
   "outputs": [],
   "source": [
    "from sklearn.metrics import confusion_matrix\n",
    "\n",
    "def plot_confusion(cf_matrix):\n",
    "    plt.figure(figsize=(8, 6))\n",
    "    sns.set(font_scale=2)\n",
    "    group_names = ['True Neg','False Pos','False Neg','True Pos']\n",
    "    group_counts = ['{0:0.0f}'.format(value) for value in\n",
    "    cf_matrix.flatten()]\n",
    "    group_percentages = ['{0:.2%}'.format(value) for value in\n",
    "    cf_matrix.flatten()/np.sum(cf_matrix)]\n",
    "    labels = [f'{v1}\\n{v2}\\n' for v1, v2 in\n",
    "    zip(group_counts,group_percentages)]\n",
    "    labels = np.asarray(labels).reshape(2,2)\n",
    "    x_axis_labels = ['Noise','Higgs Boson']\n",
    "    y_axis_labels = ['Noise','Higgs Boson']\n",
    "    ax = plt.axes()\n",
    "    sns.heatmap(cf_matrix, annot=labels, fmt='', cmap='Blues',xticklabels=x_axis_labels, yticklabels=y_axis_labels)\n",
    "    ax.set_title('    Confusion Matrix\\n')\n",
    "    plt.xlabel(\"Predicted Category\")\n",
    "    plt.ylabel(\"True Category\")"
   ]
  },
  {
   "cell_type": "code",
   "execution_count": 190,
   "id": "3b343367",
   "metadata": {},
   "outputs": [
    {
     "data": {
      "image/png": "[encoded data removed]",
      "text/plain": [
       "<Figure size 576x432 with 2 Axes>"
      ]
     },
     "metadata": {
      "needs_background": "light"
     },
     "output_type": "display_data"
    }
   ],
   "source": [
    "cm = confusion_matrix(test_labels,prediction_labels)\n",
    "plot_confusion(cm)"
   ]
  },
  {
   "cell_type": "code",
   "execution_count": 191,
   "id": "3dea4475",
   "metadata": {},
   "outputs": [
    {
     "name": "stdout",
     "output_type": "stream",
     "text": [
      "              precision    recall  f1-score   support\n",
      "\n",
      "       Noise       0.90      0.86      0.88    349912\n",
      " Higgs Boson       0.87      0.91      0.89    350088\n",
      "\n",
      "    accuracy                           0.89    700000\n",
      "   macro avg       0.89      0.89      0.89    700000\n",
      "weighted avg       0.89      0.89      0.89    700000\n",
      "\n"
     ]
    }
   ],
   "source": [
    "from sklearn.metrics import classification_report\n",
    "print(classification_report(test_labels,prediction_labels, \n",
    "                            target_names=['Noise','Higgs Boson'])) "
   ]
  },
  {
   "cell_type": "code",
   "execution_count": 163,
   "id": "6b8af93e",
   "metadata": {},
   "outputs": [
    {
     "name": "stdout",
     "output_type": "stream",
     "text": [
      "Epoch 1/100\n"
     ]
    },
    {
     "name": "stderr",
     "output_type": "stream",
     "text": [
      "2022-03-27 16:33:16.005180: I tensorflow/core/grappler/optimizers/custom_graph_optimizer_registry.cc:113] Plugin optimizer for device_type GPU is enabled.\n"
     ]
    },
    {
     "name": "stdout",
     "output_type": "stream",
     "text": [
      "1119/1120 [============================>.] - ETA: 0s - loss: 0.3103 - accuracy: 0.8545"
     ]
    },
    {
     "name": "stderr",
     "output_type": "stream",
     "text": [
      "2022-03-27 16:34:08.170848: I tensorflow/core/grappler/optimizers/custom_graph_optimizer_registry.cc:113] Plugin optimizer for device_type GPU is enabled.\n"
     ]
    },
    {
     "name": "stdout",
     "output_type": "stream",
     "text": [
      "1120/1120 [==============================] - 54s 48ms/step - loss: 0.3103 - accuracy: 0.8545 - val_loss: 0.2853 - val_accuracy: 0.8681\n",
      "Epoch 2/100\n",
      "1120/1120 [==============================] - 51s 45ms/step - loss: 0.2911 - accuracy: 0.8660 - val_loss: 0.2801 - val_accuracy: 0.8724\n",
      "Epoch 3/100\n",
      "1120/1120 [==============================] - 50s 45ms/step - loss: 0.2863 - accuracy: 0.8691 - val_loss: 0.2761 - val_accuracy: 0.8750\n",
      "Epoch 4/100\n",
      "1120/1120 [==============================] - 51s 45ms/step - loss: 0.2831 - accuracy: 0.8711 - val_loss: 0.2726 - val_accuracy: 0.8765\n",
      "Epoch 5/100\n",
      "1120/1120 [==============================] - 50s 44ms/step - loss: 0.2810 - accuracy: 0.8724 - val_loss: 0.2715 - val_accuracy: 0.8776\n",
      "Epoch 6/100\n",
      "1120/1120 [==============================] - 49s 44ms/step - loss: 0.2794 - accuracy: 0.8733 - val_loss: 0.2712 - val_accuracy: 0.8779\n",
      "Epoch 7/100\n",
      "1120/1120 [==============================] - 49s 44ms/step - loss: 0.2784 - accuracy: 0.8740 - val_loss: 0.2746 - val_accuracy: 0.8786\n",
      "Epoch 8/100\n",
      "1120/1120 [==============================] - 50s 45ms/step - loss: 0.2774 - accuracy: 0.8745 - val_loss: 0.2729 - val_accuracy: 0.8795\n",
      "Epoch 9/100\n",
      "1120/1120 [==============================] - 50s 45ms/step - loss: 0.2764 - accuracy: 0.8750 - val_loss: 0.2712 - val_accuracy: 0.8793\n",
      "Epoch 10/100\n",
      "1120/1120 [==============================] - 50s 45ms/step - loss: 0.2759 - accuracy: 0.8754 - val_loss: 0.2686 - val_accuracy: 0.8800\n",
      "Epoch 11/100\n",
      "1120/1120 [==============================] - 51s 45ms/step - loss: 0.2752 - accuracy: 0.8756 - val_loss: 0.2675 - val_accuracy: 0.8801\n",
      "Epoch 12/100\n",
      "1120/1120 [==============================] - 51s 45ms/step - loss: 0.2748 - accuracy: 0.8760 - val_loss: 0.2757 - val_accuracy: 0.8805\n",
      "Epoch 13/100\n",
      "1120/1120 [==============================] - 50s 45ms/step - loss: 0.2743 - accuracy: 0.8762 - val_loss: 0.2690 - val_accuracy: 0.8809\n",
      "Epoch 14/100\n",
      "1120/1120 [==============================] - 50s 45ms/step - loss: 0.2738 - accuracy: 0.8764 - val_loss: 0.2686 - val_accuracy: 0.8806\n",
      "Epoch 15/100\n",
      "1120/1120 [==============================] - 50s 45ms/step - loss: 0.2736 - accuracy: 0.8766 - val_loss: 0.2686 - val_accuracy: 0.8809\n",
      "Epoch 16/100\n",
      "1120/1120 [==============================] - 50s 45ms/step - loss: 0.2732 - accuracy: 0.8768 - val_loss: 0.2705 - val_accuracy: 0.8814\n",
      "Epoch 17/100\n",
      "1120/1120 [==============================] - 52s 47ms/step - loss: 0.2729 - accuracy: 0.8770 - val_loss: 0.2709 - val_accuracy: 0.8808\n",
      "Epoch 18/100\n",
      "1120/1120 [==============================] - 53s 47ms/step - loss: 0.2727 - accuracy: 0.8772 - val_loss: 0.2718 - val_accuracy: 0.8817\n",
      "Epoch 19/100\n",
      "1120/1120 [==============================] - 52s 47ms/step - loss: 0.2725 - accuracy: 0.8772 - val_loss: 0.2716 - val_accuracy: 0.8814\n",
      "Epoch 20/100\n",
      "1120/1120 [==============================] - 51s 46ms/step - loss: 0.2722 - accuracy: 0.8774 - val_loss: 0.2695 - val_accuracy: 0.8821\n",
      "Epoch 21/100\n",
      "1120/1120 [==============================] - 51s 46ms/step - loss: 0.2720 - accuracy: 0.8775 - val_loss: 0.2695 - val_accuracy: 0.8818\n",
      "Epoch 22/100\n",
      "1120/1120 [==============================] - 50s 45ms/step - loss: 0.2719 - accuracy: 0.8776 - val_loss: 0.2720 - val_accuracy: 0.8811\n",
      "Epoch 23/100\n",
      "1120/1120 [==============================] - 51s 45ms/step - loss: 0.2717 - accuracy: 0.8778 - val_loss: 0.2708 - val_accuracy: 0.8820\n",
      "140/140 - 2s - loss: 0.2691 - accuracy: 0.8822 - 2s/epoch - 13ms/step\n",
      "\n",
      "Test accuracy: 0.8821514248847961\n"
     ]
    }
   ],
   "source": [
    "tb = TensorBoard(log_dir=f\"logs\\\\{time()}\")\n",
    "\n",
    "callback = tf.keras.callbacks.EarlyStopping(\n",
    "    monitor='val_accuracy',\n",
    "    min_delta=0.0001,\n",
    "    patience=3,\n",
    "    verbose=0,\n",
    "    mode='auto',\n",
    "    baseline=None,\n",
    "    restore_best_weights=True\n",
    ")\n",
    "\n",
    "\n",
    "gelu_model = tf.keras.Sequential([\n",
    "    tf.keras.layers.Dense(300, activation='gelu', input_shape=(28,)),\n",
    "    tf.keras.layers.Dropout(0.5),\n",
    "    tf.keras.layers.Dense(300, activation='gelu'),\n",
    "    tf.keras.layers.Dropout(0.5),\n",
    "    tf.keras.layers.Dense(300, activation='gelu'),\n",
    "    tf.keras.layers.Dropout(0.5),\n",
    "    tf.keras.layers.Dense(300, activation='gelu'),\n",
    "    tf.keras.layers.Dropout(0.5),\n",
    "    tf.keras.layers.Dense(300, activation='gelu'),\n",
    "    tf.keras.layers.Dropout(0.5),\n",
    "    tf.keras.layers.Dense(2, activation='softmax')   \n",
    "])\n",
    "\n",
    "gelu_model.compile(optimizer=tf.optimizers.Adam(0.001),\n",
    "              loss=tf.keras.losses.SparseCategoricalCrossentropy(from_logits=True),\n",
    "              metrics=['accuracy'])\n",
    "gelu_model.fit(train_features_scaled, train_labels, batch_size=5000, epochs=100, callbacks=callback, validation_data=[validation_features_scaled, validation_labels])\n",
    "\n",
    "test_loss, test_acc = gelu_model.evaluate(test_features_scaled,  test_labels, batch_size=5000, verbose=2)\n",
    "\n",
    "print('\\nTest accuracy:', test_acc)"
   ]
  },
  {
   "cell_type": "code",
   "execution_count": 164,
   "id": "0ddce527",
   "metadata": {},
   "outputs": [
    {
     "name": "stdout",
     "output_type": "stream",
     "text": [
      "Epoch 1/100\n"
     ]
    },
    {
     "name": "stderr",
     "output_type": "stream",
     "text": [
      "2022-03-27 16:53:14.463354: I tensorflow/core/grappler/optimizers/custom_graph_optimizer_registry.cc:113] Plugin optimizer for device_type GPU is enabled.\n"
     ]
    },
    {
     "name": "stdout",
     "output_type": "stream",
     "text": [
      "1119/1120 [============================>.] - ETA: 0s - loss: 0.2911 - accuracy: 0.8657"
     ]
    },
    {
     "name": "stderr",
     "output_type": "stream",
     "text": [
      "2022-03-27 16:54:02.420875: I tensorflow/core/grappler/optimizers/custom_graph_optimizer_registry.cc:113] Plugin optimizer for device_type GPU is enabled.\n"
     ]
    },
    {
     "name": "stdout",
     "output_type": "stream",
     "text": [
      "1120/1120 [==============================] - 50s 44ms/step - loss: 0.2910 - accuracy: 0.8657 - val_loss: 0.2715 - val_accuracy: 0.8773\n",
      "Epoch 2/100\n",
      "1120/1120 [==============================] - 49s 44ms/step - loss: 0.2712 - accuracy: 0.8772 - val_loss: 0.2643 - val_accuracy: 0.8806\n",
      "Epoch 3/100\n",
      "1120/1120 [==============================] - 50s 45ms/step - loss: 0.2669 - accuracy: 0.8797 - val_loss: 0.2621 - val_accuracy: 0.8821\n",
      "Epoch 4/100\n",
      "1120/1120 [==============================] - 50s 45ms/step - loss: 0.2648 - accuracy: 0.8809 - val_loss: 0.2608 - val_accuracy: 0.8828\n",
      "Epoch 5/100\n",
      "1120/1120 [==============================] - 49s 44ms/step - loss: 0.2634 - accuracy: 0.8817 - val_loss: 0.2594 - val_accuracy: 0.8836\n",
      "Epoch 6/100\n",
      "1120/1120 [==============================] - 51s 46ms/step - loss: 0.2623 - accuracy: 0.8824 - val_loss: 0.2588 - val_accuracy: 0.8840\n",
      "Epoch 7/100\n",
      "1120/1120 [==============================] - 52s 46ms/step - loss: 0.2615 - accuracy: 0.8828 - val_loss: 0.2590 - val_accuracy: 0.8837\n",
      "Epoch 8/100\n",
      "1120/1120 [==============================] - 50s 45ms/step - loss: 0.2606 - accuracy: 0.8832 - val_loss: 0.2579 - val_accuracy: 0.8845\n",
      "Epoch 9/100\n",
      "1120/1120 [==============================] - 50s 45ms/step - loss: 0.2598 - accuracy: 0.8837 - val_loss: 0.2575 - val_accuracy: 0.8847\n",
      "Epoch 10/100\n",
      "1120/1120 [==============================] - 50s 45ms/step - loss: 0.2593 - accuracy: 0.8840 - val_loss: 0.2564 - val_accuracy: 0.8852\n",
      "Epoch 11/100\n",
      "1120/1120 [==============================] - 52s 47ms/step - loss: 0.2587 - accuracy: 0.8844 - val_loss: 0.2567 - val_accuracy: 0.8855\n",
      "Epoch 12/100\n",
      "1120/1120 [==============================] - 52s 47ms/step - loss: 0.2581 - accuracy: 0.8846 - val_loss: 0.2561 - val_accuracy: 0.8855\n",
      "Epoch 13/100\n",
      "1120/1120 [==============================] - 50s 45ms/step - loss: 0.2577 - accuracy: 0.8848 - val_loss: 0.2562 - val_accuracy: 0.8854\n",
      "Epoch 14/100\n",
      "1120/1120 [==============================] - 50s 45ms/step - loss: 0.2573 - accuracy: 0.8852 - val_loss: 0.2559 - val_accuracy: 0.8858\n",
      "Epoch 15/100\n",
      "1120/1120 [==============================] - 51s 45ms/step - loss: 0.2569 - accuracy: 0.8853 - val_loss: 0.2557 - val_accuracy: 0.8858\n",
      "Epoch 16/100\n",
      "1120/1120 [==============================] - 51s 46ms/step - loss: 0.2566 - accuracy: 0.8854 - val_loss: 0.2556 - val_accuracy: 0.8858\n",
      "Epoch 17/100\n",
      "1120/1120 [==============================] - 51s 46ms/step - loss: 0.2562 - accuracy: 0.8857 - val_loss: 0.2559 - val_accuracy: 0.8857\n",
      "140/140 - 2s - loss: 0.2548 - accuracy: 0.8865 - 2s/epoch - 13ms/step\n",
      "\n",
      "Test accuracy: 0.8864885568618774\n"
     ]
    }
   ],
   "source": [
    "tb = TensorBoard(log_dir=f\"logs\\\\{time()}\")\n",
    "\n",
    "callback = tf.keras.callbacks.EarlyStopping(\n",
    "    monitor='val_accuracy',\n",
    "    min_delta=0.0001,\n",
    "    patience=3,\n",
    "    verbose=0,\n",
    "    mode='auto',\n",
    "    baseline=None,\n",
    "    restore_best_weights=True\n",
    ")\n",
    "\n",
    "\n",
    "gelu_model = tf.keras.Sequential([\n",
    "    tf.keras.layers.Dense(300, activation='gelu', input_shape=(28,)),\n",
    "    tf.keras.layers.Dropout(0.1),\n",
    "    tf.keras.layers.Dense(300, activation='gelu'),\n",
    "    tf.keras.layers.Dropout(0.1),\n",
    "    tf.keras.layers.Dense(300, activation='gelu'),\n",
    "    tf.keras.layers.Dropout(0.1),\n",
    "    tf.keras.layers.Dense(300, activation='gelu'),\n",
    "    tf.keras.layers.Dropout(0.1),\n",
    "    tf.keras.layers.Dense(300, activation='gelu'),\n",
    "    tf.keras.layers.Dropout(0.1),\n",
    "    tf.keras.layers.Dense(2, activation='softmax')   \n",
    "])\n",
    "\n",
    "gelu_model.compile(optimizer=tf.optimizers.Adam(0.001),\n",
    "              loss=tf.keras.losses.SparseCategoricalCrossentropy(from_logits=True),\n",
    "              metrics=['accuracy'])\n",
    "gelu_model.fit(train_features_scaled, train_labels, batch_size=5000, epochs=100, callbacks=callback, validation_data=[validation_features_scaled, validation_labels])\n",
    "\n",
    "test_loss, test_acc = gelu_model.evaluate(test_features_scaled,  test_labels, batch_size=5000, verbose=2)\n",
    "\n",
    "print('\\nTest accuracy:', test_acc)"
   ]
  },
  {
   "cell_type": "code",
   "execution_count": 165,
   "id": "31b279f3",
   "metadata": {},
   "outputs": [
    {
     "name": "stdout",
     "output_type": "stream",
     "text": [
      "Epoch 1/100\n"
     ]
    },
    {
     "name": "stderr",
     "output_type": "stream",
     "text": [
      "2022-03-27 17:07:39.918259: I tensorflow/core/grappler/optimizers/custom_graph_optimizer_registry.cc:113] Plugin optimizer for device_type GPU is enabled.\n"
     ]
    },
    {
     "name": "stdout",
     "output_type": "stream",
     "text": [
      "1119/1120 [============================>.] - ETA: 0s - loss: 0.3002 - accuracy: 0.8603"
     ]
    },
    {
     "name": "stderr",
     "output_type": "stream",
     "text": [
      "2022-03-27 17:08:29.531464: I tensorflow/core/grappler/optimizers/custom_graph_optimizer_registry.cc:113] Plugin optimizer for device_type GPU is enabled.\n"
     ]
    },
    {
     "name": "stdout",
     "output_type": "stream",
     "text": [
      "1120/1120 [==============================] - 52s 45ms/step - loss: 0.3002 - accuracy: 0.8603 - val_loss: 0.2778 - val_accuracy: 0.8735\n",
      "Epoch 2/100\n",
      "1120/1120 [==============================] - 50s 45ms/step - loss: 0.2817 - accuracy: 0.8716 - val_loss: 0.2705 - val_accuracy: 0.8774\n",
      "Epoch 3/100\n",
      "1120/1120 [==============================] - 51s 45ms/step - loss: 0.2765 - accuracy: 0.8748 - val_loss: 0.2664 - val_accuracy: 0.8798\n",
      "Epoch 4/100\n",
      "1120/1120 [==============================] - 50s 45ms/step - loss: 0.2736 - accuracy: 0.8763 - val_loss: 0.2652 - val_accuracy: 0.8805\n",
      "Epoch 5/100\n",
      "1120/1120 [==============================] - 50s 45ms/step - loss: 0.2719 - accuracy: 0.8774 - val_loss: 0.2630 - val_accuracy: 0.8817\n",
      "Epoch 6/100\n",
      "1120/1120 [==============================] - 50s 45ms/step - loss: 0.2706 - accuracy: 0.8781 - val_loss: 0.2623 - val_accuracy: 0.8820\n",
      "Epoch 7/100\n",
      "1120/1120 [==============================] - 50s 45ms/step - loss: 0.2697 - accuracy: 0.8786 - val_loss: 0.2626 - val_accuracy: 0.8821\n",
      "Epoch 8/100\n",
      "1120/1120 [==============================] - 50s 45ms/step - loss: 0.2687 - accuracy: 0.8791 - val_loss: 0.2610 - val_accuracy: 0.8829\n",
      "Epoch 9/100\n",
      "1120/1120 [==============================] - 50s 45ms/step - loss: 0.2682 - accuracy: 0.8793 - val_loss: 0.2609 - val_accuracy: 0.8828\n",
      "Epoch 10/100\n",
      "1120/1120 [==============================] - 49s 44ms/step - loss: 0.2674 - accuracy: 0.8798 - val_loss: 0.2603 - val_accuracy: 0.8832\n",
      "Epoch 11/100\n",
      "1120/1120 [==============================] - 49s 44ms/step - loss: 0.2669 - accuracy: 0.8801 - val_loss: 0.2599 - val_accuracy: 0.8834\n",
      "Epoch 12/100\n",
      "1120/1120 [==============================] - 49s 44ms/step - loss: 0.2665 - accuracy: 0.8802 - val_loss: 0.2630 - val_accuracy: 0.8838\n",
      "Epoch 13/100\n",
      "1120/1120 [==============================] - 49s 44ms/step - loss: 0.2661 - accuracy: 0.8804 - val_loss: 0.2588 - val_accuracy: 0.8841\n",
      "Epoch 14/100\n",
      "1120/1120 [==============================] - 50s 44ms/step - loss: 0.2659 - accuracy: 0.8807 - val_loss: 0.2597 - val_accuracy: 0.8841\n",
      "Epoch 15/100\n",
      "1120/1120 [==============================] - 49s 44ms/step - loss: 0.2655 - accuracy: 0.8808 - val_loss: 0.2592 - val_accuracy: 0.8843\n",
      "Epoch 16/100\n",
      "1120/1120 [==============================] - 50s 45ms/step - loss: 0.2653 - accuracy: 0.8810 - val_loss: 0.2595 - val_accuracy: 0.8844\n",
      "Epoch 17/100\n",
      "1120/1120 [==============================] - 51s 45ms/step - loss: 0.2650 - accuracy: 0.8810 - val_loss: 0.2594 - val_accuracy: 0.8843\n",
      "Epoch 18/100\n",
      "1120/1120 [==============================] - 52s 46ms/step - loss: 0.2647 - accuracy: 0.8812 - val_loss: 0.2601 - val_accuracy: 0.8845\n",
      "Epoch 19/100\n",
      "1120/1120 [==============================] - 51s 46ms/step - loss: 0.2645 - accuracy: 0.8813 - val_loss: 0.2601 - val_accuracy: 0.8843\n",
      "Epoch 20/100\n",
      "1120/1120 [==============================] - 51s 46ms/step - loss: 0.2645 - accuracy: 0.8814 - val_loss: 0.2598 - val_accuracy: 0.8846\n",
      "Epoch 21/100\n",
      "1120/1120 [==============================] - 51s 45ms/step - loss: 0.2642 - accuracy: 0.8816 - val_loss: 0.2583 - val_accuracy: 0.8849\n",
      "Epoch 22/100\n",
      "1120/1120 [==============================] - 51s 46ms/step - loss: 0.2641 - accuracy: 0.8816 - val_loss: 0.2589 - val_accuracy: 0.8845\n",
      "Epoch 23/100\n",
      "1120/1120 [==============================] - 51s 46ms/step - loss: 0.2639 - accuracy: 0.8818 - val_loss: 0.2583 - val_accuracy: 0.8850\n",
      "Epoch 24/100\n",
      "1120/1120 [==============================] - 51s 46ms/step - loss: 0.2638 - accuracy: 0.8818 - val_loss: 0.2596 - val_accuracy: 0.8846\n",
      "140/140 - 2s - loss: 0.2576 - accuracy: 0.8854 - 2s/epoch - 13ms/step\n",
      "\n",
      "Test accuracy: 0.8853685855865479\n"
     ]
    }
   ],
   "source": [
    "tb = TensorBoard(log_dir=f\"logs\\\\{time()}\")\n",
    "\n",
    "callback = tf.keras.callbacks.EarlyStopping(\n",
    "    monitor='val_accuracy',\n",
    "    min_delta=0.0001,\n",
    "    patience=3,\n",
    "    verbose=0,\n",
    "    mode='auto',\n",
    "    baseline=None,\n",
    "    restore_best_weights=True\n",
    ")\n",
    "\n",
    "\n",
    "gelu_model = tf.keras.Sequential([\n",
    "    tf.keras.layers.Dense(300, activation='gelu', input_shape=(28,)),\n",
    "    tf.keras.layers.Dropout(0.3),\n",
    "    tf.keras.layers.Dense(300, activation='gelu'),\n",
    "    tf.keras.layers.Dropout(0.3),\n",
    "    tf.keras.layers.Dense(300, activation='gelu'),\n",
    "    tf.keras.layers.Dropout(0.3),\n",
    "    tf.keras.layers.Dense(300, activation='gelu'),\n",
    "    tf.keras.layers.Dropout(0.3),\n",
    "    tf.keras.layers.Dense(300, activation='gelu'),\n",
    "    tf.keras.layers.Dropout(0.3),\n",
    "    tf.keras.layers.Dense(2, activation='softmax')   \n",
    "])\n",
    "\n",
    "gelu_model.compile(optimizer=tf.optimizers.Adam(0.001),\n",
    "              loss=tf.keras.losses.SparseCategoricalCrossentropy(from_logits=True),\n",
    "              metrics=['accuracy'])\n",
    "gelu_model.fit(train_features_scaled, train_labels, batch_size=5000, epochs=100, callbacks=callback, validation_data=[validation_features_scaled, validation_labels])\n",
    "\n",
    "test_loss, test_acc = gelu_model.evaluate(test_features_scaled,  test_labels, batch_size=5000, verbose=2)\n",
    "\n",
    "print('\\nTest accuracy:', test_acc)"
   ]
  },
  {
   "cell_type": "code",
   "execution_count": 167,
   "id": "44526751",
   "metadata": {},
   "outputs": [
    {
     "name": "stdout",
     "output_type": "stream",
     "text": [
      "Epoch 1/100\n"
     ]
    },
    {
     "name": "stderr",
     "output_type": "stream",
     "text": [
      "2022-03-27 18:24:23.508881: I tensorflow/core/grappler/optimizers/custom_graph_optimizer_registry.cc:113] Plugin optimizer for device_type GPU is enabled.\n"
     ]
    },
    {
     "name": "stdout",
     "output_type": "stream",
     "text": [
      "1120/1120 [==============================] - ETA: 0s - loss: 0.2982 - accuracy: 0.8615"
     ]
    },
    {
     "name": "stderr",
     "output_type": "stream",
     "text": [
      "2022-03-27 18:25:13.551580: I tensorflow/core/grappler/optimizers/custom_graph_optimizer_registry.cc:113] Plugin optimizer for device_type GPU is enabled.\n"
     ]
    },
    {
     "name": "stdout",
     "output_type": "stream",
     "text": [
      "1120/1120 [==============================] - 52s 46ms/step - loss: 0.2982 - accuracy: 0.8615 - val_loss: 0.2767 - val_accuracy: 0.8746\n",
      "Epoch 2/100\n",
      "1120/1120 [==============================] - 51s 45ms/step - loss: 0.2789 - accuracy: 0.8732 - val_loss: 0.2682 - val_accuracy: 0.8786\n",
      "Epoch 3/100\n",
      "1120/1120 [==============================] - 50s 44ms/step - loss: 0.2739 - accuracy: 0.8761 - val_loss: 0.2650 - val_accuracy: 0.8805\n",
      "Epoch 4/100\n",
      "1120/1120 [==============================] - 50s 44ms/step - loss: 0.2717 - accuracy: 0.8774 - val_loss: 0.2645 - val_accuracy: 0.8811\n",
      "Epoch 5/100\n",
      "1120/1120 [==============================] - 50s 45ms/step - loss: 0.2700 - accuracy: 0.8783 - val_loss: 0.2622 - val_accuracy: 0.8821\n",
      "Epoch 6/100\n",
      "1120/1120 [==============================] - 51s 46ms/step - loss: 0.2687 - accuracy: 0.8791 - val_loss: 0.2614 - val_accuracy: 0.8824\n",
      "Epoch 7/100\n",
      "1120/1120 [==============================] - 51s 45ms/step - loss: 0.2679 - accuracy: 0.8796 - val_loss: 0.2612 - val_accuracy: 0.8826\n",
      "Epoch 8/100\n",
      "1120/1120 [==============================] - 50s 45ms/step - loss: 0.2671 - accuracy: 0.8799 - val_loss: 0.2600 - val_accuracy: 0.8832\n",
      "Epoch 9/100\n",
      "1120/1120 [==============================] - 50s 45ms/step - loss: 0.2664 - accuracy: 0.8803 - val_loss: 0.2599 - val_accuracy: 0.8833\n",
      "Epoch 10/100\n",
      "1120/1120 [==============================] - 50s 45ms/step - loss: 0.2658 - accuracy: 0.8806 - val_loss: 0.2593 - val_accuracy: 0.8836\n",
      "Epoch 11/100\n",
      "1120/1120 [==============================] - 51s 46ms/step - loss: 0.2654 - accuracy: 0.8809 - val_loss: 0.2589 - val_accuracy: 0.8840\n",
      "Epoch 12/100\n",
      "1120/1120 [==============================] - 51s 46ms/step - loss: 0.2650 - accuracy: 0.8811 - val_loss: 0.2604 - val_accuracy: 0.8842\n",
      "Epoch 13/100\n",
      "1120/1120 [==============================] - 50s 45ms/step - loss: 0.2645 - accuracy: 0.8814 - val_loss: 0.2581 - val_accuracy: 0.8845\n",
      "Epoch 14/100\n",
      "1120/1120 [==============================] - 50s 45ms/step - loss: 0.2641 - accuracy: 0.8815 - val_loss: 0.2581 - val_accuracy: 0.8844\n",
      "Epoch 15/100\n",
      "1120/1120 [==============================] - 52s 46ms/step - loss: 0.2638 - accuracy: 0.8817 - val_loss: 0.2579 - val_accuracy: 0.8847\n",
      "Epoch 16/100\n",
      "1120/1120 [==============================] - 53s 48ms/step - loss: 0.2636 - accuracy: 0.8818 - val_loss: 0.2582 - val_accuracy: 0.8847\n",
      "Epoch 17/100\n",
      "1120/1120 [==============================] - 52s 46ms/step - loss: 0.2632 - accuracy: 0.8819 - val_loss: 0.2581 - val_accuracy: 0.8846\n",
      "Epoch 18/100\n",
      "1120/1120 [==============================] - 50s 45ms/step - loss: 0.2632 - accuracy: 0.8819 - val_loss: 0.2579 - val_accuracy: 0.8851\n",
      "Epoch 19/100\n",
      "1120/1120 [==============================] - 50s 45ms/step - loss: 0.2628 - accuracy: 0.8822 - val_loss: 0.2582 - val_accuracy: 0.8847\n",
      "Epoch 20/100\n",
      "1120/1120 [==============================] - 50s 45ms/step - loss: 0.2627 - accuracy: 0.8823 - val_loss: 0.2573 - val_accuracy: 0.8852\n",
      "Epoch 21/100\n",
      "1120/1120 [==============================] - 50s 45ms/step - loss: 0.2624 - accuracy: 0.8825 - val_loss: 0.2572 - val_accuracy: 0.8852\n",
      "Epoch 22/100\n",
      "1120/1120 [==============================] - 50s 45ms/step - loss: 0.2623 - accuracy: 0.8826 - val_loss: 0.2567 - val_accuracy: 0.8853\n",
      "Epoch 23/100\n",
      "1120/1120 [==============================] - 50s 45ms/step - loss: 0.2621 - accuracy: 0.8827 - val_loss: 0.2567 - val_accuracy: 0.8855\n",
      "Epoch 24/100\n",
      "1120/1120 [==============================] - 50s 45ms/step - loss: 0.2619 - accuracy: 0.8827 - val_loss: 0.2578 - val_accuracy: 0.8853\n",
      "Epoch 25/100\n",
      "1120/1120 [==============================] - 50s 45ms/step - loss: 0.2618 - accuracy: 0.8828 - val_loss: 0.2566 - val_accuracy: 0.8853\n",
      "Epoch 26/100\n",
      "1120/1120 [==============================] - 50s 45ms/step - loss: 0.2617 - accuracy: 0.8830 - val_loss: 0.2561 - val_accuracy: 0.8853\n",
      "140/140 - 2s - loss: 0.2558 - accuracy: 0.8863 - 2s/epoch - 13ms/step\n",
      "\n",
      "Test accuracy: 0.8862699866294861\n"
     ]
    }
   ],
   "source": [
    "tb = TensorBoard(log_dir=f\"logs\\\\{time()}\")\n",
    "\n",
    "callback = tf.keras.callbacks.EarlyStopping(\n",
    "    monitor='val_accuracy',\n",
    "    min_delta=0.0001,\n",
    "    patience=3,\n",
    "    verbose=0,\n",
    "    mode='auto',\n",
    "    baseline=None,\n",
    "    restore_best_weights=True\n",
    ")\n",
    "\n",
    "\n",
    "gelu_model = tf.keras.Sequential([\n",
    "    tf.keras.layers.Dense(300, activation='gelu', input_shape=(28,)),\n",
    "    tf.keras.layers.Dropout(0.25),\n",
    "    tf.keras.layers.Dense(300, activation='gelu'),\n",
    "    tf.keras.layers.Dropout(0.25),\n",
    "    tf.keras.layers.Dense(300, activation='gelu'),\n",
    "    tf.keras.layers.Dropout(0.25),\n",
    "    tf.keras.layers.Dense(300, activation='gelu'),\n",
    "    tf.keras.layers.Dropout(0.25),\n",
    "    tf.keras.layers.Dense(300, activation='gelu'),\n",
    "    tf.keras.layers.Dropout(0.25),\n",
    "    tf.keras.layers.Dense(2, activation='softmax')   \n",
    "])\n",
    "\n",
    "gelu_model.compile(optimizer=tf.optimizers.Adam(learning_rate=0.001),\n",
    "              loss=tf.keras.losses.SparseCategoricalCrossentropy(from_logits=True),\n",
    "              metrics=['accuracy'])\n",
    "\n",
    "gelu_model.fit(train_features_scaled, train_labels, batch_size=5000, epochs=100, callbacks=callback, validation_data=[validation_features_scaled, validation_labels])\n",
    "\n",
    "test_loss, test_acc = gelu_model.evaluate(test_features_scaled,  test_labels, batch_size=5000, verbose=2)\n",
    "\n",
    "print('\\nTest accuracy:', test_acc)"
   ]
  },
  {
   "cell_type": "code",
   "execution_count": 168,
   "id": "bedd4130",
   "metadata": {},
   "outputs": [
    {
     "name": "stdout",
     "output_type": "stream",
     "text": [
      "Epoch 1/100\n"
     ]
    },
    {
     "name": "stderr",
     "output_type": "stream",
     "text": [
      "2022-03-27 18:46:23.699945: I tensorflow/core/grappler/optimizers/custom_graph_optimizer_registry.cc:113] Plugin optimizer for device_type GPU is enabled.\n"
     ]
    },
    {
     "name": "stdout",
     "output_type": "stream",
     "text": [
      "2799/2800 [============================>.] - ETA: 0s - loss: 0.2884 - accuracy: 0.8674"
     ]
    },
    {
     "name": "stderr",
     "output_type": "stream",
     "text": [
      "2022-03-27 18:47:14.826977: I tensorflow/core/grappler/optimizers/custom_graph_optimizer_registry.cc:113] Plugin optimizer for device_type GPU is enabled.\n"
     ]
    },
    {
     "name": "stdout",
     "output_type": "stream",
     "text": [
      "2800/2800 [==============================] - 54s 19ms/step - loss: 0.2884 - accuracy: 0.8674 - val_loss: 0.2700 - val_accuracy: 0.8783\n",
      "Epoch 2/100\n",
      "2800/2800 [==============================] - 56s 20ms/step - loss: 0.2733 - accuracy: 0.8765 - val_loss: 0.2649 - val_accuracy: 0.8805\n",
      "Epoch 3/100\n",
      "2800/2800 [==============================] - 56s 20ms/step - loss: 0.2695 - accuracy: 0.8787 - val_loss: 0.2637 - val_accuracy: 0.8820\n",
      "Epoch 4/100\n",
      "2800/2800 [==============================] - 56s 20ms/step - loss: 0.2677 - accuracy: 0.8797 - val_loss: 0.2613 - val_accuracy: 0.8827\n",
      "Epoch 5/100\n",
      "2800/2800 [==============================] - 56s 20ms/step - loss: 0.2664 - accuracy: 0.8803 - val_loss: 0.2619 - val_accuracy: 0.8823\n",
      "Epoch 6/100\n",
      "2800/2800 [==============================] - 57s 20ms/step - loss: 0.2654 - accuracy: 0.8810 - val_loss: 0.2595 - val_accuracy: 0.8837\n",
      "Epoch 7/100\n",
      "2800/2800 [==============================] - 57s 20ms/step - loss: 0.2647 - accuracy: 0.8814 - val_loss: 0.2593 - val_accuracy: 0.8838\n",
      "Epoch 8/100\n",
      "2800/2800 [==============================] - 56s 20ms/step - loss: 0.2641 - accuracy: 0.8817 - val_loss: 0.2593 - val_accuracy: 0.8843\n",
      "Epoch 9/100\n",
      "2800/2800 [==============================] - 57s 20ms/step - loss: 0.2636 - accuracy: 0.8820 - val_loss: 0.2590 - val_accuracy: 0.8844\n",
      "Epoch 10/100\n",
      "2800/2800 [==============================] - 56s 20ms/step - loss: 0.2631 - accuracy: 0.8822 - val_loss: 0.2602 - val_accuracy: 0.8843\n",
      "Epoch 11/100\n",
      "2800/2800 [==============================] - 59s 21ms/step - loss: 0.2628 - accuracy: 0.8824 - val_loss: 0.2581 - val_accuracy: 0.8844\n",
      "Epoch 12/100\n",
      "2800/2800 [==============================] - 59s 21ms/step - loss: 0.2624 - accuracy: 0.8826 - val_loss: 0.2575 - val_accuracy: 0.8848\n",
      "Epoch 13/100\n",
      "2800/2800 [==============================] - 56s 20ms/step - loss: 0.2621 - accuracy: 0.8828 - val_loss: 0.2572 - val_accuracy: 0.8852\n",
      "Epoch 14/100\n",
      "2800/2800 [==============================] - 56s 20ms/step - loss: 0.2619 - accuracy: 0.8828 - val_loss: 0.2576 - val_accuracy: 0.8851\n",
      "Epoch 15/100\n",
      "2800/2800 [==============================] - 56s 20ms/step - loss: 0.2616 - accuracy: 0.8830 - val_loss: 0.2570 - val_accuracy: 0.8851\n",
      "Epoch 16/100\n",
      "2800/2800 [==============================] - 58s 21ms/step - loss: 0.2614 - accuracy: 0.8831 - val_loss: 0.2570 - val_accuracy: 0.8854\n",
      "Epoch 17/100\n",
      "2800/2800 [==============================] - 58s 21ms/step - loss: 0.2612 - accuracy: 0.8833 - val_loss: 0.2574 - val_accuracy: 0.8848\n",
      "Epoch 18/100\n",
      "2800/2800 [==============================] - 57s 20ms/step - loss: 0.2611 - accuracy: 0.8834 - val_loss: 0.2582 - val_accuracy: 0.8852\n",
      "Epoch 19/100\n",
      "2800/2800 [==============================] - 57s 20ms/step - loss: 0.2609 - accuracy: 0.8834 - val_loss: 0.2573 - val_accuracy: 0.8853\n",
      "350/350 - 2s - loss: 0.2559 - accuracy: 0.8859 - 2s/epoch - 7ms/step\n",
      "\n",
      "Test accuracy: 0.8858985304832458\n"
     ]
    }
   ],
   "source": [
    "tb = TensorBoard(log_dir=f\"logs\\\\{time()}\")\n",
    "\n",
    "callback = tf.keras.callbacks.EarlyStopping(\n",
    "    monitor='val_accuracy',\n",
    "    min_delta=0.0001,\n",
    "    patience=3,\n",
    "    verbose=0,\n",
    "    mode='auto',\n",
    "    baseline=None,\n",
    "    restore_best_weights=True\n",
    ")\n",
    "\n",
    "\n",
    "gelu_model = tf.keras.Sequential([\n",
    "    tf.keras.layers.Dense(300, activation='gelu', input_shape=(28,)),\n",
    "    tf.keras.layers.Dropout(0.2),\n",
    "    tf.keras.layers.Dense(300, activation='gelu'),\n",
    "    tf.keras.layers.Dropout(0.2),\n",
    "    tf.keras.layers.Dense(300, activation='gelu'),\n",
    "    tf.keras.layers.Dropout(0.2),\n",
    "    tf.keras.layers.Dense(300, activation='gelu'),\n",
    "    tf.keras.layers.Dropout(0.2),\n",
    "    tf.keras.layers.Dense(300, activation='gelu'),\n",
    "    tf.keras.layers.Dropout(0.2),\n",
    "    tf.keras.layers.Dense(2, activation='softmax')   \n",
    "])\n",
    "\n",
    "gelu_model.compile(optimizer=tf.optimizers.Adam(0.001),\n",
    "              loss=tf.keras.losses.SparseCategoricalCrossentropy(from_logits=True),\n",
    "              metrics=['accuracy'])\n",
    "\n",
    "gelu_model.fit(train_features_scaled, train_labels, batch_size=2000, epochs=100, callbacks=callback, validation_data=[validation_features_scaled, validation_labels])\n",
    "\n",
    "test_loss, test_acc = gelu_model.evaluate(test_features_scaled,  test_labels, batch_size=2000, verbose=2)\n",
    "\n",
    "print('\\nTest accuracy:', test_acc)"
   ]
  },
  {
   "cell_type": "code",
   "execution_count": 169,
   "id": "d4d813b4",
   "metadata": {},
   "outputs": [
    {
     "name": "stdout",
     "output_type": "stream",
     "text": [
      "Epoch 1/100\n"
     ]
    },
    {
     "name": "stderr",
     "output_type": "stream",
     "text": [
      "2022-03-27 19:04:25.587134: I tensorflow/core/grappler/optimizers/custom_graph_optimizer_registry.cc:113] Plugin optimizer for device_type GPU is enabled.\n"
     ]
    },
    {
     "name": "stdout",
     "output_type": "stream",
     "text": [
      "560/560 [==============================] - ETA: 0s - loss: 0.3036 - accuracy: 0.8585"
     ]
    },
    {
     "name": "stderr",
     "output_type": "stream",
     "text": [
      "2022-03-27 19:05:16.520508: I tensorflow/core/grappler/optimizers/custom_graph_optimizer_registry.cc:113] Plugin optimizer for device_type GPU is enabled.\n"
     ]
    },
    {
     "name": "stdout",
     "output_type": "stream",
     "text": [
      "560/560 [==============================] - 53s 93ms/step - loss: 0.3036 - accuracy: 0.8585 - val_loss: 0.2801 - val_accuracy: 0.8718\n",
      "Epoch 2/100\n",
      "560/560 [==============================] - 48s 86ms/step - loss: 0.2808 - accuracy: 0.8716 - val_loss: 0.2696 - val_accuracy: 0.8779\n",
      "Epoch 3/100\n",
      "560/560 [==============================] - 49s 88ms/step - loss: 0.2747 - accuracy: 0.8753 - val_loss: 0.2667 - val_accuracy: 0.8799\n",
      "Epoch 4/100\n",
      "560/560 [==============================] - 48s 86ms/step - loss: 0.2713 - accuracy: 0.8773 - val_loss: 0.2634 - val_accuracy: 0.8812\n",
      "Epoch 5/100\n",
      "560/560 [==============================] - 48s 86ms/step - loss: 0.2694 - accuracy: 0.8783 - val_loss: 0.2623 - val_accuracy: 0.8819\n",
      "Epoch 6/100\n",
      "560/560 [==============================] - 48s 86ms/step - loss: 0.2682 - accuracy: 0.8791 - val_loss: 0.2611 - val_accuracy: 0.8826\n",
      "Epoch 7/100\n",
      "560/560 [==============================] - 48s 86ms/step - loss: 0.2670 - accuracy: 0.8798 - val_loss: 0.2603 - val_accuracy: 0.8830\n",
      "Epoch 8/100\n",
      "560/560 [==============================] - 48s 86ms/step - loss: 0.2662 - accuracy: 0.8802 - val_loss: 0.2602 - val_accuracy: 0.8831\n",
      "Epoch 9/100\n",
      "560/560 [==============================] - 48s 86ms/step - loss: 0.2655 - accuracy: 0.8806 - val_loss: 0.2601 - val_accuracy: 0.8832\n",
      "Epoch 10/100\n",
      "560/560 [==============================] - 48s 86ms/step - loss: 0.2648 - accuracy: 0.8809 - val_loss: 0.2586 - val_accuracy: 0.8838\n",
      "Epoch 11/100\n",
      "560/560 [==============================] - 48s 86ms/step - loss: 0.2642 - accuracy: 0.8814 - val_loss: 0.2587 - val_accuracy: 0.8839\n",
      "Epoch 12/100\n",
      "560/560 [==============================] - 48s 86ms/step - loss: 0.2638 - accuracy: 0.8817 - val_loss: 0.2579 - val_accuracy: 0.8846\n",
      "Epoch 13/100\n",
      "560/560 [==============================] - 48s 86ms/step - loss: 0.2634 - accuracy: 0.8818 - val_loss: 0.2580 - val_accuracy: 0.8847\n",
      "Epoch 14/100\n",
      "560/560 [==============================] - 48s 86ms/step - loss: 0.2630 - accuracy: 0.8820 - val_loss: 0.2578 - val_accuracy: 0.8845\n",
      "Epoch 15/100\n",
      "560/560 [==============================] - 50s 90ms/step - loss: 0.2626 - accuracy: 0.8824 - val_loss: 0.2572 - val_accuracy: 0.8850\n",
      "Epoch 16/100\n",
      "560/560 [==============================] - 50s 89ms/step - loss: 0.2623 - accuracy: 0.8825 - val_loss: 0.2569 - val_accuracy: 0.8848\n",
      "Epoch 17/100\n",
      "560/560 [==============================] - 50s 90ms/step - loss: 0.2619 - accuracy: 0.8827 - val_loss: 0.2571 - val_accuracy: 0.8852\n",
      "Epoch 18/100\n",
      "560/560 [==============================] - 50s 90ms/step - loss: 0.2617 - accuracy: 0.8828 - val_loss: 0.2567 - val_accuracy: 0.8852\n",
      "Epoch 19/100\n",
      "560/560 [==============================] - 50s 89ms/step - loss: 0.2613 - accuracy: 0.8829 - val_loss: 0.2566 - val_accuracy: 0.8851\n",
      "Epoch 20/100\n",
      "560/560 [==============================] - 50s 90ms/step - loss: 0.2612 - accuracy: 0.8830 - val_loss: 0.2573 - val_accuracy: 0.8853\n",
      "70/70 - 2s - loss: 0.2561 - accuracy: 0.8855 - 2s/epoch - 24ms/step\n",
      "\n",
      "Test accuracy: 0.8854685425758362\n"
     ]
    }
   ],
   "source": [
    "tb = TensorBoard(log_dir=f\"logs\\\\{time()}\")\n",
    "\n",
    "callback = tf.keras.callbacks.EarlyStopping(\n",
    "    monitor='val_accuracy',\n",
    "    min_delta=0.0001,\n",
    "    patience=3,\n",
    "    verbose=0,\n",
    "    mode='auto',\n",
    "    baseline=None,\n",
    "    restore_best_weights=True\n",
    ")\n",
    "\n",
    "\n",
    "gelu_model = tf.keras.Sequential([\n",
    "    tf.keras.layers.Dense(300, activation='gelu', input_shape=(28,)),\n",
    "    tf.keras.layers.Dropout(0.2),\n",
    "    tf.keras.layers.Dense(300, activation='gelu'),\n",
    "    tf.keras.layers.Dropout(0.2),\n",
    "    tf.keras.layers.Dense(300, activation='gelu'),\n",
    "    tf.keras.layers.Dropout(0.2),\n",
    "    tf.keras.layers.Dense(300, activation='gelu'),\n",
    "    tf.keras.layers.Dropout(0.2),\n",
    "    tf.keras.layers.Dense(300, activation='gelu'),\n",
    "    tf.keras.layers.Dropout(0.2),\n",
    "    tf.keras.layers.Dense(2, activation='softmax')   \n",
    "])\n",
    "\n",
    "gelu_model.compile(optimizer=tf.optimizers.Adam(0.001),\n",
    "              loss=tf.keras.losses.SparseCategoricalCrossentropy(from_logits=True),\n",
    "              metrics=['accuracy'])\n",
    "gelu_model.fit(train_features_scaled, train_labels, batch_size=10000, epochs=100, callbacks=callback, validation_data=[validation_features_scaled, validation_labels])\n",
    "\n",
    "test_loss, test_acc = gelu_model.evaluate(test_features_scaled,  test_labels, batch_size=10000, verbose=2)\n",
    "\n",
    "print('\\nTest accuracy:', test_acc)"
   ]
  },
  {
   "cell_type": "code",
   "execution_count": 171,
   "id": "4cb12489",
   "metadata": {},
   "outputs": [
    {
     "name": "stdout",
     "output_type": "stream",
     "text": [
      "Epoch 1/100\n"
     ]
    },
    {
     "name": "stderr",
     "output_type": "stream",
     "text": [
      "2022-03-27 19:42:50.560637: I tensorflow/core/grappler/optimizers/custom_graph_optimizer_registry.cc:113] Plugin optimizer for device_type GPU is enabled.\n"
     ]
    },
    {
     "name": "stdout",
     "output_type": "stream",
     "text": [
      "22398/22400 [============================>.] - ETA: 0s - loss: 0.2823 - accuracy: 0.8717"
     ]
    },
    {
     "name": "stderr",
     "output_type": "stream",
     "text": [
      "2022-03-27 19:46:03.881275: I tensorflow/core/grappler/optimizers/custom_graph_optimizer_registry.cc:113] Plugin optimizer for device_type GPU is enabled.\n"
     ]
    },
    {
     "name": "stdout",
     "output_type": "stream",
     "text": [
      "22400/22400 [==============================] - 202s 9ms/step - loss: 0.2823 - accuracy: 0.8717 - val_loss: 0.2679 - val_accuracy: 0.8793\n",
      "Epoch 2/100\n",
      "22400/22400 [==============================] - 199s 9ms/step - loss: 0.2713 - accuracy: 0.8780 - val_loss: 0.2655 - val_accuracy: 0.8809\n",
      "Epoch 3/100\n",
      "22400/22400 [==============================] - 195s 9ms/step - loss: 0.2689 - accuracy: 0.8793 - val_loss: 0.2622 - val_accuracy: 0.8823\n",
      "Epoch 4/100\n",
      "22400/22400 [==============================] - 201s 9ms/step - loss: 0.2678 - accuracy: 0.8800 - val_loss: 0.2626 - val_accuracy: 0.8830\n",
      "Epoch 5/100\n",
      "22400/22400 [==============================] - 200s 9ms/step - loss: 0.2667 - accuracy: 0.8806 - val_loss: 0.2610 - val_accuracy: 0.8831\n",
      "Epoch 6/100\n",
      "22400/22400 [==============================] - 201s 9ms/step - loss: 0.2663 - accuracy: 0.8808 - val_loss: 0.2636 - val_accuracy: 0.8826\n",
      "Epoch 7/100\n",
      "22400/22400 [==============================] - 218s 10ms/step - loss: 0.2658 - accuracy: 0.8810 - val_loss: 0.2632 - val_accuracy: 0.8827\n",
      "Epoch 8/100\n",
      "22400/22400 [==============================] - 203s 9ms/step - loss: 0.2655 - accuracy: 0.8813 - val_loss: 0.2638 - val_accuracy: 0.8823\n",
      "2800/2800 - 8s - loss: 0.2603 - accuracy: 0.8835 - 8s/epoch - 3ms/step\n",
      "\n",
      "Test accuracy: 0.8835257291793823\n"
     ]
    }
   ],
   "source": [
    "tb = TensorBoard(log_dir=f\"logs\\\\{time()}\")\n",
    "\n",
    "callback = tf.keras.callbacks.EarlyStopping(\n",
    "    monitor='val_accuracy',\n",
    "    min_delta=0.0001,\n",
    "    patience=3,\n",
    "    verbose=0,\n",
    "    mode='auto',\n",
    "    baseline=None,\n",
    "    restore_best_weights=True\n",
    ")\n",
    "\n",
    "\n",
    "gelu_model = tf.keras.Sequential([\n",
    "    tf.keras.layers.Dense(300, activation='gelu', input_shape=(28,)),\n",
    "    tf.keras.layers.Dropout(0.2),\n",
    "    tf.keras.layers.Dense(300, activation='gelu'),\n",
    "    tf.keras.layers.Dropout(0.2),\n",
    "    tf.keras.layers.Dense(300, activation='gelu'),\n",
    "    tf.keras.layers.Dropout(0.2),\n",
    "    tf.keras.layers.Dense(300, activation='gelu'),\n",
    "    tf.keras.layers.Dropout(0.2),\n",
    "    tf.keras.layers.Dense(300, activation='gelu'),\n",
    "    tf.keras.layers.Dropout(0.2),\n",
    "    tf.keras.layers.Dense(2, activation='softmax')   \n",
    "])\n",
    "\n",
    "gelu_model.compile(optimizer=tf.optimizers.Adam(0.001),\n",
    "              loss=tf.keras.losses.SparseCategoricalCrossentropy(from_logits=True),\n",
    "              metrics=['accuracy'])\n",
    "gelu_model.fit(train_features_scaled, train_labels, batch_size=250, epochs=100, callbacks=callback, validation_data=[validation_features_scaled, validation_labels])\n",
    "\n",
    "test_loss, test_acc = gelu_model.evaluate(test_features_scaled,  test_labels, batch_size=250, verbose=2)\n",
    "\n",
    "print('\\nTest accuracy:', test_acc)"
   ]
  },
  {
   "cell_type": "code",
   "execution_count": 172,
   "id": "28765e9d",
   "metadata": {},
   "outputs": [
    {
     "name": "stdout",
     "output_type": "stream",
     "text": [
      "Epoch 1/100\n"
     ]
    },
    {
     "name": "stderr",
     "output_type": "stream",
     "text": [
      "2022-03-27 20:53:51.208028: I tensorflow/core/grappler/optimizers/custom_graph_optimizer_registry.cc:113] Plugin optimizer for device_type GPU is enabled.\n"
     ]
    },
    {
     "name": "stdout",
     "output_type": "stream",
     "text": [
      "87499/87500 [============================>.] - ETA: 0s - loss: 0.2820 - accuracy: 0.8721"
     ]
    },
    {
     "name": "stderr",
     "output_type": "stream",
     "text": [
      "2022-03-27 21:05:59.108029: I tensorflow/core/grappler/optimizers/custom_graph_optimizer_registry.cc:113] Plugin optimizer for device_type GPU is enabled.\n"
     ]
    },
    {
     "name": "stdout",
     "output_type": "stream",
     "text": [
      "87500/87500 [==============================] - 765s 9ms/step - loss: 0.2820 - accuracy: 0.8721 - val_loss: 0.2825 - val_accuracy: 0.8773\n",
      "Epoch 2/100\n",
      "87500/87500 [==============================] - 782s 9ms/step - loss: 0.2754 - accuracy: 0.8774 - val_loss: 0.2725 - val_accuracy: 0.8780\n",
      "Epoch 3/100\n",
      "87500/87500 [==============================] - 788s 9ms/step - loss: 0.2729 - accuracy: 0.8783 - val_loss: 0.2690 - val_accuracy: 0.8808\n",
      "Epoch 4/100\n",
      "87500/87500 [==============================] - 794s 9ms/step - loss: 0.2705 - accuracy: 0.8788 - val_loss: 0.2713 - val_accuracy: 0.8789\n",
      "Epoch 5/100\n",
      "87500/87500 [==============================] - 782s 9ms/step - loss: 0.2708 - accuracy: 0.8788 - val_loss: 0.3048 - val_accuracy: 0.8770\n",
      "Epoch 6/100\n",
      "87500/87500 [==============================] - 796s 9ms/step - loss: 0.2715 - accuracy: 0.8788 - val_loss: 0.2764 - val_accuracy: 0.8786\n",
      "10938/10938 - 42s - loss: 0.2684 - accuracy: 0.8809 - 42s/epoch - 4ms/step\n",
      "\n",
      "Test accuracy: 0.8809428215026855\n"
     ]
    }
   ],
   "source": [
    "tb = TensorBoard(log_dir=f\"logs\\\\{time()}\")\n",
    "\n",
    "callback = tf.keras.callbacks.EarlyStopping(\n",
    "    monitor='val_accuracy',\n",
    "    min_delta=0.0001,\n",
    "    patience=3,\n",
    "    verbose=0,\n",
    "    mode='auto',\n",
    "    baseline=None,\n",
    "    restore_best_weights=True\n",
    ")\n",
    "\n",
    "\n",
    "gelu_model = tf.keras.Sequential([\n",
    "    tf.keras.layers.Dense(300, activation='gelu', input_shape=(28,)),\n",
    "    tf.keras.layers.Dropout(0.2),\n",
    "    tf.keras.layers.Dense(300, activation='gelu'),\n",
    "    tf.keras.layers.Dropout(0.2),\n",
    "    tf.keras.layers.Dense(300, activation='gelu'),\n",
    "    tf.keras.layers.Dropout(0.2),\n",
    "    tf.keras.layers.Dense(300, activation='gelu'),\n",
    "    tf.keras.layers.Dropout(0.2),\n",
    "    tf.keras.layers.Dense(300, activation='gelu'),\n",
    "    tf.keras.layers.Dropout(0.2),\n",
    "    tf.keras.layers.Dense(2, activation='softmax')   \n",
    "])\n",
    "\n",
    "gelu_model.compile(optimizer=tf.optimizers.Adam(0.001),\n",
    "              loss=tf.keras.losses.SparseCategoricalCrossentropy(from_logits=True),\n",
    "              metrics=['accuracy'])\n",
    "gelu_model.fit(train_features_scaled, train_labels, batch_size=64, epochs=100, callbacks=callback, validation_data=[validation_features_scaled, validation_labels])\n",
    "\n",
    "test_loss, test_acc = gelu_model.evaluate(test_features_scaled,  test_labels, batch_size=64, verbose=2)\n",
    "\n",
    "print('\\nTest accuracy:', test_acc)"
   ]
  },
  {
   "cell_type": "code",
   "execution_count": 173,
   "id": "04808fe1",
   "metadata": {},
   "outputs": [
    {
     "name": "stdout",
     "output_type": "stream",
     "text": [
      "Epoch 1/100\n"
     ]
    },
    {
     "name": "stderr",
     "output_type": "stream",
     "text": [
      "2022-03-27 22:13:03.685208: I tensorflow/core/grappler/optimizers/custom_graph_optimizer_registry.cc:113] Plugin optimizer for device_type GPU is enabled.\n"
     ]
    },
    {
     "name": "stdout",
     "output_type": "stream",
     "text": [
      "174995/175000 [============================>.] - ETA: 0s - loss: 0.2840 - accuracy: 0.8714"
     ]
    },
    {
     "name": "stderr",
     "output_type": "stream",
     "text": [
      "2022-03-27 22:37:25.998028: I tensorflow/core/grappler/optimizers/custom_graph_optimizer_registry.cc:113] Plugin optimizer for device_type GPU is enabled.\n"
     ]
    },
    {
     "name": "stdout",
     "output_type": "stream",
     "text": [
      "175000/175000 [==============================] - 1530s 9ms/step - loss: 0.2840 - accuracy: 0.8714 - val_loss: 0.2954 - val_accuracy: 0.8720\n",
      "Epoch 2/100\n",
      "175000/175000 [==============================] - 1493s 9ms/step - loss: 0.2747 - accuracy: 0.8765 - val_loss: 0.3151 - val_accuracy: 0.8685\n",
      "Epoch 3/100\n",
      "175000/175000 [==============================] - 1432s 8ms/step - loss: 0.2756 - accuracy: 0.8766 - val_loss: 0.3013 - val_accuracy: 0.8784\n",
      "Epoch 4/100\n",
      "175000/175000 [==============================] - 1475s 8ms/step - loss: 0.2802 - accuracy: 0.8739 - val_loss: 0.2924 - val_accuracy: 0.8757\n",
      "Epoch 5/100\n",
      "175000/175000 [==============================] - 1489s 9ms/step - loss: 0.2876 - accuracy: 0.8721 - val_loss: 0.3162 - val_accuracy: 0.8658\n",
      "Epoch 6/100\n",
      "175000/175000 [==============================] - 1508s 9ms/step - loss: 0.2869 - accuracy: 0.8736 - val_loss: 0.3496 - val_accuracy: 0.8393\n",
      "21875/21875 - 62s - loss: 0.3008 - accuracy: 0.8787 - 62s/epoch - 3ms/step\n",
      "\n",
      "Test accuracy: 0.8787485361099243\n"
     ]
    }
   ],
   "source": [
    "tb = TensorBoard(log_dir=f\"logs\\\\{time()}\")\n",
    "\n",
    "callback = tf.keras.callbacks.EarlyStopping(\n",
    "    monitor='val_accuracy',\n",
    "    min_delta=0.0001,\n",
    "    patience=3,\n",
    "    verbose=0,\n",
    "    mode='auto',\n",
    "    baseline=None,\n",
    "    restore_best_weights=True\n",
    ")\n",
    "\n",
    "\n",
    "gelu_model = tf.keras.Sequential([\n",
    "    tf.keras.layers.Dense(300, activation='gelu', input_shape=(28,)),\n",
    "    tf.keras.layers.Dropout(0.2),\n",
    "    tf.keras.layers.Dense(300, activation='gelu'),\n",
    "    tf.keras.layers.Dropout(0.2),\n",
    "    tf.keras.layers.Dense(300, activation='gelu'),\n",
    "    tf.keras.layers.Dropout(0.2),\n",
    "    tf.keras.layers.Dense(300, activation='gelu'),\n",
    "    tf.keras.layers.Dropout(0.2),\n",
    "    tf.keras.layers.Dense(300, activation='gelu'),\n",
    "    tf.keras.layers.Dropout(0.2),\n",
    "    tf.keras.layers.Dense(2, activation='softmax')   \n",
    "])\n",
    "\n",
    "gelu_model.compile(optimizer=tf.optimizers.Adam(0.001),\n",
    "              loss=tf.keras.losses.SparseCategoricalCrossentropy(from_logits=True),\n",
    "              metrics=['accuracy'])\n",
    "gelu_model.fit(train_features_scaled, train_labels, batch_size=32, epochs=100, callbacks=callback, validation_data=[validation_features_scaled, validation_labels])\n",
    "\n",
    "test_loss, test_acc = gelu_model.evaluate(test_features_scaled,  test_labels, batch_size=32, verbose=2)\n",
    "\n",
    "print('\\nTest accuracy:', test_acc)"
   ]
  },
  {
   "cell_type": "code",
   "execution_count": 174,
   "id": "a7d9ed11",
   "metadata": {},
   "outputs": [
    {
     "name": "stdout",
     "output_type": "stream",
     "text": [
      "Epoch 1/100\n"
     ]
    },
    {
     "name": "stderr",
     "output_type": "stream",
     "text": [
      "2022-03-28 00:46:29.618047: I tensorflow/core/grappler/optimizers/custom_graph_optimizer_registry.cc:113] Plugin optimizer for device_type GPU is enabled.\n"
     ]
    },
    {
     "name": "stdout",
     "output_type": "stream",
     "text": [
      "1400/1400 [==============================] - ETA: 0s - loss: 0.2937 - accuracy: 0.8641"
     ]
    },
    {
     "name": "stderr",
     "output_type": "stream",
     "text": [
      "2022-03-28 00:47:22.277406: I tensorflow/core/grappler/optimizers/custom_graph_optimizer_registry.cc:113] Plugin optimizer for device_type GPU is enabled.\n"
     ]
    },
    {
     "name": "stdout",
     "output_type": "stream",
     "text": [
      "1400/1400 [==============================] - 55s 38ms/step - loss: 0.2937 - accuracy: 0.8641 - val_loss: 0.2743 - val_accuracy: 0.8762\n",
      "Epoch 2/100\n",
      "1400/1400 [==============================] - 53s 38ms/step - loss: 0.2757 - accuracy: 0.8749 - val_loss: 0.2662 - val_accuracy: 0.8797\n",
      "Epoch 3/100\n",
      "1400/1400 [==============================] - 52s 37ms/step - loss: 0.2710 - accuracy: 0.8777 - val_loss: 0.2641 - val_accuracy: 0.8810\n",
      "Epoch 4/100\n",
      "1400/1400 [==============================] - 51s 37ms/step - loss: 0.2687 - accuracy: 0.8789 - val_loss: 0.2628 - val_accuracy: 0.8817\n",
      "Epoch 5/100\n",
      "1400/1400 [==============================] - 52s 37ms/step - loss: 0.2672 - accuracy: 0.8798 - val_loss: 0.2609 - val_accuracy: 0.8830\n",
      "Epoch 6/100\n",
      "1400/1400 [==============================] - 54s 39ms/step - loss: 0.2662 - accuracy: 0.8804 - val_loss: 0.2605 - val_accuracy: 0.8833\n",
      "Epoch 7/100\n",
      "1400/1400 [==============================] - 53s 38ms/step - loss: 0.2653 - accuracy: 0.8810 - val_loss: 0.2599 - val_accuracy: 0.8832\n",
      "Epoch 8/100\n",
      "1400/1400 [==============================] - 52s 37ms/step - loss: 0.2646 - accuracy: 0.8814 - val_loss: 0.2593 - val_accuracy: 0.8836\n",
      "Epoch 9/100\n",
      "1400/1400 [==============================] - 52s 37ms/step - loss: 0.2639 - accuracy: 0.8818 - val_loss: 0.2590 - val_accuracy: 0.8838\n",
      "Epoch 10/100\n",
      "1400/1400 [==============================] - 51s 37ms/step - loss: 0.2635 - accuracy: 0.8818 - val_loss: 0.2582 - val_accuracy: 0.8843\n",
      "Epoch 11/100\n",
      "1400/1400 [==============================] - 54s 38ms/step - loss: 0.2629 - accuracy: 0.8821 - val_loss: 0.2579 - val_accuracy: 0.8846\n",
      "Epoch 12/100\n",
      "1400/1400 [==============================] - 53s 38ms/step - loss: 0.2626 - accuracy: 0.8824 - val_loss: 0.2584 - val_accuracy: 0.8850\n",
      "Epoch 13/100\n",
      "1400/1400 [==============================] - 52s 37ms/step - loss: 0.2622 - accuracy: 0.8826 - val_loss: 0.2572 - val_accuracy: 0.8850\n",
      "Epoch 14/100\n",
      "1400/1400 [==============================] - 51s 37ms/step - loss: 0.2618 - accuracy: 0.8827 - val_loss: 0.2570 - val_accuracy: 0.8852\n",
      "Epoch 15/100\n",
      "1400/1400 [==============================] - 52s 37ms/step - loss: 0.2616 - accuracy: 0.8830 - val_loss: 0.2571 - val_accuracy: 0.8853\n",
      "Epoch 16/100\n",
      "1400/1400 [==============================] - 52s 37ms/step - loss: 0.2613 - accuracy: 0.8831 - val_loss: 0.2568 - val_accuracy: 0.8853\n",
      "Epoch 17/100\n",
      "1400/1400 [==============================] - 52s 37ms/step - loss: 0.2610 - accuracy: 0.8833 - val_loss: 0.2577 - val_accuracy: 0.8851\n",
      "Epoch 18/100\n",
      "1400/1400 [==============================] - 51s 37ms/step - loss: 0.2609 - accuracy: 0.8832 - val_loss: 0.2567 - val_accuracy: 0.8855\n",
      "Epoch 19/100\n",
      "1400/1400 [==============================] - 52s 37ms/step - loss: 0.2606 - accuracy: 0.8834 - val_loss: 0.2565 - val_accuracy: 0.8854\n",
      "Epoch 20/100\n",
      "1400/1400 [==============================] - 52s 37ms/step - loss: 0.2603 - accuracy: 0.8835 - val_loss: 0.2559 - val_accuracy: 0.8858\n",
      "Epoch 21/100\n",
      "1400/1400 [==============================] - 52s 37ms/step - loss: 0.2602 - accuracy: 0.8837 - val_loss: 0.2560 - val_accuracy: 0.8857\n",
      "Epoch 22/100\n",
      "1400/1400 [==============================] - 52s 37ms/step - loss: 0.2601 - accuracy: 0.8838 - val_loss: 0.2556 - val_accuracy: 0.8858\n",
      "Epoch 23/100\n",
      "1400/1400 [==============================] - 52s 37ms/step - loss: 0.2598 - accuracy: 0.8839 - val_loss: 0.2558 - val_accuracy: 0.8860\n",
      "Epoch 24/100\n",
      "1400/1400 [==============================] - 52s 37ms/step - loss: 0.2598 - accuracy: 0.8839 - val_loss: 0.2570 - val_accuracy: 0.8855\n",
      "Epoch 25/100\n",
      "1400/1400 [==============================] - 52s 37ms/step - loss: 0.2596 - accuracy: 0.8838 - val_loss: 0.2559 - val_accuracy: 0.8856\n",
      "Epoch 26/100\n",
      "1400/1400 [==============================] - 52s 37ms/step - loss: 0.2595 - accuracy: 0.8841 - val_loss: 0.2555 - val_accuracy: 0.8858\n",
      "175/175 - 2s - loss: 0.2548 - accuracy: 0.8865 - 2s/epoch - 10ms/step\n",
      "\n",
      "Test accuracy: 0.8865213990211487\n"
     ]
    }
   ],
   "source": [
    "tb = TensorBoard(log_dir=f\"logs\\\\{time()}\")\n",
    "\n",
    "callback = tf.keras.callbacks.EarlyStopping(\n",
    "    monitor='val_accuracy',\n",
    "    min_delta=0.0001,\n",
    "    patience=3,\n",
    "    verbose=0,\n",
    "    mode='auto',\n",
    "    baseline=None,\n",
    "    restore_best_weights=True\n",
    ")\n",
    "\n",
    "\n",
    "gelu_model = tf.keras.Sequential([\n",
    "    tf.keras.layers.Dense(300, activation='gelu', input_shape=(28,)),\n",
    "    tf.keras.layers.Dropout(0.2),\n",
    "    tf.keras.layers.Dense(300, activation='gelu'),\n",
    "    tf.keras.layers.Dropout(0.2),\n",
    "    tf.keras.layers.Dense(300, activation='gelu'),\n",
    "    tf.keras.layers.Dropout(0.2),\n",
    "    tf.keras.layers.Dense(300, activation='gelu'),\n",
    "    tf.keras.layers.Dropout(0.2),\n",
    "    tf.keras.layers.Dense(300, activation='gelu'),\n",
    "    tf.keras.layers.Dropout(0.2),\n",
    "    tf.keras.layers.Dense(2, activation='softmax')   \n",
    "])\n",
    "\n",
    "gelu_model.compile(optimizer=tf.optimizers.Adam(0.001),\n",
    "              loss=tf.keras.losses.SparseCategoricalCrossentropy(from_logits=True),\n",
    "              metrics=['accuracy'])\n",
    "gelu_model.fit(train_features_scaled, train_labels, batch_size=4000, epochs=100, callbacks=callback, validation_data=[validation_features_scaled, validation_labels])\n",
    "\n",
    "test_loss, test_acc = gelu_model.evaluate(test_features_scaled,  test_labels, batch_size=4000, verbose=2)\n",
    "\n",
    "print('\\nTest accuracy:', test_acc)"
   ]
  },
  {
   "cell_type": "code",
   "execution_count": 175,
   "id": "6816e273",
   "metadata": {},
   "outputs": [
    {
     "name": "stdout",
     "output_type": "stream",
     "text": [
      "Epoch 1/100\n"
     ]
    },
    {
     "name": "stderr",
     "output_type": "stream",
     "text": [
      "2022-03-28 01:09:10.166555: I tensorflow/core/grappler/optimizers/custom_graph_optimizer_registry.cc:113] Plugin optimizer for device_type GPU is enabled.\n"
     ]
    },
    {
     "name": "stdout",
     "output_type": "stream",
     "text": [
      "934/934 [==============================] - ETA: 0s - loss: 0.2979 - accuracy: 0.8617"
     ]
    },
    {
     "name": "stderr",
     "output_type": "stream",
     "text": [
      "2022-03-28 01:10:02.574221: I tensorflow/core/grappler/optimizers/custom_graph_optimizer_registry.cc:113] Plugin optimizer for device_type GPU is enabled.\n"
     ]
    },
    {
     "name": "stdout",
     "output_type": "stream",
     "text": [
      "934/934 [==============================] - 55s 57ms/step - loss: 0.2979 - accuracy: 0.8617 - val_loss: 0.2759 - val_accuracy: 0.8746\n",
      "Epoch 2/100\n",
      "934/934 [==============================] - 52s 56ms/step - loss: 0.2780 - accuracy: 0.8734 - val_loss: 0.2685 - val_accuracy: 0.8785\n",
      "Epoch 3/100\n",
      "934/934 [==============================] - 52s 56ms/step - loss: 0.2729 - accuracy: 0.8765 - val_loss: 0.2647 - val_accuracy: 0.8807\n",
      "Epoch 4/100\n",
      "934/934 [==============================] - 52s 56ms/step - loss: 0.2701 - accuracy: 0.8781 - val_loss: 0.2636 - val_accuracy: 0.8816\n",
      "Epoch 5/100\n",
      "934/934 [==============================] - 53s 56ms/step - loss: 0.2682 - accuracy: 0.8793 - val_loss: 0.2610 - val_accuracy: 0.8826\n",
      "Epoch 6/100\n",
      "934/934 [==============================] - 53s 56ms/step - loss: 0.2668 - accuracy: 0.8799 - val_loss: 0.2606 - val_accuracy: 0.8829\n",
      "Epoch 7/100\n",
      "934/934 [==============================] - 52s 56ms/step - loss: 0.2659 - accuracy: 0.8804 - val_loss: 0.2609 - val_accuracy: 0.8832\n",
      "Epoch 8/100\n",
      "934/934 [==============================] - 53s 56ms/step - loss: 0.2650 - accuracy: 0.8811 - val_loss: 0.2592 - val_accuracy: 0.8838\n",
      "Epoch 9/100\n",
      "934/934 [==============================] - 53s 56ms/step - loss: 0.2644 - accuracy: 0.8814 - val_loss: 0.2589 - val_accuracy: 0.8839\n",
      "Epoch 10/100\n",
      "934/934 [==============================] - 53s 57ms/step - loss: 0.2638 - accuracy: 0.8816 - val_loss: 0.2582 - val_accuracy: 0.8843\n",
      "Epoch 11/100\n",
      "934/934 [==============================] - 53s 57ms/step - loss: 0.2633 - accuracy: 0.8820 - val_loss: 0.2583 - val_accuracy: 0.8844\n",
      "Epoch 12/100\n",
      "934/934 [==============================] - 52s 56ms/step - loss: 0.2628 - accuracy: 0.8823 - val_loss: 0.2577 - val_accuracy: 0.8848\n",
      "Epoch 13/100\n",
      "934/934 [==============================] - 52s 56ms/step - loss: 0.2624 - accuracy: 0.8824 - val_loss: 0.2572 - val_accuracy: 0.8851\n",
      "Epoch 14/100\n",
      "934/934 [==============================] - 52s 56ms/step - loss: 0.2620 - accuracy: 0.8826 - val_loss: 0.2577 - val_accuracy: 0.8850\n",
      "Epoch 15/100\n",
      "934/934 [==============================] - 52s 56ms/step - loss: 0.2617 - accuracy: 0.8829 - val_loss: 0.2569 - val_accuracy: 0.8850\n",
      "Epoch 16/100\n",
      "934/934 [==============================] - 53s 57ms/step - loss: 0.2614 - accuracy: 0.8830 - val_loss: 0.2566 - val_accuracy: 0.8853\n",
      "Epoch 17/100\n",
      "934/934 [==============================] - 53s 57ms/step - loss: 0.2611 - accuracy: 0.8832 - val_loss: 0.2570 - val_accuracy: 0.8851\n",
      "Epoch 18/100\n",
      "934/934 [==============================] - 53s 57ms/step - loss: 0.2608 - accuracy: 0.8832 - val_loss: 0.2564 - val_accuracy: 0.8855\n",
      "Epoch 19/100\n",
      "934/934 [==============================] - 53s 57ms/step - loss: 0.2606 - accuracy: 0.8834 - val_loss: 0.2567 - val_accuracy: 0.8854\n",
      "Epoch 20/100\n",
      "934/934 [==============================] - 53s 56ms/step - loss: 0.2604 - accuracy: 0.8834 - val_loss: 0.2560 - val_accuracy: 0.8857\n",
      "Epoch 21/100\n",
      "934/934 [==============================] - 53s 57ms/step - loss: 0.2601 - accuracy: 0.8835 - val_loss: 0.2562 - val_accuracy: 0.8858\n",
      "Epoch 22/100\n",
      "934/934 [==============================] - 53s 57ms/step - loss: 0.2600 - accuracy: 0.8837 - val_loss: 0.2558 - val_accuracy: 0.8856\n",
      "Epoch 23/100\n",
      "934/934 [==============================] - 53s 57ms/step - loss: 0.2599 - accuracy: 0.8837 - val_loss: 0.2556 - val_accuracy: 0.8859\n",
      "Epoch 24/100\n",
      "934/934 [==============================] - 53s 57ms/step - loss: 0.2597 - accuracy: 0.8839 - val_loss: 0.2557 - val_accuracy: 0.8860\n",
      "Epoch 25/100\n",
      "934/934 [==============================] - 53s 57ms/step - loss: 0.2595 - accuracy: 0.8840 - val_loss: 0.2558 - val_accuracy: 0.8856\n",
      "Epoch 26/100\n",
      "934/934 [==============================] - 53s 57ms/step - loss: 0.2594 - accuracy: 0.8841 - val_loss: 0.2552 - val_accuracy: 0.8861\n",
      "Epoch 27/100\n",
      "934/934 [==============================] - 53s 57ms/step - loss: 0.2593 - accuracy: 0.8840 - val_loss: 0.2561 - val_accuracy: 0.8859\n",
      "117/117 - 2s - loss: 0.2548 - accuracy: 0.8863 - 2s/epoch - 15ms/step\n",
      "\n",
      "Test accuracy: 0.8863242864608765\n"
     ]
    }
   ],
   "source": [
    "tb = TensorBoard(log_dir=f\"logs\\\\{time()}\")\n",
    "\n",
    "callback = tf.keras.callbacks.EarlyStopping(\n",
    "    monitor='val_accuracy',\n",
    "    min_delta=0.0001,\n",
    "    patience=3,\n",
    "    verbose=0,\n",
    "    mode='auto',\n",
    "    baseline=None,\n",
    "    restore_best_weights=True\n",
    ")\n",
    "\n",
    "\n",
    "gelu_model = tf.keras.Sequential([\n",
    "    tf.keras.layers.Dense(300, activation='gelu', input_shape=(28,)),\n",
    "    tf.keras.layers.Dropout(0.2),\n",
    "    tf.keras.layers.Dense(300, activation='gelu'),\n",
    "    tf.keras.layers.Dropout(0.2),\n",
    "    tf.keras.layers.Dense(300, activation='gelu'),\n",
    "    tf.keras.layers.Dropout(0.2),\n",
    "    tf.keras.layers.Dense(300, activation='gelu'),\n",
    "    tf.keras.layers.Dropout(0.2),\n",
    "    tf.keras.layers.Dense(300, activation='gelu'),\n",
    "    tf.keras.layers.Dropout(0.2),\n",
    "    tf.keras.layers.Dense(2, activation='softmax')   \n",
    "])\n",
    "\n",
    "gelu_model.compile(optimizer=tf.optimizers.Adam(0.001),\n",
    "              loss=tf.keras.losses.SparseCategoricalCrossentropy(from_logits=True),\n",
    "              metrics=['accuracy'])\n",
    "gelu_model.fit(train_features_scaled, train_labels, batch_size=6000, epochs=100, callbacks=callback, validation_data=[validation_features_scaled, validation_labels])\n",
    "\n",
    "test_loss, test_acc = gelu_model.evaluate(test_features_scaled,  test_labels, batch_size=6000, verbose=2)\n",
    "\n",
    "print('\\nTest accuracy:', test_acc)"
   ]
  }
 ],
 "metadata": {
  "interpreter": {
   "hash": "163c475792d3cda12f8f4bc682140b2faffa038247c7a6f843a4fd616cacb042"
  },
  "kernelspec": {
   "display_name": "Python 3.9.1 64-bit (system)",
   "name": "python3"
  },
  "language_info": {
   "codemirror_mode": {
    "name": "ipython",
    "version": 3
   },
   "file_extension": ".py",
   "mimetype": "text/x-python",
   "name": "python",
   "nbconvert_exporter": "python",
   "pygments_lexer": "ipython3",
   "version": "3.8.11"
  }
 },
 "nbformat": 4,
 "nbformat_minor": 5
}
